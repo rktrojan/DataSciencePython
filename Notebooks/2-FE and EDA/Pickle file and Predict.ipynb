{
 "cells": [
  {
   "cell_type": "code",
   "execution_count": 20,
   "metadata": {},
   "outputs": [
    {
     "data": {
      "text/plain": [
       "'C:\\\\Users\\\\Deepak'"
      ]
     },
     "execution_count": 20,
     "metadata": {},
     "output_type": "execute_result"
    }
   ],
   "source": [
    "#import statsmodels\n",
    "import statsmodels.api as sm\n",
    "\n",
    "import numpy as np\n",
    "\n",
    "import pandas as pd\n",
    "\n",
    "\n",
    "import os\n",
    "os.getcwd()"
   ]
  },
  {
   "cell_type": "code",
   "execution_count": 21,
   "metadata": {},
   "outputs": [
    {
     "name": "stderr",
     "output_type": "stream",
     "text": [
      "C:\\Users\\Deepak\\anaconda33\\lib\\site-packages\\scipy\\stats\\stats.py:1535: UserWarning: kurtosistest only valid for n>=20 ... continuing anyway, n=16\n",
      "  \"anyway, n=%i\" % int(n))\n"
     ]
    },
    {
     "data": {
      "text/html": [
       "<table class=\"simpletable\">\n",
       "<caption>OLS Regression Results</caption>\n",
       "<tr>\n",
       "  <th>Dep. Variable:</th>         <td>TOTEMP</td>      <th>  R-squared (uncentered):</th>      <td>   1.000</td> \n",
       "</tr>\n",
       "<tr>\n",
       "  <th>Model:</th>                   <td>OLS</td>       <th>  Adj. R-squared (uncentered):</th> <td>   1.000</td> \n",
       "</tr>\n",
       "<tr>\n",
       "  <th>Method:</th>             <td>Least Squares</td>  <th>  F-statistic:       </th>          <td>5.719e+04</td>\n",
       "</tr>\n",
       "<tr>\n",
       "  <th>Date:</th>             <td>Sun, 07 Jun 2020</td> <th>  Prob (F-statistic):</th>          <td>6.88e-24</td> \n",
       "</tr>\n",
       "<tr>\n",
       "  <th>Time:</th>                 <td>18:13:04</td>     <th>  Log-Likelihood:    </th>          <td> -118.79</td> \n",
       "</tr>\n",
       "<tr>\n",
       "  <th>No. Observations:</th>      <td>    16</td>      <th>  AIC:               </th>          <td>   247.6</td> \n",
       "</tr>\n",
       "<tr>\n",
       "  <th>Df Residuals:</th>          <td>    11</td>      <th>  BIC:               </th>          <td>   251.4</td> \n",
       "</tr>\n",
       "<tr>\n",
       "  <th>Df Model:</th>              <td>     5</td>      <th>                     </th>              <td> </td>    \n",
       "</tr>\n",
       "<tr>\n",
       "  <th>Covariance Type:</th>      <td>nonrobust</td>    <th>                     </th>              <td> </td>    \n",
       "</tr>\n",
       "</table>\n",
       "<table class=\"simpletable\">\n",
       "<tr>\n",
       "     <td></td>        <th>coef</th>     <th>std err</th>      <th>t</th>      <th>P>|t|</th>  <th>[0.025</th>    <th>0.975]</th>  \n",
       "</tr>\n",
       "<tr>\n",
       "  <th>GNPDEFL</th> <td>   54.6161</td> <td>  102.007</td> <td>    0.535</td> <td> 0.603</td> <td> -169.900</td> <td>  279.132</td>\n",
       "</tr>\n",
       "<tr>\n",
       "  <th>GNP</th>     <td>    0.0343</td> <td>    0.010</td> <td>    3.384</td> <td> 0.006</td> <td>    0.012</td> <td>    0.057</td>\n",
       "</tr>\n",
       "<tr>\n",
       "  <th>UNEMP</th>   <td>   -0.8701</td> <td>    0.240</td> <td>   -3.620</td> <td> 0.004</td> <td>   -1.399</td> <td>   -0.341</td>\n",
       "</tr>\n",
       "<tr>\n",
       "  <th>ARMED</th>   <td>   -0.5552</td> <td>    0.287</td> <td>   -1.935</td> <td> 0.079</td> <td>   -1.187</td> <td>    0.076</td>\n",
       "</tr>\n",
       "<tr>\n",
       "  <th>YEAR</th>    <td>   25.9330</td> <td>    3.043</td> <td>    8.521</td> <td> 0.000</td> <td>   19.234</td> <td>   32.632</td>\n",
       "</tr>\n",
       "</table>\n",
       "<table class=\"simpletable\">\n",
       "<tr>\n",
       "  <th>Omnibus:</th>       <td> 4.743</td> <th>  Durbin-Watson:     </th> <td>   0.971</td>\n",
       "</tr>\n",
       "<tr>\n",
       "  <th>Prob(Omnibus):</th> <td> 0.093</td> <th>  Jarque-Bera (JB):  </th> <td>   2.166</td>\n",
       "</tr>\n",
       "<tr>\n",
       "  <th>Skew:</th>          <td> 0.720</td> <th>  Prob(JB):          </th> <td>   0.338</td>\n",
       "</tr>\n",
       "<tr>\n",
       "  <th>Kurtosis:</th>      <td> 4.085</td> <th>  Cond. No.          </th> <td>3.33e+05</td>\n",
       "</tr>\n",
       "</table><br/><br/>Warnings:<br/>[1] Standard Errors assume that the covariance matrix of the errors is correctly specified.<br/>[2] The condition number is large, 3.33e+05. This might indicate that there are<br/>strong multicollinearity or other numerical problems."
      ],
      "text/plain": [
       "<class 'statsmodels.iolib.summary.Summary'>\n",
       "\"\"\"\n",
       "                                 OLS Regression Results                                \n",
       "=======================================================================================\n",
       "Dep. Variable:                 TOTEMP   R-squared (uncentered):                   1.000\n",
       "Model:                            OLS   Adj. R-squared (uncentered):              1.000\n",
       "Method:                 Least Squares   F-statistic:                          5.719e+04\n",
       "Date:                Sun, 07 Jun 2020   Prob (F-statistic):                    6.88e-24\n",
       "Time:                        18:13:04   Log-Likelihood:                         -118.79\n",
       "No. Observations:                  16   AIC:                                      247.6\n",
       "Df Residuals:                      11   BIC:                                      251.4\n",
       "Df Model:                           5                                                  \n",
       "Covariance Type:            nonrobust                                                  \n",
       "==============================================================================\n",
       "                 coef    std err          t      P>|t|      [0.025      0.975]\n",
       "------------------------------------------------------------------------------\n",
       "GNPDEFL       54.6161    102.007      0.535      0.603    -169.900     279.132\n",
       "GNP            0.0343      0.010      3.384      0.006       0.012       0.057\n",
       "UNEMP         -0.8701      0.240     -3.620      0.004      -1.399      -0.341\n",
       "ARMED         -0.5552      0.287     -1.935      0.079      -1.187       0.076\n",
       "YEAR          25.9330      3.043      8.521      0.000      19.234      32.632\n",
       "==============================================================================\n",
       "Omnibus:                        4.743   Durbin-Watson:                   0.971\n",
       "Prob(Omnibus):                  0.093   Jarque-Bera (JB):                2.166\n",
       "Skew:                           0.720   Prob(JB):                        0.338\n",
       "Kurtosis:                       4.085   Cond. No.                     3.33e+05\n",
       "==============================================================================\n",
       "\n",
       "Warnings:\n",
       "[1] Standard Errors assume that the covariance matrix of the errors is correctly specified.\n",
       "[2] The condition number is large, 3.33e+05. This might indicate that there are\n",
       "strong multicollinearity or other numerical problems.\n",
       "\"\"\""
      ]
     },
     "execution_count": 21,
     "metadata": {},
     "output_type": "execute_result"
    }
   ],
   "source": [
    "results2=sm.load('model.pkl')\n",
    "\n",
    "results2.summary()"
   ]
  },
  {
   "cell_type": "code",
   "execution_count": 14,
   "metadata": {},
   "outputs": [
    {
     "data": {
      "text/plain": [
       "array([60043.09725073, 61252.32465381, 60080.26771338, 61588.31252202,\n",
       "       63661.46768773, 64182.54512854, 64787.6788836 , 63545.09110634,\n",
       "       65945.90631758, 66943.78305505, 67744.17515046, 66521.56475877,\n",
       "       69016.32974611, 69536.65439503, 69179.71044024, 71043.49937355])"
      ]
     },
     "execution_count": 14,
     "metadata": {},
     "output_type": "execute_result"
    }
   ],
   "source": [
    "predicted=results2.predict()\n",
    "predicted\n",
    "#predicted.shape\n"
   ]
  },
  {
   "cell_type": "code",
   "execution_count": 22,
   "metadata": {},
   "outputs": [
    {
     "data": {
      "text/plain": [
       "array([1971.32918812, 1050.18080765])"
      ]
     },
     "execution_count": 22,
     "metadata": {},
     "output_type": "execute_result"
    }
   ],
   "source": [
    "results2.predict([[12,22,23,24,52], [12,22,23,422,25]])\n"
   ]
  },
  {
   "cell_type": "code",
   "execution_count": 23,
   "metadata": {},
   "outputs": [
    {
     "data": {
      "text/plain": [
       "array([1971.32918812, 1050.18080765])"
      ]
     },
     "execution_count": 23,
     "metadata": {},
     "output_type": "execute_result"
    }
   ],
   "source": [
    "#array/list\n",
    "testdata=[[12,22,23,24,52], \n",
    "     [12,22,23,422,25]]\n",
    "results2.predict(testdata)"
   ]
  },
  {
   "cell_type": "code",
   "execution_count": 19,
   "metadata": {},
   "outputs": [
    {
     "data": {
      "text/plain": [
       "0     579.485325\n",
       "1    2444.754714\n",
       "dtype: float64"
      ]
     },
     "execution_count": 19,
     "metadata": {},
     "output_type": "execute_result"
    }
   ],
   "source": [
    "#dataframe\n",
    "df=pd.read_csv()\n",
    "df.drop([0:4],axis=0)\n",
    "#pd.DataFrame(arr)\n",
    "results2.predict(df)\n",
    "\n"
   ]
  }
 ],
 "metadata": {
  "kernelspec": {
   "display_name": "Python 3",
   "language": "python",
   "name": "python3"
  },
  "language_info": {
   "codemirror_mode": {
    "name": "ipython",
    "version": 3
   },
   "file_extension": ".py",
   "mimetype": "text/x-python",
   "name": "python",
   "nbconvert_exporter": "python",
   "pygments_lexer": "ipython3",
   "version": "3.7.6"
  }
 },
 "nbformat": 4,
 "nbformat_minor": 4
}
