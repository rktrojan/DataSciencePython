{
 "cells": [
  {
   "cell_type": "code",
   "execution_count": 21,
   "metadata": {},
   "outputs": [
    {
     "data": {
      "text/plain": [
       "dtype('<U11')"
      ]
     },
     "execution_count": 21,
     "metadata": {},
     "output_type": "execute_result"
    }
   ],
   "source": [
    "#import abc\n",
    "\n",
    "import numpy as np\n",
    "import scipy as sc\n",
    "#dtype('<U11')"
   ]
  },
  {
   "cell_type": "code",
   "execution_count": 111,
   "metadata": {},
   "outputs": [
    {
     "data": {
      "text/plain": [
       "array(['1', '2', 'a', '3', '4'], dtype='<U11')"
      ]
     },
     "execution_count": 111,
     "metadata": {},
     "output_type": "execute_result"
    }
   ],
   "source": [
    "\n",
    "#normal list\n",
    "a=[1,2,3,\" abc\" ]\n",
    "a\n",
    "\n",
    "#array\n",
    "b = np.array([1,2,\"a\" ,3,4])\n",
    "b\n",
    "\n",
    "#ENDIAN DTYPE\n",
    "#dtype('<U11')"
   ]
  },
  {
   "cell_type": "code",
   "execution_count": 126,
   "metadata": {},
   "outputs": [
    {
     "name": "stdout",
     "output_type": "stream",
     "text": [
      "[  1   2  33  33 333 555   4   6]\n"
     ]
    },
    {
     "data": {
      "text/plain": [
       "array([[[  1,   2],\n",
       "        [ 33,  33]],\n",
       "\n",
       "       [[333, 555],\n",
       "        [  4,   6]]])"
      ]
     },
     "execution_count": 126,
     "metadata": {},
     "output_type": "execute_result"
    }
   ],
   "source": [
    "#array\n",
    "arr = np.array([1,2,3,4])\n",
    "type(arr)\n",
    "\n",
    "arr.dtype\n",
    "\n",
    "#a = np.array([1, 2, 3,4,5], ndmin = 3) \n",
    "\n",
    "#b = a.reshape(3,2) \n",
    "\n",
    "\n",
    "a = np.array([1, 2, 33,33,333,555,4,6]) \n",
    "print(a)\n",
    "a=a.reshape(2,2,2) "
   ]
  },
  {
   "cell_type": "code",
   "execution_count": 175,
   "metadata": {},
   "outputs": [
    {
     "data": {
      "text/plain": [
       "array([[ 0,  1,  2,  3,  4],\n",
       "       [ 5,  6,  7,  8,  9],\n",
       "       [10, 11, 12, 13, 14],\n",
       "       [15, 16, 17, 18, 19]])"
      ]
     },
     "execution_count": 175,
     "metadata": {},
     "output_type": "execute_result"
    }
   ],
   "source": [
    "a = np.arange(0,20) \n",
    "#step\n",
    "b = a.reshape(4,5) \n",
    "\n",
    "b\n"
   ]
  },
  {
   "cell_type": "code",
   "execution_count": 136,
   "metadata": {},
   "outputs": [
    {
     "data": {
      "text/plain": [
       "array([ 0.        ,  0.37037037,  0.74074074,  1.11111111,  1.48148148,\n",
       "        1.85185185,  2.22222222,  2.59259259,  2.96296296,  3.33333333,\n",
       "        3.7037037 ,  4.07407407,  4.44444444,  4.81481481,  5.18518519,\n",
       "        5.55555556,  5.92592593,  6.2962963 ,  6.66666667,  7.03703704,\n",
       "        7.40740741,  7.77777778,  8.14814815,  8.51851852,  8.88888889,\n",
       "        9.25925926,  9.62962963, 10.        , 10.37037037, 10.74074074,\n",
       "       11.11111111, 11.48148148, 11.85185185, 12.22222222, 12.59259259,\n",
       "       12.96296296, 13.33333333, 13.7037037 , 14.07407407, 14.44444444,\n",
       "       14.81481481, 15.18518519, 15.55555556, 15.92592593, 16.2962963 ,\n",
       "       16.66666667, 17.03703704, 17.40740741, 17.77777778, 18.14814815,\n",
       "       18.51851852, 18.88888889, 19.25925926, 19.62962963, 20.        ])"
      ]
     },
     "execution_count": 136,
     "metadata": {},
     "output_type": "execute_result"
    }
   ],
   "source": [
    "b = np.linspace(0,20,55)\n",
    "b\n"
   ]
  },
  {
   "cell_type": "code",
   "execution_count": 174,
   "metadata": {},
   "outputs": [
    {
     "data": {
      "text/plain": [
       "array([[1, 0, 0, 0, 0, 0, 0],\n",
       "       [0, 1, 0, 0, 0, 0, 0],\n",
       "       [0, 0, 1, 0, 0, 0, 0],\n",
       "       [0, 0, 0, 1, 0, 0, 0],\n",
       "       [0, 0, 0, 0, 1, 0, 0],\n",
       "       [0, 0, 0, 0, 0, 1, 0],\n",
       "       [0, 0, 0, 0, 0, 0, 1]])"
      ]
     },
     "execution_count": 174,
     "metadata": {},
     "output_type": "execute_result"
    }
   ],
   "source": [
    "#standard matrices\n",
    "x1 = np.zeros((4,4), dtype = int) \n",
    "\n",
    "x2 = np.ones(8, dtype = int) \n",
    "\n",
    "x3 = np.eye(8,dtype=int) \n",
    "\n",
    "x4=np.identity(7,dtype=int)\n",
    "x4"
   ]
  },
  {
   "cell_type": "code",
   "execution_count": 164,
   "metadata": {},
   "outputs": [
    {
     "data": {
      "text/plain": [
       "array([[1, 0, 0, 0, 0, 0, 0, 0],\n",
       "       [0, 1, 0, 0, 0, 0, 0, 0],\n",
       "       [0, 0, 1, 0, 0, 0, 0, 0],\n",
       "       [0, 0, 0, 1, 0, 0, 0, 0],\n",
       "       [0, 0, 0, 0, 1, 0, 0, 0],\n",
       "       [0, 0, 0, 0, 0, 1, 0, 0],\n",
       "       [0, 0, 0, 0, 0, 0, 1, 0],\n",
       "       [0, 0, 0, 0, 0, 0, 0, 1]])"
      ]
     },
     "execution_count": 164,
     "metadata": {},
     "output_type": "execute_result"
    }
   ],
   "source": [
    "x3 = np.eye(8,dtype=int) \n",
    "x3"
   ]
  },
  {
   "cell_type": "code",
   "execution_count": 161,
   "metadata": {},
   "outputs": [
    {
     "data": {
      "text/plain": [
       "['C:\\\\Users\\\\Deepak\\\\anaconda33',\n",
       " 'C:\\\\Users\\\\Deepak\\\\anaconda33\\\\lib\\\\site-packages']"
      ]
     },
     "execution_count": 161,
     "metadata": {},
     "output_type": "execute_result"
    }
   ],
   "source": [
    "#pseudo code\n",
    "#def identi(a,b):\n",
    " #   if type(a)==int:\n",
    "  #      processing\n",
    "   # if type(a)==list:\n",
    "    #    throw error\n",
    "\n",
    "import site\n",
    "site.getsitepackages()"
   ]
  },
  {
   "cell_type": "code",
   "execution_count": 156,
   "metadata": {},
   "outputs": [
    {
     "data": {
      "text/plain": [
       "int"
      ]
     },
     "execution_count": 156,
     "metadata": {},
     "output_type": "execute_result"
    }
   ],
   "source": [
    "#identi(2,3)"
   ]
  },
  {
   "cell_type": "code",
   "execution_count": 171,
   "metadata": {},
   "outputs": [
    {
     "data": {
      "text/plain": [
       "array([4, 3])"
      ]
     },
     "execution_count": 171,
     "metadata": {},
     "output_type": "execute_result"
    }
   ],
   "source": [
    "x = np.empty((2,2), dtype = int) \n",
    "x\n",
    "arr = np.ndarray([4,3])\n",
    "arr\n",
    "\n"
   ]
  },
  {
   "cell_type": "code",
   "execution_count": 195,
   "metadata": {},
   "outputs": [
    {
     "name": "stdout",
     "output_type": "stream",
     "text": [
      "[10 11 12 13 14 15 16 17 18 19]\n",
      "[10 11 12 13 14 15 16 17 18 19]\n",
      "[19 17 15 13 11]\n"
     ]
    }
   ],
   "source": [
    "#slicing indexing\n",
    "\n",
    "a = np.arange(10,20)\n",
    "print(a)\n",
    "print(a[:])\n",
    "\n",
    "print(a[::-2])\n"
   ]
  },
  {
   "cell_type": "code",
   "execution_count": 203,
   "metadata": {},
   "outputs": [
    {
     "name": "stdout",
     "output_type": "stream",
     "text": [
      "[[1 2 3]\n",
      " [3 4 5]\n",
      " [4 5 6]]\n",
      "1111111111\n",
      "[[1 2 3]\n",
      " [3 4 5]\n",
      " [4 5 6]]\n"
     ]
    }
   ],
   "source": [
    "a = np.asarray([[1,2,3],[3,4,5],[4,5,6]]) \n",
    "print(a)  \n",
    "print(1111111111)\n",
    "print(a[:])"
   ]
  },
  {
   "cell_type": "code",
   "execution_count": 224,
   "metadata": {},
   "outputs": [
    {
     "ename": "SyntaxError",
     "evalue": "invalid syntax (<ipython-input-224-c1825538e95a>, line 2)",
     "output_type": "error",
     "traceback": [
      "\u001b[1;36m  File \u001b[1;32m\"<ipython-input-224-c1825538e95a>\"\u001b[1;36m, line \u001b[1;32m2\u001b[0m\n\u001b[1;33m    [5., 2.]]dtype=int)\u001b[0m\n\u001b[1;37m                 ^\u001b[0m\n\u001b[1;31mSyntaxError\u001b[0m\u001b[1;31m:\u001b[0m invalid syntax\n"
     ]
    }
   ],
   "source": [
    "a=np.array([[9., 7.],\n",
    "       [5., 2.]]dtype=int)\n",
    "\n",
    "b=np.array([[1., 9.],\n",
    "       [5., 1.]], dtype=int)\n",
    "print(a)\n",
    "print(b)\n",
    "\n",
    "\n",
    "c=np.vstack((a,b))\n",
    "\n",
    "d=np.hstack((a,b))\n",
    "d"
   ]
  },
  {
   "cell_type": "code",
   "execution_count": 226,
   "metadata": {},
   "outputs": [
    {
     "data": {
      "text/plain": [
       "array([[44., 88.],\n",
       "       [15., 47.]])"
      ]
     },
     "execution_count": 226,
     "metadata": {},
     "output_type": "execute_result"
    }
   ],
   "source": [
    " \n"
   ]
  },
  {
   "cell_type": "code",
   "execution_count": 219,
   "metadata": {},
   "outputs": [
    {
     "name": "stdout",
     "output_type": "stream",
     "text": [
      "3.0\n",
      "4.0\n"
     ]
    }
   ],
   "source": [
    "#maths\n",
    "\n",
    "np.pi\n",
    "\n",
    "np.sqrt(360)\n",
    "\n",
    "print(np.floor(3.88))\n",
    "print(np.ceil(3.88))\n",
    "\n",
    "\n",
    "\n"
   ]
  }
 ],
 "metadata": {
  "kernelspec": {
   "display_name": "Python 3",
   "language": "python",
   "name": "python3"
  },
  "language_info": {
   "codemirror_mode": {
    "name": "ipython",
    "version": 3
   },
   "file_extension": ".py",
   "mimetype": "text/x-python",
   "name": "python",
   "nbconvert_exporter": "python",
   "pygments_lexer": "ipython3",
   "version": "3.7.6"
  }
 },
 "nbformat": 4,
 "nbformat_minor": 4
}
