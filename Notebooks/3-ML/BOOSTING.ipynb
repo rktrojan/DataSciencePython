{
 "cells": [
  {
   "cell_type": "code",
   "execution_count": 1,
   "metadata": {},
   "outputs": [
    {
     "data": {
      "text/plain": [
       "{'data': array([[1.423e+01, 1.710e+00, 2.430e+00, ..., 1.040e+00, 3.920e+00,\n",
       "         1.065e+03],\n",
       "        [1.320e+01, 1.780e+00, 2.140e+00, ..., 1.050e+00, 3.400e+00,\n",
       "         1.050e+03],\n",
       "        [1.316e+01, 2.360e+00, 2.670e+00, ..., 1.030e+00, 3.170e+00,\n",
       "         1.185e+03],\n",
       "        ...,\n",
       "        [1.327e+01, 4.280e+00, 2.260e+00, ..., 5.900e-01, 1.560e+00,\n",
       "         8.350e+02],\n",
       "        [1.317e+01, 2.590e+00, 2.370e+00, ..., 6.000e-01, 1.620e+00,\n",
       "         8.400e+02],\n",
       "        [1.413e+01, 4.100e+00, 2.740e+00, ..., 6.100e-01, 1.600e+00,\n",
       "         5.600e+02]]),\n",
       " 'target': array([0, 0, 0, 0, 0, 0, 0, 0, 0, 0, 0, 0, 0, 0, 0, 0, 0, 0, 0, 0, 0, 0,\n",
       "        0, 0, 0, 0, 0, 0, 0, 0, 0, 0, 0, 0, 0, 0, 0, 0, 0, 0, 0, 0, 0, 0,\n",
       "        0, 0, 0, 0, 0, 0, 0, 0, 0, 0, 0, 0, 0, 0, 0, 1, 1, 1, 1, 1, 1, 1,\n",
       "        1, 1, 1, 1, 1, 1, 1, 1, 1, 1, 1, 1, 1, 1, 1, 1, 1, 1, 1, 1, 1, 1,\n",
       "        1, 1, 1, 1, 1, 1, 1, 1, 1, 1, 1, 1, 1, 1, 1, 1, 1, 1, 1, 1, 1, 1,\n",
       "        1, 1, 1, 1, 1, 1, 1, 1, 1, 1, 1, 1, 1, 1, 1, 1, 1, 1, 1, 1, 2, 2,\n",
       "        2, 2, 2, 2, 2, 2, 2, 2, 2, 2, 2, 2, 2, 2, 2, 2, 2, 2, 2, 2, 2, 2,\n",
       "        2, 2, 2, 2, 2, 2, 2, 2, 2, 2, 2, 2, 2, 2, 2, 2, 2, 2, 2, 2, 2, 2,\n",
       "        2, 2]),\n",
       " 'frame': None,\n",
       " 'target_names': array(['class_0', 'class_1', 'class_2'], dtype='<U7'),\n",
       " 'DESCR': '.. _wine_dataset:\\n\\nWine recognition dataset\\n------------------------\\n\\n**Data Set Characteristics:**\\n\\n    :Number of Instances: 178 (50 in each of three classes)\\n    :Number of Attributes: 13 numeric, predictive attributes and the class\\n    :Attribute Information:\\n \\t\\t- Alcohol\\n \\t\\t- Malic acid\\n \\t\\t- Ash\\n\\t\\t- Alcalinity of ash  \\n \\t\\t- Magnesium\\n\\t\\t- Total phenols\\n \\t\\t- Flavanoids\\n \\t\\t- Nonflavanoid phenols\\n \\t\\t- Proanthocyanins\\n\\t\\t- Color intensity\\n \\t\\t- Hue\\n \\t\\t- OD280/OD315 of diluted wines\\n \\t\\t- Proline\\n\\n    - class:\\n            - class_0\\n            - class_1\\n            - class_2\\n\\t\\t\\n    :Summary Statistics:\\n    \\n    ============================= ==== ===== ======= =====\\n                                   Min   Max   Mean     SD\\n    ============================= ==== ===== ======= =====\\n    Alcohol:                      11.0  14.8    13.0   0.8\\n    Malic Acid:                   0.74  5.80    2.34  1.12\\n    Ash:                          1.36  3.23    2.36  0.27\\n    Alcalinity of Ash:            10.6  30.0    19.5   3.3\\n    Magnesium:                    70.0 162.0    99.7  14.3\\n    Total Phenols:                0.98  3.88    2.29  0.63\\n    Flavanoids:                   0.34  5.08    2.03  1.00\\n    Nonflavanoid Phenols:         0.13  0.66    0.36  0.12\\n    Proanthocyanins:              0.41  3.58    1.59  0.57\\n    Colour Intensity:              1.3  13.0     5.1   2.3\\n    Hue:                          0.48  1.71    0.96  0.23\\n    OD280/OD315 of diluted wines: 1.27  4.00    2.61  0.71\\n    Proline:                       278  1680     746   315\\n    ============================= ==== ===== ======= =====\\n\\n    :Missing Attribute Values: None\\n    :Class Distribution: class_0 (59), class_1 (71), class_2 (48)\\n    :Creator: R.A. Fisher\\n    :Donor: Michael Marshall (MARSHALL%PLU@io.arc.nasa.gov)\\n    :Date: July, 1988\\n\\nThis is a copy of UCI ML Wine recognition datasets.\\nhttps://archive.ics.uci.edu/ml/machine-learning-databases/wine/wine.data\\n\\nThe data is the results of a chemical analysis of wines grown in the same\\nregion in Italy by three different cultivators. There are thirteen different\\nmeasurements taken for different constituents found in the three types of\\nwine.\\n\\nOriginal Owners: \\n\\nForina, M. et al, PARVUS - \\nAn Extendible Package for Data Exploration, Classification and Correlation. \\nInstitute of Pharmaceutical and Food Analysis and Technologies,\\nVia Brigata Salerno, 16147 Genoa, Italy.\\n\\nCitation:\\n\\nLichman, M. (2013). UCI Machine Learning Repository\\n[https://archive.ics.uci.edu/ml]. Irvine, CA: University of California,\\nSchool of Information and Computer Science. \\n\\n.. topic:: References\\n\\n  (1) S. Aeberhard, D. Coomans and O. de Vel, \\n  Comparison of Classifiers in High Dimensional Settings, \\n  Tech. Rep. no. 92-02, (1992), Dept. of Computer Science and Dept. of  \\n  Mathematics and Statistics, James Cook University of North Queensland. \\n  (Also submitted to Technometrics). \\n\\n  The data was used with many others for comparing various \\n  classifiers. The classes are separable, though only RDA \\n  has achieved 100% correct classification. \\n  (RDA : 100%, QDA 99.4%, LDA 98.9%, 1NN 96.1% (z-transformed data)) \\n  (All results using the leave-one-out technique) \\n\\n  (2) S. Aeberhard, D. Coomans and O. de Vel, \\n  \"THE CLASSIFICATION PERFORMANCE OF RDA\" \\n  Tech. Rep. no. 92-01, (1992), Dept. of Computer Science and Dept. of \\n  Mathematics and Statistics, James Cook University of North Queensland. \\n  (Also submitted to Journal of Chemometrics).\\n',\n",
       " 'feature_names': ['alcohol',\n",
       "  'malic_acid',\n",
       "  'ash',\n",
       "  'alcalinity_of_ash',\n",
       "  'magnesium',\n",
       "  'total_phenols',\n",
       "  'flavanoids',\n",
       "  'nonflavanoid_phenols',\n",
       "  'proanthocyanins',\n",
       "  'color_intensity',\n",
       "  'hue',\n",
       "  'od280/od315_of_diluted_wines',\n",
       "  'proline']}"
      ]
     },
     "execution_count": 1,
     "metadata": {},
     "output_type": "execute_result"
    }
   ],
   "source": [
    "#Import scikit-learn dataset library\n",
    "\n",
    "\n",
    "from sklearn import datasets\n",
    "\n",
    "#Load dataset\n",
    "wine = datasets.load_wine()\n",
    "\n",
    "wine\n",
    "\n",
    "\n"
   ]
  },
  {
   "cell_type": "markdown",
   "metadata": {},
   "source": []
  },
  {
   "cell_type": "code",
   "execution_count": 5,
   "metadata": {},
   "outputs": [
    {
     "data": {
      "text/plain": [
       "alcohol                         0\n",
       "malic_acid                      0\n",
       "ash                             0\n",
       "alcalinity_of_ash               0\n",
       "magnesium                       0\n",
       "total_phenols                   0\n",
       "flavanoids                      0\n",
       "nonflavanoid_phenols            0\n",
       "proanthocyanins                 0\n",
       "color_intensity                 0\n",
       "hue                             0\n",
       "od280/od315_of_diluted_wines    0\n",
       "proline                         0\n",
       "dtype: int64"
      ]
     },
     "execution_count": 5,
     "metadata": {},
     "output_type": "execute_result"
    }
   ],
   "source": [
    "import pandas as pd\n",
    "\n",
    "df = pd.DataFrame(wine.data,columns=wine.feature_names)\n",
    "\n",
    "df.isnull().sum()\n"
   ]
  },
  {
   "cell_type": "code",
   "execution_count": 11,
   "metadata": {},
   "outputs": [],
   "source": [
    "y=wine.target\n",
    "y1=pd.DataFrame(y)"
   ]
  },
  {
   "cell_type": "code",
   "execution_count": 19,
   "metadata": {},
   "outputs": [
    {
     "data": {
      "text/plain": [
       "(178, 14)"
      ]
     },
     "execution_count": 19,
     "metadata": {},
     "output_type": "execute_result"
    }
   ],
   "source": [
    "dataset=pd.concat([df,y1],axis=1)\n",
    "\n",
    "\n",
    "dataset.shape\n"
   ]
  },
  {
   "cell_type": "code",
   "execution_count": 16,
   "metadata": {},
   "outputs": [
    {
     "data": {
      "text/html": [
       "<div>\n",
       "<style scoped>\n",
       "    .dataframe tbody tr th:only-of-type {\n",
       "        vertical-align: middle;\n",
       "    }\n",
       "\n",
       "    .dataframe tbody tr th {\n",
       "        vertical-align: top;\n",
       "    }\n",
       "\n",
       "    .dataframe thead th {\n",
       "        text-align: right;\n",
       "    }\n",
       "</style>\n",
       "<table border=\"1\" class=\"dataframe\">\n",
       "  <thead>\n",
       "    <tr style=\"text-align: right;\">\n",
       "      <th></th>\n",
       "      <th>alcohol</th>\n",
       "      <th>malic_acid</th>\n",
       "      <th>ash</th>\n",
       "      <th>alcalinity_of_ash</th>\n",
       "      <th>magnesium</th>\n",
       "      <th>total_phenols</th>\n",
       "      <th>flavanoids</th>\n",
       "      <th>nonflavanoid_phenols</th>\n",
       "      <th>proanthocyanins</th>\n",
       "      <th>color_intensity</th>\n",
       "      <th>hue</th>\n",
       "      <th>od280/od315_of_diluted_wines</th>\n",
       "      <th>proline</th>\n",
       "      <th>0</th>\n",
       "    </tr>\n",
       "  </thead>\n",
       "  <tbody>\n",
       "    <tr>\n",
       "      <th>0</th>\n",
       "      <td>14.23</td>\n",
       "      <td>1.71</td>\n",
       "      <td>2.43</td>\n",
       "      <td>15.6</td>\n",
       "      <td>127.0</td>\n",
       "      <td>2.80</td>\n",
       "      <td>3.06</td>\n",
       "      <td>0.28</td>\n",
       "      <td>2.29</td>\n",
       "      <td>5.64</td>\n",
       "      <td>1.04</td>\n",
       "      <td>3.92</td>\n",
       "      <td>1065.0</td>\n",
       "      <td>0</td>\n",
       "    </tr>\n",
       "    <tr>\n",
       "      <th>1</th>\n",
       "      <td>13.20</td>\n",
       "      <td>1.78</td>\n",
       "      <td>2.14</td>\n",
       "      <td>11.2</td>\n",
       "      <td>100.0</td>\n",
       "      <td>2.65</td>\n",
       "      <td>2.76</td>\n",
       "      <td>0.26</td>\n",
       "      <td>1.28</td>\n",
       "      <td>4.38</td>\n",
       "      <td>1.05</td>\n",
       "      <td>3.40</td>\n",
       "      <td>1050.0</td>\n",
       "      <td>0</td>\n",
       "    </tr>\n",
       "    <tr>\n",
       "      <th>2</th>\n",
       "      <td>13.16</td>\n",
       "      <td>2.36</td>\n",
       "      <td>2.67</td>\n",
       "      <td>18.6</td>\n",
       "      <td>101.0</td>\n",
       "      <td>2.80</td>\n",
       "      <td>3.24</td>\n",
       "      <td>0.30</td>\n",
       "      <td>2.81</td>\n",
       "      <td>5.68</td>\n",
       "      <td>1.03</td>\n",
       "      <td>3.17</td>\n",
       "      <td>1185.0</td>\n",
       "      <td>0</td>\n",
       "    </tr>\n",
       "    <tr>\n",
       "      <th>3</th>\n",
       "      <td>14.37</td>\n",
       "      <td>1.95</td>\n",
       "      <td>2.50</td>\n",
       "      <td>16.8</td>\n",
       "      <td>113.0</td>\n",
       "      <td>3.85</td>\n",
       "      <td>3.49</td>\n",
       "      <td>0.24</td>\n",
       "      <td>2.18</td>\n",
       "      <td>7.80</td>\n",
       "      <td>0.86</td>\n",
       "      <td>3.45</td>\n",
       "      <td>1480.0</td>\n",
       "      <td>0</td>\n",
       "    </tr>\n",
       "    <tr>\n",
       "      <th>4</th>\n",
       "      <td>13.24</td>\n",
       "      <td>2.59</td>\n",
       "      <td>2.87</td>\n",
       "      <td>21.0</td>\n",
       "      <td>118.0</td>\n",
       "      <td>2.80</td>\n",
       "      <td>2.69</td>\n",
       "      <td>0.39</td>\n",
       "      <td>1.82</td>\n",
       "      <td>4.32</td>\n",
       "      <td>1.04</td>\n",
       "      <td>2.93</td>\n",
       "      <td>735.0</td>\n",
       "      <td>0</td>\n",
       "    </tr>\n",
       "    <tr>\n",
       "      <th>...</th>\n",
       "      <td>...</td>\n",
       "      <td>...</td>\n",
       "      <td>...</td>\n",
       "      <td>...</td>\n",
       "      <td>...</td>\n",
       "      <td>...</td>\n",
       "      <td>...</td>\n",
       "      <td>...</td>\n",
       "      <td>...</td>\n",
       "      <td>...</td>\n",
       "      <td>...</td>\n",
       "      <td>...</td>\n",
       "      <td>...</td>\n",
       "      <td>...</td>\n",
       "    </tr>\n",
       "    <tr>\n",
       "      <th>145</th>\n",
       "      <td>13.16</td>\n",
       "      <td>3.57</td>\n",
       "      <td>2.15</td>\n",
       "      <td>21.0</td>\n",
       "      <td>102.0</td>\n",
       "      <td>1.50</td>\n",
       "      <td>0.55</td>\n",
       "      <td>0.43</td>\n",
       "      <td>1.30</td>\n",
       "      <td>4.00</td>\n",
       "      <td>0.60</td>\n",
       "      <td>1.68</td>\n",
       "      <td>830.0</td>\n",
       "      <td>2</td>\n",
       "    </tr>\n",
       "    <tr>\n",
       "      <th>146</th>\n",
       "      <td>13.88</td>\n",
       "      <td>5.04</td>\n",
       "      <td>2.23</td>\n",
       "      <td>20.0</td>\n",
       "      <td>80.0</td>\n",
       "      <td>0.98</td>\n",
       "      <td>0.34</td>\n",
       "      <td>0.40</td>\n",
       "      <td>0.68</td>\n",
       "      <td>4.90</td>\n",
       "      <td>0.58</td>\n",
       "      <td>1.33</td>\n",
       "      <td>415.0</td>\n",
       "      <td>2</td>\n",
       "    </tr>\n",
       "    <tr>\n",
       "      <th>147</th>\n",
       "      <td>12.87</td>\n",
       "      <td>4.61</td>\n",
       "      <td>2.48</td>\n",
       "      <td>21.5</td>\n",
       "      <td>86.0</td>\n",
       "      <td>1.70</td>\n",
       "      <td>0.65</td>\n",
       "      <td>0.47</td>\n",
       "      <td>0.86</td>\n",
       "      <td>7.65</td>\n",
       "      <td>0.54</td>\n",
       "      <td>1.86</td>\n",
       "      <td>625.0</td>\n",
       "      <td>2</td>\n",
       "    </tr>\n",
       "    <tr>\n",
       "      <th>148</th>\n",
       "      <td>13.32</td>\n",
       "      <td>3.24</td>\n",
       "      <td>2.38</td>\n",
       "      <td>21.5</td>\n",
       "      <td>92.0</td>\n",
       "      <td>1.93</td>\n",
       "      <td>0.76</td>\n",
       "      <td>0.45</td>\n",
       "      <td>1.25</td>\n",
       "      <td>8.42</td>\n",
       "      <td>0.55</td>\n",
       "      <td>1.62</td>\n",
       "      <td>650.0</td>\n",
       "      <td>2</td>\n",
       "    </tr>\n",
       "    <tr>\n",
       "      <th>149</th>\n",
       "      <td>13.08</td>\n",
       "      <td>3.90</td>\n",
       "      <td>2.36</td>\n",
       "      <td>21.5</td>\n",
       "      <td>113.0</td>\n",
       "      <td>1.41</td>\n",
       "      <td>1.39</td>\n",
       "      <td>0.34</td>\n",
       "      <td>1.14</td>\n",
       "      <td>9.40</td>\n",
       "      <td>0.57</td>\n",
       "      <td>1.33</td>\n",
       "      <td>550.0</td>\n",
       "      <td>2</td>\n",
       "    </tr>\n",
       "  </tbody>\n",
       "</table>\n",
       "<p>150 rows × 14 columns</p>\n",
       "</div>"
      ],
      "text/plain": [
       "     alcohol  malic_acid   ash  alcalinity_of_ash  magnesium  total_phenols  \\\n",
       "0      14.23        1.71  2.43               15.6      127.0           2.80   \n",
       "1      13.20        1.78  2.14               11.2      100.0           2.65   \n",
       "2      13.16        2.36  2.67               18.6      101.0           2.80   \n",
       "3      14.37        1.95  2.50               16.8      113.0           3.85   \n",
       "4      13.24        2.59  2.87               21.0      118.0           2.80   \n",
       "..       ...         ...   ...                ...        ...            ...   \n",
       "145    13.16        3.57  2.15               21.0      102.0           1.50   \n",
       "146    13.88        5.04  2.23               20.0       80.0           0.98   \n",
       "147    12.87        4.61  2.48               21.5       86.0           1.70   \n",
       "148    13.32        3.24  2.38               21.5       92.0           1.93   \n",
       "149    13.08        3.90  2.36               21.5      113.0           1.41   \n",
       "\n",
       "     flavanoids  nonflavanoid_phenols  proanthocyanins  color_intensity   hue  \\\n",
       "0          3.06                  0.28             2.29             5.64  1.04   \n",
       "1          2.76                  0.26             1.28             4.38  1.05   \n",
       "2          3.24                  0.30             2.81             5.68  1.03   \n",
       "3          3.49                  0.24             2.18             7.80  0.86   \n",
       "4          2.69                  0.39             1.82             4.32  1.04   \n",
       "..          ...                   ...              ...              ...   ...   \n",
       "145        0.55                  0.43             1.30             4.00  0.60   \n",
       "146        0.34                  0.40             0.68             4.90  0.58   \n",
       "147        0.65                  0.47             0.86             7.65  0.54   \n",
       "148        0.76                  0.45             1.25             8.42  0.55   \n",
       "149        1.39                  0.34             1.14             9.40  0.57   \n",
       "\n",
       "     od280/od315_of_diluted_wines  proline  0  \n",
       "0                            3.92   1065.0  0  \n",
       "1                            3.40   1050.0  0  \n",
       "2                            3.17   1185.0  0  \n",
       "3                            3.45   1480.0  0  \n",
       "4                            2.93    735.0  0  \n",
       "..                            ...      ... ..  \n",
       "145                          1.68    830.0  2  \n",
       "146                          1.33    415.0  2  \n",
       "147                          1.86    625.0  2  \n",
       "148                          1.62    650.0  2  \n",
       "149                          1.33    550.0  2  \n",
       "\n",
       "[150 rows x 14 columns]"
      ]
     },
     "execution_count": 16,
     "metadata": {},
     "output_type": "execute_result"
    }
   ],
   "source": [
    "\n",
    "train=dataset[0:150]\n",
    "\n",
    "train"
   ]
  },
  {
   "cell_type": "code",
   "execution_count": 18,
   "metadata": {},
   "outputs": [
    {
     "data": {
      "text/html": [
       "<div>\n",
       "<style scoped>\n",
       "    .dataframe tbody tr th:only-of-type {\n",
       "        vertical-align: middle;\n",
       "    }\n",
       "\n",
       "    .dataframe tbody tr th {\n",
       "        vertical-align: top;\n",
       "    }\n",
       "\n",
       "    .dataframe thead th {\n",
       "        text-align: right;\n",
       "    }\n",
       "</style>\n",
       "<table border=\"1\" class=\"dataframe\">\n",
       "  <thead>\n",
       "    <tr style=\"text-align: right;\">\n",
       "      <th></th>\n",
       "      <th>alcohol</th>\n",
       "      <th>malic_acid</th>\n",
       "      <th>ash</th>\n",
       "      <th>alcalinity_of_ash</th>\n",
       "      <th>magnesium</th>\n",
       "      <th>total_phenols</th>\n",
       "      <th>flavanoids</th>\n",
       "      <th>nonflavanoid_phenols</th>\n",
       "      <th>proanthocyanins</th>\n",
       "      <th>color_intensity</th>\n",
       "      <th>hue</th>\n",
       "      <th>od280/od315_of_diluted_wines</th>\n",
       "      <th>proline</th>\n",
       "      <th>0</th>\n",
       "    </tr>\n",
       "  </thead>\n",
       "  <tbody>\n",
       "    <tr>\n",
       "      <th>150</th>\n",
       "      <td>13.50</td>\n",
       "      <td>3.12</td>\n",
       "      <td>2.62</td>\n",
       "      <td>24.0</td>\n",
       "      <td>123.0</td>\n",
       "      <td>1.40</td>\n",
       "      <td>1.57</td>\n",
       "      <td>0.22</td>\n",
       "      <td>1.25</td>\n",
       "      <td>8.600000</td>\n",
       "      <td>0.59</td>\n",
       "      <td>1.30</td>\n",
       "      <td>500.0</td>\n",
       "      <td>2</td>\n",
       "    </tr>\n",
       "    <tr>\n",
       "      <th>151</th>\n",
       "      <td>12.79</td>\n",
       "      <td>2.67</td>\n",
       "      <td>2.48</td>\n",
       "      <td>22.0</td>\n",
       "      <td>112.0</td>\n",
       "      <td>1.48</td>\n",
       "      <td>1.36</td>\n",
       "      <td>0.24</td>\n",
       "      <td>1.26</td>\n",
       "      <td>10.800000</td>\n",
       "      <td>0.48</td>\n",
       "      <td>1.47</td>\n",
       "      <td>480.0</td>\n",
       "      <td>2</td>\n",
       "    </tr>\n",
       "    <tr>\n",
       "      <th>152</th>\n",
       "      <td>13.11</td>\n",
       "      <td>1.90</td>\n",
       "      <td>2.75</td>\n",
       "      <td>25.5</td>\n",
       "      <td>116.0</td>\n",
       "      <td>2.20</td>\n",
       "      <td>1.28</td>\n",
       "      <td>0.26</td>\n",
       "      <td>1.56</td>\n",
       "      <td>7.100000</td>\n",
       "      <td>0.61</td>\n",
       "      <td>1.33</td>\n",
       "      <td>425.0</td>\n",
       "      <td>2</td>\n",
       "    </tr>\n",
       "    <tr>\n",
       "      <th>153</th>\n",
       "      <td>13.23</td>\n",
       "      <td>3.30</td>\n",
       "      <td>2.28</td>\n",
       "      <td>18.5</td>\n",
       "      <td>98.0</td>\n",
       "      <td>1.80</td>\n",
       "      <td>0.83</td>\n",
       "      <td>0.61</td>\n",
       "      <td>1.87</td>\n",
       "      <td>10.520000</td>\n",
       "      <td>0.56</td>\n",
       "      <td>1.51</td>\n",
       "      <td>675.0</td>\n",
       "      <td>2</td>\n",
       "    </tr>\n",
       "    <tr>\n",
       "      <th>154</th>\n",
       "      <td>12.58</td>\n",
       "      <td>1.29</td>\n",
       "      <td>2.10</td>\n",
       "      <td>20.0</td>\n",
       "      <td>103.0</td>\n",
       "      <td>1.48</td>\n",
       "      <td>0.58</td>\n",
       "      <td>0.53</td>\n",
       "      <td>1.40</td>\n",
       "      <td>7.600000</td>\n",
       "      <td>0.58</td>\n",
       "      <td>1.55</td>\n",
       "      <td>640.0</td>\n",
       "      <td>2</td>\n",
       "    </tr>\n",
       "    <tr>\n",
       "      <th>155</th>\n",
       "      <td>13.17</td>\n",
       "      <td>5.19</td>\n",
       "      <td>2.32</td>\n",
       "      <td>22.0</td>\n",
       "      <td>93.0</td>\n",
       "      <td>1.74</td>\n",
       "      <td>0.63</td>\n",
       "      <td>0.61</td>\n",
       "      <td>1.55</td>\n",
       "      <td>7.900000</td>\n",
       "      <td>0.60</td>\n",
       "      <td>1.48</td>\n",
       "      <td>725.0</td>\n",
       "      <td>2</td>\n",
       "    </tr>\n",
       "    <tr>\n",
       "      <th>156</th>\n",
       "      <td>13.84</td>\n",
       "      <td>4.12</td>\n",
       "      <td>2.38</td>\n",
       "      <td>19.5</td>\n",
       "      <td>89.0</td>\n",
       "      <td>1.80</td>\n",
       "      <td>0.83</td>\n",
       "      <td>0.48</td>\n",
       "      <td>1.56</td>\n",
       "      <td>9.010000</td>\n",
       "      <td>0.57</td>\n",
       "      <td>1.64</td>\n",
       "      <td>480.0</td>\n",
       "      <td>2</td>\n",
       "    </tr>\n",
       "    <tr>\n",
       "      <th>157</th>\n",
       "      <td>12.45</td>\n",
       "      <td>3.03</td>\n",
       "      <td>2.64</td>\n",
       "      <td>27.0</td>\n",
       "      <td>97.0</td>\n",
       "      <td>1.90</td>\n",
       "      <td>0.58</td>\n",
       "      <td>0.63</td>\n",
       "      <td>1.14</td>\n",
       "      <td>7.500000</td>\n",
       "      <td>0.67</td>\n",
       "      <td>1.73</td>\n",
       "      <td>880.0</td>\n",
       "      <td>2</td>\n",
       "    </tr>\n",
       "    <tr>\n",
       "      <th>158</th>\n",
       "      <td>14.34</td>\n",
       "      <td>1.68</td>\n",
       "      <td>2.70</td>\n",
       "      <td>25.0</td>\n",
       "      <td>98.0</td>\n",
       "      <td>2.80</td>\n",
       "      <td>1.31</td>\n",
       "      <td>0.53</td>\n",
       "      <td>2.70</td>\n",
       "      <td>13.000000</td>\n",
       "      <td>0.57</td>\n",
       "      <td>1.96</td>\n",
       "      <td>660.0</td>\n",
       "      <td>2</td>\n",
       "    </tr>\n",
       "    <tr>\n",
       "      <th>159</th>\n",
       "      <td>13.48</td>\n",
       "      <td>1.67</td>\n",
       "      <td>2.64</td>\n",
       "      <td>22.5</td>\n",
       "      <td>89.0</td>\n",
       "      <td>2.60</td>\n",
       "      <td>1.10</td>\n",
       "      <td>0.52</td>\n",
       "      <td>2.29</td>\n",
       "      <td>11.750000</td>\n",
       "      <td>0.57</td>\n",
       "      <td>1.78</td>\n",
       "      <td>620.0</td>\n",
       "      <td>2</td>\n",
       "    </tr>\n",
       "    <tr>\n",
       "      <th>160</th>\n",
       "      <td>12.36</td>\n",
       "      <td>3.83</td>\n",
       "      <td>2.38</td>\n",
       "      <td>21.0</td>\n",
       "      <td>88.0</td>\n",
       "      <td>2.30</td>\n",
       "      <td>0.92</td>\n",
       "      <td>0.50</td>\n",
       "      <td>1.04</td>\n",
       "      <td>7.650000</td>\n",
       "      <td>0.56</td>\n",
       "      <td>1.58</td>\n",
       "      <td>520.0</td>\n",
       "      <td>2</td>\n",
       "    </tr>\n",
       "    <tr>\n",
       "      <th>161</th>\n",
       "      <td>13.69</td>\n",
       "      <td>3.26</td>\n",
       "      <td>2.54</td>\n",
       "      <td>20.0</td>\n",
       "      <td>107.0</td>\n",
       "      <td>1.83</td>\n",
       "      <td>0.56</td>\n",
       "      <td>0.50</td>\n",
       "      <td>0.80</td>\n",
       "      <td>5.880000</td>\n",
       "      <td>0.96</td>\n",
       "      <td>1.82</td>\n",
       "      <td>680.0</td>\n",
       "      <td>2</td>\n",
       "    </tr>\n",
       "    <tr>\n",
       "      <th>162</th>\n",
       "      <td>12.85</td>\n",
       "      <td>3.27</td>\n",
       "      <td>2.58</td>\n",
       "      <td>22.0</td>\n",
       "      <td>106.0</td>\n",
       "      <td>1.65</td>\n",
       "      <td>0.60</td>\n",
       "      <td>0.60</td>\n",
       "      <td>0.96</td>\n",
       "      <td>5.580000</td>\n",
       "      <td>0.87</td>\n",
       "      <td>2.11</td>\n",
       "      <td>570.0</td>\n",
       "      <td>2</td>\n",
       "    </tr>\n",
       "    <tr>\n",
       "      <th>163</th>\n",
       "      <td>12.96</td>\n",
       "      <td>3.45</td>\n",
       "      <td>2.35</td>\n",
       "      <td>18.5</td>\n",
       "      <td>106.0</td>\n",
       "      <td>1.39</td>\n",
       "      <td>0.70</td>\n",
       "      <td>0.40</td>\n",
       "      <td>0.94</td>\n",
       "      <td>5.280000</td>\n",
       "      <td>0.68</td>\n",
       "      <td>1.75</td>\n",
       "      <td>675.0</td>\n",
       "      <td>2</td>\n",
       "    </tr>\n",
       "    <tr>\n",
       "      <th>164</th>\n",
       "      <td>13.78</td>\n",
       "      <td>2.76</td>\n",
       "      <td>2.30</td>\n",
       "      <td>22.0</td>\n",
       "      <td>90.0</td>\n",
       "      <td>1.35</td>\n",
       "      <td>0.68</td>\n",
       "      <td>0.41</td>\n",
       "      <td>1.03</td>\n",
       "      <td>9.580000</td>\n",
       "      <td>0.70</td>\n",
       "      <td>1.68</td>\n",
       "      <td>615.0</td>\n",
       "      <td>2</td>\n",
       "    </tr>\n",
       "    <tr>\n",
       "      <th>165</th>\n",
       "      <td>13.73</td>\n",
       "      <td>4.36</td>\n",
       "      <td>2.26</td>\n",
       "      <td>22.5</td>\n",
       "      <td>88.0</td>\n",
       "      <td>1.28</td>\n",
       "      <td>0.47</td>\n",
       "      <td>0.52</td>\n",
       "      <td>1.15</td>\n",
       "      <td>6.620000</td>\n",
       "      <td>0.78</td>\n",
       "      <td>1.75</td>\n",
       "      <td>520.0</td>\n",
       "      <td>2</td>\n",
       "    </tr>\n",
       "    <tr>\n",
       "      <th>166</th>\n",
       "      <td>13.45</td>\n",
       "      <td>3.70</td>\n",
       "      <td>2.60</td>\n",
       "      <td>23.0</td>\n",
       "      <td>111.0</td>\n",
       "      <td>1.70</td>\n",
       "      <td>0.92</td>\n",
       "      <td>0.43</td>\n",
       "      <td>1.46</td>\n",
       "      <td>10.680000</td>\n",
       "      <td>0.85</td>\n",
       "      <td>1.56</td>\n",
       "      <td>695.0</td>\n",
       "      <td>2</td>\n",
       "    </tr>\n",
       "    <tr>\n",
       "      <th>167</th>\n",
       "      <td>12.82</td>\n",
       "      <td>3.37</td>\n",
       "      <td>2.30</td>\n",
       "      <td>19.5</td>\n",
       "      <td>88.0</td>\n",
       "      <td>1.48</td>\n",
       "      <td>0.66</td>\n",
       "      <td>0.40</td>\n",
       "      <td>0.97</td>\n",
       "      <td>10.260000</td>\n",
       "      <td>0.72</td>\n",
       "      <td>1.75</td>\n",
       "      <td>685.0</td>\n",
       "      <td>2</td>\n",
       "    </tr>\n",
       "    <tr>\n",
       "      <th>168</th>\n",
       "      <td>13.58</td>\n",
       "      <td>2.58</td>\n",
       "      <td>2.69</td>\n",
       "      <td>24.5</td>\n",
       "      <td>105.0</td>\n",
       "      <td>1.55</td>\n",
       "      <td>0.84</td>\n",
       "      <td>0.39</td>\n",
       "      <td>1.54</td>\n",
       "      <td>8.660000</td>\n",
       "      <td>0.74</td>\n",
       "      <td>1.80</td>\n",
       "      <td>750.0</td>\n",
       "      <td>2</td>\n",
       "    </tr>\n",
       "    <tr>\n",
       "      <th>169</th>\n",
       "      <td>13.40</td>\n",
       "      <td>4.60</td>\n",
       "      <td>2.86</td>\n",
       "      <td>25.0</td>\n",
       "      <td>112.0</td>\n",
       "      <td>1.98</td>\n",
       "      <td>0.96</td>\n",
       "      <td>0.27</td>\n",
       "      <td>1.11</td>\n",
       "      <td>8.500000</td>\n",
       "      <td>0.67</td>\n",
       "      <td>1.92</td>\n",
       "      <td>630.0</td>\n",
       "      <td>2</td>\n",
       "    </tr>\n",
       "    <tr>\n",
       "      <th>170</th>\n",
       "      <td>12.20</td>\n",
       "      <td>3.03</td>\n",
       "      <td>2.32</td>\n",
       "      <td>19.0</td>\n",
       "      <td>96.0</td>\n",
       "      <td>1.25</td>\n",
       "      <td>0.49</td>\n",
       "      <td>0.40</td>\n",
       "      <td>0.73</td>\n",
       "      <td>5.500000</td>\n",
       "      <td>0.66</td>\n",
       "      <td>1.83</td>\n",
       "      <td>510.0</td>\n",
       "      <td>2</td>\n",
       "    </tr>\n",
       "    <tr>\n",
       "      <th>171</th>\n",
       "      <td>12.77</td>\n",
       "      <td>2.39</td>\n",
       "      <td>2.28</td>\n",
       "      <td>19.5</td>\n",
       "      <td>86.0</td>\n",
       "      <td>1.39</td>\n",
       "      <td>0.51</td>\n",
       "      <td>0.48</td>\n",
       "      <td>0.64</td>\n",
       "      <td>9.899999</td>\n",
       "      <td>0.57</td>\n",
       "      <td>1.63</td>\n",
       "      <td>470.0</td>\n",
       "      <td>2</td>\n",
       "    </tr>\n",
       "    <tr>\n",
       "      <th>172</th>\n",
       "      <td>14.16</td>\n",
       "      <td>2.51</td>\n",
       "      <td>2.48</td>\n",
       "      <td>20.0</td>\n",
       "      <td>91.0</td>\n",
       "      <td>1.68</td>\n",
       "      <td>0.70</td>\n",
       "      <td>0.44</td>\n",
       "      <td>1.24</td>\n",
       "      <td>9.700000</td>\n",
       "      <td>0.62</td>\n",
       "      <td>1.71</td>\n",
       "      <td>660.0</td>\n",
       "      <td>2</td>\n",
       "    </tr>\n",
       "    <tr>\n",
       "      <th>173</th>\n",
       "      <td>13.71</td>\n",
       "      <td>5.65</td>\n",
       "      <td>2.45</td>\n",
       "      <td>20.5</td>\n",
       "      <td>95.0</td>\n",
       "      <td>1.68</td>\n",
       "      <td>0.61</td>\n",
       "      <td>0.52</td>\n",
       "      <td>1.06</td>\n",
       "      <td>7.700000</td>\n",
       "      <td>0.64</td>\n",
       "      <td>1.74</td>\n",
       "      <td>740.0</td>\n",
       "      <td>2</td>\n",
       "    </tr>\n",
       "    <tr>\n",
       "      <th>174</th>\n",
       "      <td>13.40</td>\n",
       "      <td>3.91</td>\n",
       "      <td>2.48</td>\n",
       "      <td>23.0</td>\n",
       "      <td>102.0</td>\n",
       "      <td>1.80</td>\n",
       "      <td>0.75</td>\n",
       "      <td>0.43</td>\n",
       "      <td>1.41</td>\n",
       "      <td>7.300000</td>\n",
       "      <td>0.70</td>\n",
       "      <td>1.56</td>\n",
       "      <td>750.0</td>\n",
       "      <td>2</td>\n",
       "    </tr>\n",
       "    <tr>\n",
       "      <th>175</th>\n",
       "      <td>13.27</td>\n",
       "      <td>4.28</td>\n",
       "      <td>2.26</td>\n",
       "      <td>20.0</td>\n",
       "      <td>120.0</td>\n",
       "      <td>1.59</td>\n",
       "      <td>0.69</td>\n",
       "      <td>0.43</td>\n",
       "      <td>1.35</td>\n",
       "      <td>10.200000</td>\n",
       "      <td>0.59</td>\n",
       "      <td>1.56</td>\n",
       "      <td>835.0</td>\n",
       "      <td>2</td>\n",
       "    </tr>\n",
       "    <tr>\n",
       "      <th>176</th>\n",
       "      <td>13.17</td>\n",
       "      <td>2.59</td>\n",
       "      <td>2.37</td>\n",
       "      <td>20.0</td>\n",
       "      <td>120.0</td>\n",
       "      <td>1.65</td>\n",
       "      <td>0.68</td>\n",
       "      <td>0.53</td>\n",
       "      <td>1.46</td>\n",
       "      <td>9.300000</td>\n",
       "      <td>0.60</td>\n",
       "      <td>1.62</td>\n",
       "      <td>840.0</td>\n",
       "      <td>2</td>\n",
       "    </tr>\n",
       "    <tr>\n",
       "      <th>177</th>\n",
       "      <td>14.13</td>\n",
       "      <td>4.10</td>\n",
       "      <td>2.74</td>\n",
       "      <td>24.5</td>\n",
       "      <td>96.0</td>\n",
       "      <td>2.05</td>\n",
       "      <td>0.76</td>\n",
       "      <td>0.56</td>\n",
       "      <td>1.35</td>\n",
       "      <td>9.200000</td>\n",
       "      <td>0.61</td>\n",
       "      <td>1.60</td>\n",
       "      <td>560.0</td>\n",
       "      <td>2</td>\n",
       "    </tr>\n",
       "  </tbody>\n",
       "</table>\n",
       "</div>"
      ],
      "text/plain": [
       "     alcohol  malic_acid   ash  alcalinity_of_ash  magnesium  total_phenols  \\\n",
       "150    13.50        3.12  2.62               24.0      123.0           1.40   \n",
       "151    12.79        2.67  2.48               22.0      112.0           1.48   \n",
       "152    13.11        1.90  2.75               25.5      116.0           2.20   \n",
       "153    13.23        3.30  2.28               18.5       98.0           1.80   \n",
       "154    12.58        1.29  2.10               20.0      103.0           1.48   \n",
       "155    13.17        5.19  2.32               22.0       93.0           1.74   \n",
       "156    13.84        4.12  2.38               19.5       89.0           1.80   \n",
       "157    12.45        3.03  2.64               27.0       97.0           1.90   \n",
       "158    14.34        1.68  2.70               25.0       98.0           2.80   \n",
       "159    13.48        1.67  2.64               22.5       89.0           2.60   \n",
       "160    12.36        3.83  2.38               21.0       88.0           2.30   \n",
       "161    13.69        3.26  2.54               20.0      107.0           1.83   \n",
       "162    12.85        3.27  2.58               22.0      106.0           1.65   \n",
       "163    12.96        3.45  2.35               18.5      106.0           1.39   \n",
       "164    13.78        2.76  2.30               22.0       90.0           1.35   \n",
       "165    13.73        4.36  2.26               22.5       88.0           1.28   \n",
       "166    13.45        3.70  2.60               23.0      111.0           1.70   \n",
       "167    12.82        3.37  2.30               19.5       88.0           1.48   \n",
       "168    13.58        2.58  2.69               24.5      105.0           1.55   \n",
       "169    13.40        4.60  2.86               25.0      112.0           1.98   \n",
       "170    12.20        3.03  2.32               19.0       96.0           1.25   \n",
       "171    12.77        2.39  2.28               19.5       86.0           1.39   \n",
       "172    14.16        2.51  2.48               20.0       91.0           1.68   \n",
       "173    13.71        5.65  2.45               20.5       95.0           1.68   \n",
       "174    13.40        3.91  2.48               23.0      102.0           1.80   \n",
       "175    13.27        4.28  2.26               20.0      120.0           1.59   \n",
       "176    13.17        2.59  2.37               20.0      120.0           1.65   \n",
       "177    14.13        4.10  2.74               24.5       96.0           2.05   \n",
       "\n",
       "     flavanoids  nonflavanoid_phenols  proanthocyanins  color_intensity   hue  \\\n",
       "150        1.57                  0.22             1.25         8.600000  0.59   \n",
       "151        1.36                  0.24             1.26        10.800000  0.48   \n",
       "152        1.28                  0.26             1.56         7.100000  0.61   \n",
       "153        0.83                  0.61             1.87        10.520000  0.56   \n",
       "154        0.58                  0.53             1.40         7.600000  0.58   \n",
       "155        0.63                  0.61             1.55         7.900000  0.60   \n",
       "156        0.83                  0.48             1.56         9.010000  0.57   \n",
       "157        0.58                  0.63             1.14         7.500000  0.67   \n",
       "158        1.31                  0.53             2.70        13.000000  0.57   \n",
       "159        1.10                  0.52             2.29        11.750000  0.57   \n",
       "160        0.92                  0.50             1.04         7.650000  0.56   \n",
       "161        0.56                  0.50             0.80         5.880000  0.96   \n",
       "162        0.60                  0.60             0.96         5.580000  0.87   \n",
       "163        0.70                  0.40             0.94         5.280000  0.68   \n",
       "164        0.68                  0.41             1.03         9.580000  0.70   \n",
       "165        0.47                  0.52             1.15         6.620000  0.78   \n",
       "166        0.92                  0.43             1.46        10.680000  0.85   \n",
       "167        0.66                  0.40             0.97        10.260000  0.72   \n",
       "168        0.84                  0.39             1.54         8.660000  0.74   \n",
       "169        0.96                  0.27             1.11         8.500000  0.67   \n",
       "170        0.49                  0.40             0.73         5.500000  0.66   \n",
       "171        0.51                  0.48             0.64         9.899999  0.57   \n",
       "172        0.70                  0.44             1.24         9.700000  0.62   \n",
       "173        0.61                  0.52             1.06         7.700000  0.64   \n",
       "174        0.75                  0.43             1.41         7.300000  0.70   \n",
       "175        0.69                  0.43             1.35        10.200000  0.59   \n",
       "176        0.68                  0.53             1.46         9.300000  0.60   \n",
       "177        0.76                  0.56             1.35         9.200000  0.61   \n",
       "\n",
       "     od280/od315_of_diluted_wines  proline  0  \n",
       "150                          1.30    500.0  2  \n",
       "151                          1.47    480.0  2  \n",
       "152                          1.33    425.0  2  \n",
       "153                          1.51    675.0  2  \n",
       "154                          1.55    640.0  2  \n",
       "155                          1.48    725.0  2  \n",
       "156                          1.64    480.0  2  \n",
       "157                          1.73    880.0  2  \n",
       "158                          1.96    660.0  2  \n",
       "159                          1.78    620.0  2  \n",
       "160                          1.58    520.0  2  \n",
       "161                          1.82    680.0  2  \n",
       "162                          2.11    570.0  2  \n",
       "163                          1.75    675.0  2  \n",
       "164                          1.68    615.0  2  \n",
       "165                          1.75    520.0  2  \n",
       "166                          1.56    695.0  2  \n",
       "167                          1.75    685.0  2  \n",
       "168                          1.80    750.0  2  \n",
       "169                          1.92    630.0  2  \n",
       "170                          1.83    510.0  2  \n",
       "171                          1.63    470.0  2  \n",
       "172                          1.71    660.0  2  \n",
       "173                          1.74    740.0  2  \n",
       "174                          1.56    750.0  2  \n",
       "175                          1.56    835.0  2  \n",
       "176                          1.62    840.0  2  \n",
       "177                          1.60    560.0  2  "
      ]
     },
     "execution_count": 18,
     "metadata": {},
     "output_type": "execute_result"
    }
   ],
   "source": [
    "test=dataset[150:178]\n",
    "\n",
    "test"
   ]
  },
  {
   "cell_type": "markdown",
   "metadata": {},
   "source": [
    "# IGNORE THIS"
   ]
  },
  {
   "cell_type": "code",
   "execution_count": null,
   "metadata": {},
   "outputs": [],
   "source": []
  },
  {
   "cell_type": "code",
   "execution_count": null,
   "metadata": {},
   "outputs": [],
   "source": []
  },
  {
   "cell_type": "code",
   "execution_count": 3,
   "metadata": {},
   "outputs": [],
   "source": [
    "\n",
    "df[\"alcohol\"]\n",
    "\n",
    "\n",
    "df[\"alcohol\"].mean()\n",
    "\n",
    "import matplotlib.pyplot as plt"
   ]
  },
  {
   "cell_type": "code",
   "execution_count": 23,
   "metadata": {},
   "outputs": [
    {
     "name": "stdout",
     "output_type": "stream",
     "text": [
      "plot for feature:  alcohol\n"
     ]
    },
    {
     "data": {
      "image/png": "[encoded data removed]",
      "text/plain": [
       "<Figure size 432x288 with 1 Axes>"
      ]
     },
     "metadata": {
      "needs_background": "light"
     },
     "output_type": "display_data"
    },
    {
     "data": {
      "image/png": "[encoded data removed]",
      "text/plain": [
       "<Figure size 432x288 with 1 Axes>"
      ]
     },
     "metadata": {
      "needs_background": "light"
     },
     "output_type": "display_data"
    },
    {
     "name": "stdout",
     "output_type": "stream",
     "text": [
      "plot for feature:  malic_acid\n"
     ]
    },
    {
     "data": {
      "image/png": "[encoded data removed]",
      "text/plain": [
       "<Figure size 432x288 with 1 Axes>"
      ]
     },
     "metadata": {
      "needs_background": "light"
     },
     "output_type": "display_data"
    },
    {
     "data": {
      "image/png": "[encoded data removed]",
      "text/plain": [
       "<Figure size 432x288 with 1 Axes>"
      ]
     },
     "metadata": {
      "needs_background": "light"
     },
     "output_type": "display_data"
    },
    {
     "name": "stdout",
     "output_type": "stream",
     "text": [
      "plot for feature:  ash\n"
     ]
    },
    {
     "data": {
      "image/png": "[encoded data removed]",
      "text/plain": [
       "<Figure size 432x288 with 1 Axes>"
      ]
     },
     "metadata": {
      "needs_background": "light"
     },
     "output_type": "display_data"
    },
    {
     "data": {
      "image/png": "[encoded data removed]",
      "text/plain": [
       "<Figure size 432x288 with 1 Axes>"
      ]
     },
     "metadata": {
      "needs_background": "light"
     },
     "output_type": "display_data"
    },
    {
     "name": "stdout",
     "output_type": "stream",
     "text": [
      "plot for feature:  alcalinity_of_ash\n"
     ]
    },
    {
     "data": {
      "image/png": "[encoded data removed]",
      "text/plain": [
       "<Figure size 432x288 with 1 Axes>"
      ]
     },
     "metadata": {
      "needs_background": "light"
     },
     "output_type": "display_data"
    },
    {
     "data": {
      "image/png": "[encoded data removed]",
      "text/plain": [
       "<Figure size 432x288 with 1 Axes>"
      ]
     },
     "metadata": {
      "needs_background": "light"
     },
     "output_type": "display_data"
    },
    {
     "name": "stdout",
     "output_type": "stream",
     "text": [
      "plot for feature:  magnesium\n"
     ]
    },
    {
     "data": {
      "image/png": "[encoded data removed]",
      "text/plain": [
       "<Figure size 432x288 with 1 Axes>"
      ]
     },
     "metadata": {
      "needs_background": "light"
     },
     "output_type": "display_data"
    },
    {
     "data": {
      "image/png": "[encoded data removed]",
      "text/plain": [
       "<Figure size 432x288 with 1 Axes>"
      ]
     },
     "metadata": {
      "needs_background": "light"
     },
     "output_type": "display_data"
    },
    {
     "name": "stdout",
     "output_type": "stream",
     "text": [
      "plot for feature:  total_phenols\n"
     ]
    },
    {
     "data": {
      "image/png": "[encoded data removed]",
      "text/plain": [
       "<Figure size 432x288 with 1 Axes>"
      ]
     },
     "metadata": {
      "needs_background": "light"
     },
     "output_type": "display_data"
    },
    {
     "data": {
      "image/png": "[encoded data removed]",
      "text/plain": [
       "<Figure size 432x288 with 1 Axes>"
      ]
     },
     "metadata": {
      "needs_background": "light"
     },
     "output_type": "display_data"
    },
    {
     "name": "stdout",
     "output_type": "stream",
     "text": [
      "plot for feature:  flavanoids\n"
     ]
    },
    {
     "data": {
      "image/png": "[encoded data removed]",
      "text/plain": [
       "<Figure size 432x288 with 1 Axes>"
      ]
     },
     "metadata": {
      "needs_background": "light"
     },
     "output_type": "display_data"
    },
    {
     "data": {
      "image/png": "[encoded data removed]",
      "text/plain": [
       "<Figure size 432x288 with 1 Axes>"
      ]
     },
     "metadata": {
      "needs_background": "light"
     },
     "output_type": "display_data"
    },
    {
     "name": "stdout",
     "output_type": "stream",
     "text": [
      "plot for feature:  nonflavanoid_phenols\n"
     ]
    },
    {
     "data": {
      "image/png": "[encoded data removed]",
      "text/plain": [
       "<Figure size 432x288 with 1 Axes>"
      ]
     },
     "metadata": {
      "needs_background": "light"
     },
     "output_type": "display_data"
    },
    {
     "data": {
      "image/png": "[encoded data removed]",
      "text/plain": [
       "<Figure size 432x288 with 1 Axes>"
      ]
     },
     "metadata": {
      "needs_background": "light"
     },
     "output_type": "display_data"
    },
    {
     "name": "stdout",
     "output_type": "stream",
     "text": [
      "plot for feature:  proanthocyanins\n"
     ]
    },
    {
     "data": {
      "image/png": "[encoded data removed]",
      "text/plain": [
       "<Figure size 432x288 with 1 Axes>"
      ]
     },
     "metadata": {
      "needs_background": "light"
     },
     "output_type": "display_data"
    },
    {
     "data": {
      "image/png": "[encoded data removed]",
      "text/plain": [
       "<Figure size 432x288 with 1 Axes>"
      ]
     },
     "metadata": {
      "needs_background": "light"
     },
     "output_type": "display_data"
    },
    {
     "name": "stdout",
     "output_type": "stream",
     "text": [
      "plot for feature:  color_intensity\n"
     ]
    },
    {
     "data": {
      "image/png": "[encoded data removed]",
      "text/plain": [
       "<Figure size 432x288 with 1 Axes>"
      ]
     },
     "metadata": {
      "needs_background": "light"
     },
     "output_type": "display_data"
    },
    {
     "data": {
      "image/png": "[encoded data removed]",
      "text/plain": [
       "<Figure size 432x288 with 1 Axes>"
      ]
     },
     "metadata": {
      "needs_background": "light"
     },
     "output_type": "display_data"
    },
    {
     "name": "stdout",
     "output_type": "stream",
     "text": [
      "plot for feature:  hue\n"
     ]
    },
    {
     "data": {
      "image/png": "[encoded data removed]",
      "text/plain": [
       "<Figure size 432x288 with 1 Axes>"
      ]
     },
     "metadata": {
      "needs_background": "light"
     },
     "output_type": "display_data"
    },
    {
     "data": {
      "image/png": "[encoded data removed]",
      "text/plain": [
       "<Figure size 432x288 with 1 Axes>"
      ]
     },
     "metadata": {
      "needs_background": "light"
     },
     "output_type": "display_data"
    },
    {
     "name": "stdout",
     "output_type": "stream",
     "text": [
      "plot for feature:  od280/od315_of_diluted_wines\n"
     ]
    },
    {
     "data": {
      "image/png": "[encoded data removed]",
      "text/plain": [
       "<Figure size 432x288 with 1 Axes>"
      ]
     },
     "metadata": {
      "needs_background": "light"
     },
     "output_type": "display_data"
    },
    {
     "data": {
      "image/png": "[encoded data removed]",
      "text/plain": [
       "<Figure size 432x288 with 1 Axes>"
      ]
     },
     "metadata": {
      "needs_background": "light"
     },
     "output_type": "display_data"
    },
    {
     "name": "stdout",
     "output_type": "stream",
     "text": [
      "plot for feature:  proline\n"
     ]
    },
    {
     "data": {
      "image/png": "[encoded data removed]",
      "text/plain": [
       "<Figure size 432x288 with 1 Axes>"
      ]
     },
     "metadata": {
      "needs_background": "light"
     },
     "output_type": "display_data"
    },
    {
     "data": {
      "image/png": "[encoded data removed]",
      "text/plain": [
       "<Figure size 432x288 with 1 Axes>"
      ]
     },
     "metadata": {
      "needs_background": "light"
     },
     "output_type": "display_data"
    }
   ],
   "source": [
    "for i in df.columns:\n",
    "    print(\"plot for feature: \",i)\n",
    "    \n",
    "    sns.distplot(df[i])\n",
    "    plt.show()\n",
    "\n",
    "    sns.countplot(df[i])\n",
    "    \n",
    "    plt.show()\n",
    "    "
   ]
  },
  {
   "cell_type": "code",
   "execution_count": 12,
   "metadata": {},
   "outputs": [
    {
     "data": {
      "text/plain": [
       "<matplotlib.axes._subplots.AxesSubplot at 0x1e656c948c8>"
      ]
     },
     "execution_count": 12,
     "metadata": {},
     "output_type": "execute_result"
    },
    {
     "data": {
      "image/png": "[encoded data removed]",
      "text/plain": [
       "<Figure size 432x288 with 1 Axes>"
      ]
     },
     "metadata": {
      "needs_background": "light"
     },
     "output_type": "display_data"
    }
   ],
   "source": [
    "\n",
    "import seaborn as sns\n",
    "\n",
    "\n",
    "sns.distplot(df[\"alcohol\"])\n",
    "\n",
    "\n"
   ]
  },
  {
   "cell_type": "code",
   "execution_count": 33,
   "metadata": {},
   "outputs": [],
   "source": [
    "from sklearn.model_selection import train_test_split\n",
    "\n",
    "# Split dataset into training set and test set\n",
    "X_train, X_test, y_train, y_test = train_test_split(wine.data, wine.target, test_size=0.3) # \n",
    "\n",
    "\n"
   ]
  },
  {
   "cell_type": "markdown",
   "metadata": {},
   "source": [
    "# ADABOOST MODEL"
   ]
  },
  {
   "cell_type": "code",
   "execution_count": 27,
   "metadata": {},
   "outputs": [
    {
     "name": "stdout",
     "output_type": "stream",
     "text": [
      "1602747069.0045922\n",
      "1602747069.445339\n"
     ]
    }
   ],
   "source": [
    "#Import BOOSTING Classifier model\n",
    "\n",
    "from sklearn.ensemble import AdaBoostClassifier, AdaBoostRegressor,GradientBoostingRegressor, GradientBoostingClassifier\n",
    "\n",
    "ada=AdaBoostClassifier( n_estimators=80)\n",
    "\n",
    "\n",
    "import time\n",
    "print(time.time())\n",
    "\n",
    "\n",
    "ada.fit(X_train,y_train)\n",
    "\n",
    "print(time.time())\n",
    "\n",
    "??time\n",
    "\n",
    "#epoch time-----lunar calendar---- gregorian calendar\n",
    "#dd/mm/yyyy\n",
    "\n",
    "\n",
    "#epoch date format---1 jan 1970\n"
   ]
  },
  {
   "cell_type": "code",
   "execution_count": 28,
   "metadata": {},
   "outputs": [
    {
     "name": "stdout",
     "output_type": "stream",
     "text": [
      "1602747333.8012247\n"
     ]
    }
   ],
   "source": [
    "print(time.time())"
   ]
  },
  {
   "cell_type": "code",
   "execution_count": 29,
   "metadata": {},
   "outputs": [
    {
     "name": "stdout",
     "output_type": "stream",
     "text": [
      "1602747343.6166427\n"
     ]
    }
   ],
   "source": [
    "print(time.time())"
   ]
  },
  {
   "cell_type": "code",
   "execution_count": 20,
   "metadata": {},
   "outputs": [
    {
     "data": {
      "text/plain": [
       "0.967741935483871"
      ]
     },
     "execution_count": 20,
     "metadata": {},
     "output_type": "execute_result"
    }
   ],
   "source": [
    "ada.score(X_train,y_train)"
   ]
  },
  {
   "cell_type": "code",
   "execution_count": 33,
   "metadata": {},
   "outputs": [
    {
     "data": {
      "text/plain": [
       "array([0, 2, 1, 1, 2, 1, 2, 0, 1, 0, 2, 1, 1, 0, 0, 0, 2, 2, 1, 1, 1, 0,\n",
       "       0, 0, 2, 2, 2, 0, 0, 1, 0, 0, 1, 0, 2, 0, 1, 0, 1, 1, 0, 0, 1, 0,\n",
       "       0, 0, 1, 0, 0, 1, 1, 1, 0, 2])"
      ]
     },
     "execution_count": 33,
     "metadata": {},
     "output_type": "execute_result"
    }
   ],
   "source": [
    "\n",
    "#Predict the response for test dataset\n",
    "y_pred = ada.predict(X_test)\n",
    "y_pred\n"
   ]
  },
  {
   "cell_type": "code",
   "execution_count": 34,
   "metadata": {},
   "outputs": [
    {
     "name": "stdout",
     "output_type": "stream",
     "text": [
      "Accuracy: 0.9074074074074074\n"
     ]
    }
   ],
   "source": [
    "\n",
    "#Import scikit-learn metrics module for accuracy calculation\n",
    "from sklearn import metrics\n",
    "\n",
    "# Model Accuracy, how often is the classifier correct?\n",
    "\n",
    "print(\"Accuracy:\",metrics.accuracy_score(y_test, y_pred))"
   ]
  },
  {
   "cell_type": "markdown",
   "metadata": {},
   "source": [
    "# GBM MODEL"
   ]
  },
  {
   "cell_type": "code",
   "execution_count": 26,
   "metadata": {},
   "outputs": [
    {
     "name": "stdout",
     "output_type": "stream",
     "text": [
      "      Iter       Train Loss   Remaining Time \n",
      "         1           0.8998            0.63s\n",
      "         2           0.7568            0.74s\n",
      "         3           0.6427            0.77s\n",
      "         4           0.5497            0.76s\n",
      "         5           0.4726            0.69s\n",
      "         6           0.4081            0.79s\n",
      "         7           0.3521            0.97s\n",
      "         8           0.3036            0.93s\n",
      "         9           0.2623            0.88s\n",
      "        10           0.2271            0.85s\n",
      "        20           0.0568            0.61s\n",
      "        30           0.0148            0.54s\n",
      "        40           0.0039            0.41s\n",
      "        50           0.0010            0.32s\n",
      "        60           0.0003            0.21s\n",
      "        70           0.0001            0.10s\n",
      "        80           0.0000            0.00s\n",
      "0.833524227142334\n"
     ]
    }
   ],
   "source": [
    "#Import boosting Classifier model\n",
    "\n",
    "from sklearn.ensemble import AdaBoostClassifier, AdaBoostRegressor,GradientBoostingRegressor, GradientBoostingClassifier\n",
    "\n",
    "gbm=GradientBoostingClassifier(verbose=True, n_estimators=80)\n",
    "\n",
    "\n",
    "st=time.time()\n",
    "gbm.fit(X_train,y_train)\n",
    "end=time.time()\n",
    "\n",
    "print(end-st)"
   ]
  },
  {
   "cell_type": "code",
   "execution_count": 32,
   "metadata": {},
   "outputs": [
    {
     "data": {
      "text/plain": [
       "1.0"
      ]
     },
     "execution_count": 32,
     "metadata": {},
     "output_type": "execute_result"
    }
   ],
   "source": [
    "gbm.score(X_train,y_train)\n"
   ]
  },
  {
   "cell_type": "code",
   "execution_count": null,
   "metadata": {},
   "outputs": [],
   "source": []
  },
  {
   "cell_type": "code",
   "execution_count": 32,
   "metadata": {},
   "outputs": [
    {
     "data": {
      "text/plain": [
       "0.9758064516129032"
      ]
     },
     "execution_count": 32,
     "metadata": {},
     "output_type": "execute_result"
    }
   ],
   "source": []
  },
  {
   "cell_type": "code",
   "execution_count": 31,
   "metadata": {},
   "outputs": [],
   "source": []
  },
  {
   "cell_type": "code",
   "execution_count": 30,
   "metadata": {},
   "outputs": [
    {
     "data": {
      "text/plain": [
       "array([0, 2, 0, 1, 2, 1, 2, 0, 1, 0, 2, 1, 1, 0, 0, 0, 2, 2, 1, 1, 1, 0,\n",
       "       0, 0, 2, 2, 2, 0, 0, 1, 0, 0, 2, 0, 2, 0, 1, 0, 0, 1, 0, 1, 1, 0,\n",
       "       0, 0, 1, 0, 0, 1, 1, 1, 0, 2])"
      ]
     },
     "execution_count": 30,
     "metadata": {},
     "output_type": "execute_result"
    }
   ],
   "source": [
    "\n",
    "#Predict the response for test dataset\n",
    "y_pred = gbm.predict(X_test)\n",
    "y_pred\n"
   ]
  },
  {
   "cell_type": "code",
   "execution_count": 31,
   "metadata": {},
   "outputs": [
    {
     "name": "stdout",
     "output_type": "stream",
     "text": [
      "Accuracy: 0.8888888888888888\n"
     ]
    }
   ],
   "source": [
    "\n",
    "#Import scikit-learn metrics module for accuracy calculation\n",
    "from sklearn import metrics\n",
    "\n",
    "# Model Accuracy, how often is the classifier correct?\n",
    "\n",
    "print(\"Accuracy:\",metrics.accuracy_score(y_test, y_pred))"
   ]
  },
  {
   "cell_type": "markdown",
   "metadata": {},
   "source": [
    "#Import knearest neighbors Classifier model\n",
    "\n",
    "from sklearn.neighbors import KNeighborsClassifier\n",
    "\n",
    "#Create KNN Classifier\n",
    "knn = KNeighborsClassifier(n_neighbors=7)\n",
    "\n",
    "#Train the model using the training sets\n",
    "knn.fit(X_train, y_train)\n",
    "\n",
    "\n",
    "#Predict the response for test dataset\n",
    "\n",
    "y_pred = knn.predict(X_test)"
   ]
  },
  {
   "cell_type": "code",
   "execution_count": 11,
   "metadata": {},
   "outputs": [
    {
     "data": {
      "text/plain": [
       "array([0, 0, 1, 2, 1, 0, 1, 0, 2, 2, 1, 1, 0, 0, 1, 1, 1, 1, 2, 1, 0, 0,\n",
       "       2, 0, 0, 1, 2, 1, 1, 0, 1, 1, 2, 1, 2, 0, 0, 0, 0, 0, 1, 0, 1, 0,\n",
       "       0, 1, 1, 0, 2, 1, 2, 2, 2, 0])"
      ]
     },
     "execution_count": 11,
     "metadata": {},
     "output_type": "execute_result"
    }
   ],
   "source": [
    "y_pred"
   ]
  },
  {
   "cell_type": "code",
   "execution_count": 6,
   "metadata": {},
   "outputs": [
    {
     "name": "stdout",
     "output_type": "stream",
     "text": [
      "Accuracy: 0.6296296296296297\n"
     ]
    }
   ],
   "source": [
    "#Import scikit-learn metrics module for accuracy calculation\n",
    "\n",
    "from sklearn import metrics\n",
    "\n",
    "\n",
    "# Model Accuracy, how often is the classifier correct?\n",
    "\n",
    "print(\"Accuracy:\",metrics.accuracy_score(y_test, y_pred))"
   ]
  },
  {
   "cell_type": "markdown",
   "metadata": {},
   "source": [
    "# UNTILL THIS POINT -- IGNORE"
   ]
  },
  {
   "cell_type": "markdown",
   "metadata": {},
   "source": [
    "# XGBOOST\n"
   ]
  },
  {
   "cell_type": "code",
   "execution_count": 66,
   "metadata": {},
   "outputs": [],
   "source": [
    "import xgboost as xgb\n",
    "\n",
    "??xgb"
   ]
  },
  {
   "cell_type": "code",
   "execution_count": 67,
   "metadata": {},
   "outputs": [],
   "source": [
    "from xgboost import XGBClassifier \n",
    "\n",
    "\n",
    "??XGBClassifier"
   ]
  },
  {
   "cell_type": "code",
   "execution_count": 82,
   "metadata": {},
   "outputs": [
    {
     "name": "stdout",
     "output_type": "stream",
     "text": [
      "[12:40:02] ======== Monitor: Learner ========\n",
      "[12:40:02] Configure: 0.001508s, 1 calls @ 1508us\n",
      "\n",
      "[12:40:02] ======== Monitor: GBTree ========\n"
     ]
    }
   ],
   "source": [
    "from xgboost import XGBClassifier \n",
    "\n",
    "import numpy as np\n",
    "\n",
    "nan=np.nan\n",
    "\n",
    "\n",
    "xgb=XGBClassifier(base_score=0.5, booster='dart', colsample_bylevel=1,\n",
    "                  \n",
    "              colsample_bynode=1, colsample_bytree=1, gamma=0, gpu_id=-1,\n",
    "                  \n",
    "              importance_type='gain', interaction_constraints='',\n",
    "                  \n",
    "              learning_rate=0.1,#eta\n",
    "                  max_delta_step=0, max_depth=6,\n",
    "                  \n",
    "              min_child_weight=1, missing=np.nan, monotone_constraints='()',\n",
    "                  \n",
    "              n_estimators=100, n_jobs=0, \n",
    "                  num_parallel_tree=1,\n",
    "                  \n",
    "              objective='multi:softprob', \n",
    "                  random_state=0,\n",
    "                  reg_alpha=1,#l1\n",
    "                  \n",
    "              reg_lambda=0, #l2\n",
    "                  scale_pos_weight=None, subsample=0.8,\n",
    "                  \n",
    "              tree_method='exact', validate_parameters=1, verbosity=3)\n",
    "\n",
    "\n"
   ]
  },
  {
   "cell_type": "code",
   "execution_count": null,
   "metadata": {},
   "outputs": [],
   "source": [
    "from sklearn.model_selection import train_test_split\n",
    "\n",
    "# Split dataset into training set and test set\n",
    "X_train, X_test, y_train, y_test = train_test_split(wine.data, wine.target, test_size=0.3) # \n",
    "\n",
    "\n"
   ]
  },
  {
   "cell_type": "code",
   "execution_count": 26,
   "metadata": {},
   "outputs": [],
   "source": [
    "#dtrain = xgb.DMatrix('demo/data/agaricus.txt.train')\n",
    "#dtest = xgb.DMatrix('demo/data/agaricus.txt.test')"
   ]
  },
  {
   "cell_type": "code",
   "execution_count": 21,
   "metadata": {},
   "outputs": [
    {
     "data": {
      "text/plain": [
       "<xgboost.core.DMatrix at 0x1a88353e688>"
      ]
     },
     "execution_count": 21,
     "metadata": {},
     "output_type": "execute_result"
    }
   ],
   "source": [
    "\n",
    "# read in data\n",
    "#dtrain = xgb.DMatrix(train)\n",
    "#dtrain"
   ]
  },
  {
   "cell_type": "code",
   "execution_count": 22,
   "metadata": {},
   "outputs": [
    {
     "data": {
      "text/plain": [
       "<xgboost.core.DMatrix at 0x1a883684dc8>"
      ]
     },
     "execution_count": 22,
     "metadata": {},
     "output_type": "execute_result"
    }
   ],
   "source": [
    "\n",
    "#dtest = xgb.DMatrix(test)\n",
    "#dtest"
   ]
  },
  {
   "cell_type": "code",
   "execution_count": 23,
   "metadata": {},
   "outputs": [],
   "source": [
    "\n",
    "# specify parameters via map\n",
    "#param = {'max_depth':2, 'eta':1, 'objective':'binary:logistic' }\n",
    "#num_round = 2"
   ]
  },
  {
   "cell_type": "code",
   "execution_count": 83,
   "metadata": {},
   "outputs": [
    {
     "name": "stdout",
     "output_type": "stream",
     "text": [
      "[12:40:08] INFO: C:\\Users\\Administrator\\workspace\\xgboost-win64_release_1.1.0\\src\\tree\\updater_prune.cc:98: tree pruning end, 6 extra nodes, 0 pruned nodes, max_depth=3\n",
      "[12:40:08] INFO: C:\\Users\\Administrator\\workspace\\xgboost-win64_release_1.1.0\\src\\tree\\updater_prune.cc:98: tree pruning end, 6 extra nodes, 0 pruned nodes, max_depth=3\n",
      "[12:40:08] INFO: C:\\Users\\Administrator\\workspace\\xgboost-win64_release_1.1.0\\src\\tree\\updater_prune.cc:98: tree pruning end, 4 extra nodes, 0 pruned nodes, max_depth=2\n",
      "[12:40:08] INFO: C:\\Users\\Administrator\\workspace\\xgboost-win64_release_1.1.0\\src\\gbm\\gbtree.cc:666: drop 0 trees, weight = 1\n",
      "[12:40:08] INFO: C:\\Users\\Administrator\\workspace\\xgboost-win64_release_1.1.0\\src\\tree\\updater_prune.cc:98: tree pruning end, 4 extra nodes, 0 pruned nodes, max_depth=2\n",
      "[12:40:08] INFO: C:\\Users\\Administrator\\workspace\\xgboost-win64_release_1.1.0\\src\\tree\\updater_prune.cc:98: tree pruning end, 8 extra nodes, 0 pruned nodes, max_depth=3\n",
      "[12:40:08] INFO: C:\\Users\\Administrator\\workspace\\xgboost-win64_release_1.1.0\\src\\tree\\updater_prune.cc:98: tree pruning end, 6 extra nodes, 0 pruned nodes, max_depth=2\n",
      "[12:40:08] INFO: C:\\Users\\Administrator\\workspace\\xgboost-win64_release_1.1.0\\src\\gbm\\gbtree.cc:666: drop 0 trees, weight = 1\n",
      "[12:40:08] INFO: C:\\Users\\Administrator\\workspace\\xgboost-win64_release_1.1.0\\src\\tree\\updater_prune.cc:98: tree pruning end, 4 extra nodes, 0 pruned nodes, max_depth=2\n",
      "[12:40:08] INFO: C:\\Users\\Administrator\\workspace\\xgboost-win64_release_1.1.0\\src\\tree\\updater_prune.cc:98: tree pruning end, 8 extra nodes, 0 pruned nodes, max_depth=4\n",
      "[12:40:08] INFO: C:\\Users\\Administrator\\workspace\\xgboost-win64_release_1.1.0\\src\\tree\\updater_prune.cc:98: tree pruning end, 4 extra nodes, 0 pruned nodes, max_depth=2\n",
      "[12:40:08] INFO: C:\\Users\\Administrator\\workspace\\xgboost-win64_release_1.1.0\\src\\gbm\\gbtree.cc:666: drop 0 trees, weight = 1\n",
      "[12:40:08] INFO: C:\\Users\\Administrator\\workspace\\xgboost-win64_release_1.1.0\\src\\tree\\updater_prune.cc:98: tree pruning end, 6 extra nodes, 0 pruned nodes, max_depth=3\n",
      "[12:40:08] INFO: C:\\Users\\Administrator\\workspace\\xgboost-win64_release_1.1.0\\src\\tree\\updater_prune.cc:98: tree pruning end, 8 extra nodes, 0 pruned nodes, max_depth=3\n",
      "[12:40:08] INFO: C:\\Users\\Administrator\\workspace\\xgboost-win64_release_1.1.0\\src\\tree\\updater_prune.cc:98: tree pruning end, 4 extra nodes, 0 pruned nodes, max_depth=2\n",
      "[12:40:08] INFO: C:\\Users\\Administrator\\workspace\\xgboost-win64_release_1.1.0\\src\\gbm\\gbtree.cc:666: drop 0 trees, weight = 1\n",
      "[12:40:08] INFO: C:\\Users\\Administrator\\workspace\\xgboost-win64_release_1.1.0\\src\\tree\\updater_prune.cc:98: tree pruning end, 4 extra nodes, 0 pruned nodes, max_depth=2\n",
      "[12:40:08] INFO: C:\\Users\\Administrator\\workspace\\xgboost-win64_release_1.1.0\\src\\tree\\updater_prune.cc:98: tree pruning end, 8 extra nodes, 0 pruned nodes, max_depth=3\n",
      "[12:40:08] INFO: C:\\Users\\Administrator\\workspace\\xgboost-win64_release_1.1.0\\src\\tree\\updater_prune.cc:98: tree pruning end, 4 extra nodes, 0 pruned nodes, max_depth=2\n",
      "[12:40:08] INFO: C:\\Users\\Administrator\\workspace\\xgboost-win64_release_1.1.0\\src\\gbm\\gbtree.cc:666: drop 0 trees, weight = 1\n",
      "[12:40:08] INFO: C:\\Users\\Administrator\\workspace\\xgboost-win64_release_1.1.0\\src\\tree\\updater_prune.cc:98: tree pruning end, 4 extra nodes, 0 pruned nodes, max_depth=2\n",
      "[12:40:08] INFO: C:\\Users\\Administrator\\workspace\\xgboost-win64_release_1.1.0\\src\\tree\\updater_prune.cc:98: tree pruning end, 8 extra nodes, 0 pruned nodes, max_depth=3\n",
      "[12:40:08] INFO: C:\\Users\\Administrator\\workspace\\xgboost-win64_release_1.1.0\\src\\tree\\updater_prune.cc:98: tree pruning end, 4 extra nodes, 0 pruned nodes, max_depth=2\n",
      "[12:40:08] INFO: C:\\Users\\Administrator\\workspace\\xgboost-win64_release_1.1.0\\src\\gbm\\gbtree.cc:666: drop 0 trees, weight = 1\n",
      "[12:40:08] INFO: C:\\Users\\Administrator\\workspace\\xgboost-win64_release_1.1.0\\src\\tree\\updater_prune.cc:98: tree pruning end, 8 extra nodes, 0 pruned nodes, max_depth=3\n",
      "[12:40:08] INFO: C:\\Users\\Administrator\\workspace\\xgboost-win64_release_1.1.0\\src\\tree\\updater_prune.cc:98: tree pruning end, 12 extra nodes, 0 pruned nodes, max_depth=3\n",
      "[12:40:08] INFO: C:\\Users\\Administrator\\workspace\\xgboost-win64_release_1.1.0\\src\\tree\\updater_prune.cc:98: tree pruning end, 4 extra nodes, 0 pruned nodes, max_depth=2\n",
      "[12:40:08] INFO: C:\\Users\\Administrator\\workspace\\xgboost-win64_release_1.1.0\\src\\gbm\\gbtree.cc:666: drop 0 trees, weight = 1\n",
      "[12:40:08] INFO: C:\\Users\\Administrator\\workspace\\xgboost-win64_release_1.1.0\\src\\tree\\updater_prune.cc:98: tree pruning end, 6 extra nodes, 0 pruned nodes, max_depth=3\n",
      "[12:40:08] INFO: C:\\Users\\Administrator\\workspace\\xgboost-win64_release_1.1.0\\src\\tree\\updater_prune.cc:98: tree pruning end, 10 extra nodes, 0 pruned nodes, max_depth=3\n",
      "[12:40:08] INFO: C:\\Users\\Administrator\\workspace\\xgboost-win64_release_1.1.0\\src\\tree\\updater_prune.cc:98: tree pruning end, 4 extra nodes, 0 pruned nodes, max_depth=2\n",
      "[12:40:08] INFO: C:\\Users\\Administrator\\workspace\\xgboost-win64_release_1.1.0\\src\\gbm\\gbtree.cc:666: drop 0 trees, weight = 1\n",
      "[12:40:08] INFO: C:\\Users\\Administrator\\workspace\\xgboost-win64_release_1.1.0\\src\\tree\\updater_prune.cc:98: tree pruning end, 6 extra nodes, 0 pruned nodes, max_depth=3\n",
      "[12:40:08] INFO: C:\\Users\\Administrator\\workspace\\xgboost-win64_release_1.1.0\\src\\tree\\updater_prune.cc:98: tree pruning end, 8 extra nodes, 0 pruned nodes, max_depth=3\n",
      "[12:40:08] INFO: C:\\Users\\Administrator\\workspace\\xgboost-win64_release_1.1.0\\src\\tree\\updater_prune.cc:98: tree pruning end, 4 extra nodes, 0 pruned nodes, max_depth=2\n",
      "[12:40:08] INFO: C:\\Users\\Administrator\\workspace\\xgboost-win64_release_1.1.0\\src\\gbm\\gbtree.cc:666: drop 0 trees, weight = 1\n",
      "[12:40:08] INFO: C:\\Users\\Administrator\\workspace\\xgboost-win64_release_1.1.0\\src\\tree\\updater_prune.cc:98: tree pruning end, 6 extra nodes, 0 pruned nodes, max_depth=2\n",
      "[12:40:08] INFO: C:\\Users\\Administrator\\workspace\\xgboost-win64_release_1.1.0\\src\\tree\\updater_prune.cc:98: tree pruning end, 10 extra nodes, 0 pruned nodes, max_depth=3\n",
      "[12:40:08] INFO: C:\\Users\\Administrator\\workspace\\xgboost-win64_release_1.1.0\\src\\tree\\updater_prune.cc:98: tree pruning end, 4 extra nodes, 0 pruned nodes, max_depth=2\n",
      "[12:40:08] INFO: C:\\Users\\Administrator\\workspace\\xgboost-win64_release_1.1.0\\src\\gbm\\gbtree.cc:666: drop 0 trees, weight = 1\n",
      "[12:40:08] INFO: C:\\Users\\Administrator\\workspace\\xgboost-win64_release_1.1.0\\src\\tree\\updater_prune.cc:98: tree pruning end, 6 extra nodes, 0 pruned nodes, max_depth=3\n",
      "[12:40:08] INFO: C:\\Users\\Administrator\\workspace\\xgboost-win64_release_1.1.0\\src\\tree\\updater_prune.cc:98: tree pruning end, 8 extra nodes, 0 pruned nodes, max_depth=3\n",
      "[12:40:08] INFO: C:\\Users\\Administrator\\workspace\\xgboost-win64_release_1.1.0\\src\\tree\\updater_prune.cc:98: tree pruning end, 4 extra nodes, 0 pruned nodes, max_depth=2\n",
      "[12:40:08] INFO: C:\\Users\\Administrator\\workspace\\xgboost-win64_release_1.1.0\\src\\gbm\\gbtree.cc:666: drop 0 trees, weight = 1\n",
      "[12:40:08] INFO: C:\\Users\\Administrator\\workspace\\xgboost-win64_release_1.1.0\\src\\tree\\updater_prune.cc:98: tree pruning end, 4 extra nodes, 0 pruned nodes, max_depth=2\n",
      "[12:40:08] INFO: C:\\Users\\Administrator\\workspace\\xgboost-win64_release_1.1.0\\src\\tree\\updater_prune.cc:98: tree pruning end, 10 extra nodes, 0 pruned nodes, max_depth=3\n",
      "[12:40:08] INFO: C:\\Users\\Administrator\\workspace\\xgboost-win64_release_1.1.0\\src\\tree\\updater_prune.cc:98: tree pruning end, 6 extra nodes, 0 pruned nodes, max_depth=2\n",
      "[12:40:08] INFO: C:\\Users\\Administrator\\workspace\\xgboost-win64_release_1.1.0\\src\\gbm\\gbtree.cc:666: drop 0 trees, weight = 1\n",
      "[12:40:08] INFO: C:\\Users\\Administrator\\workspace\\xgboost-win64_release_1.1.0\\src\\tree\\updater_prune.cc:98: tree pruning end, 6 extra nodes, 0 pruned nodes, max_depth=3\n",
      "[12:40:08] INFO: C:\\Users\\Administrator\\workspace\\xgboost-win64_release_1.1.0\\src\\tree\\updater_prune.cc:98: tree pruning end, 8 extra nodes, 0 pruned nodes, max_depth=3\n",
      "[12:40:08] INFO: C:\\Users\\Administrator\\workspace\\xgboost-win64_release_1.1.0\\src\\tree\\updater_prune.cc:98: tree pruning end, 4 extra nodes, 0 pruned nodes, max_depth=2\n",
      "[12:40:08] INFO: C:\\Users\\Administrator\\workspace\\xgboost-win64_release_1.1.0\\src\\gbm\\gbtree.cc:666: drop 0 trees, weight = 1\n",
      "[12:40:08] INFO: C:\\Users\\Administrator\\workspace\\xgboost-win64_release_1.1.0\\src\\tree\\updater_prune.cc:98: tree pruning end, 6 extra nodes, 0 pruned nodes, max_depth=3\n"
     ]
    },
    {
     "name": "stdout",
     "output_type": "stream",
     "text": [
      "[12:40:08] INFO: C:\\Users\\Administrator\\workspace\\xgboost-win64_release_1.1.0\\src\\tree\\updater_prune.cc:98: tree pruning end, 10 extra nodes, 0 pruned nodes, max_depth=3\n",
      "[12:40:08] INFO: C:\\Users\\Administrator\\workspace\\xgboost-win64_release_1.1.0\\src\\tree\\updater_prune.cc:98: tree pruning end, 4 extra nodes, 0 pruned nodes, max_depth=2\n",
      "[12:40:08] INFO: C:\\Users\\Administrator\\workspace\\xgboost-win64_release_1.1.0\\src\\gbm\\gbtree.cc:666: drop 0 trees, weight = 1\n",
      "[12:40:08] INFO: C:\\Users\\Administrator\\workspace\\xgboost-win64_release_1.1.0\\src\\tree\\updater_prune.cc:98: tree pruning end, 4 extra nodes, 0 pruned nodes, max_depth=2\n",
      "[12:40:08] INFO: C:\\Users\\Administrator\\workspace\\xgboost-win64_release_1.1.0\\src\\tree\\updater_prune.cc:98: tree pruning end, 8 extra nodes, 0 pruned nodes, max_depth=3\n",
      "[12:40:08] INFO: C:\\Users\\Administrator\\workspace\\xgboost-win64_release_1.1.0\\src\\tree\\updater_prune.cc:98: tree pruning end, 4 extra nodes, 0 pruned nodes, max_depth=2\n",
      "[12:40:08] INFO: C:\\Users\\Administrator\\workspace\\xgboost-win64_release_1.1.0\\src\\gbm\\gbtree.cc:666: drop 0 trees, weight = 1\n",
      "[12:40:09] INFO: C:\\Users\\Administrator\\workspace\\xgboost-win64_release_1.1.0\\src\\tree\\updater_prune.cc:98: tree pruning end, 4 extra nodes, 0 pruned nodes, max_depth=2\n",
      "[12:40:09] INFO: C:\\Users\\Administrator\\workspace\\xgboost-win64_release_1.1.0\\src\\tree\\updater_prune.cc:98: tree pruning end, 6 extra nodes, 0 pruned nodes, max_depth=3\n",
      "[12:40:09] INFO: C:\\Users\\Administrator\\workspace\\xgboost-win64_release_1.1.0\\src\\tree\\updater_prune.cc:98: tree pruning end, 4 extra nodes, 0 pruned nodes, max_depth=2\n",
      "[12:40:09] INFO: C:\\Users\\Administrator\\workspace\\xgboost-win64_release_1.1.0\\src\\gbm\\gbtree.cc:666: drop 0 trees, weight = 1\n",
      "[12:40:09] INFO: C:\\Users\\Administrator\\workspace\\xgboost-win64_release_1.1.0\\src\\tree\\updater_prune.cc:98: tree pruning end, 6 extra nodes, 0 pruned nodes, max_depth=3\n",
      "[12:40:09] INFO: C:\\Users\\Administrator\\workspace\\xgboost-win64_release_1.1.0\\src\\tree\\updater_prune.cc:98: tree pruning end, 10 extra nodes, 0 pruned nodes, max_depth=3\n",
      "[12:40:09] INFO: C:\\Users\\Administrator\\workspace\\xgboost-win64_release_1.1.0\\src\\tree\\updater_prune.cc:98: tree pruning end, 4 extra nodes, 0 pruned nodes, max_depth=2\n",
      "[12:40:09] INFO: C:\\Users\\Administrator\\workspace\\xgboost-win64_release_1.1.0\\src\\gbm\\gbtree.cc:666: drop 0 trees, weight = 1\n",
      "[12:40:09] INFO: C:\\Users\\Administrator\\workspace\\xgboost-win64_release_1.1.0\\src\\tree\\updater_prune.cc:98: tree pruning end, 4 extra nodes, 0 pruned nodes, max_depth=2\n",
      "[12:40:09] INFO: C:\\Users\\Administrator\\workspace\\xgboost-win64_release_1.1.0\\src\\tree\\updater_prune.cc:98: tree pruning end, 10 extra nodes, 0 pruned nodes, max_depth=3\n",
      "[12:40:09] INFO: C:\\Users\\Administrator\\workspace\\xgboost-win64_release_1.1.0\\src\\tree\\updater_prune.cc:98: tree pruning end, 4 extra nodes, 0 pruned nodes, max_depth=2\n",
      "[12:40:09] INFO: C:\\Users\\Administrator\\workspace\\xgboost-win64_release_1.1.0\\src\\gbm\\gbtree.cc:666: drop 0 trees, weight = 1\n",
      "[12:40:09] INFO: C:\\Users\\Administrator\\workspace\\xgboost-win64_release_1.1.0\\src\\tree\\updater_prune.cc:98: tree pruning end, 4 extra nodes, 0 pruned nodes, max_depth=2\n",
      "[12:40:09] INFO: C:\\Users\\Administrator\\workspace\\xgboost-win64_release_1.1.0\\src\\tree\\updater_prune.cc:98: tree pruning end, 6 extra nodes, 0 pruned nodes, max_depth=2\n",
      "[12:40:09] INFO: C:\\Users\\Administrator\\workspace\\xgboost-win64_release_1.1.0\\src\\tree\\updater_prune.cc:98: tree pruning end, 4 extra nodes, 0 pruned nodes, max_depth=2\n",
      "[12:40:09] INFO: C:\\Users\\Administrator\\workspace\\xgboost-win64_release_1.1.0\\src\\gbm\\gbtree.cc:666: drop 0 trees, weight = 1\n",
      "[12:40:09] INFO: C:\\Users\\Administrator\\workspace\\xgboost-win64_release_1.1.0\\src\\tree\\updater_prune.cc:98: tree pruning end, 6 extra nodes, 0 pruned nodes, max_depth=3\n",
      "[12:40:09] INFO: C:\\Users\\Administrator\\workspace\\xgboost-win64_release_1.1.0\\src\\tree\\updater_prune.cc:98: tree pruning end, 8 extra nodes, 0 pruned nodes, max_depth=3\n",
      "[12:40:09] INFO: C:\\Users\\Administrator\\workspace\\xgboost-win64_release_1.1.0\\src\\tree\\updater_prune.cc:98: tree pruning end, 6 extra nodes, 0 pruned nodes, max_depth=2\n",
      "[12:40:09] INFO: C:\\Users\\Administrator\\workspace\\xgboost-win64_release_1.1.0\\src\\gbm\\gbtree.cc:666: drop 0 trees, weight = 1\n",
      "[12:40:09] INFO: C:\\Users\\Administrator\\workspace\\xgboost-win64_release_1.1.0\\src\\tree\\updater_prune.cc:98: tree pruning end, 6 extra nodes, 0 pruned nodes, max_depth=3\n",
      "[12:40:09] INFO: C:\\Users\\Administrator\\workspace\\xgboost-win64_release_1.1.0\\src\\tree\\updater_prune.cc:98: tree pruning end, 10 extra nodes, 0 pruned nodes, max_depth=3\n",
      "[12:40:09] INFO: C:\\Users\\Administrator\\workspace\\xgboost-win64_release_1.1.0\\src\\tree\\updater_prune.cc:98: tree pruning end, 4 extra nodes, 0 pruned nodes, max_depth=2\n",
      "[12:40:09] INFO: C:\\Users\\Administrator\\workspace\\xgboost-win64_release_1.1.0\\src\\gbm\\gbtree.cc:666: drop 0 trees, weight = 1\n",
      "[12:40:09] INFO: C:\\Users\\Administrator\\workspace\\xgboost-win64_release_1.1.0\\src\\tree\\updater_prune.cc:98: tree pruning end, 6 extra nodes, 0 pruned nodes, max_depth=3\n",
      "[12:40:09] INFO: C:\\Users\\Administrator\\workspace\\xgboost-win64_release_1.1.0\\src\\tree\\updater_prune.cc:98: tree pruning end, 8 extra nodes, 0 pruned nodes, max_depth=3\n",
      "[12:40:09] INFO: C:\\Users\\Administrator\\workspace\\xgboost-win64_release_1.1.0\\src\\tree\\updater_prune.cc:98: tree pruning end, 6 extra nodes, 0 pruned nodes, max_depth=2\n",
      "[12:40:09] INFO: C:\\Users\\Administrator\\workspace\\xgboost-win64_release_1.1.0\\src\\gbm\\gbtree.cc:666: drop 0 trees, weight = 1\n",
      "[12:40:09] INFO: C:\\Users\\Administrator\\workspace\\xgboost-win64_release_1.1.0\\src\\tree\\updater_prune.cc:98: tree pruning end, 4 extra nodes, 0 pruned nodes, max_depth=2\n",
      "[12:40:09] INFO: C:\\Users\\Administrator\\workspace\\xgboost-win64_release_1.1.0\\src\\tree\\updater_prune.cc:98: tree pruning end, 6 extra nodes, 0 pruned nodes, max_depth=2\n",
      "[12:40:09] INFO: C:\\Users\\Administrator\\workspace\\xgboost-win64_release_1.1.0\\src\\tree\\updater_prune.cc:98: tree pruning end, 4 extra nodes, 0 pruned nodes, max_depth=2\n",
      "[12:40:09] INFO: C:\\Users\\Administrator\\workspace\\xgboost-win64_release_1.1.0\\src\\gbm\\gbtree.cc:666: drop 0 trees, weight = 1\n",
      "[12:40:09] INFO: C:\\Users\\Administrator\\workspace\\xgboost-win64_release_1.1.0\\src\\tree\\updater_prune.cc:98: tree pruning end, 4 extra nodes, 0 pruned nodes, max_depth=2\n",
      "[12:40:09] INFO: C:\\Users\\Administrator\\workspace\\xgboost-win64_release_1.1.0\\src\\tree\\updater_prune.cc:98: tree pruning end, 8 extra nodes, 0 pruned nodes, max_depth=3\n",
      "[12:40:09] INFO: C:\\Users\\Administrator\\workspace\\xgboost-win64_release_1.1.0\\src\\tree\\updater_prune.cc:98: tree pruning end, 4 extra nodes, 0 pruned nodes, max_depth=2\n",
      "[12:40:09] INFO: C:\\Users\\Administrator\\workspace\\xgboost-win64_release_1.1.0\\src\\gbm\\gbtree.cc:666: drop 0 trees, weight = 1\n",
      "[12:40:09] INFO: C:\\Users\\Administrator\\workspace\\xgboost-win64_release_1.1.0\\src\\tree\\updater_prune.cc:98: tree pruning end, 6 extra nodes, 0 pruned nodes, max_depth=3\n",
      "[12:40:09] INFO: C:\\Users\\Administrator\\workspace\\xgboost-win64_release_1.1.0\\src\\tree\\updater_prune.cc:98: tree pruning end, 8 extra nodes, 0 pruned nodes, max_depth=3\n",
      "[12:40:09] INFO: C:\\Users\\Administrator\\workspace\\xgboost-win64_release_1.1.0\\src\\tree\\updater_prune.cc:98: tree pruning end, 4 extra nodes, 0 pruned nodes, max_depth=2\n",
      "[12:40:09] INFO: C:\\Users\\Administrator\\workspace\\xgboost-win64_release_1.1.0\\src\\gbm\\gbtree.cc:666: drop 0 trees, weight = 1\n",
      "[12:40:09] INFO: C:\\Users\\Administrator\\workspace\\xgboost-win64_release_1.1.0\\src\\tree\\updater_prune.cc:98: tree pruning end, 6 extra nodes, 0 pruned nodes, max_depth=2\n",
      "[12:40:09] INFO: C:\\Users\\Administrator\\workspace\\xgboost-win64_release_1.1.0\\src\\tree\\updater_prune.cc:98: tree pruning end, 4 extra nodes, 0 pruned nodes, max_depth=2\n",
      "[12:40:09] INFO: C:\\Users\\Administrator\\workspace\\xgboost-win64_release_1.1.0\\src\\tree\\updater_prune.cc:98: tree pruning end, 4 extra nodes, 0 pruned nodes, max_depth=2\n",
      "[12:40:09] INFO: C:\\Users\\Administrator\\workspace\\xgboost-win64_release_1.1.0\\src\\gbm\\gbtree.cc:666: drop 0 trees, weight = 1\n",
      "[12:40:09] INFO: C:\\Users\\Administrator\\workspace\\xgboost-win64_release_1.1.0\\src\\tree\\updater_prune.cc:98: tree pruning end, 4 extra nodes, 0 pruned nodes, max_depth=2\n",
      "[12:40:09] INFO: C:\\Users\\Administrator\\workspace\\xgboost-win64_release_1.1.0\\src\\tree\\updater_prune.cc:98: tree pruning end, 6 extra nodes, 0 pruned nodes, max_depth=2\n",
      "[12:40:09] INFO: C:\\Users\\Administrator\\workspace\\xgboost-win64_release_1.1.0\\src\\tree\\updater_prune.cc:98: tree pruning end, 6 extra nodes, 0 pruned nodes, max_depth=2\n",
      "[12:40:09] INFO: C:\\Users\\Administrator\\workspace\\xgboost-win64_release_1.1.0\\src\\gbm\\gbtree.cc:666: drop 0 trees, weight = 1\n",
      "[12:40:09] INFO: C:\\Users\\Administrator\\workspace\\xgboost-win64_release_1.1.0\\src\\tree\\updater_prune.cc:98: tree pruning end, 4 extra nodes, 0 pruned nodes, max_depth=2\n",
      "[12:40:09] INFO: C:\\Users\\Administrator\\workspace\\xgboost-win64_release_1.1.0\\src\\tree\\updater_prune.cc:98: tree pruning end, 4 extra nodes, 0 pruned nodes, max_depth=2\n",
      "[12:40:09] INFO: C:\\Users\\Administrator\\workspace\\xgboost-win64_release_1.1.0\\src\\tree\\updater_prune.cc:98: tree pruning end, 6 extra nodes, 0 pruned nodes, max_depth=2\n",
      "[12:40:09] INFO: C:\\Users\\Administrator\\workspace\\xgboost-win64_release_1.1.0\\src\\gbm\\gbtree.cc:666: drop 0 trees, weight = 1\n",
      "[12:40:09] INFO: C:\\Users\\Administrator\\workspace\\xgboost-win64_release_1.1.0\\src\\tree\\updater_prune.cc:98: tree pruning end, 6 extra nodes, 0 pruned nodes, max_depth=2\n",
      "[12:40:09] INFO: C:\\Users\\Administrator\\workspace\\xgboost-win64_release_1.1.0\\src\\tree\\updater_prune.cc:98: tree pruning end, 4 extra nodes, 0 pruned nodes, max_depth=2\n",
      "[12:40:09] INFO: C:\\Users\\Administrator\\workspace\\xgboost-win64_release_1.1.0\\src\\tree\\updater_prune.cc:98: tree pruning end, 4 extra nodes, 0 pruned nodes, max_depth=2\n",
      "[12:40:09] INFO: C:\\Users\\Administrator\\workspace\\xgboost-win64_release_1.1.0\\src\\gbm\\gbtree.cc:666: drop 0 trees, weight = 1\n",
      "[12:40:09] INFO: C:\\Users\\Administrator\\workspace\\xgboost-win64_release_1.1.0\\src\\tree\\updater_prune.cc:98: tree pruning end, 4 extra nodes, 0 pruned nodes, max_depth=2\n",
      "[12:40:09] INFO: C:\\Users\\Administrator\\workspace\\xgboost-win64_release_1.1.0\\src\\tree\\updater_prune.cc:98: tree pruning end, 6 extra nodes, 0 pruned nodes, max_depth=2\n",
      "[12:40:09] INFO: C:\\Users\\Administrator\\workspace\\xgboost-win64_release_1.1.0\\src\\tree\\updater_prune.cc:98: tree pruning end, 4 extra nodes, 0 pruned nodes, max_depth=2\n",
      "[12:40:09] INFO: C:\\Users\\Administrator\\workspace\\xgboost-win64_release_1.1.0\\src\\gbm\\gbtree.cc:666: drop 0 trees, weight = 1\n",
      "[12:40:09] INFO: C:\\Users\\Administrator\\workspace\\xgboost-win64_release_1.1.0\\src\\tree\\updater_prune.cc:98: tree pruning end, 6 extra nodes, 0 pruned nodes, max_depth=2\n",
      "[12:40:09] INFO: C:\\Users\\Administrator\\workspace\\xgboost-win64_release_1.1.0\\src\\tree\\updater_prune.cc:98: tree pruning end, 4 extra nodes, 0 pruned nodes, max_depth=2\n",
      "[12:40:09] INFO: C:\\Users\\Administrator\\workspace\\xgboost-win64_release_1.1.0\\src\\tree\\updater_prune.cc:98: tree pruning end, 4 extra nodes, 0 pruned nodes, max_depth=2\n",
      "[12:40:09] INFO: C:\\Users\\Administrator\\workspace\\xgboost-win64_release_1.1.0\\src\\gbm\\gbtree.cc:666: drop 0 trees, weight = 1\n",
      "[12:40:09] INFO: C:\\Users\\Administrator\\workspace\\xgboost-win64_release_1.1.0\\src\\tree\\updater_prune.cc:98: tree pruning end, 6 extra nodes, 0 pruned nodes, max_depth=3\n",
      "[12:40:09] INFO: C:\\Users\\Administrator\\workspace\\xgboost-win64_release_1.1.0\\src\\tree\\updater_prune.cc:98: tree pruning end, 6 extra nodes, 0 pruned nodes, max_depth=2\n",
      "[12:40:09] INFO: C:\\Users\\Administrator\\workspace\\xgboost-win64_release_1.1.0\\src\\tree\\updater_prune.cc:98: tree pruning end, 2 extra nodes, 0 pruned nodes, max_depth=1\n",
      "[12:40:09] INFO: C:\\Users\\Administrator\\workspace\\xgboost-win64_release_1.1.0\\src\\gbm\\gbtree.cc:666: drop 0 trees, weight = 1\n",
      "[12:40:09] INFO: C:\\Users\\Administrator\\workspace\\xgboost-win64_release_1.1.0\\src\\tree\\updater_prune.cc:98: tree pruning end, 4 extra nodes, 0 pruned nodes, max_depth=2\n",
      "[12:40:09] INFO: C:\\Users\\Administrator\\workspace\\xgboost-win64_release_1.1.0\\src\\tree\\updater_prune.cc:98: tree pruning end, 4 extra nodes, 0 pruned nodes, max_depth=2\n",
      "[12:40:09] INFO: C:\\Users\\Administrator\\workspace\\xgboost-win64_release_1.1.0\\src\\tree\\updater_prune.cc:98: tree pruning end, 4 extra nodes, 0 pruned nodes, max_depth=2\n",
      "[12:40:09] INFO: C:\\Users\\Administrator\\workspace\\xgboost-win64_release_1.1.0\\src\\gbm\\gbtree.cc:666: drop 0 trees, weight = 1\n",
      "[12:40:09] INFO: C:\\Users\\Administrator\\workspace\\xgboost-win64_release_1.1.0\\src\\tree\\updater_prune.cc:98: tree pruning end, 4 extra nodes, 0 pruned nodes, max_depth=2\n",
      "[12:40:09] INFO: C:\\Users\\Administrator\\workspace\\xgboost-win64_release_1.1.0\\src\\tree\\updater_prune.cc:98: tree pruning end, 6 extra nodes, 0 pruned nodes, max_depth=3\n",
      "[12:40:09] INFO: C:\\Users\\Administrator\\workspace\\xgboost-win64_release_1.1.0\\src\\tree\\updater_prune.cc:98: tree pruning end, 4 extra nodes, 0 pruned nodes, max_depth=2\n",
      "[12:40:09] INFO: C:\\Users\\Administrator\\workspace\\xgboost-win64_release_1.1.0\\src\\gbm\\gbtree.cc:666: drop 0 trees, weight = 1\n",
      "[12:40:09] INFO: C:\\Users\\Administrator\\workspace\\xgboost-win64_release_1.1.0\\src\\tree\\updater_prune.cc:98: tree pruning end, 6 extra nodes, 0 pruned nodes, max_depth=3\n",
      "[12:40:09] INFO: C:\\Users\\Administrator\\workspace\\xgboost-win64_release_1.1.0\\src\\tree\\updater_prune.cc:98: tree pruning end, 6 extra nodes, 0 pruned nodes, max_depth=2\n",
      "[12:40:09] INFO: C:\\Users\\Administrator\\workspace\\xgboost-win64_release_1.1.0\\src\\tree\\updater_prune.cc:98: tree pruning end, 2 extra nodes, 0 pruned nodes, max_depth=1\n",
      "[12:40:09] INFO: C:\\Users\\Administrator\\workspace\\xgboost-win64_release_1.1.0\\src\\gbm\\gbtree.cc:666: drop 0 trees, weight = 1\n"
     ]
    },
    {
     "name": "stdout",
     "output_type": "stream",
     "text": [
      "[12:40:09] INFO: C:\\Users\\Administrator\\workspace\\xgboost-win64_release_1.1.0\\src\\tree\\updater_prune.cc:98: tree pruning end, 4 extra nodes, 0 pruned nodes, max_depth=2\n",
      "[12:40:09] INFO: C:\\Users\\Administrator\\workspace\\xgboost-win64_release_1.1.0\\src\\tree\\updater_prune.cc:98: tree pruning end, 6 extra nodes, 0 pruned nodes, max_depth=2\n",
      "[12:40:09] INFO: C:\\Users\\Administrator\\workspace\\xgboost-win64_release_1.1.0\\src\\tree\\updater_prune.cc:98: tree pruning end, 2 extra nodes, 0 pruned nodes, max_depth=1\n",
      "[12:40:09] INFO: C:\\Users\\Administrator\\workspace\\xgboost-win64_release_1.1.0\\src\\gbm\\gbtree.cc:666: drop 0 trees, weight = 1\n",
      "[12:40:09] INFO: C:\\Users\\Administrator\\workspace\\xgboost-win64_release_1.1.0\\src\\tree\\updater_prune.cc:98: tree pruning end, 4 extra nodes, 0 pruned nodes, max_depth=2\n",
      "[12:40:09] INFO: C:\\Users\\Administrator\\workspace\\xgboost-win64_release_1.1.0\\src\\tree\\updater_prune.cc:98: tree pruning end, 4 extra nodes, 0 pruned nodes, max_depth=2\n",
      "[12:40:09] INFO: C:\\Users\\Administrator\\workspace\\xgboost-win64_release_1.1.0\\src\\tree\\updater_prune.cc:98: tree pruning end, 2 extra nodes, 0 pruned nodes, max_depth=1\n",
      "[12:40:09] INFO: C:\\Users\\Administrator\\workspace\\xgboost-win64_release_1.1.0\\src\\gbm\\gbtree.cc:666: drop 0 trees, weight = 1\n",
      "[12:40:09] INFO: C:\\Users\\Administrator\\workspace\\xgboost-win64_release_1.1.0\\src\\tree\\updater_prune.cc:98: tree pruning end, 4 extra nodes, 0 pruned nodes, max_depth=2\n",
      "[12:40:09] INFO: C:\\Users\\Administrator\\workspace\\xgboost-win64_release_1.1.0\\src\\tree\\updater_prune.cc:98: tree pruning end, 6 extra nodes, 0 pruned nodes, max_depth=2\n",
      "[12:40:09] INFO: C:\\Users\\Administrator\\workspace\\xgboost-win64_release_1.1.0\\src\\tree\\updater_prune.cc:98: tree pruning end, 4 extra nodes, 0 pruned nodes, max_depth=2\n",
      "[12:40:09] INFO: C:\\Users\\Administrator\\workspace\\xgboost-win64_release_1.1.0\\src\\gbm\\gbtree.cc:666: drop 0 trees, weight = 1\n",
      "[12:40:09] INFO: C:\\Users\\Administrator\\workspace\\xgboost-win64_release_1.1.0\\src\\tree\\updater_prune.cc:98: tree pruning end, 4 extra nodes, 0 pruned nodes, max_depth=2\n",
      "[12:40:09] INFO: C:\\Users\\Administrator\\workspace\\xgboost-win64_release_1.1.0\\src\\tree\\updater_prune.cc:98: tree pruning end, 6 extra nodes, 0 pruned nodes, max_depth=3\n",
      "[12:40:09] INFO: C:\\Users\\Administrator\\workspace\\xgboost-win64_release_1.1.0\\src\\tree\\updater_prune.cc:98: tree pruning end, 2 extra nodes, 0 pruned nodes, max_depth=1\n",
      "[12:40:09] INFO: C:\\Users\\Administrator\\workspace\\xgboost-win64_release_1.1.0\\src\\gbm\\gbtree.cc:666: drop 0 trees, weight = 1\n",
      "[12:40:09] INFO: C:\\Users\\Administrator\\workspace\\xgboost-win64_release_1.1.0\\src\\tree\\updater_prune.cc:98: tree pruning end, 4 extra nodes, 0 pruned nodes, max_depth=2\n",
      "[12:40:09] INFO: C:\\Users\\Administrator\\workspace\\xgboost-win64_release_1.1.0\\src\\tree\\updater_prune.cc:98: tree pruning end, 4 extra nodes, 0 pruned nodes, max_depth=2\n",
      "[12:40:09] INFO: C:\\Users\\Administrator\\workspace\\xgboost-win64_release_1.1.0\\src\\tree\\updater_prune.cc:98: tree pruning end, 2 extra nodes, 0 pruned nodes, max_depth=1\n",
      "[12:40:09] INFO: C:\\Users\\Administrator\\workspace\\xgboost-win64_release_1.1.0\\src\\gbm\\gbtree.cc:666: drop 0 trees, weight = 1\n",
      "[12:40:09] INFO: C:\\Users\\Administrator\\workspace\\xgboost-win64_release_1.1.0\\src\\tree\\updater_prune.cc:98: tree pruning end, 4 extra nodes, 0 pruned nodes, max_depth=2\n",
      "[12:40:09] INFO: C:\\Users\\Administrator\\workspace\\xgboost-win64_release_1.1.0\\src\\tree\\updater_prune.cc:98: tree pruning end, 4 extra nodes, 0 pruned nodes, max_depth=2\n",
      "[12:40:09] INFO: C:\\Users\\Administrator\\workspace\\xgboost-win64_release_1.1.0\\src\\tree\\updater_prune.cc:98: tree pruning end, 4 extra nodes, 0 pruned nodes, max_depth=2\n",
      "[12:40:09] INFO: C:\\Users\\Administrator\\workspace\\xgboost-win64_release_1.1.0\\src\\gbm\\gbtree.cc:666: drop 0 trees, weight = 1\n",
      "[12:40:09] INFO: C:\\Users\\Administrator\\workspace\\xgboost-win64_release_1.1.0\\src\\tree\\updater_prune.cc:98: tree pruning end, 4 extra nodes, 0 pruned nodes, max_depth=2\n",
      "[12:40:09] INFO: C:\\Users\\Administrator\\workspace\\xgboost-win64_release_1.1.0\\src\\tree\\updater_prune.cc:98: tree pruning end, 6 extra nodes, 0 pruned nodes, max_depth=2\n",
      "[12:40:09] INFO: C:\\Users\\Administrator\\workspace\\xgboost-win64_release_1.1.0\\src\\tree\\updater_prune.cc:98: tree pruning end, 2 extra nodes, 0 pruned nodes, max_depth=1\n",
      "[12:40:09] INFO: C:\\Users\\Administrator\\workspace\\xgboost-win64_release_1.1.0\\src\\gbm\\gbtree.cc:666: drop 0 trees, weight = 1\n",
      "[12:40:09] INFO: C:\\Users\\Administrator\\workspace\\xgboost-win64_release_1.1.0\\src\\tree\\updater_prune.cc:98: tree pruning end, 4 extra nodes, 0 pruned nodes, max_depth=2\n",
      "[12:40:09] INFO: C:\\Users\\Administrator\\workspace\\xgboost-win64_release_1.1.0\\src\\tree\\updater_prune.cc:98: tree pruning end, 6 extra nodes, 0 pruned nodes, max_depth=2\n",
      "[12:40:09] INFO: C:\\Users\\Administrator\\workspace\\xgboost-win64_release_1.1.0\\src\\tree\\updater_prune.cc:98: tree pruning end, 2 extra nodes, 0 pruned nodes, max_depth=1\n",
      "[12:40:09] INFO: C:\\Users\\Administrator\\workspace\\xgboost-win64_release_1.1.0\\src\\gbm\\gbtree.cc:666: drop 0 trees, weight = 1\n",
      "[12:40:09] INFO: C:\\Users\\Administrator\\workspace\\xgboost-win64_release_1.1.0\\src\\tree\\updater_prune.cc:98: tree pruning end, 4 extra nodes, 0 pruned nodes, max_depth=2\n",
      "[12:40:09] INFO: C:\\Users\\Administrator\\workspace\\xgboost-win64_release_1.1.0\\src\\tree\\updater_prune.cc:98: tree pruning end, 4 extra nodes, 0 pruned nodes, max_depth=2\n",
      "[12:40:09] INFO: C:\\Users\\Administrator\\workspace\\xgboost-win64_release_1.1.0\\src\\tree\\updater_prune.cc:98: tree pruning end, 2 extra nodes, 0 pruned nodes, max_depth=1\n",
      "[12:40:09] INFO: C:\\Users\\Administrator\\workspace\\xgboost-win64_release_1.1.0\\src\\gbm\\gbtree.cc:666: drop 0 trees, weight = 1\n",
      "[12:40:09] INFO: C:\\Users\\Administrator\\workspace\\xgboost-win64_release_1.1.0\\src\\tree\\updater_prune.cc:98: tree pruning end, 4 extra nodes, 0 pruned nodes, max_depth=2\n",
      "[12:40:09] INFO: C:\\Users\\Administrator\\workspace\\xgboost-win64_release_1.1.0\\src\\tree\\updater_prune.cc:98: tree pruning end, 4 extra nodes, 0 pruned nodes, max_depth=2\n",
      "[12:40:09] INFO: C:\\Users\\Administrator\\workspace\\xgboost-win64_release_1.1.0\\src\\tree\\updater_prune.cc:98: tree pruning end, 4 extra nodes, 0 pruned nodes, max_depth=2\n",
      "[12:40:09] INFO: C:\\Users\\Administrator\\workspace\\xgboost-win64_release_1.1.0\\src\\gbm\\gbtree.cc:666: drop 0 trees, weight = 1\n",
      "[12:40:09] INFO: C:\\Users\\Administrator\\workspace\\xgboost-win64_release_1.1.0\\src\\tree\\updater_prune.cc:98: tree pruning end, 4 extra nodes, 0 pruned nodes, max_depth=2\n",
      "[12:40:09] INFO: C:\\Users\\Administrator\\workspace\\xgboost-win64_release_1.1.0\\src\\tree\\updater_prune.cc:98: tree pruning end, 6 extra nodes, 0 pruned nodes, max_depth=2\n",
      "[12:40:09] INFO: C:\\Users\\Administrator\\workspace\\xgboost-win64_release_1.1.0\\src\\tree\\updater_prune.cc:98: tree pruning end, 4 extra nodes, 0 pruned nodes, max_depth=2\n",
      "[12:40:09] INFO: C:\\Users\\Administrator\\workspace\\xgboost-win64_release_1.1.0\\src\\gbm\\gbtree.cc:666: drop 0 trees, weight = 1\n",
      "[12:40:09] INFO: C:\\Users\\Administrator\\workspace\\xgboost-win64_release_1.1.0\\src\\tree\\updater_prune.cc:98: tree pruning end, 4 extra nodes, 0 pruned nodes, max_depth=2\n",
      "[12:40:09] INFO: C:\\Users\\Administrator\\workspace\\xgboost-win64_release_1.1.0\\src\\tree\\updater_prune.cc:98: tree pruning end, 4 extra nodes, 0 pruned nodes, max_depth=2\n",
      "[12:40:09] INFO: C:\\Users\\Administrator\\workspace\\xgboost-win64_release_1.1.0\\src\\tree\\updater_prune.cc:98: tree pruning end, 4 extra nodes, 0 pruned nodes, max_depth=2\n",
      "[12:40:09] INFO: C:\\Users\\Administrator\\workspace\\xgboost-win64_release_1.1.0\\src\\gbm\\gbtree.cc:666: drop 0 trees, weight = 1\n",
      "[12:40:09] INFO: C:\\Users\\Administrator\\workspace\\xgboost-win64_release_1.1.0\\src\\tree\\updater_prune.cc:98: tree pruning end, 4 extra nodes, 0 pruned nodes, max_depth=2\n",
      "[12:40:09] INFO: C:\\Users\\Administrator\\workspace\\xgboost-win64_release_1.1.0\\src\\tree\\updater_prune.cc:98: tree pruning end, 4 extra nodes, 0 pruned nodes, max_depth=2\n",
      "[12:40:09] INFO: C:\\Users\\Administrator\\workspace\\xgboost-win64_release_1.1.0\\src\\tree\\updater_prune.cc:98: tree pruning end, 4 extra nodes, 0 pruned nodes, max_depth=2\n",
      "[12:40:09] INFO: C:\\Users\\Administrator\\workspace\\xgboost-win64_release_1.1.0\\src\\gbm\\gbtree.cc:666: drop 0 trees, weight = 1\n",
      "[12:40:09] INFO: C:\\Users\\Administrator\\workspace\\xgboost-win64_release_1.1.0\\src\\tree\\updater_prune.cc:98: tree pruning end, 4 extra nodes, 0 pruned nodes, max_depth=2\n",
      "[12:40:09] INFO: C:\\Users\\Administrator\\workspace\\xgboost-win64_release_1.1.0\\src\\tree\\updater_prune.cc:98: tree pruning end, 4 extra nodes, 0 pruned nodes, max_depth=2\n",
      "[12:40:09] INFO: C:\\Users\\Administrator\\workspace\\xgboost-win64_release_1.1.0\\src\\tree\\updater_prune.cc:98: tree pruning end, 4 extra nodes, 0 pruned nodes, max_depth=2\n",
      "[12:40:09] INFO: C:\\Users\\Administrator\\workspace\\xgboost-win64_release_1.1.0\\src\\gbm\\gbtree.cc:666: drop 0 trees, weight = 1\n",
      "[12:40:09] INFO: C:\\Users\\Administrator\\workspace\\xgboost-win64_release_1.1.0\\src\\tree\\updater_prune.cc:98: tree pruning end, 4 extra nodes, 0 pruned nodes, max_depth=2\n",
      "[12:40:09] INFO: C:\\Users\\Administrator\\workspace\\xgboost-win64_release_1.1.0\\src\\tree\\updater_prune.cc:98: tree pruning end, 4 extra nodes, 0 pruned nodes, max_depth=2\n",
      "[12:40:09] INFO: C:\\Users\\Administrator\\workspace\\xgboost-win64_release_1.1.0\\src\\tree\\updater_prune.cc:98: tree pruning end, 2 extra nodes, 0 pruned nodes, max_depth=1\n",
      "[12:40:09] INFO: C:\\Users\\Administrator\\workspace\\xgboost-win64_release_1.1.0\\src\\gbm\\gbtree.cc:666: drop 0 trees, weight = 1\n",
      "[12:40:09] INFO: C:\\Users\\Administrator\\workspace\\xgboost-win64_release_1.1.0\\src\\tree\\updater_prune.cc:98: tree pruning end, 4 extra nodes, 0 pruned nodes, max_depth=2\n",
      "[12:40:09] INFO: C:\\Users\\Administrator\\workspace\\xgboost-win64_release_1.1.0\\src\\tree\\updater_prune.cc:98: tree pruning end, 4 extra nodes, 0 pruned nodes, max_depth=2\n",
      "[12:40:09] INFO: C:\\Users\\Administrator\\workspace\\xgboost-win64_release_1.1.0\\src\\tree\\updater_prune.cc:98: tree pruning end, 2 extra nodes, 0 pruned nodes, max_depth=1\n",
      "[12:40:09] INFO: C:\\Users\\Administrator\\workspace\\xgboost-win64_release_1.1.0\\src\\gbm\\gbtree.cc:666: drop 0 trees, weight = 1\n",
      "[12:40:09] INFO: C:\\Users\\Administrator\\workspace\\xgboost-win64_release_1.1.0\\src\\tree\\updater_prune.cc:98: tree pruning end, 4 extra nodes, 0 pruned nodes, max_depth=2\n",
      "[12:40:09] INFO: C:\\Users\\Administrator\\workspace\\xgboost-win64_release_1.1.0\\src\\tree\\updater_prune.cc:98: tree pruning end, 4 extra nodes, 0 pruned nodes, max_depth=2\n",
      "[12:40:09] INFO: C:\\Users\\Administrator\\workspace\\xgboost-win64_release_1.1.0\\src\\tree\\updater_prune.cc:98: tree pruning end, 2 extra nodes, 0 pruned nodes, max_depth=1\n",
      "[12:40:09] INFO: C:\\Users\\Administrator\\workspace\\xgboost-win64_release_1.1.0\\src\\gbm\\gbtree.cc:666: drop 0 trees, weight = 1\n",
      "[12:40:09] INFO: C:\\Users\\Administrator\\workspace\\xgboost-win64_release_1.1.0\\src\\tree\\updater_prune.cc:98: tree pruning end, 4 extra nodes, 0 pruned nodes, max_depth=2\n",
      "[12:40:09] INFO: C:\\Users\\Administrator\\workspace\\xgboost-win64_release_1.1.0\\src\\tree\\updater_prune.cc:98: tree pruning end, 4 extra nodes, 0 pruned nodes, max_depth=2\n",
      "[12:40:09] INFO: C:\\Users\\Administrator\\workspace\\xgboost-win64_release_1.1.0\\src\\tree\\updater_prune.cc:98: tree pruning end, 2 extra nodes, 0 pruned nodes, max_depth=1\n",
      "[12:40:09] INFO: C:\\Users\\Administrator\\workspace\\xgboost-win64_release_1.1.0\\src\\gbm\\gbtree.cc:666: drop 0 trees, weight = 1\n",
      "[12:40:09] INFO: C:\\Users\\Administrator\\workspace\\xgboost-win64_release_1.1.0\\src\\tree\\updater_prune.cc:98: tree pruning end, 4 extra nodes, 0 pruned nodes, max_depth=2\n",
      "[12:40:09] INFO: C:\\Users\\Administrator\\workspace\\xgboost-win64_release_1.1.0\\src\\tree\\updater_prune.cc:98: tree pruning end, 4 extra nodes, 0 pruned nodes, max_depth=2\n",
      "[12:40:09] INFO: C:\\Users\\Administrator\\workspace\\xgboost-win64_release_1.1.0\\src\\tree\\updater_prune.cc:98: tree pruning end, 2 extra nodes, 0 pruned nodes, max_depth=1\n",
      "[12:40:09] INFO: C:\\Users\\Administrator\\workspace\\xgboost-win64_release_1.1.0\\src\\gbm\\gbtree.cc:666: drop 0 trees, weight = 1\n",
      "[12:40:09] INFO: C:\\Users\\Administrator\\workspace\\xgboost-win64_release_1.1.0\\src\\tree\\updater_prune.cc:98: tree pruning end, 4 extra nodes, 0 pruned nodes, max_depth=2\n",
      "[12:40:09] INFO: C:\\Users\\Administrator\\workspace\\xgboost-win64_release_1.1.0\\src\\tree\\updater_prune.cc:98: tree pruning end, 4 extra nodes, 0 pruned nodes, max_depth=2\n",
      "[12:40:09] INFO: C:\\Users\\Administrator\\workspace\\xgboost-win64_release_1.1.0\\src\\tree\\updater_prune.cc:98: tree pruning end, 2 extra nodes, 0 pruned nodes, max_depth=1\n",
      "[12:40:09] INFO: C:\\Users\\Administrator\\workspace\\xgboost-win64_release_1.1.0\\src\\gbm\\gbtree.cc:666: drop 0 trees, weight = 1\n",
      "[12:40:09] INFO: C:\\Users\\Administrator\\workspace\\xgboost-win64_release_1.1.0\\src\\tree\\updater_prune.cc:98: tree pruning end, 4 extra nodes, 0 pruned nodes, max_depth=2\n",
      "[12:40:09] INFO: C:\\Users\\Administrator\\workspace\\xgboost-win64_release_1.1.0\\src\\tree\\updater_prune.cc:98: tree pruning end, 4 extra nodes, 0 pruned nodes, max_depth=2\n",
      "[12:40:09] INFO: C:\\Users\\Administrator\\workspace\\xgboost-win64_release_1.1.0\\src\\tree\\updater_prune.cc:98: tree pruning end, 2 extra nodes, 0 pruned nodes, max_depth=1\n",
      "[12:40:09] INFO: C:\\Users\\Administrator\\workspace\\xgboost-win64_release_1.1.0\\src\\gbm\\gbtree.cc:666: drop 0 trees, weight = 1\n"
     ]
    },
    {
     "name": "stdout",
     "output_type": "stream",
     "text": [
      "[12:40:09] INFO: C:\\Users\\Administrator\\workspace\\xgboost-win64_release_1.1.0\\src\\tree\\updater_prune.cc:98: tree pruning end, 4 extra nodes, 0 pruned nodes, max_depth=2\n",
      "[12:40:09] INFO: C:\\Users\\Administrator\\workspace\\xgboost-win64_release_1.1.0\\src\\tree\\updater_prune.cc:98: tree pruning end, 4 extra nodes, 0 pruned nodes, max_depth=2\n",
      "[12:40:09] INFO: C:\\Users\\Administrator\\workspace\\xgboost-win64_release_1.1.0\\src\\tree\\updater_prune.cc:98: tree pruning end, 2 extra nodes, 0 pruned nodes, max_depth=1\n",
      "[12:40:09] INFO: C:\\Users\\Administrator\\workspace\\xgboost-win64_release_1.1.0\\src\\gbm\\gbtree.cc:666: drop 0 trees, weight = 1\n",
      "[12:40:09] INFO: C:\\Users\\Administrator\\workspace\\xgboost-win64_release_1.1.0\\src\\tree\\updater_prune.cc:98: tree pruning end, 4 extra nodes, 0 pruned nodes, max_depth=2\n",
      "[12:40:09] INFO: C:\\Users\\Administrator\\workspace\\xgboost-win64_release_1.1.0\\src\\tree\\updater_prune.cc:98: tree pruning end, 4 extra nodes, 0 pruned nodes, max_depth=2\n",
      "[12:40:09] INFO: C:\\Users\\Administrator\\workspace\\xgboost-win64_release_1.1.0\\src\\tree\\updater_prune.cc:98: tree pruning end, 2 extra nodes, 0 pruned nodes, max_depth=1\n",
      "[12:40:09] INFO: C:\\Users\\Administrator\\workspace\\xgboost-win64_release_1.1.0\\src\\gbm\\gbtree.cc:666: drop 0 trees, weight = 1\n",
      "[12:40:09] INFO: C:\\Users\\Administrator\\workspace\\xgboost-win64_release_1.1.0\\src\\tree\\updater_prune.cc:98: tree pruning end, 4 extra nodes, 0 pruned nodes, max_depth=2\n",
      "[12:40:09] INFO: C:\\Users\\Administrator\\workspace\\xgboost-win64_release_1.1.0\\src\\tree\\updater_prune.cc:98: tree pruning end, 4 extra nodes, 0 pruned nodes, max_depth=2\n",
      "[12:40:09] INFO: C:\\Users\\Administrator\\workspace\\xgboost-win64_release_1.1.0\\src\\tree\\updater_prune.cc:98: tree pruning end, 2 extra nodes, 0 pruned nodes, max_depth=1\n",
      "[12:40:09] INFO: C:\\Users\\Administrator\\workspace\\xgboost-win64_release_1.1.0\\src\\gbm\\gbtree.cc:666: drop 0 trees, weight = 1\n",
      "[12:40:09] INFO: C:\\Users\\Administrator\\workspace\\xgboost-win64_release_1.1.0\\src\\tree\\updater_prune.cc:98: tree pruning end, 4 extra nodes, 0 pruned nodes, max_depth=2\n",
      "[12:40:09] INFO: C:\\Users\\Administrator\\workspace\\xgboost-win64_release_1.1.0\\src\\tree\\updater_prune.cc:98: tree pruning end, 4 extra nodes, 0 pruned nodes, max_depth=2\n",
      "[12:40:09] INFO: C:\\Users\\Administrator\\workspace\\xgboost-win64_release_1.1.0\\src\\tree\\updater_prune.cc:98: tree pruning end, 2 extra nodes, 0 pruned nodes, max_depth=1\n",
      "[12:40:09] INFO: C:\\Users\\Administrator\\workspace\\xgboost-win64_release_1.1.0\\src\\gbm\\gbtree.cc:666: drop 0 trees, weight = 1\n",
      "[12:40:09] INFO: C:\\Users\\Administrator\\workspace\\xgboost-win64_release_1.1.0\\src\\tree\\updater_prune.cc:98: tree pruning end, 4 extra nodes, 0 pruned nodes, max_depth=2\n",
      "[12:40:09] INFO: C:\\Users\\Administrator\\workspace\\xgboost-win64_release_1.1.0\\src\\tree\\updater_prune.cc:98: tree pruning end, 4 extra nodes, 0 pruned nodes, max_depth=2\n",
      "[12:40:09] INFO: C:\\Users\\Administrator\\workspace\\xgboost-win64_release_1.1.0\\src\\tree\\updater_prune.cc:98: tree pruning end, 2 extra nodes, 0 pruned nodes, max_depth=1\n",
      "[12:40:09] INFO: C:\\Users\\Administrator\\workspace\\xgboost-win64_release_1.1.0\\src\\gbm\\gbtree.cc:666: drop 0 trees, weight = 1\n",
      "[12:40:09] INFO: C:\\Users\\Administrator\\workspace\\xgboost-win64_release_1.1.0\\src\\tree\\updater_prune.cc:98: tree pruning end, 2 extra nodes, 0 pruned nodes, max_depth=1\n",
      "[12:40:09] INFO: C:\\Users\\Administrator\\workspace\\xgboost-win64_release_1.1.0\\src\\tree\\updater_prune.cc:98: tree pruning end, 4 extra nodes, 0 pruned nodes, max_depth=2\n",
      "[12:40:09] INFO: C:\\Users\\Administrator\\workspace\\xgboost-win64_release_1.1.0\\src\\tree\\updater_prune.cc:98: tree pruning end, 2 extra nodes, 0 pruned nodes, max_depth=1\n",
      "[12:40:09] INFO: C:\\Users\\Administrator\\workspace\\xgboost-win64_release_1.1.0\\src\\gbm\\gbtree.cc:666: drop 0 trees, weight = 1\n",
      "[12:40:09] INFO: C:\\Users\\Administrator\\workspace\\xgboost-win64_release_1.1.0\\src\\tree\\updater_prune.cc:98: tree pruning end, 2 extra nodes, 0 pruned nodes, max_depth=1\n",
      "[12:40:09] INFO: C:\\Users\\Administrator\\workspace\\xgboost-win64_release_1.1.0\\src\\tree\\updater_prune.cc:98: tree pruning end, 4 extra nodes, 0 pruned nodes, max_depth=2\n",
      "[12:40:09] INFO: C:\\Users\\Administrator\\workspace\\xgboost-win64_release_1.1.0\\src\\tree\\updater_prune.cc:98: tree pruning end, 2 extra nodes, 0 pruned nodes, max_depth=1\n",
      "[12:40:09] INFO: C:\\Users\\Administrator\\workspace\\xgboost-win64_release_1.1.0\\src\\gbm\\gbtree.cc:666: drop 0 trees, weight = 1\n",
      "[12:40:09] INFO: C:\\Users\\Administrator\\workspace\\xgboost-win64_release_1.1.0\\src\\tree\\updater_prune.cc:98: tree pruning end, 4 extra nodes, 0 pruned nodes, max_depth=2\n",
      "[12:40:09] INFO: C:\\Users\\Administrator\\workspace\\xgboost-win64_release_1.1.0\\src\\tree\\updater_prune.cc:98: tree pruning end, 2 extra nodes, 0 pruned nodes, max_depth=1\n",
      "[12:40:09] INFO: C:\\Users\\Administrator\\workspace\\xgboost-win64_release_1.1.0\\src\\tree\\updater_prune.cc:98: tree pruning end, 2 extra nodes, 0 pruned nodes, max_depth=1\n",
      "[12:40:09] INFO: C:\\Users\\Administrator\\workspace\\xgboost-win64_release_1.1.0\\src\\gbm\\gbtree.cc:666: drop 0 trees, weight = 1\n",
      "[12:40:09] INFO: C:\\Users\\Administrator\\workspace\\xgboost-win64_release_1.1.0\\src\\tree\\updater_prune.cc:98: tree pruning end, 4 extra nodes, 0 pruned nodes, max_depth=2\n",
      "[12:40:09] INFO: C:\\Users\\Administrator\\workspace\\xgboost-win64_release_1.1.0\\src\\tree\\updater_prune.cc:98: tree pruning end, 4 extra nodes, 0 pruned nodes, max_depth=2\n",
      "[12:40:09] INFO: C:\\Users\\Administrator\\workspace\\xgboost-win64_release_1.1.0\\src\\tree\\updater_prune.cc:98: tree pruning end, 2 extra nodes, 0 pruned nodes, max_depth=1\n",
      "[12:40:09] INFO: C:\\Users\\Administrator\\workspace\\xgboost-win64_release_1.1.0\\src\\gbm\\gbtree.cc:666: drop 0 trees, weight = 1\n",
      "[12:40:09] INFO: C:\\Users\\Administrator\\workspace\\xgboost-win64_release_1.1.0\\src\\tree\\updater_prune.cc:98: tree pruning end, 4 extra nodes, 0 pruned nodes, max_depth=2\n",
      "[12:40:09] INFO: C:\\Users\\Administrator\\workspace\\xgboost-win64_release_1.1.0\\src\\tree\\updater_prune.cc:98: tree pruning end, 4 extra nodes, 0 pruned nodes, max_depth=2\n",
      "[12:40:09] INFO: C:\\Users\\Administrator\\workspace\\xgboost-win64_release_1.1.0\\src\\tree\\updater_prune.cc:98: tree pruning end, 2 extra nodes, 0 pruned nodes, max_depth=1\n",
      "[12:40:09] INFO: C:\\Users\\Administrator\\workspace\\xgboost-win64_release_1.1.0\\src\\gbm\\gbtree.cc:666: drop 0 trees, weight = 1\n",
      "[12:40:09] INFO: C:\\Users\\Administrator\\workspace\\xgboost-win64_release_1.1.0\\src\\tree\\updater_prune.cc:98: tree pruning end, 2 extra nodes, 0 pruned nodes, max_depth=1\n",
      "[12:40:09] INFO: C:\\Users\\Administrator\\workspace\\xgboost-win64_release_1.1.0\\src\\tree\\updater_prune.cc:98: tree pruning end, 4 extra nodes, 0 pruned nodes, max_depth=2\n",
      "[12:40:09] INFO: C:\\Users\\Administrator\\workspace\\xgboost-win64_release_1.1.0\\src\\tree\\updater_prune.cc:98: tree pruning end, 2 extra nodes, 0 pruned nodes, max_depth=1\n",
      "[12:40:09] INFO: C:\\Users\\Administrator\\workspace\\xgboost-win64_release_1.1.0\\src\\gbm\\gbtree.cc:666: drop 0 trees, weight = 1\n",
      "[12:40:09] INFO: C:\\Users\\Administrator\\workspace\\xgboost-win64_release_1.1.0\\src\\tree\\updater_prune.cc:98: tree pruning end, 2 extra nodes, 0 pruned nodes, max_depth=1\n",
      "[12:40:09] INFO: C:\\Users\\Administrator\\workspace\\xgboost-win64_release_1.1.0\\src\\tree\\updater_prune.cc:98: tree pruning end, 4 extra nodes, 0 pruned nodes, max_depth=2\n",
      "[12:40:09] INFO: C:\\Users\\Administrator\\workspace\\xgboost-win64_release_1.1.0\\src\\tree\\updater_prune.cc:98: tree pruning end, 2 extra nodes, 0 pruned nodes, max_depth=1\n",
      "[12:40:09] INFO: C:\\Users\\Administrator\\workspace\\xgboost-win64_release_1.1.0\\src\\gbm\\gbtree.cc:666: drop 0 trees, weight = 1\n",
      "[12:40:09] INFO: C:\\Users\\Administrator\\workspace\\xgboost-win64_release_1.1.0\\src\\tree\\updater_prune.cc:98: tree pruning end, 4 extra nodes, 0 pruned nodes, max_depth=2\n",
      "[12:40:09] INFO: C:\\Users\\Administrator\\workspace\\xgboost-win64_release_1.1.0\\src\\tree\\updater_prune.cc:98: tree pruning end, 4 extra nodes, 0 pruned nodes, max_depth=2\n",
      "[12:40:09] INFO: C:\\Users\\Administrator\\workspace\\xgboost-win64_release_1.1.0\\src\\tree\\updater_prune.cc:98: tree pruning end, 2 extra nodes, 0 pruned nodes, max_depth=1\n",
      "[12:40:09] INFO: C:\\Users\\Administrator\\workspace\\xgboost-win64_release_1.1.0\\src\\gbm\\gbtree.cc:666: drop 0 trees, weight = 1\n",
      "[12:40:09] INFO: C:\\Users\\Administrator\\workspace\\xgboost-win64_release_1.1.0\\src\\tree\\updater_prune.cc:98: tree pruning end, 4 extra nodes, 0 pruned nodes, max_depth=2\n",
      "[12:40:09] INFO: C:\\Users\\Administrator\\workspace\\xgboost-win64_release_1.1.0\\src\\tree\\updater_prune.cc:98: tree pruning end, 0 extra nodes, 0 pruned nodes, max_depth=0\n",
      "[12:40:09] INFO: C:\\Users\\Administrator\\workspace\\xgboost-win64_release_1.1.0\\src\\tree\\updater_prune.cc:98: tree pruning end, 2 extra nodes, 0 pruned nodes, max_depth=1\n",
      "[12:40:09] INFO: C:\\Users\\Administrator\\workspace\\xgboost-win64_release_1.1.0\\src\\gbm\\gbtree.cc:666: drop 0 trees, weight = 1\n",
      "[12:40:09] INFO: C:\\Users\\Administrator\\workspace\\xgboost-win64_release_1.1.0\\src\\tree\\updater_prune.cc:98: tree pruning end, 4 extra nodes, 0 pruned nodes, max_depth=2\n",
      "[12:40:09] INFO: C:\\Users\\Administrator\\workspace\\xgboost-win64_release_1.1.0\\src\\tree\\updater_prune.cc:98: tree pruning end, 4 extra nodes, 0 pruned nodes, max_depth=2\n",
      "[12:40:09] INFO: C:\\Users\\Administrator\\workspace\\xgboost-win64_release_1.1.0\\src\\tree\\updater_prune.cc:98: tree pruning end, 2 extra nodes, 0 pruned nodes, max_depth=1\n",
      "[12:40:09] INFO: C:\\Users\\Administrator\\workspace\\xgboost-win64_release_1.1.0\\src\\gbm\\gbtree.cc:666: drop 0 trees, weight = 1\n"
     ]
    },
    {
     "name": "stdout",
     "output_type": "stream",
     "text": [
      "[12:40:09] INFO: C:\\Users\\Administrator\\workspace\\xgboost-win64_release_1.1.0\\src\\tree\\updater_prune.cc:98: tree pruning end, 0 extra nodes, 0 pruned nodes, max_depth=0\n",
      "[12:40:09] INFO: C:\\Users\\Administrator\\workspace\\xgboost-win64_release_1.1.0\\src\\tree\\updater_prune.cc:98: tree pruning end, 4 extra nodes, 0 pruned nodes, max_depth=2\n",
      "[12:40:09] INFO: C:\\Users\\Administrator\\workspace\\xgboost-win64_release_1.1.0\\src\\tree\\updater_prune.cc:98: tree pruning end, 2 extra nodes, 0 pruned nodes, max_depth=1\n",
      "[12:40:09] INFO: C:\\Users\\Administrator\\workspace\\xgboost-win64_release_1.1.0\\src\\gbm\\gbtree.cc:666: drop 0 trees, weight = 1\n",
      "[12:40:09] INFO: C:\\Users\\Administrator\\workspace\\xgboost-win64_release_1.1.0\\src\\tree\\updater_prune.cc:98: tree pruning end, 2 extra nodes, 0 pruned nodes, max_depth=1\n",
      "[12:40:09] INFO: C:\\Users\\Administrator\\workspace\\xgboost-win64_release_1.1.0\\src\\tree\\updater_prune.cc:98: tree pruning end, 4 extra nodes, 0 pruned nodes, max_depth=2\n",
      "[12:40:09] INFO: C:\\Users\\Administrator\\workspace\\xgboost-win64_release_1.1.0\\src\\tree\\updater_prune.cc:98: tree pruning end, 2 extra nodes, 0 pruned nodes, max_depth=1\n",
      "[12:40:09] INFO: C:\\Users\\Administrator\\workspace\\xgboost-win64_release_1.1.0\\src\\gbm\\gbtree.cc:666: drop 0 trees, weight = 1\n",
      "[12:40:09] INFO: C:\\Users\\Administrator\\workspace\\xgboost-win64_release_1.1.0\\src\\tree\\updater_prune.cc:98: tree pruning end, 4 extra nodes, 0 pruned nodes, max_depth=2\n",
      "[12:40:09] INFO: C:\\Users\\Administrator\\workspace\\xgboost-win64_release_1.1.0\\src\\tree\\updater_prune.cc:98: tree pruning end, 4 extra nodes, 0 pruned nodes, max_depth=2\n",
      "[12:40:09] INFO: C:\\Users\\Administrator\\workspace\\xgboost-win64_release_1.1.0\\src\\tree\\updater_prune.cc:98: tree pruning end, 2 extra nodes, 0 pruned nodes, max_depth=1\n",
      "[12:40:09] INFO: C:\\Users\\Administrator\\workspace\\xgboost-win64_release_1.1.0\\src\\gbm\\gbtree.cc:666: drop 0 trees, weight = 1\n",
      "[12:40:09] INFO: C:\\Users\\Administrator\\workspace\\xgboost-win64_release_1.1.0\\src\\tree\\updater_prune.cc:98: tree pruning end, 2 extra nodes, 0 pruned nodes, max_depth=1\n",
      "[12:40:09] INFO: C:\\Users\\Administrator\\workspace\\xgboost-win64_release_1.1.0\\src\\tree\\updater_prune.cc:98: tree pruning end, 0 extra nodes, 0 pruned nodes, max_depth=0\n",
      "[12:40:09] INFO: C:\\Users\\Administrator\\workspace\\xgboost-win64_release_1.1.0\\src\\tree\\updater_prune.cc:98: tree pruning end, 2 extra nodes, 0 pruned nodes, max_depth=1\n",
      "[12:40:09] INFO: C:\\Users\\Administrator\\workspace\\xgboost-win64_release_1.1.0\\src\\gbm\\gbtree.cc:666: drop 0 trees, weight = 1\n",
      "[12:40:09] INFO: C:\\Users\\Administrator\\workspace\\xgboost-win64_release_1.1.0\\src\\tree\\updater_prune.cc:98: tree pruning end, 4 extra nodes, 0 pruned nodes, max_depth=2\n",
      "[12:40:09] INFO: C:\\Users\\Administrator\\workspace\\xgboost-win64_release_1.1.0\\src\\tree\\updater_prune.cc:98: tree pruning end, 4 extra nodes, 0 pruned nodes, max_depth=2\n",
      "[12:40:09] INFO: C:\\Users\\Administrator\\workspace\\xgboost-win64_release_1.1.0\\src\\tree\\updater_prune.cc:98: tree pruning end, 2 extra nodes, 0 pruned nodes, max_depth=1\n",
      "[12:40:09] INFO: C:\\Users\\Administrator\\workspace\\xgboost-win64_release_1.1.0\\src\\gbm\\gbtree.cc:666: drop 0 trees, weight = 1\n",
      "[12:40:09] INFO: C:\\Users\\Administrator\\workspace\\xgboost-win64_release_1.1.0\\src\\tree\\updater_prune.cc:98: tree pruning end, 2 extra nodes, 0 pruned nodes, max_depth=1\n",
      "[12:40:09] INFO: C:\\Users\\Administrator\\workspace\\xgboost-win64_release_1.1.0\\src\\tree\\updater_prune.cc:98: tree pruning end, 4 extra nodes, 0 pruned nodes, max_depth=2\n",
      "[12:40:09] INFO: C:\\Users\\Administrator\\workspace\\xgboost-win64_release_1.1.0\\src\\tree\\updater_prune.cc:98: tree pruning end, 2 extra nodes, 0 pruned nodes, max_depth=1\n",
      "[12:40:09] INFO: C:\\Users\\Administrator\\workspace\\xgboost-win64_release_1.1.0\\src\\gbm\\gbtree.cc:666: drop 0 trees, weight = 1\n",
      "[12:40:09] INFO: C:\\Users\\Administrator\\workspace\\xgboost-win64_release_1.1.0\\src\\tree\\updater_prune.cc:98: tree pruning end, 0 extra nodes, 0 pruned nodes, max_depth=0\n",
      "[12:40:09] INFO: C:\\Users\\Administrator\\workspace\\xgboost-win64_release_1.1.0\\src\\tree\\updater_prune.cc:98: tree pruning end, 4 extra nodes, 0 pruned nodes, max_depth=2\n",
      "[12:40:09] INFO: C:\\Users\\Administrator\\workspace\\xgboost-win64_release_1.1.0\\src\\tree\\updater_prune.cc:98: tree pruning end, 2 extra nodes, 0 pruned nodes, max_depth=1\n",
      "[12:40:09] INFO: C:\\Users\\Administrator\\workspace\\xgboost-win64_release_1.1.0\\src\\gbm\\gbtree.cc:666: drop 0 trees, weight = 1\n",
      "[12:40:09] INFO: C:\\Users\\Administrator\\workspace\\xgboost-win64_release_1.1.0\\src\\tree\\updater_prune.cc:98: tree pruning end, 2 extra nodes, 0 pruned nodes, max_depth=1\n",
      "[12:40:09] INFO: C:\\Users\\Administrator\\workspace\\xgboost-win64_release_1.1.0\\src\\tree\\updater_prune.cc:98: tree pruning end, 0 extra nodes, 0 pruned nodes, max_depth=0\n",
      "[12:40:09] INFO: C:\\Users\\Administrator\\workspace\\xgboost-win64_release_1.1.0\\src\\tree\\updater_prune.cc:98: tree pruning end, 0 extra nodes, 0 pruned nodes, max_depth=0\n",
      "[12:40:09] INFO: C:\\Users\\Administrator\\workspace\\xgboost-win64_release_1.1.0\\src\\gbm\\gbtree.cc:666: drop 0 trees, weight = 1\n",
      "[12:40:09] INFO: C:\\Users\\Administrator\\workspace\\xgboost-win64_release_1.1.0\\src\\tree\\updater_prune.cc:98: tree pruning end, 4 extra nodes, 0 pruned nodes, max_depth=2\n",
      "[12:40:09] INFO: C:\\Users\\Administrator\\workspace\\xgboost-win64_release_1.1.0\\src\\tree\\updater_prune.cc:98: tree pruning end, 4 extra nodes, 0 pruned nodes, max_depth=2\n",
      "[12:40:09] INFO: C:\\Users\\Administrator\\workspace\\xgboost-win64_release_1.1.0\\src\\tree\\updater_prune.cc:98: tree pruning end, 2 extra nodes, 0 pruned nodes, max_depth=1\n",
      "[12:40:09] INFO: C:\\Users\\Administrator\\workspace\\xgboost-win64_release_1.1.0\\src\\gbm\\gbtree.cc:666: drop 0 trees, weight = 1\n",
      "[12:40:09] INFO: C:\\Users\\Administrator\\workspace\\xgboost-win64_release_1.1.0\\src\\tree\\updater_prune.cc:98: tree pruning end, 0 extra nodes, 0 pruned nodes, max_depth=0\n",
      "[12:40:09] INFO: C:\\Users\\Administrator\\workspace\\xgboost-win64_release_1.1.0\\src\\tree\\updater_prune.cc:98: tree pruning end, 4 extra nodes, 0 pruned nodes, max_depth=2\n",
      "[12:40:09] INFO: C:\\Users\\Administrator\\workspace\\xgboost-win64_release_1.1.0\\src\\tree\\updater_prune.cc:98: tree pruning end, 2 extra nodes, 0 pruned nodes, max_depth=1\n",
      "[12:40:09] INFO: C:\\Users\\Administrator\\workspace\\xgboost-win64_release_1.1.0\\src\\gbm\\gbtree.cc:666: drop 0 trees, weight = 1\n",
      "[12:40:09] INFO: C:\\Users\\Administrator\\workspace\\xgboost-win64_release_1.1.0\\src\\tree\\updater_prune.cc:98: tree pruning end, 0 extra nodes, 0 pruned nodes, max_depth=0\n",
      "[12:40:09] INFO: C:\\Users\\Administrator\\workspace\\xgboost-win64_release_1.1.0\\src\\tree\\updater_prune.cc:98: tree pruning end, 0 extra nodes, 0 pruned nodes, max_depth=0\n",
      "[12:40:09] INFO: C:\\Users\\Administrator\\workspace\\xgboost-win64_release_1.1.0\\src\\tree\\updater_prune.cc:98: tree pruning end, 2 extra nodes, 0 pruned nodes, max_depth=1\n",
      "[12:40:09] INFO: C:\\Users\\Administrator\\workspace\\xgboost-win64_release_1.1.0\\src\\gbm\\gbtree.cc:666: drop 0 trees, weight = 1\n",
      "[12:40:09] INFO: C:\\Users\\Administrator\\workspace\\xgboost-win64_release_1.1.0\\src\\tree\\updater_prune.cc:98: tree pruning end, 4 extra nodes, 0 pruned nodes, max_depth=2\n",
      "[12:40:09] INFO: C:\\Users\\Administrator\\workspace\\xgboost-win64_release_1.1.0\\src\\tree\\updater_prune.cc:98: tree pruning end, 4 extra nodes, 0 pruned nodes, max_depth=2\n",
      "[12:40:09] INFO: C:\\Users\\Administrator\\workspace\\xgboost-win64_release_1.1.0\\src\\tree\\updater_prune.cc:98: tree pruning end, 2 extra nodes, 0 pruned nodes, max_depth=1\n",
      "[12:40:09] INFO: C:\\Users\\Administrator\\workspace\\xgboost-win64_release_1.1.0\\src\\gbm\\gbtree.cc:666: drop 0 trees, weight = 1\n",
      "[12:40:09] INFO: C:\\Users\\Administrator\\workspace\\xgboost-win64_release_1.1.0\\src\\tree\\updater_prune.cc:98: tree pruning end, 2 extra nodes, 0 pruned nodes, max_depth=1\n",
      "[12:40:09] INFO: C:\\Users\\Administrator\\workspace\\xgboost-win64_release_1.1.0\\src\\tree\\updater_prune.cc:98: tree pruning end, 4 extra nodes, 0 pruned nodes, max_depth=2\n",
      "[12:40:09] INFO: C:\\Users\\Administrator\\workspace\\xgboost-win64_release_1.1.0\\src\\tree\\updater_prune.cc:98: tree pruning end, 2 extra nodes, 0 pruned nodes, max_depth=1\n",
      "[12:40:09] INFO: C:\\Users\\Administrator\\workspace\\xgboost-win64_release_1.1.0\\src\\gbm\\gbtree.cc:666: drop 0 trees, weight = 1\n",
      "[12:40:09] INFO: C:\\Users\\Administrator\\workspace\\xgboost-win64_release_1.1.0\\src\\tree\\updater_prune.cc:98: tree pruning end, 4 extra nodes, 0 pruned nodes, max_depth=2\n",
      "[12:40:09] INFO: C:\\Users\\Administrator\\workspace\\xgboost-win64_release_1.1.0\\src\\tree\\updater_prune.cc:98: tree pruning end, 4 extra nodes, 0 pruned nodes, max_depth=2\n",
      "[12:40:09] INFO: C:\\Users\\Administrator\\workspace\\xgboost-win64_release_1.1.0\\src\\tree\\updater_prune.cc:98: tree pruning end, 0 extra nodes, 0 pruned nodes, max_depth=0\n",
      "[12:40:09] INFO: C:\\Users\\Administrator\\workspace\\xgboost-win64_release_1.1.0\\src\\gbm\\gbtree.cc:666: drop 0 trees, weight = 1\n",
      "[12:40:09] INFO: C:\\Users\\Administrator\\workspace\\xgboost-win64_release_1.1.0\\src\\tree\\updater_prune.cc:98: tree pruning end, 0 extra nodes, 0 pruned nodes, max_depth=0\n",
      "[12:40:09] INFO: C:\\Users\\Administrator\\workspace\\xgboost-win64_release_1.1.0\\src\\tree\\updater_prune.cc:98: tree pruning end, 4 extra nodes, 0 pruned nodes, max_depth=2\n",
      "[12:40:09] INFO: C:\\Users\\Administrator\\workspace\\xgboost-win64_release_1.1.0\\src\\tree\\updater_prune.cc:98: tree pruning end, 2 extra nodes, 0 pruned nodes, max_depth=1\n",
      "[12:40:09] INFO: C:\\Users\\Administrator\\workspace\\xgboost-win64_release_1.1.0\\src\\gbm\\gbtree.cc:666: drop 0 trees, weight = 1\n",
      "[12:40:09] INFO: C:\\Users\\Administrator\\workspace\\xgboost-win64_release_1.1.0\\src\\tree\\updater_prune.cc:98: tree pruning end, 0 extra nodes, 0 pruned nodes, max_depth=0\n",
      "[12:40:09] INFO: C:\\Users\\Administrator\\workspace\\xgboost-win64_release_1.1.0\\src\\tree\\updater_prune.cc:98: tree pruning end, 0 extra nodes, 0 pruned nodes, max_depth=0\n",
      "[12:40:09] INFO: C:\\Users\\Administrator\\workspace\\xgboost-win64_release_1.1.0\\src\\tree\\updater_prune.cc:98: tree pruning end, 2 extra nodes, 0 pruned nodes, max_depth=1\n",
      "[12:40:09] INFO: C:\\Users\\Administrator\\workspace\\xgboost-win64_release_1.1.0\\src\\gbm\\gbtree.cc:666: drop 0 trees, weight = 1\n",
      "[12:40:09] INFO: C:\\Users\\Administrator\\workspace\\xgboost-win64_release_1.1.0\\src\\tree\\updater_prune.cc:98: tree pruning end, 2 extra nodes, 0 pruned nodes, max_depth=1\n",
      "[12:40:09] INFO: C:\\Users\\Administrator\\workspace\\xgboost-win64_release_1.1.0\\src\\tree\\updater_prune.cc:98: tree pruning end, 0 extra nodes, 0 pruned nodes, max_depth=0\n",
      "[12:40:09] INFO: C:\\Users\\Administrator\\workspace\\xgboost-win64_release_1.1.0\\src\\tree\\updater_prune.cc:98: tree pruning end, 2 extra nodes, 0 pruned nodes, max_depth=1\n",
      "[12:40:09] INFO: C:\\Users\\Administrator\\workspace\\xgboost-win64_release_1.1.0\\src\\gbm\\gbtree.cc:666: drop 0 trees, weight = 1\n",
      "[12:40:09] INFO: C:\\Users\\Administrator\\workspace\\xgboost-win64_release_1.1.0\\src\\tree\\updater_prune.cc:98: tree pruning end, 2 extra nodes, 0 pruned nodes, max_depth=1\n",
      "[12:40:09] INFO: C:\\Users\\Administrator\\workspace\\xgboost-win64_release_1.1.0\\src\\tree\\updater_prune.cc:98: tree pruning end, 4 extra nodes, 0 pruned nodes, max_depth=2\n",
      "[12:40:09] INFO: C:\\Users\\Administrator\\workspace\\xgboost-win64_release_1.1.0\\src\\tree\\updater_prune.cc:98: tree pruning end, 2 extra nodes, 0 pruned nodes, max_depth=1\n",
      "[12:40:09] INFO: C:\\Users\\Administrator\\workspace\\xgboost-win64_release_1.1.0\\src\\gbm\\gbtree.cc:666: drop 0 trees, weight = 1\n",
      "[12:40:09] INFO: C:\\Users\\Administrator\\workspace\\xgboost-win64_release_1.1.0\\src\\tree\\updater_prune.cc:98: tree pruning end, 0 extra nodes, 0 pruned nodes, max_depth=0\n",
      "[12:40:09] INFO: C:\\Users\\Administrator\\workspace\\xgboost-win64_release_1.1.0\\src\\tree\\updater_prune.cc:98: tree pruning end, 4 extra nodes, 0 pruned nodes, max_depth=2\n",
      "[12:40:09] INFO: C:\\Users\\Administrator\\workspace\\xgboost-win64_release_1.1.0\\src\\tree\\updater_prune.cc:98: tree pruning end, 2 extra nodes, 0 pruned nodes, max_depth=1\n",
      "[12:40:09] INFO: C:\\Users\\Administrator\\workspace\\xgboost-win64_release_1.1.0\\src\\gbm\\gbtree.cc:666: drop 0 trees, weight = 1\n",
      "[12:40:09] INFO: C:\\Users\\Administrator\\workspace\\xgboost-win64_release_1.1.0\\src\\tree\\updater_prune.cc:98: tree pruning end, 2 extra nodes, 0 pruned nodes, max_depth=1\n",
      "[12:40:09] INFO: C:\\Users\\Administrator\\workspace\\xgboost-win64_release_1.1.0\\src\\tree\\updater_prune.cc:98: tree pruning end, 4 extra nodes, 0 pruned nodes, max_depth=2\n",
      "[12:40:09] INFO: C:\\Users\\Administrator\\workspace\\xgboost-win64_release_1.1.0\\src\\tree\\updater_prune.cc:98: tree pruning end, 2 extra nodes, 0 pruned nodes, max_depth=1\n",
      "[12:40:09] INFO: C:\\Users\\Administrator\\workspace\\xgboost-win64_release_1.1.0\\src\\gbm\\gbtree.cc:666: drop 0 trees, weight = 1\n",
      "[12:40:09] INFO: C:\\Users\\Administrator\\workspace\\xgboost-win64_release_1.1.0\\src\\tree\\updater_prune.cc:98: tree pruning end, 0 extra nodes, 0 pruned nodes, max_depth=0\n",
      "[12:40:09] INFO: C:\\Users\\Administrator\\workspace\\xgboost-win64_release_1.1.0\\src\\tree\\updater_prune.cc:98: tree pruning end, 4 extra nodes, 0 pruned nodes, max_depth=2\n",
      "[12:40:09] INFO: C:\\Users\\Administrator\\workspace\\xgboost-win64_release_1.1.0\\src\\tree\\updater_prune.cc:98: tree pruning end, 2 extra nodes, 0 pruned nodes, max_depth=1\n",
      "[12:40:09] INFO: C:\\Users\\Administrator\\workspace\\xgboost-win64_release_1.1.0\\src\\gbm\\gbtree.cc:666: drop 0 trees, weight = 1\n",
      "[12:40:09] INFO: C:\\Users\\Administrator\\workspace\\xgboost-win64_release_1.1.0\\src\\tree\\updater_prune.cc:98: tree pruning end, 0 extra nodes, 0 pruned nodes, max_depth=0\n",
      "[12:40:09] INFO: C:\\Users\\Administrator\\workspace\\xgboost-win64_release_1.1.0\\src\\tree\\updater_prune.cc:98: tree pruning end, 4 extra nodes, 0 pruned nodes, max_depth=2\n",
      "[12:40:09] INFO: C:\\Users\\Administrator\\workspace\\xgboost-win64_release_1.1.0\\src\\tree\\updater_prune.cc:98: tree pruning end, 2 extra nodes, 0 pruned nodes, max_depth=1\n"
     ]
    },
    {
     "name": "stdout",
     "output_type": "stream",
     "text": [
      "[12:40:09] INFO: C:\\Users\\Administrator\\workspace\\xgboost-win64_release_1.1.0\\src\\gbm\\gbtree.cc:666: drop 0 trees, weight = 1\n",
      "[12:40:09] INFO: C:\\Users\\Administrator\\workspace\\xgboost-win64_release_1.1.0\\src\\tree\\updater_prune.cc:98: tree pruning end, 0 extra nodes, 0 pruned nodes, max_depth=0\n",
      "[12:40:09] INFO: C:\\Users\\Administrator\\workspace\\xgboost-win64_release_1.1.0\\src\\tree\\updater_prune.cc:98: tree pruning end, 4 extra nodes, 0 pruned nodes, max_depth=2\n",
      "[12:40:09] INFO: C:\\Users\\Administrator\\workspace\\xgboost-win64_release_1.1.0\\src\\tree\\updater_prune.cc:98: tree pruning end, 2 extra nodes, 0 pruned nodes, max_depth=1\n",
      "[12:40:09] INFO: C:\\Users\\Administrator\\workspace\\xgboost-win64_release_1.1.0\\src\\gbm\\gbtree.cc:666: drop 0 trees, weight = 1\n",
      "[12:40:09] INFO: C:\\Users\\Administrator\\workspace\\xgboost-win64_release_1.1.0\\src\\tree\\updater_prune.cc:98: tree pruning end, 0 extra nodes, 0 pruned nodes, max_depth=0\n",
      "[12:40:09] INFO: C:\\Users\\Administrator\\workspace\\xgboost-win64_release_1.1.0\\src\\tree\\updater_prune.cc:98: tree pruning end, 4 extra nodes, 0 pruned nodes, max_depth=2\n",
      "[12:40:09] INFO: C:\\Users\\Administrator\\workspace\\xgboost-win64_release_1.1.0\\src\\tree\\updater_prune.cc:98: tree pruning end, 2 extra nodes, 0 pruned nodes, max_depth=1\n",
      "[12:40:09] INFO: C:\\Users\\Administrator\\workspace\\xgboost-win64_release_1.1.0\\src\\gbm\\gbtree.cc:666: drop 0 trees, weight = 1\n",
      "[12:40:09] INFO: C:\\Users\\Administrator\\workspace\\xgboost-win64_release_1.1.0\\src\\tree\\updater_prune.cc:98: tree pruning end, 0 extra nodes, 0 pruned nodes, max_depth=0\n",
      "[12:40:09] INFO: C:\\Users\\Administrator\\workspace\\xgboost-win64_release_1.1.0\\src\\tree\\updater_prune.cc:98: tree pruning end, 4 extra nodes, 0 pruned nodes, max_depth=2\n",
      "[12:40:09] INFO: C:\\Users\\Administrator\\workspace\\xgboost-win64_release_1.1.0\\src\\tree\\updater_prune.cc:98: tree pruning end, 2 extra nodes, 0 pruned nodes, max_depth=1\n",
      "[12:40:09] INFO: C:\\Users\\Administrator\\workspace\\xgboost-win64_release_1.1.0\\src\\gbm\\gbtree.cc:666: drop 0 trees, weight = 1\n",
      "[12:40:09] INFO: C:\\Users\\Administrator\\workspace\\xgboost-win64_release_1.1.0\\src\\tree\\updater_prune.cc:98: tree pruning end, 0 extra nodes, 0 pruned nodes, max_depth=0\n",
      "[12:40:09] INFO: C:\\Users\\Administrator\\workspace\\xgboost-win64_release_1.1.0\\src\\tree\\updater_prune.cc:98: tree pruning end, 0 extra nodes, 0 pruned nodes, max_depth=0\n",
      "[12:40:09] INFO: C:\\Users\\Administrator\\workspace\\xgboost-win64_release_1.1.0\\src\\tree\\updater_prune.cc:98: tree pruning end, 2 extra nodes, 0 pruned nodes, max_depth=1\n",
      "[12:40:09] INFO: C:\\Users\\Administrator\\workspace\\xgboost-win64_release_1.1.0\\src\\gbm\\gbtree.cc:666: drop 0 trees, weight = 1\n",
      "[12:40:09] INFO: C:\\Users\\Administrator\\workspace\\xgboost-win64_release_1.1.0\\src\\tree\\updater_prune.cc:98: tree pruning end, 0 extra nodes, 0 pruned nodes, max_depth=0\n",
      "[12:40:09] INFO: C:\\Users\\Administrator\\workspace\\xgboost-win64_release_1.1.0\\src\\tree\\updater_prune.cc:98: tree pruning end, 4 extra nodes, 0 pruned nodes, max_depth=2\n",
      "[12:40:09] INFO: C:\\Users\\Administrator\\workspace\\xgboost-win64_release_1.1.0\\src\\tree\\updater_prune.cc:98: tree pruning end, 0 extra nodes, 0 pruned nodes, max_depth=0\n",
      "[12:40:09] INFO: C:\\Users\\Administrator\\workspace\\xgboost-win64_release_1.1.0\\src\\gbm\\gbtree.cc:666: drop 0 trees, weight = 1\n",
      "[12:40:09] INFO: C:\\Users\\Administrator\\workspace\\xgboost-win64_release_1.1.0\\src\\tree\\updater_prune.cc:98: tree pruning end, 4 extra nodes, 0 pruned nodes, max_depth=2\n",
      "[12:40:09] INFO: C:\\Users\\Administrator\\workspace\\xgboost-win64_release_1.1.0\\src\\tree\\updater_prune.cc:98: tree pruning end, 4 extra nodes, 0 pruned nodes, max_depth=2\n",
      "[12:40:09] INFO: C:\\Users\\Administrator\\workspace\\xgboost-win64_release_1.1.0\\src\\tree\\updater_prune.cc:98: tree pruning end, 2 extra nodes, 0 pruned nodes, max_depth=1\n",
      "[12:40:09] INFO: C:\\Users\\Administrator\\workspace\\xgboost-win64_release_1.1.0\\src\\gbm\\gbtree.cc:666: drop 0 trees, weight = 1\n",
      "[12:40:09] INFO: C:\\Users\\Administrator\\workspace\\xgboost-win64_release_1.1.0\\src\\tree\\updater_prune.cc:98: tree pruning end, 0 extra nodes, 0 pruned nodes, max_depth=0\n",
      "[12:40:09] INFO: C:\\Users\\Administrator\\workspace\\xgboost-win64_release_1.1.0\\src\\tree\\updater_prune.cc:98: tree pruning end, 0 extra nodes, 0 pruned nodes, max_depth=0\n",
      "[12:40:09] INFO: C:\\Users\\Administrator\\workspace\\xgboost-win64_release_1.1.0\\src\\tree\\updater_prune.cc:98: tree pruning end, 0 extra nodes, 0 pruned nodes, max_depth=0\n",
      "[12:40:09] INFO: C:\\Users\\Administrator\\workspace\\xgboost-win64_release_1.1.0\\src\\gbm\\gbtree.cc:666: drop 0 trees, weight = 1\n",
      "[12:40:09] ======== Monitor: Learner ========\n",
      "[12:40:09] Configure: 0.006761s, 1 calls @ 6761us\n",
      "\n",
      "[12:40:09] GetGradient: 0.021162s, 100 calls @ 21162us\n",
      "\n",
      "[12:40:09] PredictRaw: 0.119799s, 100 calls @ 119799us\n",
      "\n",
      "[12:40:09] UpdateOneIter: 0.990006s, 100 calls @ 990006us\n",
      "\n",
      "[12:40:09] ======== Monitor: GBTree ========\n",
      "[12:40:09] BoostNewTrees: 0.741835s, 100 calls @ 741835us\n",
      "\n"
     ]
    },
    {
     "data": {
      "text/plain": [
       "1.0234901905059814"
      ]
     },
     "execution_count": 83,
     "metadata": {},
     "output_type": "execute_result"
    }
   ],
   "source": [
    "#X_train, X_test, y_train, y_test \n",
    "\n",
    "import time\n",
    "st=time.time()\n",
    "\n",
    "xgb.fit(X=X_train, y=y_train,verbose=True)\n",
    "\n",
    "et=time.time()\n",
    "\n",
    "et-st\n"
   ]
  },
  {
   "cell_type": "code",
   "execution_count": 85,
   "metadata": {},
   "outputs": [
    {
     "data": {
      "text/plain": [
       "100.0"
      ]
     },
     "execution_count": 85,
     "metadata": {},
     "output_type": "execute_result"
    }
   ],
   "source": [
    "xgb.score(X_train,y_train)*100"
   ]
  },
  {
   "cell_type": "code",
   "execution_count": 86,
   "metadata": {},
   "outputs": [
    {
     "data": {
      "text/plain": [
       "array([2, 2, 1, 2, 0, 1, 1, 1, 0, 1, 2, 2, 0, 1, 1, 0, 1, 0, 1, 1, 1, 0,\n",
       "       2, 1, 1, 0, 2, 1, 0, 2, 1, 2, 1, 2, 0, 2, 0, 0, 1, 2, 1, 1, 1, 0,\n",
       "       0, 2, 1, 1, 2, 0, 1, 0, 0, 1])"
      ]
     },
     "execution_count": 86,
     "metadata": {},
     "output_type": "execute_result"
    }
   ],
   "source": [
    "xgb.score(X_train,y_train)*100\n",
    "# make prediction\n",
    "preds = xgb.predict(X_test)\n",
    "preds\n"
   ]
  },
  {
   "cell_type": "code",
   "execution_count": 87,
   "metadata": {},
   "outputs": [],
   "source": [
    "xgb.score(X_train,y_train)*100\n",
    "# make prediction\n",
    "preds = xgb.predict(X_test)\n",
    "preds\n",
    "from sklearn.metrics import accuracy_score\n",
    "\n"
   ]
  },
  {
   "cell_type": "code",
   "execution_count": 88,
   "metadata": {},
   "outputs": [
    {
     "name": "stdout",
     "output_type": "stream",
     "text": [
      "Accuracy: 90.74%\n"
     ]
    }
   ],
   "source": [
    "xgb.score(X_train,y_train)*100\n",
    "# make prediction\n",
    "preds = xgb.predict(X_test)\n",
    "preds\n",
    "from sklearn.metrics import accuracy_score\n",
    "\n",
    "accuracy = accuracy_score(y_test, preds)\n",
    "\n",
    "print(\"Accuracy: %.2f%%\" % (accuracy * 100.0))"
   ]
  },
  {
   "cell_type": "code",
   "execution_count": null,
   "metadata": {},
   "outputs": [],
   "source": [
    "#Accuracy: 90.74%\n"
   ]
  },
  {
   "cell_type": "code",
   "execution_count": null,
   "metadata": {},
   "outputs": [],
   "source": [
    "import xgboost as xgb\n",
    "# read in data\n",
    "dtrain = xgb.DMatrix('demo/data/agaricus.txt.train')\n",
    "dtest = xgb.DMatrix('demo/data/agaricus.txt.test')\n",
    "# specify parameters via map\n",
    "param = {'max_depth':2, 'eta':1, 'objective':'binary:logistic' }\n",
    "num_round = 2\n",
    "bst = xgb.train(param, dtrain, num_round)\n",
    "# make prediction\n",
    "preds = bst.predict(dtest)"
   ]
  },
  {
   "cell_type": "code",
   "execution_count": 122,
   "metadata": {},
   "outputs": [],
   "source": [
    "from lightgbm import LGBMClassifier\n",
    "??LGBMClassifier\n"
   ]
  },
  {
   "cell_type": "code",
   "execution_count": 123,
   "metadata": {},
   "outputs": [],
   "source": [
    "??lgb"
   ]
  },
  {
   "cell_type": "code",
   "execution_count": 125,
   "metadata": {},
   "outputs": [
    {
     "name": "stdout",
     "output_type": "stream",
     "text": [
      "[LightGBM] [Warning] Auto-choosing row-wise multi-threading, the overhead of testing was 0.000143 seconds.\n",
      "You can set `force_row_wise=true` to remove the overhead.\n",
      "And if memory is not enough, you can set `force_col_wise=true`.\n",
      "[LightGBM] [Info] Total Bins 452\n",
      "[LightGBM] [Info] Number of data points in the train set: 124, number of used features: 13\n",
      "[LightGBM] [Info] Start training from score -1.131402\n",
      "[LightGBM] [Info] Start training from score -0.869038\n",
      "[LightGBM] [Info] Start training from score -1.354546\n",
      "[LightGBM] [Warning] No further splits with positive gain, best gain: -inf\n",
      "[LightGBM] [Warning] No further splits with positive gain, best gain: -inf\n",
      "[LightGBM] [Warning] No further splits with positive gain, best gain: -inf\n",
      "[LightGBM] [Warning] No further splits with positive gain, best gain: -inf\n",
      "[LightGBM] [Warning] No further splits with positive gain, best gain: -inf\n",
      "[LightGBM] [Warning] No further splits with positive gain, best gain: -inf\n",
      "[LightGBM] [Warning] No further splits with positive gain, best gain: -inf\n",
      "[LightGBM] [Warning] No further splits with positive gain, best gain: -inf\n",
      "[LightGBM] [Warning] No further splits with positive gain, best gain: -inf\n",
      "[LightGBM] [Warning] No further splits with positive gain, best gain: -inf\n",
      "[LightGBM] [Warning] No further splits with positive gain, best gain: -inf\n",
      "[LightGBM] [Warning] No further splits with positive gain, best gain: -inf\n",
      "[LightGBM] [Warning] No further splits with positive gain, best gain: -inf\n",
      "[LightGBM] [Warning] No further splits with positive gain, best gain: -inf\n",
      "[LightGBM] [Warning] No further splits with positive gain, best gain: -inf\n",
      "[LightGBM] [Warning] No further splits with positive gain, best gain: -inf\n",
      "[LightGBM] [Warning] No further splits with positive gain, best gain: -inf\n",
      "[LightGBM] [Warning] No further splits with positive gain, best gain: -inf\n",
      "[LightGBM] [Warning] No further splits with positive gain, best gain: -inf\n",
      "[LightGBM] [Warning] No further splits with positive gain, best gain: -inf\n",
      "[LightGBM] [Warning] No further splits with positive gain, best gain: -inf\n",
      "[LightGBM] [Warning] No further splits with positive gain, best gain: -inf\n",
      "[LightGBM] [Warning] No further splits with positive gain, best gain: -inf\n",
      "[LightGBM] [Warning] No further splits with positive gain, best gain: -inf\n",
      "[LightGBM] [Warning] No further splits with positive gain, best gain: -inf\n",
      "[LightGBM] [Warning] No further splits with positive gain, best gain: -inf\n",
      "[LightGBM] [Warning] No further splits with positive gain, best gain: -inf\n",
      "[LightGBM] [Warning] No further splits with positive gain, best gain: -inf\n",
      "[LightGBM] [Warning] No further splits with positive gain, best gain: -inf\n",
      "[LightGBM] [Warning] No further splits with positive gain, best gain: -inf\n",
      "[LightGBM] [Warning] No further splits with positive gain, best gain: -inf\n",
      "[LightGBM] [Warning] No further splits with positive gain, best gain: -inf\n",
      "[LightGBM] [Warning] No further splits with positive gain, best gain: -inf\n",
      "[LightGBM] [Warning] No further splits with positive gain, best gain: -inf\n",
      "[LightGBM] [Warning] No further splits with positive gain, best gain: -inf\n",
      "[LightGBM] [Warning] No further splits with positive gain, best gain: -inf\n",
      "[LightGBM] [Warning] No further splits with positive gain, best gain: -inf\n",
      "[LightGBM] [Warning] No further splits with positive gain, best gain: -inf\n",
      "[LightGBM] [Warning] No further splits with positive gain, best gain: -inf\n",
      "[LightGBM] [Warning] No further splits with positive gain, best gain: -inf\n",
      "[LightGBM] [Warning] No further splits with positive gain, best gain: -inf\n",
      "[LightGBM] [Warning] No further splits with positive gain, best gain: -inf\n",
      "[LightGBM] [Warning] No further splits with positive gain, best gain: -inf\n",
      "[LightGBM] [Warning] No further splits with positive gain, best gain: -inf\n",
      "[LightGBM] [Warning] No further splits with positive gain, best gain: -inf\n",
      "[LightGBM] [Warning] No further splits with positive gain, best gain: -inf\n",
      "[LightGBM] [Warning] No further splits with positive gain, best gain: -inf\n",
      "[LightGBM] [Warning] No further splits with positive gain, best gain: -inf\n",
      "[LightGBM] [Warning] No further splits with positive gain, best gain: -inf\n",
      "[LightGBM] [Warning] No further splits with positive gain, best gain: -inf\n",
      "[LightGBM] [Warning] No further splits with positive gain, best gain: -inf\n",
      "[LightGBM] [Warning] No further splits with positive gain, best gain: -inf\n",
      "[LightGBM] [Warning] No further splits with positive gain, best gain: -inf\n",
      "[LightGBM] [Warning] No further splits with positive gain, best gain: -inf\n",
      "[LightGBM] [Warning] No further splits with positive gain, best gain: -inf\n",
      "[LightGBM] [Warning] No further splits with positive gain, best gain: -inf\n",
      "[LightGBM] [Warning] No further splits with positive gain, best gain: -inf\n",
      "[LightGBM] [Warning] No further splits with positive gain, best gain: -inf\n",
      "[LightGBM] [Warning] No further splits with positive gain, best gain: -inf\n",
      "[LightGBM] [Warning] No further splits with positive gain, best gain: -inf\n",
      "[LightGBM] [Warning] No further splits with positive gain, best gain: -inf\n",
      "[LightGBM] [Warning] No further splits with positive gain, best gain: -inf\n",
      "[LightGBM] [Warning] No further splits with positive gain, best gain: -inf\n",
      "[LightGBM] [Warning] No further splits with positive gain, best gain: -inf\n",
      "[LightGBM] [Warning] No further splits with positive gain, best gain: -inf\n",
      "[LightGBM] [Warning] No further splits with positive gain, best gain: -inf\n",
      "[LightGBM] [Warning] No further splits with positive gain, best gain: -inf\n",
      "[LightGBM] [Warning] No further splits with positive gain, best gain: -inf\n",
      "[LightGBM] [Warning] No further splits with positive gain, best gain: -inf\n",
      "[LightGBM] [Warning] No further splits with positive gain, best gain: -inf\n",
      "[LightGBM] [Warning] No further splits with positive gain, best gain: -inf\n",
      "[LightGBM] [Warning] No further splits with positive gain, best gain: -inf\n",
      "[LightGBM] [Warning] No further splits with positive gain, best gain: -inf\n",
      "[LightGBM] [Warning] No further splits with positive gain, best gain: -inf\n",
      "[LightGBM] [Warning] No further splits with positive gain, best gain: -inf\n",
      "[LightGBM] [Warning] No further splits with positive gain, best gain: -inf\n",
      "[LightGBM] [Warning] No further splits with positive gain, best gain: -inf\n",
      "[LightGBM] [Warning] No further splits with positive gain, best gain: -inf\n",
      "[LightGBM] [Warning] No further splits with positive gain, best gain: -inf\n",
      "[LightGBM] [Warning] No further splits with positive gain, best gain: -inf\n",
      "[LightGBM] [Warning] No further splits with positive gain, best gain: -inf\n",
      "[LightGBM] [Warning] No further splits with positive gain, best gain: -inf\n",
      "[LightGBM] [Warning] No further splits with positive gain, best gain: -inf\n",
      "[LightGBM] [Warning] No further splits with positive gain, best gain: -inf\n",
      "[LightGBM] [Warning] No further splits with positive gain, best gain: -inf\n",
      "[LightGBM] [Warning] No further splits with positive gain, best gain: -inf\n",
      "[LightGBM] [Warning] No further splits with positive gain, best gain: -inf\n",
      "[LightGBM] [Warning] No further splits with positive gain, best gain: -inf\n",
      "[LightGBM] [Warning] No further splits with positive gain, best gain: -inf\n",
      "[LightGBM] [Warning] No further splits with positive gain, best gain: -inf\n",
      "[LightGBM] [Warning] No further splits with positive gain, best gain: -inf\n",
      "[LightGBM] [Warning] No further splits with positive gain, best gain: -inf\n",
      "[LightGBM] [Warning] No further splits with positive gain, best gain: -inf\n",
      "[LightGBM] [Warning] No further splits with positive gain, best gain: -inf\n",
      "[LightGBM] [Warning] No further splits with positive gain, best gain: -inf\n",
      "[LightGBM] [Warning] No further splits with positive gain, best gain: -inf\n",
      "[LightGBM] [Warning] No further splits with positive gain, best gain: -inf\n",
      "[LightGBM] [Warning] No further splits with positive gain, best gain: -inf\n",
      "[LightGBM] [Warning] No further splits with positive gain, best gain: -inf\n",
      "[LightGBM] [Warning] No further splits with positive gain, best gain: -inf\n",
      "[LightGBM] [Warning] No further splits with positive gain, best gain: -inf\n",
      "[LightGBM] [Warning] No further splits with positive gain, best gain: -inf\n",
      "[LightGBM] [Warning] No further splits with positive gain, best gain: -inf\n",
      "[LightGBM] [Warning] No further splits with positive gain, best gain: -inf\n",
      "[LightGBM] [Warning] No further splits with positive gain, best gain: -inf\n",
      "[LightGBM] [Warning] No further splits with positive gain, best gain: -inf\n",
      "[LightGBM] [Warning] No further splits with positive gain, best gain: -inf\n",
      "[LightGBM] [Warning] No further splits with positive gain, best gain: -inf\n",
      "[LightGBM] [Warning] No further splits with positive gain, best gain: -inf\n",
      "[LightGBM] [Warning] No further splits with positive gain, best gain: -inf\n",
      "[LightGBM] [Warning] No further splits with positive gain, best gain: -inf\n",
      "[LightGBM] [Warning] No further splits with positive gain, best gain: -inf\n",
      "[LightGBM] [Warning] No further splits with positive gain, best gain: -inf\n",
      "[LightGBM] [Warning] No further splits with positive gain, best gain: -inf\n",
      "[LightGBM] [Warning] No further splits with positive gain, best gain: -inf\n",
      "[LightGBM] [Warning] No further splits with positive gain, best gain: -inf\n",
      "[LightGBM] [Warning] No further splits with positive gain, best gain: -inf\n",
      "[LightGBM] [Warning] No further splits with positive gain, best gain: -inf\n",
      "[LightGBM] [Warning] No further splits with positive gain, best gain: -inf\n",
      "[LightGBM] [Warning] No further splits with positive gain, best gain: -inf\n"
     ]
    },
    {
     "name": "stdout",
     "output_type": "stream",
     "text": [
      "[LightGBM] [Warning] No further splits with positive gain, best gain: -inf\n",
      "[LightGBM] [Warning] No further splits with positive gain, best gain: -inf\n",
      "[LightGBM] [Warning] No further splits with positive gain, best gain: -inf\n",
      "[LightGBM] [Warning] No further splits with positive gain, best gain: -inf\n",
      "[LightGBM] [Warning] No further splits with positive gain, best gain: -inf\n",
      "[LightGBM] [Warning] No further splits with positive gain, best gain: -inf\n",
      "[LightGBM] [Warning] No further splits with positive gain, best gain: -inf\n",
      "[LightGBM] [Warning] No further splits with positive gain, best gain: -inf\n",
      "[LightGBM] [Warning] No further splits with positive gain, best gain: -inf\n",
      "[LightGBM] [Warning] No further splits with positive gain, best gain: -inf\n",
      "[LightGBM] [Warning] No further splits with positive gain, best gain: -inf\n",
      "[LightGBM] [Warning] No further splits with positive gain, best gain: -inf\n",
      "[LightGBM] [Warning] No further splits with positive gain, best gain: -inf\n",
      "[LightGBM] [Warning] No further splits with positive gain, best gain: -inf\n",
      "[LightGBM] [Warning] No further splits with positive gain, best gain: -inf\n",
      "[LightGBM] [Warning] No further splits with positive gain, best gain: -inf\n",
      "[LightGBM] [Warning] No further splits with positive gain, best gain: -inf\n",
      "[LightGBM] [Warning] No further splits with positive gain, best gain: -inf\n",
      "[LightGBM] [Warning] No further splits with positive gain, best gain: -inf\n",
      "[LightGBM] [Warning] No further splits with positive gain, best gain: -inf\n",
      "[LightGBM] [Warning] No further splits with positive gain, best gain: -inf\n",
      "[LightGBM] [Warning] No further splits with positive gain, best gain: -inf\n",
      "[LightGBM] [Warning] No further splits with positive gain, best gain: -inf\n",
      "[LightGBM] [Warning] No further splits with positive gain, best gain: -inf\n",
      "[LightGBM] [Warning] No further splits with positive gain, best gain: -inf\n",
      "[LightGBM] [Warning] No further splits with positive gain, best gain: -inf\n",
      "[LightGBM] [Warning] No further splits with positive gain, best gain: -inf\n",
      "[LightGBM] [Warning] No further splits with positive gain, best gain: -inf\n",
      "[LightGBM] [Warning] No further splits with positive gain, best gain: -inf\n",
      "[LightGBM] [Warning] No further splits with positive gain, best gain: -inf\n",
      "[LightGBM] [Warning] No further splits with positive gain, best gain: -inf\n",
      "[LightGBM] [Warning] No further splits with positive gain, best gain: -inf\n",
      "[LightGBM] [Warning] No further splits with positive gain, best gain: -inf\n",
      "[LightGBM] [Warning] No further splits with positive gain, best gain: -inf\n",
      "[LightGBM] [Warning] No further splits with positive gain, best gain: -inf\n",
      "[LightGBM] [Warning] No further splits with positive gain, best gain: -inf\n",
      "[LightGBM] [Warning] No further splits with positive gain, best gain: -inf\n",
      "[LightGBM] [Warning] No further splits with positive gain, best gain: -inf\n",
      "[LightGBM] [Warning] No further splits with positive gain, best gain: -inf\n",
      "[LightGBM] [Warning] No further splits with positive gain, best gain: -inf\n",
      "[LightGBM] [Warning] No further splits with positive gain, best gain: -inf\n",
      "[LightGBM] [Warning] No further splits with positive gain, best gain: -inf\n",
      "[LightGBM] [Warning] No further splits with positive gain, best gain: -inf\n",
      "[LightGBM] [Warning] No further splits with positive gain, best gain: -inf\n",
      "[LightGBM] [Warning] No further splits with positive gain, best gain: -inf\n",
      "[LightGBM] [Warning] No further splits with positive gain, best gain: -inf\n",
      "[LightGBM] [Warning] No further splits with positive gain, best gain: -inf\n",
      "[LightGBM] [Warning] No further splits with positive gain, best gain: -inf\n",
      "[LightGBM] [Warning] No further splits with positive gain, best gain: -inf\n",
      "[LightGBM] [Warning] No further splits with positive gain, best gain: -inf\n",
      "[LightGBM] [Warning] No further splits with positive gain, best gain: -inf\n",
      "[LightGBM] [Warning] No further splits with positive gain, best gain: -inf\n",
      "[LightGBM] [Warning] No further splits with positive gain, best gain: -inf\n",
      "[LightGBM] [Warning] No further splits with positive gain, best gain: -inf\n",
      "[LightGBM] [Warning] No further splits with positive gain, best gain: -inf\n",
      "[LightGBM] [Warning] No further splits with positive gain, best gain: -inf\n",
      "[LightGBM] [Warning] No further splits with positive gain, best gain: -inf\n",
      "[LightGBM] [Warning] No further splits with positive gain, best gain: -inf\n",
      "[LightGBM] [Warning] No further splits with positive gain, best gain: -inf\n",
      "[LightGBM] [Warning] No further splits with positive gain, best gain: -inf\n",
      "[LightGBM] [Warning] No further splits with positive gain, best gain: -inf\n",
      "[LightGBM] [Warning] No further splits with positive gain, best gain: -inf\n",
      "[LightGBM] [Warning] No further splits with positive gain, best gain: -inf\n",
      "[LightGBM] [Warning] No further splits with positive gain, best gain: -inf\n",
      "[LightGBM] [Warning] No further splits with positive gain, best gain: -inf\n",
      "[LightGBM] [Warning] No further splits with positive gain, best gain: -inf\n",
      "[LightGBM] [Warning] No further splits with positive gain, best gain: -inf\n",
      "[LightGBM] [Warning] No further splits with positive gain, best gain: -inf\n",
      "[LightGBM] [Warning] No further splits with positive gain, best gain: -inf\n",
      "[LightGBM] [Warning] No further splits with positive gain, best gain: -inf\n",
      "[LightGBM] [Warning] No further splits with positive gain, best gain: -inf\n",
      "[LightGBM] [Warning] No further splits with positive gain, best gain: -inf\n",
      "[LightGBM] [Warning] No further splits with positive gain, best gain: -inf\n",
      "[LightGBM] [Warning] No further splits with positive gain, best gain: -inf\n",
      "[LightGBM] [Warning] No further splits with positive gain, best gain: -inf\n",
      "[LightGBM] [Warning] No further splits with positive gain, best gain: -inf\n",
      "[LightGBM] [Warning] No further splits with positive gain, best gain: -inf\n",
      "[LightGBM] [Warning] No further splits with positive gain, best gain: -inf\n",
      "[LightGBM] [Warning] No further splits with positive gain, best gain: -inf\n",
      "[LightGBM] [Warning] No further splits with positive gain, best gain: -inf\n",
      "[LightGBM] [Warning] No further splits with positive gain, best gain: -inf\n",
      "[LightGBM] [Warning] No further splits with positive gain, best gain: -inf\n",
      "[LightGBM] [Warning] No further splits with positive gain, best gain: -inf\n",
      "[LightGBM] [Warning] No further splits with positive gain, best gain: -inf\n",
      "[LightGBM] [Warning] No further splits with positive gain, best gain: -inf\n",
      "[LightGBM] [Warning] No further splits with positive gain, best gain: -inf\n",
      "[LightGBM] [Warning] No further splits with positive gain, best gain: -inf\n",
      "[LightGBM] [Warning] No further splits with positive gain, best gain: -inf\n",
      "[LightGBM] [Warning] No further splits with positive gain, best gain: -inf\n",
      "[LightGBM] [Warning] No further splits with positive gain, best gain: -inf\n",
      "[LightGBM] [Warning] No further splits with positive gain, best gain: -inf\n",
      "[LightGBM] [Warning] No further splits with positive gain, best gain: -inf\n",
      "[LightGBM] [Warning] No further splits with positive gain, best gain: -inf\n",
      "[LightGBM] [Warning] No further splits with positive gain, best gain: -inf\n",
      "[LightGBM] [Warning] No further splits with positive gain, best gain: -inf\n",
      "[LightGBM] [Warning] No further splits with positive gain, best gain: -inf\n",
      "[LightGBM] [Warning] No further splits with positive gain, best gain: -inf\n",
      "[LightGBM] [Warning] No further splits with positive gain, best gain: -inf\n",
      "[LightGBM] [Warning] No further splits with positive gain, best gain: -inf\n",
      "[LightGBM] [Warning] No further splits with positive gain, best gain: -inf\n",
      "[LightGBM] [Warning] No further splits with positive gain, best gain: -inf\n",
      "[LightGBM] [Warning] No further splits with positive gain, best gain: -inf\n",
      "[LightGBM] [Warning] No further splits with positive gain, best gain: -inf\n",
      "[LightGBM] [Warning] No further splits with positive gain, best gain: -inf\n",
      "[LightGBM] [Warning] No further splits with positive gain, best gain: -inf\n",
      "[LightGBM] [Warning] No further splits with positive gain, best gain: -inf\n",
      "[LightGBM] [Warning] No further splits with positive gain, best gain: -inf\n",
      "[LightGBM] [Warning] No further splits with positive gain, best gain: -inf\n",
      "[LightGBM] [Warning] No further splits with positive gain, best gain: -inf\n",
      "[LightGBM] [Warning] No further splits with positive gain, best gain: -inf\n",
      "[LightGBM] [Warning] No further splits with positive gain, best gain: -inf\n",
      "[LightGBM] [Warning] No further splits with positive gain, best gain: -inf\n",
      "[LightGBM] [Warning] No further splits with positive gain, best gain: -inf\n",
      "[LightGBM] [Warning] No further splits with positive gain, best gain: -inf\n",
      "[LightGBM] [Warning] No further splits with positive gain, best gain: -inf\n",
      "[LightGBM] [Warning] No further splits with positive gain, best gain: -inf\n",
      "[LightGBM] [Warning] No further splits with positive gain, best gain: -inf\n",
      "[LightGBM] [Warning] No further splits with positive gain, best gain: -inf\n",
      "[LightGBM] [Warning] No further splits with positive gain, best gain: -inf\n",
      "[LightGBM] [Warning] No further splits with positive gain, best gain: -inf\n",
      "[LightGBM] [Warning] No further splits with positive gain, best gain: -inf\n",
      "[LightGBM] [Warning] No further splits with positive gain, best gain: -inf\n",
      "[LightGBM] [Warning] No further splits with positive gain, best gain: -inf\n",
      "[LightGBM] [Warning] No further splits with positive gain, best gain: -inf\n",
      "[LightGBM] [Warning] No further splits with positive gain, best gain: -inf\n",
      "[LightGBM] [Warning] No further splits with positive gain, best gain: -inf\n",
      "[LightGBM] [Warning] No further splits with positive gain, best gain: -inf\n",
      "[LightGBM] [Warning] No further splits with positive gain, best gain: -inf\n",
      "[LightGBM] [Warning] No further splits with positive gain, best gain: -inf\n",
      "[LightGBM] [Warning] No further splits with positive gain, best gain: -inf\n",
      "[LightGBM] [Warning] No further splits with positive gain, best gain: -inf\n",
      "[LightGBM] [Warning] No further splits with positive gain, best gain: -inf\n",
      "[LightGBM] [Warning] No further splits with positive gain, best gain: -inf\n",
      "[LightGBM] [Warning] No further splits with positive gain, best gain: -inf\n",
      "[LightGBM] [Warning] No further splits with positive gain, best gain: -inf\n",
      "[LightGBM] [Warning] No further splits with positive gain, best gain: -inf\n",
      "[LightGBM] [Warning] No further splits with positive gain, best gain: -inf\n",
      "[LightGBM] [Warning] No further splits with positive gain, best gain: -inf\n",
      "[LightGBM] [Warning] No further splits with positive gain, best gain: -inf\n",
      "[LightGBM] [Warning] No further splits with positive gain, best gain: -inf\n"
     ]
    },
    {
     "name": "stdout",
     "output_type": "stream",
     "text": [
      "[LightGBM] [Warning] No further splits with positive gain, best gain: -inf\n",
      "[LightGBM] [Warning] No further splits with positive gain, best gain: -inf\n",
      "[LightGBM] [Warning] No further splits with positive gain, best gain: -inf\n",
      "[LightGBM] [Warning] No further splits with positive gain, best gain: -inf\n",
      "[LightGBM] [Warning] No further splits with positive gain, best gain: -inf\n",
      "[LightGBM] [Warning] No further splits with positive gain, best gain: -inf\n",
      "[LightGBM] [Warning] No further splits with positive gain, best gain: -inf\n",
      "[LightGBM] [Warning] No further splits with positive gain, best gain: -inf\n",
      "[LightGBM] [Warning] No further splits with positive gain, best gain: -inf\n",
      "[LightGBM] [Warning] No further splits with positive gain, best gain: -inf\n",
      "[LightGBM] [Warning] No further splits with positive gain, best gain: -inf\n",
      "[LightGBM] [Warning] No further splits with positive gain, best gain: -inf\n",
      "[LightGBM] [Warning] No further splits with positive gain, best gain: -inf\n",
      "[LightGBM] [Warning] No further splits with positive gain, best gain: -inf\n",
      "[LightGBM] [Warning] No further splits with positive gain, best gain: -inf\n",
      "[LightGBM] [Warning] No further splits with positive gain, best gain: -inf\n",
      "[LightGBM] [Warning] No further splits with positive gain, best gain: -inf\n",
      "[LightGBM] [Warning] No further splits with positive gain, best gain: -inf\n",
      "[LightGBM] [Warning] No further splits with positive gain, best gain: -inf\n",
      "[LightGBM] [Warning] No further splits with positive gain, best gain: -inf\n",
      "[LightGBM] [Warning] No further splits with positive gain, best gain: -inf\n",
      "[LightGBM] [Warning] No further splits with positive gain, best gain: -inf\n",
      "[LightGBM] [Warning] No further splits with positive gain, best gain: -inf\n",
      "[LightGBM] [Warning] No further splits with positive gain, best gain: -inf\n",
      "[LightGBM] [Warning] No further splits with positive gain, best gain: -inf\n",
      "[LightGBM] [Warning] No further splits with positive gain, best gain: -inf\n",
      "[LightGBM] [Warning] No further splits with positive gain, best gain: -inf\n",
      "[LightGBM] [Warning] No further splits with positive gain, best gain: -inf\n",
      "[LightGBM] [Warning] No further splits with positive gain, best gain: -inf\n",
      "[LightGBM] [Warning] No further splits with positive gain, best gain: -inf\n",
      "[LightGBM] [Warning] No further splits with positive gain, best gain: -inf\n",
      "[LightGBM] [Warning] No further splits with positive gain, best gain: -inf\n",
      "[LightGBM] [Warning] No further splits with positive gain, best gain: -inf\n",
      "[LightGBM] [Warning] No further splits with positive gain, best gain: -inf\n",
      "[LightGBM] [Warning] No further splits with positive gain, best gain: -inf\n",
      "[LightGBM] [Warning] No further splits with positive gain, best gain: -inf\n",
      "[LightGBM] [Warning] No further splits with positive gain, best gain: -inf\n",
      "[LightGBM] [Warning] No further splits with positive gain, best gain: -inf\n",
      "[LightGBM] [Warning] No further splits with positive gain, best gain: -inf\n",
      "[LightGBM] [Warning] No further splits with positive gain, best gain: -inf\n"
     ]
    }
   ],
   "source": [
    "import lightgbm as lgb\n",
    "\n",
    "\n",
    "d_train = lgb.Dataset(X_train, label=y_train)\n",
    "\n",
    "\n",
    "params = {}\n",
    "params['learning_rate'] = 0.003\n",
    "params['boosting_type'] = 'gbdt'\n",
    "params['objective'] = 'multiclass'\n",
    "#add number of classes\n",
    "params['num_class'] = 3\n",
    "params['metric'] = 'multi_logloss'\n",
    "params['sub_feature'] = 0.5\n",
    "params['num_leaves'] = 10\n",
    "params['min_data'] = 50\n",
    "params['max_depth'] = 10\n",
    "\n",
    "\n",
    "clf = lgb.train(params, d_train, 100)"
   ]
  },
  {
   "cell_type": "markdown",
   "metadata": {},
   "source": [
    "objective 🔗︎, default = regression, type = enum, options: regression, regression_l1, huber, fair, poisson, quantile, mape, gamma, tweedie, binary, multiclass, multiclassova, cross_entropy, cross_entropy_lambda, lambdarank, rank_xendcg, aliases: objective_type, app, application"
   ]
  },
  {
   "cell_type": "code",
   "execution_count": 115,
   "metadata": {},
   "outputs": [],
   "source": [
    "??lgb"
   ]
  },
  {
   "cell_type": "code",
   "execution_count": 139,
   "metadata": {},
   "outputs": [
    {
     "data": {
      "text/plain": [
       "array([[0.27813578, 0.35487955, 0.36698467],\n",
       "       [0.34102263, 0.31700195, 0.34197542],\n",
       "       [0.23032873, 0.52647476, 0.24319651],\n",
       "       [0.33983173, 0.31938709, 0.34078118],\n",
       "       [0.44206935, 0.33998039, 0.21795026],\n",
       "       [0.23322815, 0.52830946, 0.23846239],\n",
       "       [0.25767593, 0.43827221, 0.30405186],\n",
       "       [0.25978751, 0.36389984, 0.37631265],\n",
       "       [0.36477815, 0.43195176, 0.20327009],\n",
       "       [0.4401157 , 0.35661117, 0.20327313],\n",
       "       [0.25978751, 0.36389984, 0.37631265],\n",
       "       [0.27360579, 0.37013432, 0.35625989],\n",
       "       [0.44805995, 0.34458756, 0.2073525 ],\n",
       "       [0.22955121, 0.50411857, 0.26633022],\n",
       "       [0.370141  , 0.39188227, 0.23797673],\n",
       "       [0.3933046 , 0.35343054, 0.25326486],\n",
       "       [0.21983402, 0.4864395 , 0.29372648],\n",
       "       [0.42586616, 0.35607121, 0.21806264],\n",
       "       [0.25230471, 0.54198041, 0.20571489],\n",
       "       [0.37421083, 0.43537727, 0.19041191],\n",
       "       [0.21251149, 0.49111882, 0.29636968],\n",
       "       [0.37577456, 0.43515843, 0.18906701],\n",
       "       [0.24665858, 0.39633042, 0.357011  ],\n",
       "       [0.27826713, 0.52410756, 0.19762531],\n",
       "       [0.21448678, 0.49026397, 0.29524925],\n",
       "       [0.42424531, 0.35945553, 0.21629916],\n",
       "       [0.24458113, 0.40456262, 0.35085626],\n",
       "       [0.27884142, 0.35453265, 0.36662594],\n",
       "       [0.44050049, 0.35692296, 0.20257655],\n",
       "       [0.25978751, 0.36389984, 0.37631265],\n",
       "       [0.21703306, 0.4972159 , 0.28575104],\n",
       "       [0.34102263, 0.31700195, 0.34197542],\n",
       "       [0.22834163, 0.52176815, 0.24989021],\n",
       "       [0.27201882, 0.36471476, 0.36326641],\n",
       "       [0.44975449, 0.34210881, 0.2081367 ],\n",
       "       [0.25911277, 0.36423155, 0.37665568],\n",
       "       [0.4437188 , 0.33751772, 0.21876348],\n",
       "       [0.44970071, 0.34128929, 0.20901   ],\n",
       "       [0.3012301 , 0.48466618, 0.21410371],\n",
       "       [0.216187  , 0.47368867, 0.31012434],\n",
       "       [0.21590377, 0.49663235, 0.28746387],\n",
       "       [0.22147798, 0.48931667, 0.28920536],\n",
       "       [0.30802624, 0.43007217, 0.2619016 ],\n",
       "       [0.45010499, 0.34159611, 0.2082989 ],\n",
       "       [0.42475338, 0.32714592, 0.24810071],\n",
       "       [0.34102263, 0.31700195, 0.34197542],\n",
       "       [0.31768999, 0.49831741, 0.1839926 ],\n",
       "       [0.22801211, 0.52101518, 0.2509727 ],\n",
       "       [0.27360579, 0.37013432, 0.35625989],\n",
       "       [0.4437188 , 0.33751772, 0.21876348],\n",
       "       [0.21698354, 0.49710244, 0.28591402],\n",
       "       [0.45010499, 0.34159611, 0.2082989 ],\n",
       "       [0.43645391, 0.35119428, 0.21235181],\n",
       "       [0.24284365, 0.54883842, 0.20831793]])"
      ]
     },
     "execution_count": 139,
     "metadata": {},
     "output_type": "execute_result"
    }
   ],
   "source": [
    "\n",
    "y_pred=clf.predict(X_test)\n",
    "\n",
    "\n",
    "y_pred"
   ]
  },
  {
   "cell_type": "code",
   "execution_count": 140,
   "metadata": {},
   "outputs": [
    {
     "data": {
      "text/plain": [
       "array([[0.27813578, 0.35487955, 0.36698467],\n",
       "       [0.34102263, 0.31700195, 0.34197542],\n",
       "       [0.23032873, 0.52647476, 0.24319651],\n",
       "       [0.33983173, 0.31938709, 0.34078118],\n",
       "       [0.44206935, 0.33998039, 0.21795026],\n",
       "       [0.23322815, 0.52830946, 0.23846239],\n",
       "       [0.25767593, 0.43827221, 0.30405186],\n",
       "       [0.25978751, 0.36389984, 0.37631265],\n",
       "       [0.36477815, 0.43195176, 0.20327009],\n",
       "       [0.4401157 , 0.35661117, 0.20327313],\n",
       "       [0.25978751, 0.36389984, 0.37631265],\n",
       "       [0.27360579, 0.37013432, 0.35625989],\n",
       "       [0.44805995, 0.34458756, 0.2073525 ],\n",
       "       [0.22955121, 0.50411857, 0.26633022],\n",
       "       [0.370141  , 0.39188227, 0.23797673],\n",
       "       [0.3933046 , 0.35343054, 0.25326486],\n",
       "       [0.21983402, 0.4864395 , 0.29372648],\n",
       "       [0.42586616, 0.35607121, 0.21806264],\n",
       "       [0.25230471, 0.54198041, 0.20571489],\n",
       "       [0.37421083, 0.43537727, 0.19041191],\n",
       "       [0.21251149, 0.49111882, 0.29636968],\n",
       "       [0.37577456, 0.43515843, 0.18906701],\n",
       "       [0.24665858, 0.39633042, 0.357011  ],\n",
       "       [0.27826713, 0.52410756, 0.19762531],\n",
       "       [0.21448678, 0.49026397, 0.29524925],\n",
       "       [0.42424531, 0.35945553, 0.21629916],\n",
       "       [0.24458113, 0.40456262, 0.35085626],\n",
       "       [0.27884142, 0.35453265, 0.36662594],\n",
       "       [0.44050049, 0.35692296, 0.20257655],\n",
       "       [0.25978751, 0.36389984, 0.37631265],\n",
       "       [0.21703306, 0.4972159 , 0.28575104],\n",
       "       [0.34102263, 0.31700195, 0.34197542],\n",
       "       [0.22834163, 0.52176815, 0.24989021],\n",
       "       [0.27201882, 0.36471476, 0.36326641],\n",
       "       [0.44975449, 0.34210881, 0.2081367 ],\n",
       "       [0.25911277, 0.36423155, 0.37665568],\n",
       "       [0.4437188 , 0.33751772, 0.21876348],\n",
       "       [0.44970071, 0.34128929, 0.20901   ],\n",
       "       [0.3012301 , 0.48466618, 0.21410371],\n",
       "       [0.216187  , 0.47368867, 0.31012434],\n",
       "       [0.21590377, 0.49663235, 0.28746387],\n",
       "       [0.22147798, 0.48931667, 0.28920536],\n",
       "       [0.30802624, 0.43007217, 0.2619016 ],\n",
       "       [0.45010499, 0.34159611, 0.2082989 ],\n",
       "       [0.42475338, 0.32714592, 0.24810071],\n",
       "       [0.34102263, 0.31700195, 0.34197542],\n",
       "       [0.31768999, 0.49831741, 0.1839926 ],\n",
       "       [0.22801211, 0.52101518, 0.2509727 ],\n",
       "       [0.27360579, 0.37013432, 0.35625989],\n",
       "       [0.4437188 , 0.33751772, 0.21876348],\n",
       "       [0.21698354, 0.49710244, 0.28591402],\n",
       "       [0.45010499, 0.34159611, 0.2082989 ],\n",
       "       [0.43645391, 0.35119428, 0.21235181],\n",
       "       [0.24284365, 0.54883842, 0.20831793]])"
      ]
     },
     "execution_count": 140,
     "metadata": {},
     "output_type": "execute_result"
    }
   ],
   "source": [
    "y_pred"
   ]
  },
  {
   "cell_type": "code",
   "execution_count": 145,
   "metadata": {},
   "outputs": [],
   "source": [
    "import numpy as np\n",
    "arr = []\n",
    "\n",
    "for i in range(0,54):\n",
    "    arr.append(np.argmax(y_pred[i]))\n",
    "   "
   ]
  },
  {
   "cell_type": "code",
   "execution_count": 146,
   "metadata": {},
   "outputs": [
    {
     "data": {
      "text/plain": [
       "[2,\n",
       " 2,\n",
       " 1,\n",
       " 2,\n",
       " 0,\n",
       " 1,\n",
       " 1,\n",
       " 2,\n",
       " 1,\n",
       " 0,\n",
       " 2,\n",
       " 1,\n",
       " 0,\n",
       " 1,\n",
       " 1,\n",
       " 0,\n",
       " 1,\n",
       " 0,\n",
       " 1,\n",
       " 1,\n",
       " 1,\n",
       " 1,\n",
       " 1,\n",
       " 1,\n",
       " 1,\n",
       " 0,\n",
       " 1,\n",
       " 2,\n",
       " 0,\n",
       " 2,\n",
       " 1,\n",
       " 2,\n",
       " 1,\n",
       " 1,\n",
       " 0,\n",
       " 2,\n",
       " 0,\n",
       " 0,\n",
       " 1,\n",
       " 1,\n",
       " 1,\n",
       " 1,\n",
       " 1,\n",
       " 0,\n",
       " 0,\n",
       " 2,\n",
       " 1,\n",
       " 1,\n",
       " 1,\n",
       " 0,\n",
       " 1,\n",
       " 0,\n",
       " 0,\n",
       " 1]"
      ]
     },
     "execution_count": 146,
     "metadata": {},
     "output_type": "execute_result"
    }
   ],
   "source": [
    "arr"
   ]
  },
  {
   "cell_type": "code",
   "execution_count": 147,
   "metadata": {},
   "outputs": [
    {
     "data": {
      "text/plain": [
       "array([[0.27813578, 0.35487955, 0.36698467],\n",
       "       [0.34102263, 0.31700195, 0.34197542],\n",
       "       [0.23032873, 0.52647476, 0.24319651],\n",
       "       [0.33983173, 0.31938709, 0.34078118],\n",
       "       [0.44206935, 0.33998039, 0.21795026],\n",
       "       [0.23322815, 0.52830946, 0.23846239],\n",
       "       [0.25767593, 0.43827221, 0.30405186],\n",
       "       [0.25978751, 0.36389984, 0.37631265],\n",
       "       [0.36477815, 0.43195176, 0.20327009],\n",
       "       [0.4401157 , 0.35661117, 0.20327313],\n",
       "       [0.25978751, 0.36389984, 0.37631265],\n",
       "       [0.27360579, 0.37013432, 0.35625989],\n",
       "       [0.44805995, 0.34458756, 0.2073525 ],\n",
       "       [0.22955121, 0.50411857, 0.26633022],\n",
       "       [0.370141  , 0.39188227, 0.23797673],\n",
       "       [0.3933046 , 0.35343054, 0.25326486],\n",
       "       [0.21983402, 0.4864395 , 0.29372648],\n",
       "       [0.42586616, 0.35607121, 0.21806264],\n",
       "       [0.25230471, 0.54198041, 0.20571489],\n",
       "       [0.37421083, 0.43537727, 0.19041191],\n",
       "       [0.21251149, 0.49111882, 0.29636968],\n",
       "       [0.37577456, 0.43515843, 0.18906701],\n",
       "       [0.24665858, 0.39633042, 0.357011  ],\n",
       "       [0.27826713, 0.52410756, 0.19762531],\n",
       "       [0.21448678, 0.49026397, 0.29524925],\n",
       "       [0.42424531, 0.35945553, 0.21629916],\n",
       "       [0.24458113, 0.40456262, 0.35085626],\n",
       "       [0.27884142, 0.35453265, 0.36662594],\n",
       "       [0.44050049, 0.35692296, 0.20257655],\n",
       "       [0.25978751, 0.36389984, 0.37631265],\n",
       "       [0.21703306, 0.4972159 , 0.28575104],\n",
       "       [0.34102263, 0.31700195, 0.34197542],\n",
       "       [0.22834163, 0.52176815, 0.24989021],\n",
       "       [0.27201882, 0.36471476, 0.36326641],\n",
       "       [0.44975449, 0.34210881, 0.2081367 ],\n",
       "       [0.25911277, 0.36423155, 0.37665568],\n",
       "       [0.4437188 , 0.33751772, 0.21876348],\n",
       "       [0.44970071, 0.34128929, 0.20901   ],\n",
       "       [0.3012301 , 0.48466618, 0.21410371],\n",
       "       [0.216187  , 0.47368867, 0.31012434],\n",
       "       [0.21590377, 0.49663235, 0.28746387],\n",
       "       [0.22147798, 0.48931667, 0.28920536],\n",
       "       [0.30802624, 0.43007217, 0.2619016 ],\n",
       "       [0.45010499, 0.34159611, 0.2082989 ],\n",
       "       [0.42475338, 0.32714592, 0.24810071],\n",
       "       [0.34102263, 0.31700195, 0.34197542],\n",
       "       [0.31768999, 0.49831741, 0.1839926 ],\n",
       "       [0.22801211, 0.52101518, 0.2509727 ],\n",
       "       [0.27360579, 0.37013432, 0.35625989],\n",
       "       [0.4437188 , 0.33751772, 0.21876348],\n",
       "       [0.21698354, 0.49710244, 0.28591402],\n",
       "       [0.45010499, 0.34159611, 0.2082989 ],\n",
       "       [0.43645391, 0.35119428, 0.21235181],\n",
       "       [0.24284365, 0.54883842, 0.20831793]])"
      ]
     },
     "execution_count": 147,
     "metadata": {},
     "output_type": "execute_result"
    }
   ],
   "source": [
    "y_pred"
   ]
  },
  {
   "cell_type": "code",
   "execution_count": 148,
   "metadata": {},
   "outputs": [],
   "source": [
    "#Confusion matrix\n",
    "from sklearn.metrics import confusion_matrix\n",
    "cm = confusion_matrix(y_test, arr)\n"
   ]
  },
  {
   "cell_type": "code",
   "execution_count": 149,
   "metadata": {},
   "outputs": [
    {
     "data": {
      "text/plain": [
       "array([[15,  4,  0],\n",
       "       [ 0, 19,  0],\n",
       "       [ 0,  6, 10]], dtype=int64)"
      ]
     },
     "execution_count": 149,
     "metadata": {},
     "output_type": "execute_result"
    }
   ],
   "source": [
    "cm\n"
   ]
  },
  {
   "cell_type": "code",
   "execution_count": 150,
   "metadata": {},
   "outputs": [
    {
     "data": {
      "text/plain": [
       "<matplotlib.axes._subplots.AxesSubplot at 0x1a88674ef48>"
      ]
     },
     "execution_count": 150,
     "metadata": {},
     "output_type": "execute_result"
    },
    {
     "data": {
      "image/png": "[encoded data removed]",
      "text/plain": [
       "<Figure size 432x288 with 2 Axes>"
      ]
     },
     "metadata": {
      "needs_background": "light"
     },
     "output_type": "display_data"
    }
   ],
   "source": [
    "\n",
    "import seaborn as sns\n",
    "\n",
    "sns.heatmap(cm)"
   ]
  },
  {
   "cell_type": "code",
   "execution_count": null,
   "metadata": {},
   "outputs": [],
   "source": [
    "\n",
    "#Accuracy\n",
    "from sklearn.metrics import accuracy_score\n",
    "accuracy=accuracy_score(y_pred,y_test)\n"
   ]
  },
  {
   "cell_type": "code",
   "execution_count": null,
   "metadata": {},
   "outputs": [],
   "source": []
  },
  {
   "cell_type": "code",
   "execution_count": null,
   "metadata": {},
   "outputs": [],
   "source": [
    "from catboost import CatBoostClassifier\n"
   ]
  },
  {
   "cell_type": "code",
   "execution_count": null,
   "metadata": {},
   "outputs": [],
   "source": [
    "\n",
    "clf = CatBoostClassifier(\n",
    "    iterations=5, \n",
    "    learning_rate=0.1, \n",
    "    #loss_function='CrossEntropy'\n",
    ")\n",
    "\n",
    "\n",
    "clf.fit(X_train, y_train, \n",
    "        cat_features=cat_features, \n",
    "        eval_set=(X_val, y_val), \n",
    "        verbose=False\n",
    ")\n",
    "\n",
    "print('CatBoost model is fitted: ' + str(clf.is_fitted()))\n",
    "print('CatBoost model parameters:')\n",
    "print(clf.get_params())"
   ]
  },
  {
   "cell_type": "code",
   "execution_count": null,
   "metadata": {},
   "outputs": [],
   "source": [
    "\n",
    "clf = CatBoostClassifier(\n",
    "    iterations=50,\n",
    "    random_seed=42,\n",
    "    learning_rate=0.5,\n",
    "    custom_loss=['AUC', 'Accuracy']\n",
    ")\n"
   ]
  }
 ],
 "metadata": {
  "kernelspec": {
   "display_name": "Python 3",
   "language": "python",
   "name": "python3"
  },
  "language_info": {
   "codemirror_mode": {
    "name": "ipython",
    "version": 3
   },
   "file_extension": ".py",
   "mimetype": "text/x-python",
   "name": "python",
   "nbconvert_exporter": "python",
   "pygments_lexer": "ipython3",
   "version": "3.7.6"
  }
 },
 "nbformat": 4,
 "nbformat_minor": 4
}
