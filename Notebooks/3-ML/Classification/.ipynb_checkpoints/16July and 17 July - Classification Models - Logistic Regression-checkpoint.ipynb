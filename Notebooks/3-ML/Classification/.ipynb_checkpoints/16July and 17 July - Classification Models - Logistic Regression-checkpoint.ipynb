{
 "cells": [
  {
   "cell_type": "code",
   "execution_count": 83,
   "metadata": {},
   "outputs": [
    {
     "data": {
      "text/html": [
       "\n",
       "<a href=\"https://guardiancoder.com/2022/07/16/logistic-regression/\" target=\"_blank\">\n",
       "GuardianCoder Blog on: <b>Logistic Regression</b>\n",
       "</a>\n",
       "\n",
       "<p>\n",
       "\n",
       "<a href=\"https://guardiancoder.com/2022/07/16/class-imbalance/\" target=\"_blank\">\n",
       "GuardianCoder Blog on: <b>Class Imbalance Problem and Solution</b>\n",
       "</a>\n"
      ],
      "text/plain": [
       "<IPython.core.display.HTML object>"
      ]
     },
     "metadata": {},
     "output_type": "display_data"
    }
   ],
   "source": [
    "%%html\n",
    "\n",
    "<a href=\"https://guardiancoder.com/2022/07/16/logistic-regression/\" target=\"_blank\">\n",
    "GuardianCoder Blog on: <b>Logistic Regression</b>\n",
    "</a>\n",
    "\n",
    "<p>\n",
    "\n",
    "<a href=\"https://guardiancoder.com/2022/07/16/class-imbalance/\" target=\"_blank\">\n",
    "GuardianCoder Blog on: <b>Class Imbalance Problem and Solution</b>\n",
    "</a>\n"
   ]
  },
  {
   "cell_type": "code",
   "execution_count": 3,
   "metadata": {},
   "outputs": [],
   "source": [
    "#import required libraries/packages\n",
    "\n",
    "import pandas as pd\n",
    "import numpy as np\n",
    "\n",
    "\n"
   ]
  },
  {
   "cell_type": "markdown",
   "metadata": {},
   "source": [
    "# THEORY on LOGISTIC REGRESSION\n",
    "\n",
    "* classification  --- \n",
    "* fraud vs no_fraud\n",
    "* 90% 10%  ---> predict_probability\n",
    "\n",
    "\n",
    "# f(x) = y = m1*x1 + m2*x2  \n",
    "\n",
    "## y = log(odds)\n",
    "\n",
    "\n",
    "\n",
    "# Sigmoid function === converts y into probablity\n",
    "\n",
    "\n",
    "1/1+np.exp(-f(x))\n",
    "\n",
    "1/1+np.exp(-log(odds))\n",
    "\n",
    "\n",
    "\n",
    "# like 0.2  and 0.8\n",
    "\n",
    "\n"
   ]
  },
  {
   "cell_type": "code",
   "execution_count": null,
   "metadata": {},
   "outputs": [],
   "source": []
  },
  {
   "cell_type": "code",
   "execution_count": 4,
   "metadata": {},
   "outputs": [],
   "source": [
    "from sklearn.datasets import load_breast_cancer\n"
   ]
  },
  {
   "cell_type": "code",
   "execution_count": 5,
   "metadata": {},
   "outputs": [
    {
     "data": {
      "text/plain": [
       "{'data': array([[1.799e+01, 1.038e+01, 1.228e+02, ..., 2.654e-01, 4.601e-01,\n",
       "         1.189e-01],\n",
       "        [2.057e+01, 1.777e+01, 1.329e+02, ..., 1.860e-01, 2.750e-01,\n",
       "         8.902e-02],\n",
       "        [1.969e+01, 2.125e+01, 1.300e+02, ..., 2.430e-01, 3.613e-01,\n",
       "         8.758e-02],\n",
       "        ...,\n",
       "        [1.660e+01, 2.808e+01, 1.083e+02, ..., 1.418e-01, 2.218e-01,\n",
       "         7.820e-02],\n",
       "        [2.060e+01, 2.933e+01, 1.401e+02, ..., 2.650e-01, 4.087e-01,\n",
       "         1.240e-01],\n",
       "        [7.760e+00, 2.454e+01, 4.792e+01, ..., 0.000e+00, 2.871e-01,\n",
       "         7.039e-02]]),\n",
       " 'target': array([0, 0, 0, 0, 0, 0, 0, 0, 0, 0, 0, 0, 0, 0, 0, 0, 0, 0, 0, 1, 1, 1,\n",
       "        0, 0, 0, 0, 0, 0, 0, 0, 0, 0, 0, 0, 0, 0, 0, 1, 0, 0, 0, 0, 0, 0,\n",
       "        0, 0, 1, 0, 1, 1, 1, 1, 1, 0, 0, 1, 0, 0, 1, 1, 1, 1, 0, 1, 0, 0,\n",
       "        1, 1, 1, 1, 0, 1, 0, 0, 1, 0, 1, 0, 0, 1, 1, 1, 0, 0, 1, 0, 0, 0,\n",
       "        1, 1, 1, 0, 1, 1, 0, 0, 1, 1, 1, 0, 0, 1, 1, 1, 1, 0, 1, 1, 0, 1,\n",
       "        1, 1, 1, 1, 1, 1, 1, 0, 0, 0, 1, 0, 0, 1, 1, 1, 0, 0, 1, 0, 1, 0,\n",
       "        0, 1, 0, 0, 1, 1, 0, 1, 1, 0, 1, 1, 1, 1, 0, 1, 1, 1, 1, 1, 1, 1,\n",
       "        1, 1, 0, 1, 1, 1, 1, 0, 0, 1, 0, 1, 1, 0, 0, 1, 1, 0, 0, 1, 1, 1,\n",
       "        1, 0, 1, 1, 0, 0, 0, 1, 0, 1, 0, 1, 1, 1, 0, 1, 1, 0, 0, 1, 0, 0,\n",
       "        0, 0, 1, 0, 0, 0, 1, 0, 1, 0, 1, 1, 0, 1, 0, 0, 0, 0, 1, 1, 0, 0,\n",
       "        1, 1, 1, 0, 1, 1, 1, 1, 1, 0, 0, 1, 1, 0, 1, 1, 0, 0, 1, 0, 1, 1,\n",
       "        1, 1, 0, 1, 1, 1, 1, 1, 0, 1, 0, 0, 0, 0, 0, 0, 0, 0, 0, 0, 0, 0,\n",
       "        0, 0, 1, 1, 1, 1, 1, 1, 0, 1, 0, 1, 1, 0, 1, 1, 0, 1, 0, 0, 1, 1,\n",
       "        1, 1, 1, 1, 1, 1, 1, 1, 1, 1, 1, 0, 1, 1, 0, 1, 0, 1, 1, 1, 1, 1,\n",
       "        1, 1, 1, 1, 1, 1, 1, 1, 1, 0, 1, 1, 1, 0, 1, 0, 1, 1, 1, 1, 0, 0,\n",
       "        0, 1, 1, 1, 1, 0, 1, 0, 1, 0, 1, 1, 1, 0, 1, 1, 1, 1, 1, 1, 1, 0,\n",
       "        0, 0, 1, 1, 1, 1, 1, 1, 1, 1, 1, 1, 1, 0, 0, 1, 0, 0, 0, 1, 0, 0,\n",
       "        1, 1, 1, 1, 1, 0, 1, 1, 1, 1, 1, 0, 1, 1, 1, 0, 1, 1, 0, 0, 1, 1,\n",
       "        1, 1, 1, 1, 0, 1, 1, 1, 1, 1, 1, 1, 0, 1, 1, 1, 1, 1, 0, 1, 1, 0,\n",
       "        1, 1, 1, 1, 1, 1, 1, 1, 1, 1, 1, 1, 0, 1, 0, 0, 1, 0, 1, 1, 1, 1,\n",
       "        1, 0, 1, 1, 0, 1, 0, 1, 1, 0, 1, 0, 1, 1, 1, 1, 1, 1, 1, 1, 0, 0,\n",
       "        1, 1, 1, 1, 1, 1, 0, 1, 1, 1, 1, 1, 1, 1, 1, 1, 1, 0, 1, 1, 1, 1,\n",
       "        1, 1, 1, 0, 1, 0, 1, 1, 0, 1, 1, 1, 1, 1, 0, 0, 1, 0, 1, 0, 1, 1,\n",
       "        1, 1, 1, 0, 1, 1, 0, 1, 0, 1, 0, 0, 1, 1, 1, 0, 1, 1, 1, 1, 1, 1,\n",
       "        1, 1, 1, 1, 1, 0, 1, 0, 0, 1, 1, 1, 1, 1, 1, 1, 1, 1, 1, 1, 1, 1,\n",
       "        1, 1, 1, 1, 1, 1, 1, 1, 1, 1, 1, 1, 0, 0, 0, 0, 0, 0, 1]),\n",
       " 'frame': None,\n",
       " 'target_names': array(['malignant', 'benign'], dtype='<U9'),\n",
       " 'DESCR': '.. _breast_cancer_dataset:\\n\\nBreast cancer wisconsin (diagnostic) dataset\\n--------------------------------------------\\n\\n**Data Set Characteristics:**\\n\\n    :Number of Instances: 569\\n\\n    :Number of Attributes: 30 numeric, predictive attributes and the class\\n\\n    :Attribute Information:\\n        - radius (mean of distances from center to points on the perimeter)\\n        - texture (standard deviation of gray-scale values)\\n        - perimeter\\n        - area\\n        - smoothness (local variation in radius lengths)\\n        - compactness (perimeter^2 / area - 1.0)\\n        - concavity (severity of concave portions of the contour)\\n        - concave points (number of concave portions of the contour)\\n        - symmetry\\n        - fractal dimension (\"coastline approximation\" - 1)\\n\\n        The mean, standard error, and \"worst\" or largest (mean of the three\\n        worst/largest values) of these features were computed for each image,\\n        resulting in 30 features.  For instance, field 0 is Mean Radius, field\\n        10 is Radius SE, field 20 is Worst Radius.\\n\\n        - class:\\n                - WDBC-Malignant\\n                - WDBC-Benign\\n\\n    :Summary Statistics:\\n\\n    ===================================== ====== ======\\n                                           Min    Max\\n    ===================================== ====== ======\\n    radius (mean):                        6.981  28.11\\n    texture (mean):                       9.71   39.28\\n    perimeter (mean):                     43.79  188.5\\n    area (mean):                          143.5  2501.0\\n    smoothness (mean):                    0.053  0.163\\n    compactness (mean):                   0.019  0.345\\n    concavity (mean):                     0.0    0.427\\n    concave points (mean):                0.0    0.201\\n    symmetry (mean):                      0.106  0.304\\n    fractal dimension (mean):             0.05   0.097\\n    radius (standard error):              0.112  2.873\\n    texture (standard error):             0.36   4.885\\n    perimeter (standard error):           0.757  21.98\\n    area (standard error):                6.802  542.2\\n    smoothness (standard error):          0.002  0.031\\n    compactness (standard error):         0.002  0.135\\n    concavity (standard error):           0.0    0.396\\n    concave points (standard error):      0.0    0.053\\n    symmetry (standard error):            0.008  0.079\\n    fractal dimension (standard error):   0.001  0.03\\n    radius (worst):                       7.93   36.04\\n    texture (worst):                      12.02  49.54\\n    perimeter (worst):                    50.41  251.2\\n    area (worst):                         185.2  4254.0\\n    smoothness (worst):                   0.071  0.223\\n    compactness (worst):                  0.027  1.058\\n    concavity (worst):                    0.0    1.252\\n    concave points (worst):               0.0    0.291\\n    symmetry (worst):                     0.156  0.664\\n    fractal dimension (worst):            0.055  0.208\\n    ===================================== ====== ======\\n\\n    :Missing Attribute Values: None\\n\\n    :Class Distribution: 212 - Malignant, 357 - Benign\\n\\n    :Creator:  Dr. William H. Wolberg, W. Nick Street, Olvi L. Mangasarian\\n\\n    :Donor: Nick Street\\n\\n    :Date: November, 1995\\n\\nThis is a copy of UCI ML Breast Cancer Wisconsin (Diagnostic) datasets.\\nhttps://goo.gl/U2Uwz2\\n\\nFeatures are computed from a digitized image of a fine needle\\naspirate (FNA) of a breast mass.  They describe\\ncharacteristics of the cell nuclei present in the image.\\n\\nSeparating plane described above was obtained using\\nMultisurface Method-Tree (MSM-T) [K. P. Bennett, \"Decision Tree\\nConstruction Via Linear Programming.\" Proceedings of the 4th\\nMidwest Artificial Intelligence and Cognitive Science Society,\\npp. 97-101, 1992], a classification method which uses linear\\nprogramming to construct a decision tree.  Relevant features\\nwere selected using an exhaustive search in the space of 1-4\\nfeatures and 1-3 separating planes.\\n\\nThe actual linear program used to obtain the separating plane\\nin the 3-dimensional space is that described in:\\n[K. P. Bennett and O. L. Mangasarian: \"Robust Linear\\nProgramming Discrimination of Two Linearly Inseparable Sets\",\\nOptimization Methods and Software 1, 1992, 23-34].\\n\\nThis database is also available through the UW CS ftp server:\\n\\nftp ftp.cs.wisc.edu\\ncd math-prog/cpo-dataset/machine-learn/WDBC/\\n\\n.. topic:: References\\n\\n   - W.N. Street, W.H. Wolberg and O.L. Mangasarian. Nuclear feature extraction \\n     for breast tumor diagnosis. IS&T/SPIE 1993 International Symposium on \\n     Electronic Imaging: Science and Technology, volume 1905, pages 861-870,\\n     San Jose, CA, 1993.\\n   - O.L. Mangasarian, W.N. Street and W.H. Wolberg. Breast cancer diagnosis and \\n     prognosis via linear programming. Operations Research, 43(4), pages 570-577, \\n     July-August 1995.\\n   - W.H. Wolberg, W.N. Street, and O.L. Mangasarian. Machine learning techniques\\n     to diagnose breast cancer from fine-needle aspirates. Cancer Letters 77 (1994) \\n     163-171.',\n",
       " 'feature_names': array(['mean radius', 'mean texture', 'mean perimeter', 'mean area',\n",
       "        'mean smoothness', 'mean compactness', 'mean concavity',\n",
       "        'mean concave points', 'mean symmetry', 'mean fractal dimension',\n",
       "        'radius error', 'texture error', 'perimeter error', 'area error',\n",
       "        'smoothness error', 'compactness error', 'concavity error',\n",
       "        'concave points error', 'symmetry error',\n",
       "        'fractal dimension error', 'worst radius', 'worst texture',\n",
       "        'worst perimeter', 'worst area', 'worst smoothness',\n",
       "        'worst compactness', 'worst concavity', 'worst concave points',\n",
       "        'worst symmetry', 'worst fractal dimension'], dtype='<U23'),\n",
       " 'filename': 'breast_cancer.csv',\n",
       " 'data_module': 'sklearn.datasets.data'}"
      ]
     },
     "execution_count": 5,
     "metadata": {},
     "output_type": "execute_result"
    }
   ],
   "source": [
    "dt = load_breast_cancer()\n",
    "\n",
    "dt\n"
   ]
  },
  {
   "cell_type": "code",
   "execution_count": 6,
   "metadata": {},
   "outputs": [],
   "source": [
    "X = dt.data\n",
    "Y = dt.target\n"
   ]
  },
  {
   "cell_type": "code",
   "execution_count": 7,
   "metadata": {},
   "outputs": [
    {
     "data": {
      "text/plain": [
       "array(['mean radius', 'mean texture', 'mean perimeter', 'mean area',\n",
       "       'mean smoothness', 'mean compactness', 'mean concavity',\n",
       "       'mean concave points', 'mean symmetry', 'mean fractal dimension',\n",
       "       'radius error', 'texture error', 'perimeter error', 'area error',\n",
       "       'smoothness error', 'compactness error', 'concavity error',\n",
       "       'concave points error', 'symmetry error',\n",
       "       'fractal dimension error', 'worst radius', 'worst texture',\n",
       "       'worst perimeter', 'worst area', 'worst smoothness',\n",
       "       'worst compactness', 'worst concavity', 'worst concave points',\n",
       "       'worst symmetry', 'worst fractal dimension'], dtype='<U23')"
      ]
     },
     "execution_count": 7,
     "metadata": {},
     "output_type": "execute_result"
    }
   ],
   "source": [
    "dt.feature_names"
   ]
  },
  {
   "cell_type": "code",
   "execution_count": 8,
   "metadata": {},
   "outputs": [
    {
     "data": {
      "text/plain": [
       "array([[1.799e+01, 1.038e+01, 1.228e+02, ..., 2.654e-01, 4.601e-01,\n",
       "        1.189e-01],\n",
       "       [2.057e+01, 1.777e+01, 1.329e+02, ..., 1.860e-01, 2.750e-01,\n",
       "        8.902e-02],\n",
       "       [1.969e+01, 2.125e+01, 1.300e+02, ..., 2.430e-01, 3.613e-01,\n",
       "        8.758e-02],\n",
       "       ...,\n",
       "       [1.660e+01, 2.808e+01, 1.083e+02, ..., 1.418e-01, 2.218e-01,\n",
       "        7.820e-02],\n",
       "       [2.060e+01, 2.933e+01, 1.401e+02, ..., 2.650e-01, 4.087e-01,\n",
       "        1.240e-01],\n",
       "       [7.760e+00, 2.454e+01, 4.792e+01, ..., 0.000e+00, 2.871e-01,\n",
       "        7.039e-02]])"
      ]
     },
     "execution_count": 8,
     "metadata": {},
     "output_type": "execute_result"
    }
   ],
   "source": [
    "X"
   ]
  },
  {
   "cell_type": "code",
   "execution_count": 9,
   "metadata": {},
   "outputs": [
    {
     "data": {
      "text/plain": [
       "array([0, 0, 0, 0, 0, 0, 0, 0, 0, 0, 0, 0, 0, 0, 0, 0, 0, 0, 0, 1, 1, 1,\n",
       "       0, 0, 0, 0, 0, 0, 0, 0, 0, 0, 0, 0, 0, 0, 0, 1, 0, 0, 0, 0, 0, 0,\n",
       "       0, 0, 1, 0, 1, 1, 1, 1, 1, 0, 0, 1, 0, 0, 1, 1, 1, 1, 0, 1, 0, 0,\n",
       "       1, 1, 1, 1, 0, 1, 0, 0, 1, 0, 1, 0, 0, 1, 1, 1, 0, 0, 1, 0, 0, 0,\n",
       "       1, 1, 1, 0, 1, 1, 0, 0, 1, 1, 1, 0, 0, 1, 1, 1, 1, 0, 1, 1, 0, 1,\n",
       "       1, 1, 1, 1, 1, 1, 1, 0, 0, 0, 1, 0, 0, 1, 1, 1, 0, 0, 1, 0, 1, 0,\n",
       "       0, 1, 0, 0, 1, 1, 0, 1, 1, 0, 1, 1, 1, 1, 0, 1, 1, 1, 1, 1, 1, 1,\n",
       "       1, 1, 0, 1, 1, 1, 1, 0, 0, 1, 0, 1, 1, 0, 0, 1, 1, 0, 0, 1, 1, 1,\n",
       "       1, 0, 1, 1, 0, 0, 0, 1, 0, 1, 0, 1, 1, 1, 0, 1, 1, 0, 0, 1, 0, 0,\n",
       "       0, 0, 1, 0, 0, 0, 1, 0, 1, 0, 1, 1, 0, 1, 0, 0, 0, 0, 1, 1, 0, 0,\n",
       "       1, 1, 1, 0, 1, 1, 1, 1, 1, 0, 0, 1, 1, 0, 1, 1, 0, 0, 1, 0, 1, 1,\n",
       "       1, 1, 0, 1, 1, 1, 1, 1, 0, 1, 0, 0, 0, 0, 0, 0, 0, 0, 0, 0, 0, 0,\n",
       "       0, 0, 1, 1, 1, 1, 1, 1, 0, 1, 0, 1, 1, 0, 1, 1, 0, 1, 0, 0, 1, 1,\n",
       "       1, 1, 1, 1, 1, 1, 1, 1, 1, 1, 1, 0, 1, 1, 0, 1, 0, 1, 1, 1, 1, 1,\n",
       "       1, 1, 1, 1, 1, 1, 1, 1, 1, 0, 1, 1, 1, 0, 1, 0, 1, 1, 1, 1, 0, 0,\n",
       "       0, 1, 1, 1, 1, 0, 1, 0, 1, 0, 1, 1, 1, 0, 1, 1, 1, 1, 1, 1, 1, 0,\n",
       "       0, 0, 1, 1, 1, 1, 1, 1, 1, 1, 1, 1, 1, 0, 0, 1, 0, 0, 0, 1, 0, 0,\n",
       "       1, 1, 1, 1, 1, 0, 1, 1, 1, 1, 1, 0, 1, 1, 1, 0, 1, 1, 0, 0, 1, 1,\n",
       "       1, 1, 1, 1, 0, 1, 1, 1, 1, 1, 1, 1, 0, 1, 1, 1, 1, 1, 0, 1, 1, 0,\n",
       "       1, 1, 1, 1, 1, 1, 1, 1, 1, 1, 1, 1, 0, 1, 0, 0, 1, 0, 1, 1, 1, 1,\n",
       "       1, 0, 1, 1, 0, 1, 0, 1, 1, 0, 1, 0, 1, 1, 1, 1, 1, 1, 1, 1, 0, 0,\n",
       "       1, 1, 1, 1, 1, 1, 0, 1, 1, 1, 1, 1, 1, 1, 1, 1, 1, 0, 1, 1, 1, 1,\n",
       "       1, 1, 1, 0, 1, 0, 1, 1, 0, 1, 1, 1, 1, 1, 0, 0, 1, 0, 1, 0, 1, 1,\n",
       "       1, 1, 1, 0, 1, 1, 0, 1, 0, 1, 0, 0, 1, 1, 1, 0, 1, 1, 1, 1, 1, 1,\n",
       "       1, 1, 1, 1, 1, 0, 1, 0, 0, 1, 1, 1, 1, 1, 1, 1, 1, 1, 1, 1, 1, 1,\n",
       "       1, 1, 1, 1, 1, 1, 1, 1, 1, 1, 1, 1, 0, 0, 0, 0, 0, 0, 1])"
      ]
     },
     "execution_count": 9,
     "metadata": {},
     "output_type": "execute_result"
    }
   ],
   "source": [
    "Y"
   ]
  },
  {
   "cell_type": "code",
   "execution_count": 10,
   "metadata": {},
   "outputs": [
    {
     "data": {
      "text/plain": [
       "array(['mean radius', 'mean texture', 'mean perimeter', 'mean area',\n",
       "       'mean smoothness', 'mean compactness', 'mean concavity',\n",
       "       'mean concave points', 'mean symmetry', 'mean fractal dimension',\n",
       "       'radius error', 'texture error', 'perimeter error', 'area error',\n",
       "       'smoothness error', 'compactness error', 'concavity error',\n",
       "       'concave points error', 'symmetry error',\n",
       "       'fractal dimension error', 'worst radius', 'worst texture',\n",
       "       'worst perimeter', 'worst area', 'worst smoothness',\n",
       "       'worst compactness', 'worst concavity', 'worst concave points',\n",
       "       'worst symmetry', 'worst fractal dimension'], dtype='<U23')"
      ]
     },
     "execution_count": 10,
     "metadata": {},
     "output_type": "execute_result"
    }
   ],
   "source": [
    "dt.feature_names\n",
    "\n"
   ]
  },
  {
   "cell_type": "markdown",
   "metadata": {},
   "source": [
    "# Class Balance Check\n",
    "\n",
    "### class imbalance problem in classification domain\n"
   ]
  },
  {
   "cell_type": "code",
   "execution_count": 11,
   "metadata": {},
   "outputs": [
    {
     "name": "stdout",
     "output_type": "stream",
     "text": [
      "212\n",
      "0.37258347978910367\n"
     ]
    }
   ],
   "source": [
    "\n",
    "print(len(dt.target[dt.target==0]))\n",
    "print(len(dt.target[dt.target==0])/len(dt.target))\n"
   ]
  },
  {
   "cell_type": "code",
   "execution_count": null,
   "metadata": {},
   "outputs": [],
   "source": []
  },
  {
   "cell_type": "code",
   "execution_count": 12,
   "metadata": {},
   "outputs": [
    {
     "name": "stdout",
     "output_type": "stream",
     "text": [
      "357\n",
      "0.6274165202108963\n"
     ]
    }
   ],
   "source": [
    "print(len(dt.target[dt.target==1]))\n",
    "print(len(dt.target[dt.target==1])/len(dt.target))\n"
   ]
  },
  {
   "cell_type": "code",
   "execution_count": 13,
   "metadata": {},
   "outputs": [
    {
     "name": "stdout",
     "output_type": "stream",
     "text": [
      "569\n",
      "-145\n",
      "714\n"
     ]
    }
   ],
   "source": [
    "print(212+357)\n",
    "print(212-357)\n",
    "\n",
    "print((212+145)+357)\n"
   ]
  },
  {
   "cell_type": "markdown",
   "metadata": {},
   "source": [
    "# Under Sampling\n",
    "\n",
    "#### AND\n",
    "\n",
    "# Over Sampling  -- SMOTE\n"
   ]
  },
  {
   "cell_type": "code",
   "execution_count": 14,
   "metadata": {},
   "outputs": [
    {
     "name": "stdout",
     "output_type": "stream",
     "text": [
      "0.9.1\n"
     ]
    }
   ],
   "source": [
    "## SMOTE\n",
    "\n",
    "\n",
    "# check version number\n",
    "import imblearn\n",
    "\n",
    "print(imblearn.__version__)\n"
   ]
  },
  {
   "cell_type": "code",
   "execution_count": 15,
   "metadata": {},
   "outputs": [],
   "source": [
    "from imblearn.over_sampling import SMOTE,SMOTEN,SMOTENC\n",
    "\n",
    "??SMOTE"
   ]
  },
  {
   "cell_type": "code",
   "execution_count": 16,
   "metadata": {},
   "outputs": [],
   "source": [
    "# transform the dataset\n",
    "\n",
    "oversample = SMOTEN(sampling_strategy=\"minority\", random_state=100, n_jobs=-1)\n",
    "\n",
    "data_X, data_Y = oversample.fit_resample(X, Y)"
   ]
  },
  {
   "cell_type": "code",
   "execution_count": 17,
   "metadata": {},
   "outputs": [
    {
     "data": {
      "text/plain": [
       "714"
      ]
     },
     "execution_count": 17,
     "metadata": {},
     "output_type": "execute_result"
    }
   ],
   "source": [
    "len(data_X)"
   ]
  },
  {
   "cell_type": "code",
   "execution_count": 18,
   "metadata": {},
   "outputs": [
    {
     "data": {
      "text/plain": [
       "714"
      ]
     },
     "execution_count": 18,
     "metadata": {},
     "output_type": "execute_result"
    }
   ],
   "source": [
    "len(data_Y)"
   ]
  },
  {
   "cell_type": "code",
   "execution_count": 19,
   "metadata": {},
   "outputs": [
    {
     "name": "stdout",
     "output_type": "stream",
     "text": [
      "357\n",
      "0.5\n"
     ]
    }
   ],
   "source": [
    "print(len(data_Y[data_Y==1]))\n",
    "print(len(data_Y[data_Y==1])/len(data_Y))"
   ]
  },
  {
   "cell_type": "markdown",
   "metadata": {},
   "source": [
    "# Data Split"
   ]
  },
  {
   "cell_type": "code",
   "execution_count": 20,
   "metadata": {},
   "outputs": [],
   "source": [
    "\n",
    "from sklearn.model_selection import train_test_split\n",
    "\n",
    "\n",
    "# Split dataset into training set and test set\n",
    "\n",
    "X_train, X_test, Y_train, Y_test = train_test_split(data_X, data_Y, test_size=0.3,random_state=100)  \n",
    "\n"
   ]
  },
  {
   "cell_type": "code",
   "execution_count": 21,
   "metadata": {},
   "outputs": [
    {
     "data": {
      "text/plain": [
       "array([[1.534e+01, 1.426e+01, 1.025e+02, ..., 1.595e-01, 1.648e-01,\n",
       "        5.525e-02],\n",
       "       [1.026e+01, 1.658e+01, 6.585e+01, ..., 8.333e-02, 2.691e-01,\n",
       "        9.479e-02],\n",
       "       [1.263e+01, 2.076e+01, 8.215e+01, ..., 1.105e-01, 2.226e-01,\n",
       "        8.486e-02],\n",
       "       ...,\n",
       "       [1.166e+01, 1.707e+01, 7.370e+01, ..., 4.262e-02, 2.731e-01,\n",
       "        6.825e-02],\n",
       "       [1.286e+01, 1.800e+01, 8.319e+01, ..., 7.926e-02, 2.779e-01,\n",
       "        7.918e-02],\n",
       "       [9.295e+00, 1.390e+01, 5.996e+01, ..., 7.262e-02, 3.681e-01,\n",
       "        8.982e-02]])"
      ]
     },
     "execution_count": 21,
     "metadata": {},
     "output_type": "execute_result"
    }
   ],
   "source": [
    "X_train"
   ]
  },
  {
   "cell_type": "code",
   "execution_count": 22,
   "metadata": {},
   "outputs": [
    {
     "data": {
      "text/plain": [
       "array([0, 1, 1, 0, 1, 1, 0, 0, 1, 0, 1, 1, 0, 1, 0, 0, 0, 0, 0, 1, 0, 1,\n",
       "       1, 0, 1, 0, 0, 1, 0, 1, 0, 1, 1, 1, 0, 0, 0, 1, 0, 0, 1, 0, 0, 1,\n",
       "       1, 0, 0, 1, 1, 1, 0, 1, 1, 1, 1, 1, 1, 0, 0, 0, 1, 0, 0, 0, 0, 0,\n",
       "       1, 0, 1, 0, 0, 1, 1, 0, 1, 0, 1, 0, 1, 1, 1, 0, 0, 1, 1, 1, 1, 0,\n",
       "       0, 1, 1, 1, 1, 0, 0, 1, 1, 0, 1, 1, 0, 1, 0, 1, 1, 0, 0, 0, 0, 0,\n",
       "       0, 1, 0, 0, 0, 0, 0, 1, 0, 0, 1, 0, 0, 0, 0, 0, 1, 0, 0, 1, 0, 0,\n",
       "       1, 0, 0, 0, 1, 0, 1, 0, 0, 1, 1, 0, 1, 1, 0, 0, 1, 1, 1, 0, 1, 1,\n",
       "       1, 0, 0, 1, 0, 1, 0, 1, 0, 0, 0, 0, 0, 1, 1, 1, 0, 0, 1, 1, 0, 0,\n",
       "       0, 0, 1, 1, 1, 1, 0, 0, 0, 0, 0, 0, 1, 1, 0, 1, 1, 0, 0, 0, 0, 0,\n",
       "       1, 0, 0, 0, 0, 1, 1, 1, 1, 0, 1, 0, 1, 0, 0, 1, 0, 0, 1, 0, 1, 0,\n",
       "       1, 1, 1, 0, 0, 1, 1, 1, 1, 0, 0, 1, 0, 0, 1, 0, 1, 1, 1, 0, 1, 0,\n",
       "       1, 1, 0, 0, 0, 0, 1, 1, 1, 1, 1, 1, 1, 0, 1, 0, 1, 0, 1, 0, 0, 1,\n",
       "       0, 1, 1, 1, 1, 0, 1, 0, 1, 1, 1, 1, 1, 0, 1, 1, 0, 1, 0, 0, 1, 1,\n",
       "       1, 0, 1, 0, 0, 0, 0, 1, 1, 0, 1, 1, 0, 0, 1, 0, 1, 1, 1, 1, 0, 0,\n",
       "       1, 1, 1, 1, 1, 0, 1, 1, 0, 0, 1, 0, 1, 1, 1, 0, 1, 0, 1, 1, 0, 1,\n",
       "       0, 1, 1, 1, 0, 1, 1, 0, 0, 1, 0, 1, 0, 1, 1, 0, 1, 0, 0, 0, 1, 0,\n",
       "       1, 0, 0, 0, 1, 0, 0, 0, 1, 0, 1, 0, 0, 0, 1, 1, 0, 0, 1, 1, 0, 0,\n",
       "       0, 0, 0, 0, 1, 0, 0, 0, 1, 0, 1, 1, 1, 0, 1, 0, 0, 1, 1, 1, 1, 0,\n",
       "       1, 1, 1, 0, 1, 1, 0, 1, 1, 0, 0, 0, 1, 1, 1, 0, 1, 1, 1, 0, 0, 1,\n",
       "       0, 1, 1, 1, 1, 0, 0, 0, 1, 0, 0, 0, 0, 0, 1, 0, 1, 1, 0, 1, 0, 0,\n",
       "       0, 0, 1, 0, 1, 0, 0, 1, 1, 1, 1, 0, 0, 0, 0, 1, 0, 1, 1, 1, 0, 0,\n",
       "       1, 0, 1, 0, 0, 1, 1, 1, 0, 0, 1, 0, 1, 1, 0, 0, 0, 0, 0, 1, 0, 1,\n",
       "       0, 1, 0, 1, 0, 1, 1, 0, 0, 1, 0, 0, 1, 1, 1])"
      ]
     },
     "execution_count": 22,
     "metadata": {},
     "output_type": "execute_result"
    }
   ],
   "source": [
    "Y_train"
   ]
  },
  {
   "cell_type": "markdown",
   "metadata": {},
   "source": [
    "# MODEL CONFIG"
   ]
  },
  {
   "cell_type": "code",
   "execution_count": 80,
   "metadata": {},
   "outputs": [],
   "source": [
    "# import the Python Class LogisticRegression for CLASSIFICATION\n",
    "\n",
    "\n",
    "\n",
    "from sklearn.linear_model import LogisticRegression\n",
    "\n",
    "\n",
    "\n",
    "\n",
    "\n",
    "\n",
    "classify = LogisticRegression(\n",
    "    \n",
    "    random_state=100, max_iter=10000, \n",
    "                              \n",
    "    penalty='l1', solver='saga', \n",
    "                              \n",
    "    verbose=True, n_jobs=-1\n",
    ") \n",
    "\n",
    "??LogisticRegression    "
   ]
  },
  {
   "cell_type": "markdown",
   "metadata": {},
   "source": [
    "# training the model\n"
   ]
  },
  {
   "cell_type": "code",
   "execution_count": 24,
   "metadata": {},
   "outputs": [
    {
     "name": "stderr",
     "output_type": "stream",
     "text": [
      "[Parallel(n_jobs=-1)]: Using backend ThreadingBackend with 4 concurrent workers.\n"
     ]
    },
    {
     "name": "stdout",
     "output_type": "stream",
     "text": [
      "convergence after 3176 epochs took 3 seconds\n"
     ]
    },
    {
     "name": "stderr",
     "output_type": "stream",
     "text": [
      "[Parallel(n_jobs=-1)]: Done   1 out of   1 | elapsed:    2.8s finished\n"
     ]
    },
    {
     "data": {
      "text/html": [
       "<style>#sk-container-id-1 {color: black;background-color: white;}#sk-container-id-1 pre{padding: 0;}#sk-container-id-1 div.sk-toggleable {background-color: white;}#sk-container-id-1 label.sk-toggleable__label {cursor: pointer;display: block;width: 100%;margin-bottom: 0;padding: 0.3em;box-sizing: border-box;text-align: center;}#sk-container-id-1 label.sk-toggleable__label-arrow:before {content: \"▸\";float: left;margin-right: 0.25em;color: #696969;}#sk-container-id-1 label.sk-toggleable__label-arrow:hover:before {color: black;}#sk-container-id-1 div.sk-estimator:hover label.sk-toggleable__label-arrow:before {color: black;}#sk-container-id-1 div.sk-toggleable__content {max-height: 0;max-width: 0;overflow: hidden;text-align: left;background-color: #f0f8ff;}#sk-container-id-1 div.sk-toggleable__content pre {margin: 0.2em;color: black;border-radius: 0.25em;background-color: #f0f8ff;}#sk-container-id-1 input.sk-toggleable__control:checked~div.sk-toggleable__content {max-height: 200px;max-width: 100%;overflow: auto;}#sk-container-id-1 input.sk-toggleable__control:checked~label.sk-toggleable__label-arrow:before {content: \"▾\";}#sk-container-id-1 div.sk-estimator input.sk-toggleable__control:checked~label.sk-toggleable__label {background-color: #d4ebff;}#sk-container-id-1 div.sk-label input.sk-toggleable__control:checked~label.sk-toggleable__label {background-color: #d4ebff;}#sk-container-id-1 input.sk-hidden--visually {border: 0;clip: rect(1px 1px 1px 1px);clip: rect(1px, 1px, 1px, 1px);height: 1px;margin: -1px;overflow: hidden;padding: 0;position: absolute;width: 1px;}#sk-container-id-1 div.sk-estimator {font-family: monospace;background-color: #f0f8ff;border: 1px dotted black;border-radius: 0.25em;box-sizing: border-box;margin-bottom: 0.5em;}#sk-container-id-1 div.sk-estimator:hover {background-color: #d4ebff;}#sk-container-id-1 div.sk-parallel-item::after {content: \"\";width: 100%;border-bottom: 1px solid gray;flex-grow: 1;}#sk-container-id-1 div.sk-label:hover label.sk-toggleable__label {background-color: #d4ebff;}#sk-container-id-1 div.sk-serial::before {content: \"\";position: absolute;border-left: 1px solid gray;box-sizing: border-box;top: 0;bottom: 0;left: 50%;z-index: 0;}#sk-container-id-1 div.sk-serial {display: flex;flex-direction: column;align-items: center;background-color: white;padding-right: 0.2em;padding-left: 0.2em;position: relative;}#sk-container-id-1 div.sk-item {position: relative;z-index: 1;}#sk-container-id-1 div.sk-parallel {display: flex;align-items: stretch;justify-content: center;background-color: white;position: relative;}#sk-container-id-1 div.sk-item::before, #sk-container-id-1 div.sk-parallel-item::before {content: \"\";position: absolute;border-left: 1px solid gray;box-sizing: border-box;top: 0;bottom: 0;left: 50%;z-index: -1;}#sk-container-id-1 div.sk-parallel-item {display: flex;flex-direction: column;z-index: 1;position: relative;background-color: white;}#sk-container-id-1 div.sk-parallel-item:first-child::after {align-self: flex-end;width: 50%;}#sk-container-id-1 div.sk-parallel-item:last-child::after {align-self: flex-start;width: 50%;}#sk-container-id-1 div.sk-parallel-item:only-child::after {width: 0;}#sk-container-id-1 div.sk-dashed-wrapped {border: 1px dashed gray;margin: 0 0.4em 0.5em 0.4em;box-sizing: border-box;padding-bottom: 0.4em;background-color: white;}#sk-container-id-1 div.sk-label label {font-family: monospace;font-weight: bold;display: inline-block;line-height: 1.2em;}#sk-container-id-1 div.sk-label-container {text-align: center;}#sk-container-id-1 div.sk-container {/* jupyter's `normalize.less` sets `[hidden] { display: none; }` but bootstrap.min.css set `[hidden] { display: none !important; }` so we also need the `!important` here to be able to override the default hidden behavior on the sphinx rendered scikit-learn.org. See: https://github.com/scikit-learn/scikit-learn/issues/21755 */display: inline-block !important;position: relative;}#sk-container-id-1 div.sk-text-repr-fallback {display: none;}</style><div id=\"sk-container-id-1\" class=\"sk-top-container\"><div class=\"sk-text-repr-fallback\"><pre>LogisticRegression(max_iter=10000, n_jobs=-1, penalty=&#x27;none&#x27;, random_state=100,\n",
       "                   solver=&#x27;saga&#x27;, verbose=True)</pre><b>In a Jupyter environment, please rerun this cell to show the HTML representation or trust the notebook. <br />On GitHub, the HTML representation is unable to render, please try loading this page with nbviewer.org.</b></div><div class=\"sk-container\" hidden><div class=\"sk-item\"><div class=\"sk-estimator sk-toggleable\"><input class=\"sk-toggleable__control sk-hidden--visually\" id=\"sk-estimator-id-1\" type=\"checkbox\" checked><label for=\"sk-estimator-id-1\" class=\"sk-toggleable__label sk-toggleable__label-arrow\">LogisticRegression</label><div class=\"sk-toggleable__content\"><pre>LogisticRegression(max_iter=10000, n_jobs=-1, penalty=&#x27;none&#x27;, random_state=100,\n",
       "                   solver=&#x27;saga&#x27;, verbose=True)</pre></div></div></div></div></div>"
      ],
      "text/plain": [
       "LogisticRegression(max_iter=10000, n_jobs=-1, penalty='none', random_state=100,\n",
       "                   solver='saga', verbose=True)"
      ]
     },
     "execution_count": 24,
     "metadata": {},
     "output_type": "execute_result"
    }
   ],
   "source": [
    "\n",
    " \n",
    "classify.fit(X_train, Y_train)\n",
    "\n",
    "classify\n",
    "\n"
   ]
  },
  {
   "cell_type": "code",
   "execution_count": 25,
   "metadata": {},
   "outputs": [
    {
     "name": "stdout",
     "output_type": "stream",
     "text": [
      "[0.0023708]\n",
      "[[ 1.65316803e-02  1.75372216e-02  7.63366806e-02  1.43616884e-02\n",
      "   1.73953645e-04 -1.52771078e-04 -5.86886583e-04 -2.75758053e-04\n",
      "   3.36261376e-04  1.52496648e-04  2.19659377e-04  2.17925706e-03\n",
      "  -1.21128657e-03 -2.58524049e-02  1.44617445e-05 -1.98761093e-05\n",
      "  -6.36428284e-05 -1.46233424e-05  4.68325937e-05  3.85316710e-06\n",
      "   1.73335946e-02  2.08453681e-02  6.52795429e-02 -2.99861500e-02\n",
      "   2.13473085e-04 -5.69657527e-04 -1.31737022e-03 -4.13225686e-04\n",
      "   5.62761642e-04  1.41887624e-04]]\n"
     ]
    }
   ],
   "source": [
    "\n",
    "#To retrieve the intercept:\n",
    "print(classify.intercept_)\n",
    "\n",
    "#For retrieving the slope:\n",
    "print(classify.coef_)\n",
    "\n"
   ]
  },
  {
   "cell_type": "code",
   "execution_count": 26,
   "metadata": {},
   "outputs": [
    {
     "data": {
      "text/plain": [
       "array(['mean radius', 'mean texture', 'mean perimeter', 'mean area',\n",
       "       'mean smoothness', 'mean compactness', 'mean concavity',\n",
       "       'mean concave points', 'mean symmetry', 'mean fractal dimension',\n",
       "       'radius error', 'texture error', 'perimeter error', 'area error',\n",
       "       'smoothness error', 'compactness error', 'concavity error',\n",
       "       'concave points error', 'symmetry error',\n",
       "       'fractal dimension error', 'worst radius', 'worst texture',\n",
       "       'worst perimeter', 'worst area', 'worst smoothness',\n",
       "       'worst compactness', 'worst concavity', 'worst concave points',\n",
       "       'worst symmetry', 'worst fractal dimension'], dtype='<U23')"
      ]
     },
     "execution_count": 26,
     "metadata": {},
     "output_type": "execute_result"
    }
   ],
   "source": [
    "dt.feature_names\n"
   ]
  },
  {
   "cell_type": "code",
   "execution_count": 40,
   "metadata": {},
   "outputs": [
    {
     "data": {
      "text/plain": [
       "0.9118236472945892"
      ]
     },
     "execution_count": 40,
     "metadata": {},
     "output_type": "execute_result"
    }
   ],
   "source": [
    "\n",
    "#train accuracy score\n",
    "\n",
    "classify.score(X_train,Y_train)\n",
    "\n",
    "\n",
    "#0.9118"
   ]
  },
  {
   "cell_type": "markdown",
   "metadata": {},
   "source": [
    "# TEST PHASE"
   ]
  },
  {
   "cell_type": "code",
   "execution_count": 46,
   "metadata": {},
   "outputs": [
    {
     "data": {
      "text/plain": [
       "array([0, 1, 1, 1, 0, 0, 1, 1, 0, 1, 1, 0, 0, 1, 1, 1, 1, 1, 0, 0, 0, 1,\n",
       "       0, 0, 0, 0, 0, 1, 0, 0, 1, 0, 1, 0, 0, 1, 1, 0, 0, 1, 1, 1, 1, 0,\n",
       "       1, 1, 0, 1, 0, 1, 1, 0, 0, 0, 0, 0, 1, 1, 0, 1, 1, 1, 1, 1, 0, 0,\n",
       "       1, 0, 0, 0, 0, 0, 1, 1, 1, 0, 1, 0, 0, 0, 1, 1, 1, 1, 0, 1, 0, 1,\n",
       "       1, 0, 0, 0, 1, 0, 1, 0, 1, 1, 1, 1, 0, 0, 1, 0, 0, 0, 1, 0, 0, 1,\n",
       "       0, 1, 0, 0, 0, 0, 1, 0, 1, 0, 1, 1, 0, 0, 0, 0, 0, 0, 1, 1, 1, 0,\n",
       "       1, 1, 0, 1, 1, 1, 1, 0, 0, 1, 1, 0, 1, 0, 0, 1, 1, 0, 0, 1, 0, 1,\n",
       "       1, 1, 1, 1, 0, 0, 0, 1, 0, 0, 0, 1, 0, 1, 0, 1, 0, 1, 0, 0, 1, 0,\n",
       "       0, 1, 0, 0, 0, 1, 1, 1, 1, 1, 1, 1, 0, 0, 1, 0, 0, 0, 1, 0, 0, 0,\n",
       "       0, 0, 1, 1, 1, 1, 0, 0, 0, 1, 1, 0, 1, 0, 1, 1, 0])"
      ]
     },
     "execution_count": 46,
     "metadata": {},
     "output_type": "execute_result"
    }
   ],
   "source": [
    "Y_predicted = classify.predict(X_test)\n",
    "\n",
    "\n",
    "\n",
    "\n",
    "y_pred=Y_predicted\n",
    "\n",
    "Y_predicted\n",
    "\n",
    "\n"
   ]
  },
  {
   "cell_type": "code",
   "execution_count": 30,
   "metadata": {},
   "outputs": [],
   "source": [
    "??classify.predict_proba"
   ]
  },
  {
   "cell_type": "markdown",
   "metadata": {},
   "source": [
    "# actual probability value"
   ]
  },
  {
   "cell_type": "code",
   "execution_count": 31,
   "metadata": {},
   "outputs": [
    {
     "data": {
      "text/plain": [
       "array([[9.51647360e-01, 4.83526397e-02],\n",
       "       [3.94828606e-01, 6.05171394e-01],\n",
       "       [6.05822459e-02, 9.39417754e-01],\n",
       "       [1.04476505e-01, 8.95523495e-01],\n",
       "       [9.99498748e-01, 5.01251625e-04],\n",
       "       [9.99997969e-01, 2.03093041e-06],\n",
       "       [6.85487145e-02, 9.31451285e-01],\n",
       "       [7.29609567e-02, 9.27039043e-01],\n",
       "       [8.65100545e-01, 1.34899455e-01],\n",
       "       [1.26541875e-01, 8.73458125e-01],\n",
       "       [1.94510739e-01, 8.05489261e-01],\n",
       "       [9.23288261e-01, 7.67117385e-02],\n",
       "       [8.95453183e-01, 1.04546817e-01],\n",
       "       [1.80350623e-02, 9.81964938e-01],\n",
       "       [8.14879658e-02, 9.18512034e-01],\n",
       "       [1.56404213e-01, 8.43595787e-01],\n",
       "       [6.71071898e-02, 9.32892810e-01],\n",
       "       [4.56740519e-01, 5.43259481e-01],\n",
       "       [9.98292156e-01, 1.70784352e-03],\n",
       "       [9.95010889e-01, 4.98911136e-03],\n",
       "       [6.23271210e-01, 3.76728790e-01],\n",
       "       [3.72138656e-01, 6.27861344e-01],\n",
       "       [9.82748953e-01, 1.72510465e-02],\n",
       "       [7.76293510e-01, 2.23706490e-01],\n",
       "       [8.87176115e-01, 1.12823885e-01],\n",
       "       [7.87259338e-01, 2.12740662e-01],\n",
       "       [9.99993224e-01, 6.77589140e-06],\n",
       "       [1.75039162e-02, 9.82496084e-01],\n",
       "       [9.99999787e-01, 2.13347096e-07],\n",
       "       [7.76271979e-01, 2.23728021e-01],\n",
       "       [1.97470879e-01, 8.02529121e-01],\n",
       "       [9.98773223e-01, 1.22677691e-03],\n",
       "       [6.54870650e-02, 9.34512935e-01],\n",
       "       [7.84466700e-01, 2.15533300e-01],\n",
       "       [1.00000000e+00, 1.66152765e-11],\n",
       "       [1.28781612e-01, 8.71218388e-01],\n",
       "       [7.25511249e-02, 9.27448875e-01],\n",
       "       [1.00000000e+00, 1.19009060e-15],\n",
       "       [1.00000000e+00, 5.13684918e-13],\n",
       "       [4.28237578e-02, 9.57176242e-01],\n",
       "       [1.30188648e-01, 8.69811352e-01],\n",
       "       [5.54626362e-02, 9.44537364e-01],\n",
       "       [6.11919935e-02, 9.38808007e-01],\n",
       "       [9.99200164e-01, 7.99835841e-04],\n",
       "       [9.85713250e-02, 9.01428675e-01],\n",
       "       [9.58948625e-02, 9.04105137e-01],\n",
       "       [9.72900045e-01, 2.70999551e-02],\n",
       "       [3.19482933e-02, 9.68051707e-01],\n",
       "       [1.00000000e+00, 2.15323076e-10],\n",
       "       [6.38312153e-02, 9.36168785e-01],\n",
       "       [6.36856387e-02, 9.36314361e-01],\n",
       "       [9.82555006e-01, 1.74449944e-02],\n",
       "       [9.99962691e-01, 3.73087261e-05],\n",
       "       [8.45752210e-01, 1.54247790e-01],\n",
       "       [9.98741549e-01, 1.25845131e-03],\n",
       "       [9.99998057e-01, 1.94253761e-06],\n",
       "       [1.66924815e-02, 9.83307519e-01],\n",
       "       [2.68919909e-02, 9.73108009e-01],\n",
       "       [5.71116922e-01, 4.28883078e-01],\n",
       "       [1.01761794e-01, 8.98238206e-01],\n",
       "       [1.27846887e-02, 9.87215311e-01],\n",
       "       [6.97445554e-02, 9.30255445e-01],\n",
       "       [3.94542300e-01, 6.05457700e-01],\n",
       "       [3.35636415e-02, 9.66436358e-01],\n",
       "       [6.23637680e-01, 3.76362320e-01],\n",
       "       [5.66605028e-01, 4.33394972e-01],\n",
       "       [2.52345549e-01, 7.47654451e-01],\n",
       "       [7.30308754e-01, 2.69691246e-01],\n",
       "       [9.99997293e-01, 2.70662016e-06],\n",
       "       [9.99976191e-01, 2.38092341e-05],\n",
       "       [9.99999997e-01, 3.30177467e-09],\n",
       "       [9.93531222e-01, 6.46877809e-03],\n",
       "       [3.84940774e-02, 9.61505923e-01],\n",
       "       [2.11990318e-01, 7.88009682e-01],\n",
       "       [3.84335944e-02, 9.61566406e-01],\n",
       "       [9.62812577e-01, 3.71874230e-02],\n",
       "       [3.57305677e-01, 6.42694323e-01],\n",
       "       [5.89173043e-01, 4.10826957e-01],\n",
       "       [9.99999998e-01, 1.62624800e-09],\n",
       "       [5.66605028e-01, 4.33394972e-01],\n",
       "       [7.68230067e-02, 9.23176993e-01],\n",
       "       [1.81116320e-02, 9.81888368e-01],\n",
       "       [1.19853736e-02, 9.88014626e-01],\n",
       "       [6.07146114e-02, 9.39285389e-01],\n",
       "       [9.93769087e-01, 6.23091313e-03],\n",
       "       [4.00185055e-02, 9.59981495e-01],\n",
       "       [9.28999981e-01, 7.10000191e-02],\n",
       "       [1.15251583e-01, 8.84748417e-01],\n",
       "       [2.32268382e-02, 9.76773162e-01],\n",
       "       [7.75418534e-01, 2.24581466e-01],\n",
       "       [9.99641794e-01, 3.58205667e-04],\n",
       "       [9.96154649e-01, 3.84535070e-03],\n",
       "       [1.04722011e-01, 8.95277989e-01],\n",
       "       [9.91009341e-01, 8.99065871e-03],\n",
       "       [3.20018963e-01, 6.79981037e-01],\n",
       "       [9.44746189e-01, 5.52538113e-02],\n",
       "       [5.41602139e-02, 9.45839786e-01],\n",
       "       [4.01363360e-02, 9.59863664e-01],\n",
       "       [3.06438691e-01, 6.93561309e-01],\n",
       "       [1.58655646e-01, 8.41344354e-01],\n",
       "       [1.00000000e+00, 6.51448595e-13],\n",
       "       [9.98926532e-01, 1.07346753e-03],\n",
       "       [3.23046336e-02, 9.67695366e-01],\n",
       "       [8.45738177e-01, 1.54261823e-01],\n",
       "       [9.99999998e-01, 1.64565515e-09],\n",
       "       [7.84818187e-01, 2.15181813e-01],\n",
       "       [1.75764005e-02, 9.82423599e-01],\n",
       "       [1.00000000e+00, 2.96241780e-12],\n",
       "       [9.99788128e-01, 2.11871553e-04],\n",
       "       [5.95106977e-02, 9.40489302e-01],\n",
       "       [9.62425976e-01, 3.75740240e-02],\n",
       "       [2.21200751e-02, 9.77879925e-01],\n",
       "       [9.72521975e-01, 2.74780247e-02],\n",
       "       [7.88286818e-01, 2.11713182e-01],\n",
       "       [9.50692923e-01, 4.93070773e-02],\n",
       "       [5.99439979e-01, 4.00560021e-01],\n",
       "       [8.89002421e-02, 9.11099758e-01],\n",
       "       [5.78622708e-01, 4.21377292e-01],\n",
       "       [1.04582516e-02, 9.89541748e-01],\n",
       "       [9.94303031e-01, 5.69696886e-03],\n",
       "       [4.49674358e-02, 9.55032564e-01],\n",
       "       [1.50586002e-01, 8.49413998e-01],\n",
       "       [9.72090176e-01, 2.79098238e-02],\n",
       "       [9.94473907e-01, 5.52609300e-03],\n",
       "       [9.99885960e-01, 1.14040028e-04],\n",
       "       [9.99990408e-01, 9.59173531e-06],\n",
       "       [9.91319452e-01, 8.68054768e-03],\n",
       "       [9.62801766e-01, 3.71982340e-02],\n",
       "       [8.11801693e-02, 9.18819831e-01],\n",
       "       [5.67050093e-02, 9.43294991e-01],\n",
       "       [2.67682390e-02, 9.73231761e-01],\n",
       "       [9.99998026e-01, 1.97381937e-06],\n",
       "       [3.94545962e-02, 9.60545404e-01],\n",
       "       [1.54272438e-01, 8.45727562e-01],\n",
       "       [9.99958454e-01, 4.15456204e-05],\n",
       "       [3.41519168e-02, 9.65848083e-01],\n",
       "       [2.18093113e-02, 9.78190689e-01],\n",
       "       [1.87437919e-01, 8.12562081e-01],\n",
       "       [1.74933400e-01, 8.25066600e-01],\n",
       "       [5.69114525e-01, 4.30885475e-01],\n",
       "       [9.96642407e-01, 3.35759282e-03],\n",
       "       [9.12132537e-02, 9.08786746e-01],\n",
       "       [4.32000252e-02, 9.56799975e-01],\n",
       "       [5.09554342e-01, 4.90445658e-01],\n",
       "       [2.50712009e-02, 9.74928799e-01],\n",
       "       [5.66605028e-01, 4.33394972e-01],\n",
       "       [9.98047438e-01, 1.95256237e-03],\n",
       "       [2.46930674e-02, 9.75306933e-01],\n",
       "       [1.53026496e-02, 9.84697350e-01],\n",
       "       [5.66758702e-01, 4.33241298e-01],\n",
       "       [9.99987742e-01, 1.22584685e-05],\n",
       "       [4.11988068e-01, 5.88011932e-01],\n",
       "       [9.92962685e-01, 7.03731540e-03],\n",
       "       [1.66555195e-02, 9.83344481e-01],\n",
       "       [1.54076526e-02, 9.84592347e-01],\n",
       "       [2.34520510e-01, 7.65479490e-01],\n",
       "       [2.13248363e-01, 7.86751637e-01],\n",
       "       [1.02125041e-01, 8.97874959e-01],\n",
       "       [9.72522297e-01, 2.74777031e-02],\n",
       "       [9.97815613e-01, 2.18438679e-03],\n",
       "       [9.02500863e-01, 9.74991375e-02],\n",
       "       [3.21539145e-01, 6.78460855e-01],\n",
       "       [9.96380137e-01, 3.61986299e-03],\n",
       "       [9.93640999e-01, 6.35900081e-03],\n",
       "       [9.98775762e-01, 1.22423833e-03],\n",
       "       [8.09806134e-02, 9.19019387e-01],\n",
       "       [1.00000000e+00, 3.43324337e-27],\n",
       "       [1.53909975e-02, 9.84609003e-01],\n",
       "       [9.72522297e-01, 2.74777031e-02],\n",
       "       [4.66174378e-01, 5.33825622e-01],\n",
       "       [9.94089121e-01, 5.91087922e-03],\n",
       "       [1.33622237e-01, 8.66377763e-01],\n",
       "       [8.36845839e-01, 1.63154161e-01],\n",
       "       [1.00000000e+00, 9.95690230e-11],\n",
       "       [9.37711726e-02, 9.06228827e-01],\n",
       "       [5.89810510e-01, 4.10189490e-01],\n",
       "       [9.99993224e-01, 6.77589140e-06],\n",
       "       [7.11561008e-02, 9.28843899e-01],\n",
       "       [5.31141774e-01, 4.68858226e-01],\n",
       "       [9.99959836e-01, 4.01640286e-05],\n",
       "       [9.98349151e-01, 1.65084907e-03],\n",
       "       [2.77427038e-02, 9.72257296e-01],\n",
       "       [4.31891393e-02, 9.56810861e-01],\n",
       "       [6.90073973e-02, 9.30992603e-01],\n",
       "       [1.79682477e-02, 9.82031752e-01],\n",
       "       [2.19839366e-02, 9.78016063e-01],\n",
       "       [1.02035940e-01, 8.97964060e-01],\n",
       "       [1.54368298e-01, 8.45631702e-01],\n",
       "       [9.99949555e-01, 5.04454023e-05],\n",
       "       [6.44084453e-01, 3.55915547e-01],\n",
       "       [8.50766586e-02, 9.14923341e-01],\n",
       "       [9.96747404e-01, 3.25259583e-03],\n",
       "       [9.99894896e-01, 1.05104477e-04],\n",
       "       [9.96872473e-01, 3.12752698e-03],\n",
       "       [2.88527032e-01, 7.11472968e-01],\n",
       "       [9.92174337e-01, 7.82566337e-03],\n",
       "       [5.04801218e-01, 4.95198782e-01],\n",
       "       [9.88157417e-01, 1.18425827e-02],\n",
       "       [8.48396289e-01, 1.51603711e-01],\n",
       "       [9.27496880e-01, 7.25031198e-02],\n",
       "       [8.51382894e-02, 9.14861711e-01],\n",
       "       [2.01502783e-01, 7.98497217e-01],\n",
       "       [6.81136414e-02, 9.31886359e-01],\n",
       "       [1.87088098e-01, 8.12911902e-01],\n",
       "       [1.00000000e+00, 3.14187689e-16],\n",
       "       [9.02500863e-01, 9.74991375e-02],\n",
       "       [6.43753494e-01, 3.56246506e-01],\n",
       "       [7.90140165e-02, 9.20985983e-01],\n",
       "       [8.96611758e-02, 9.10338824e-01],\n",
       "       [9.99986503e-01, 1.34970671e-05],\n",
       "       [7.47938623e-02, 9.25206138e-01],\n",
       "       [9.99999990e-01, 1.00244415e-08],\n",
       "       [1.13876304e-01, 8.86123696e-01],\n",
       "       [5.80902344e-02, 9.41909766e-01],\n",
       "       [6.34261539e-01, 3.65738461e-01]])"
      ]
     },
     "execution_count": 31,
     "metadata": {},
     "output_type": "execute_result"
    }
   ],
   "source": [
    "Y_probability = classify.predict_proba(X_test)\n",
    "\n",
    "\n",
    "\n",
    "\n",
    "Y_probability"
   ]
  },
  {
   "cell_type": "code",
   "execution_count": 43,
   "metadata": {},
   "outputs": [
    {
     "data": {
      "text/plain": [
       "1"
      ]
     },
     "execution_count": 43,
     "metadata": {},
     "output_type": "execute_result"
    }
   ],
   "source": [
    "import numpy as np\n",
    "\n",
    "np.argmax([.03, 3, .002, .9])\n",
    "\n",
    "#max([.03, 3, .002, .9])"
   ]
  },
  {
   "cell_type": "code",
   "execution_count": 49,
   "metadata": {},
   "outputs": [
    {
     "name": "stdout",
     "output_type": "stream",
     "text": [
      "[0.95164736 0.04835264] ---- 0 --- 0.9516473602611883\n",
      "[0.39482861 0.60517139] ---- 1 --- 0.6051713941176003\n",
      "[0.06058225 0.93941775] ---- 1 --- 0.9394177540782818\n",
      "[0.10447651 0.89552349] ---- 1 --- 0.8955234948167643\n",
      "[9.99498748e-01 5.01251625e-04] ---- 0 --- 0.9994987483748131\n",
      "[9.99997969e-01 2.03093041e-06] ---- 0 --- 0.9999979690695949\n",
      "[0.06854871 0.93145129] ---- 1 --- 0.9314512854968976\n",
      "[0.07296096 0.92703904] ---- 1 --- 0.9270390433255521\n",
      "[0.86510055 0.13489945] ---- 0 --- 0.8651005453415871\n",
      "[0.12654187 0.87345813] ---- 1 --- 0.873458125464086\n",
      "[0.19451074 0.80548926] ---- 1 --- 0.8054892609344344\n",
      "[0.92328826 0.07671174] ---- 0 --- 0.9232882614772766\n",
      "[0.89545318 0.10454682] ---- 0 --- 0.895453183068692\n",
      "[0.01803506 0.98196494] ---- 1 --- 0.9819649377153647\n",
      "[0.08148797 0.91851203] ---- 1 --- 0.9185120341827454\n",
      "[0.15640421 0.84359579] ---- 1 --- 0.8435957866281292\n",
      "[0.06710719 0.93289281] ---- 1 --- 0.9328928101545133\n",
      "[0.45674052 0.54325948] ---- 1 --- 0.5432594813329148\n",
      "[0.99829216 0.00170784] ---- 0 --- 0.9982921564821641\n",
      "[0.99501089 0.00498911] ---- 0 --- 0.9950108886378493\n",
      "[0.62327121 0.37672879] ---- 0 --- 0.6232712096417887\n",
      "[0.37213866 0.62786134] ---- 1 --- 0.6278613440003077\n",
      "[0.98274895 0.01725105] ---- 0 --- 0.9827489534626545\n",
      "[0.77629351 0.22370649] ---- 0 --- 0.7762935103342536\n",
      "[0.88717612 0.11282388] ---- 0 --- 0.8871761150904175\n",
      "[0.78725934 0.21274066] ---- 0 --- 0.7872593377504319\n",
      "[9.99993224e-01 6.77589140e-06] ---- 0 --- 0.9999932241086\n",
      "[0.01750392 0.98249608] ---- 1 --- 0.9824960837568258\n",
      "[9.99999787e-01 2.13347096e-07] ---- 0 --- 0.9999997866529041\n",
      "[0.77627198 0.22372802] ---- 0 --- 0.7762719787099002\n",
      "[0.19747088 0.80252912] ---- 1 --- 0.802529120547702\n",
      "[0.99877322 0.00122678] ---- 0 --- 0.9987732230867437\n",
      "[0.06548707 0.93451293] ---- 1 --- 0.9345129349637938\n",
      "[0.7844667 0.2155333] ---- 0 --- 0.78446670017069\n",
      "[1.00000000e+00 1.66152765e-11] ---- 0 --- 0.9999999999833847\n",
      "[0.12878161 0.87121839] ---- 1 --- 0.8712183884277963\n",
      "[0.07255112 0.92744888] ---- 1 --- 0.9274488750531594\n",
      "[1.0000000e+00 1.1900906e-15] ---- 0 --- 0.9999999999999988\n",
      "[1.00000000e+00 5.13684918e-13] ---- 0 --- 0.9999999999994863\n",
      "[0.04282376 0.95717624] ---- 1 --- 0.957176242236838\n",
      "[0.13018865 0.86981135] ---- 1 --- 0.8698113522979234\n",
      "[0.05546264 0.94453736] ---- 1 --- 0.9445373637725877\n",
      "[0.06119199 0.93880801] ---- 1 --- 0.9388080065177504\n",
      "[9.99200164e-01 7.99835841e-04] ---- 0 --- 0.9992001641585252\n",
      "[0.09857132 0.90142868] ---- 1 --- 0.9014286750119314\n",
      "[0.09589486 0.90410514] ---- 1 --- 0.9041051374584611\n",
      "[0.97290004 0.02709996] ---- 0 --- 0.9729000449053473\n",
      "[0.03194829 0.96805171] ---- 1 --- 0.9680517066876821\n",
      "[1.00000000e+00 2.15323076e-10] ---- 0 --- 0.9999999997846769\n",
      "[0.06383122 0.93616878] ---- 1 --- 0.9361687846991332\n",
      "[0.06368564 0.93631436] ---- 1 --- 0.9363143613161482\n",
      "[0.98255501 0.01744499] ---- 0 --- 0.9825550056133204\n",
      "[9.99962691e-01 3.73087261e-05] ---- 0 --- 0.9999626912738656\n",
      "[0.84575221 0.15424779] ---- 0 --- 0.8457522100565831\n",
      "[0.99874155 0.00125845] ---- 0 --- 0.9987415486902349\n",
      "[9.99998057e-01 1.94253761e-06] ---- 0 --- 0.9999980574623945\n",
      "[0.01669248 0.98330752] ---- 1 --- 0.9833075185164922\n",
      "[0.02689199 0.97310801] ---- 1 --- 0.9731080090595003\n",
      "[0.57111692 0.42888308] ---- 0 --- 0.571116921590467\n",
      "[0.10176179 0.89823821] ---- 1 --- 0.8982382063525053\n",
      "[0.01278469 0.98721531] ---- 1 --- 0.9872153112597231\n",
      "[0.06974456 0.93025544] ---- 1 --- 0.9302554445565532\n",
      "[0.3945423 0.6054577] ---- 1 --- 0.6054577000709983\n",
      "[0.03356364 0.96643636] ---- 1 --- 0.9664363584894758\n",
      "[0.62363768 0.37636232] ---- 0 --- 0.6236376796483156\n",
      "[0.56660503 0.43339497] ---- 0 --- 0.5666050279240312\n",
      "[0.25234555 0.74765445] ---- 1 --- 0.747654450538613\n",
      "[0.73030875 0.26969125] ---- 0 --- 0.73030875413676\n",
      "[9.99997293e-01 2.70662016e-06] ---- 0 --- 0.999997293379838\n",
      "[9.99976191e-01 2.38092341e-05] ---- 0 --- 0.9999761907659159\n",
      "[9.99999997e-01 3.30177467e-09] ---- 0 --- 0.9999999966982254\n",
      "[0.99353122 0.00646878] ---- 0 --- 0.9935312219090018\n",
      "[0.03849408 0.96150592] ---- 1 --- 0.9615059225631084\n",
      "[0.21199032 0.78800968] ---- 1 --- 0.7880096816411675\n",
      "[0.03843359 0.96156641] ---- 1 --- 0.9615664055785669\n",
      "[0.96281258 0.03718742] ---- 0 --- 0.9628125769824887\n",
      "[0.35730568 0.64269432] ---- 1 --- 0.6426943233496255\n",
      "[0.58917304 0.41082696] ---- 0 --- 0.5891730431143516\n",
      "[9.99999998e-01 1.62624800e-09] ---- 0 --- 0.999999998373752\n",
      "[0.56660503 0.43339497] ---- 0 --- 0.5666050279240312\n",
      "[0.07682301 0.92317699] ---- 1 --- 0.923176993296584\n",
      "[0.01811163 0.98188837] ---- 1 --- 0.9818883679664314\n",
      "[0.01198537 0.98801463] ---- 1 --- 0.9880146263941638\n",
      "[0.06071461 0.93928539] ---- 1 --- 0.9392853885947153\n",
      "[0.99376909 0.00623091] ---- 0 --- 0.9937690868715238\n",
      "[0.04001851 0.95998149] ---- 1 --- 0.9599814945016258\n",
      "[0.92899998 0.07100002] ---- 0 --- 0.9289999808734618\n",
      "[0.11525158 0.88474842] ---- 1 --- 0.8847484168042143\n",
      "[0.02322684 0.97677316] ---- 1 --- 0.9767731617786505\n",
      "[0.77541853 0.22458147] ---- 0 --- 0.775418534461172\n",
      "[9.99641794e-01 3.58205667e-04] ---- 0 --- 0.9996417943325583\n",
      "[0.99615465 0.00384535] ---- 0 --- 0.996154649300082\n",
      "[0.10472201 0.89527799] ---- 1 --- 0.8952779890754003\n",
      "[0.99100934 0.00899066] ---- 0 --- 0.991009341286317\n",
      "[0.32001896 0.67998104] ---- 1 --- 0.6799810370182627\n",
      "[0.94474619 0.05525381] ---- 0 --- 0.9447461886719624\n",
      "[0.05416021 0.94583979] ---- 1 --- 0.9458397860596854\n",
      "[0.04013634 0.95986366] ---- 1 --- 0.9598636639749608\n",
      "[0.30643869 0.69356131] ---- 1 --- 0.6935613090015383\n",
      "[0.15865565 0.84134435] ---- 1 --- 0.8413443542038209\n",
      "[1.00000000e+00 6.51448595e-13] ---- 0 --- 0.9999999999993485\n",
      "[0.99892653 0.00107347] ---- 0 --- 0.9989265324714878\n",
      "[0.03230463 0.96769537] ---- 1 --- 0.9676953664222399\n",
      "[0.84573818 0.15426182] ---- 0 --- 0.8457381770180411\n",
      "[9.99999998e-01 1.64565515e-09] ---- 0 --- 0.9999999983543448\n",
      "[0.78481819 0.21518181] ---- 0 --- 0.7848181870362683\n",
      "[0.0175764 0.9824236] ---- 1 --- 0.9824235994976198\n",
      "[1.0000000e+00 2.9624178e-12] ---- 0 --- 0.9999999999970376\n",
      "[9.99788128e-01 2.11871553e-04] ---- 0 --- 0.9997881284474928\n",
      "[0.0595107 0.9404893] ---- 1 --- 0.9404893023318971\n",
      "[0.96242598 0.03757402] ---- 0 --- 0.9624259759703578\n",
      "[0.02212008 0.97787992] ---- 1 --- 0.9778799248580055\n",
      "[0.97252198 0.02747802] ---- 0 --- 0.9725219753046842\n",
      "[0.78828682 0.21171318] ---- 0 --- 0.7882868183963643\n",
      "[0.95069292 0.04930708] ---- 0 --- 0.9506929226856821\n",
      "[0.59943998 0.40056002] ---- 0 --- 0.59943997945016\n",
      "[0.08890024 0.91109976] ---- 1 --- 0.91109975790872\n",
      "[0.57862271 0.42137729] ---- 0 --- 0.5786227083983313\n",
      "[0.01045825 0.98954175] ---- 1 --- 0.9895417483635724\n",
      "[0.99430303 0.00569697] ---- 0 --- 0.9943030311444051\n",
      "[0.04496744 0.95503256] ---- 1 --- 0.9550325641932971\n",
      "[0.150586 0.849414] ---- 1 --- 0.8494139979522536\n",
      "[0.97209018 0.02790982] ---- 0 --- 0.9720901762166433\n",
      "[0.99447391 0.00552609] ---- 0 --- 0.9944739069995635\n",
      "[9.99885960e-01 1.14040028e-04] ---- 0 --- 0.9998859599722397\n",
      "[9.99990408e-01 9.59173531e-06] ---- 0 --- 0.9999904082646934\n",
      "[0.99131945 0.00868055] ---- 0 --- 0.9913194523182245\n",
      "[0.96280177 0.03719823] ---- 0 --- 0.962801766024321\n",
      "[0.08118017 0.91881983] ---- 1 --- 0.9188198306740876\n",
      "[0.05670501 0.94329499] ---- 1 --- 0.9432949906699651\n",
      "[0.02676824 0.97323176] ---- 1 --- 0.9732317610286899\n",
      "[9.99998026e-01 1.97381937e-06] ---- 0 --- 0.9999980261806324\n",
      "[0.0394546 0.9605454] ---- 1 --- 0.9605454038262542\n",
      "[0.15427244 0.84572756] ---- 1 --- 0.8457275622574961\n",
      "[9.99958454e-01 4.15456204e-05] ---- 0 --- 0.9999584543796065\n",
      "[0.03415192 0.96584808] ---- 1 --- 0.9658480831701517\n",
      "[0.02180931 0.97819069] ---- 1 --- 0.9781906887059212\n",
      "[0.18743792 0.81256208] ---- 1 --- 0.8125620813725805\n",
      "[0.1749334 0.8250666] ---- 1 --- 0.8250665998422322\n",
      "[0.56911452 0.43088548] ---- 0 --- 0.5691145245042513\n",
      "[0.99664241 0.00335759] ---- 0 --- 0.996642407178282\n",
      "[0.09121325 0.90878675] ---- 1 --- 0.9087867462542834\n",
      "[0.04320003 0.95679997] ---- 1 --- 0.9567999747710924\n",
      "[0.50955434 0.49044566] ---- 0 --- 0.5095543424227522\n",
      "[0.0250712 0.9749288] ---- 1 --- 0.9749287990831002\n",
      "[0.56660503 0.43339497] ---- 0 --- 0.5666050279240312\n",
      "[0.99804744 0.00195256] ---- 0 --- 0.998047437627174\n",
      "[0.02469307 0.97530693] ---- 1 --- 0.9753069325974384\n",
      "[0.01530265 0.98469735] ---- 1 --- 0.9846973504499045\n",
      "[0.5667587 0.4332413] ---- 0 --- 0.5667587019274849\n",
      "[9.99987742e-01 1.22584685e-05] ---- 0 --- 0.9999877415315214\n",
      "[0.41198807 0.58801193] ---- 1 --- 0.5880119321761199\n",
      "[0.99296268 0.00703732] ---- 0 --- 0.9929626846024929\n",
      "[0.01665552 0.98334448] ---- 1 --- 0.9833444805462225\n",
      "[0.01540765 0.98459235] ---- 1 --- 0.9845923473888281\n",
      "[0.23452051 0.76547949] ---- 1 --- 0.7654794898608245\n",
      "[0.21324836 0.78675164] ---- 1 --- 0.7867516373163765\n",
      "[0.10212504 0.89787496] ---- 1 --- 0.8978749587297772\n",
      "[0.9725223 0.0274777] ---- 0 --- 0.9725222968787549\n",
      "[0.99781561 0.00218439] ---- 0 --- 0.9978156132073963\n",
      "[0.90250086 0.09749914] ---- 0 --- 0.9025008625471984\n",
      "[0.32153915 0.67846085] ---- 1 --- 0.6784608547536959\n",
      "[0.99638014 0.00361986] ---- 0 --- 0.9963801370111898\n",
      "[0.993641 0.006359] ---- 0 --- 0.9936409991864505\n",
      "[0.99877576 0.00122424] ---- 0 --- 0.9987757616713052\n",
      "[0.08098061 0.91901939] ---- 1 --- 0.9190193866004072\n",
      "[1.00000000e+00 3.43324337e-27] ---- 0 --- 1.0\n",
      "[0.015391 0.984609] ---- 1 --- 0.9846090025225889\n",
      "[0.9725223 0.0274777] ---- 0 --- 0.9725222968787549\n",
      "[0.46617438 0.53382562] ---- 1 --- 0.5338256221982465\n",
      "[0.99408912 0.00591088] ---- 0 --- 0.9940891207764052\n",
      "[0.13362224 0.86637776] ---- 1 --- 0.8663777633193143\n",
      "[0.83684584 0.16315416] ---- 0 --- 0.8368458385654899\n",
      "[1.0000000e+00 9.9569023e-11] ---- 0 --- 0.999999999900431\n",
      "[0.09377117 0.90622883] ---- 1 --- 0.9062288274158784\n",
      "[0.58981051 0.41018949] ---- 0 --- 0.5898105104806715\n",
      "[9.99993224e-01 6.77589140e-06] ---- 0 --- 0.9999932241086\n",
      "[0.0711561 0.9288439] ---- 1 --- 0.9288438991831758\n",
      "[0.53114177 0.46885823] ---- 0 --- 0.53114177391413\n",
      "[9.99959836e-01 4.01640286e-05] ---- 0 --- 0.9999598359714069\n",
      "[0.99834915 0.00165085] ---- 0 --- 0.9983491509292841\n",
      "[0.0277427 0.9722573] ---- 1 --- 0.9722572961602806\n",
      "[0.04318914 0.95681086] ---- 1 --- 0.9568108606556169\n",
      "[0.0690074 0.9309926] ---- 1 --- 0.9309926027258226\n",
      "[0.01796825 0.98203175] ---- 1 --- 0.9820317522745288\n",
      "[0.02198394 0.97801606] ---- 1 --- 0.9780160633911622\n",
      "[0.10203594 0.89796406] ---- 1 --- 0.8979640599052131\n",
      "[0.1543683 0.8456317] ---- 1 --- 0.8456317021883453\n"
     ]
    },
    {
     "name": "stdout",
     "output_type": "stream",
     "text": [
      "[9.99949555e-01 5.04454023e-05] ---- 0 --- 0.9999495545976738\n",
      "[0.64408445 0.35591555] ---- 0 --- 0.6440844534282419\n",
      "[0.08507666 0.91492334] ---- 1 --- 0.9149233413654163\n",
      "[0.9967474 0.0032526] ---- 0 --- 0.9967474041660519\n",
      "[9.99894896e-01 1.05104477e-04] ---- 0 --- 0.9998948955232907\n",
      "[0.99687247 0.00312753] ---- 0 --- 0.9968724730198171\n",
      "[0.28852703 0.71147297] ---- 1 --- 0.7114729680054653\n",
      "[0.99217434 0.00782566] ---- 0 --- 0.9921743366282554\n",
      "[0.50480122 0.49519878] ---- 0 --- 0.5048012180818803\n",
      "[0.98815742 0.01184258] ---- 0 --- 0.9881574172989395\n",
      "[0.84839629 0.15160371] ---- 0 --- 0.8483962893892356\n",
      "[0.92749688 0.07250312] ---- 0 --- 0.9274968801513014\n",
      "[0.08513829 0.91486171] ---- 1 --- 0.9148617105681376\n",
      "[0.20150278 0.79849722] ---- 1 --- 0.7984972169631716\n",
      "[0.06811364 0.93188636] ---- 1 --- 0.9318863585990877\n",
      "[0.1870881 0.8129119] ---- 1 --- 0.8129119015026871\n",
      "[1.00000000e+00 3.14187689e-16] ---- 0 --- 0.9999999999999997\n",
      "[0.90250086 0.09749914] ---- 0 --- 0.9025008625471984\n",
      "[0.64375349 0.35624651] ---- 0 --- 0.6437534937480518\n",
      "[0.07901402 0.92098598] ---- 1 --- 0.9209859834830895\n",
      "[0.08966118 0.91033882] ---- 1 --- 0.910338824200682\n",
      "[9.99986503e-01 1.34970671e-05] ---- 0 --- 0.9999865029329201\n",
      "[0.07479386 0.92520614] ---- 1 --- 0.9252061376791682\n",
      "[9.99999990e-01 1.00244415e-08] ---- 0 --- 0.9999999899755585\n",
      "[0.1138763 0.8861237] ---- 1 --- 0.8861236959164146\n",
      "[0.05809023 0.94190977] ---- 1 --- 0.9419097656392055\n",
      "[0.63426154 0.36573846] ---- 0 --- 0.6342615389736783\n"
     ]
    }
   ],
   "source": [
    "for i in Y_probability:\n",
    "    print(i, \"----\", np.argmax(i), \"---\", max(i))\n",
    "    \n",
    "#np.argmax(Y_probability)\n",
    "\n",
    "#threshold=.4\n"
   ]
  },
  {
   "cell_type": "markdown",
   "metadata": {},
   "source": [
    "### test accuracy"
   ]
  },
  {
   "cell_type": "code",
   "execution_count": null,
   "metadata": {},
   "outputs": [],
   "source": [
    "y_pred"
   ]
  },
  {
   "cell_type": "code",
   "execution_count": null,
   "metadata": {},
   "outputs": [],
   "source": [
    "y_test"
   ]
  },
  {
   "cell_type": "code",
   "execution_count": 52,
   "metadata": {},
   "outputs": [
    {
     "data": {
      "text/plain": [
       "0.9162790697674419"
      ]
     },
     "execution_count": 52,
     "metadata": {},
     "output_type": "execute_result"
    }
   ],
   "source": [
    "from sklearn import metrics\n",
    "\n",
    "metrics.accuracy_score(Y_test, y_pred)\n"
   ]
  },
  {
   "cell_type": "code",
   "execution_count": 53,
   "metadata": {},
   "outputs": [
    {
     "data": {
      "text/plain": [
       "0.9162790697674419"
      ]
     },
     "execution_count": 53,
     "metadata": {},
     "output_type": "execute_result"
    }
   ],
   "source": [
    "197/215"
   ]
  },
  {
   "cell_type": "markdown",
   "metadata": {},
   "source": [
    "# ----------------------------------------------------------------------------------------------"
   ]
  },
  {
   "cell_type": "markdown",
   "metadata": {},
   "source": [
    "# ERROR ANALYSIS \n",
    "\n"
   ]
  },
  {
   "cell_type": "markdown",
   "metadata": {},
   "source": [
    "##### CONFUSION MATRIX"
   ]
  },
  {
   "cell_type": "code",
   "execution_count": null,
   "metadata": {},
   "outputs": [],
   "source": [
    "# TYPE 1 [False Positive] and Type 2 [False negative] ERRORs\n"
   ]
  },
  {
   "cell_type": "code",
   "execution_count": 58,
   "metadata": {},
   "outputs": [
    {
     "data": {
      "text/plain": [
       "215"
      ]
     },
     "execution_count": 58,
     "metadata": {},
     "output_type": "execute_result"
    }
   ],
   "source": [
    "len(X_test)"
   ]
  },
  {
   "cell_type": "code",
   "execution_count": 59,
   "metadata": {},
   "outputs": [
    {
     "data": {
      "text/plain": [
       "array([0, 0, 1, 1, 0, 0, 0, 1, 1, 1, 1, 0, 0, 1, 1, 1, 1, 1, 0, 0, 0, 1,\n",
       "       0, 0, 1, 1, 0, 1, 0, 0, 1, 0, 1, 0, 0, 1, 1, 0, 0, 1, 1, 1, 1, 0,\n",
       "       1, 1, 0, 1, 0, 1, 1, 0, 0, 0, 0, 0, 1, 1, 0, 0, 1, 1, 1, 1, 0, 0,\n",
       "       1, 1, 0, 0, 0, 0, 1, 1, 1, 0, 0, 0, 0, 0, 1, 1, 1, 1, 0, 1, 0, 1,\n",
       "       1, 0, 0, 0, 1, 0, 1, 1, 1, 1, 1, 1, 0, 0, 1, 0, 0, 0, 1, 0, 0, 1,\n",
       "       0, 1, 0, 0, 0, 1, 1, 1, 1, 0, 1, 1, 0, 0, 0, 0, 0, 0, 1, 1, 1, 0,\n",
       "       1, 1, 0, 1, 1, 1, 0, 0, 0, 1, 1, 0, 1, 0, 0, 1, 1, 0, 0, 0, 0, 1,\n",
       "       1, 1, 1, 1, 0, 0, 0, 1, 0, 1, 0, 1, 0, 1, 0, 1, 0, 1, 0, 0, 1, 1,\n",
       "       0, 1, 1, 0, 0, 1, 1, 1, 1, 1, 1, 1, 0, 0, 1, 0, 0, 0, 1, 0, 1, 0,\n",
       "       0, 0, 1, 1, 1, 1, 0, 0, 0, 1, 1, 0, 1, 0, 1, 1, 1])"
      ]
     },
     "execution_count": 59,
     "metadata": {},
     "output_type": "execute_result"
    }
   ],
   "source": [
    "Y_test"
   ]
  },
  {
   "cell_type": "code",
   "execution_count": 60,
   "metadata": {},
   "outputs": [
    {
     "data": {
      "text/plain": [
       "array([0, 1, 1, 1, 0, 0, 1, 1, 0, 1, 1, 0, 0, 1, 1, 1, 1, 1, 0, 0, 0, 1,\n",
       "       0, 0, 0, 0, 0, 1, 0, 0, 1, 0, 1, 0, 0, 1, 1, 0, 0, 1, 1, 1, 1, 0,\n",
       "       1, 1, 0, 1, 0, 1, 1, 0, 0, 0, 0, 0, 1, 1, 0, 1, 1, 1, 1, 1, 0, 0,\n",
       "       1, 0, 0, 0, 0, 0, 1, 1, 1, 0, 1, 0, 0, 0, 1, 1, 1, 1, 0, 1, 0, 1,\n",
       "       1, 0, 0, 0, 1, 0, 1, 0, 1, 1, 1, 1, 0, 0, 1, 0, 0, 0, 1, 0, 0, 1,\n",
       "       0, 1, 0, 0, 0, 0, 1, 0, 1, 0, 1, 1, 0, 0, 0, 0, 0, 0, 1, 1, 1, 0,\n",
       "       1, 1, 0, 1, 1, 1, 1, 0, 0, 1, 1, 0, 1, 0, 0, 1, 1, 0, 0, 1, 0, 1,\n",
       "       1, 1, 1, 1, 0, 0, 0, 1, 0, 0, 0, 1, 0, 1, 0, 1, 0, 1, 0, 0, 1, 0,\n",
       "       0, 1, 0, 0, 0, 1, 1, 1, 1, 1, 1, 1, 0, 0, 1, 0, 0, 0, 1, 0, 0, 0,\n",
       "       0, 0, 1, 1, 1, 1, 0, 0, 0, 1, 1, 0, 1, 0, 1, 1, 0])"
      ]
     },
     "execution_count": 60,
     "metadata": {},
     "output_type": "execute_result"
    }
   ],
   "source": [
    "y_pred"
   ]
  },
  {
   "cell_type": "code",
   "execution_count": 71,
   "metadata": {},
   "outputs": [
    {
     "name": "stdout",
     "output_type": "stream",
     "text": [
      "215 Total Test Records \n",
      "\n",
      "197 are correct classifcations \n",
      "\n",
      "18 are INcorrect classifcations \n",
      "\n"
     ]
    }
   ],
   "source": [
    "output = Y_test - y_pred\n",
    "\n",
    "print(len(Y_test), \"Total Test Records \\n\")\n",
    "\n",
    "print(len(output[output==0]) , \"are correct classifcations \\n\")\n",
    "\n",
    "print(len(output[output != 0]) , \"are INcorrect classifcations \\n\")\n"
   ]
  },
  {
   "cell_type": "code",
   "execution_count": 36,
   "metadata": {},
   "outputs": [
    {
     "name": "stdout",
     "output_type": "stream",
     "text": [
      "[[98  6]\n",
      " [12 99]]\n"
     ]
    }
   ],
   "source": [
    "from sklearn import metrics\n",
    "\n",
    "print(metrics.confusion_matrix(Y_test,y_pred ))\n"
   ]
  },
  {
   "cell_type": "code",
   "execution_count": 92,
   "metadata": {},
   "outputs": [
    {
     "data": {
      "text/plain": [
       "<AxesSubplot:>"
      ]
     },
     "execution_count": 92,
     "metadata": {},
     "output_type": "execute_result"
    },
    {
     "data": {
      "image/png": "[encoded data removed]",
      "text/plain": [
       "<Figure size 432x288 with 2 Axes>"
      ]
     },
     "metadata": {
      "needs_background": "light"
     },
     "output_type": "display_data"
    }
   ],
   "source": [
    "#matplotlib---seaborn---plotly---\n",
    "\n",
    "import seaborn as sns\n",
    "\n",
    "sns.heatmap(metrics.confusion_matrix(Y_test,y_pred ),annot=True, fmt='d')\n"
   ]
  },
  {
   "cell_type": "code",
   "execution_count": null,
   "metadata": {},
   "outputs": [],
   "source": []
  },
  {
   "attachments": {
    "Confusion%20Matrix.PNG": {
     "image/png": "[encoded data removed]"
    }
   },
   "cell_type": "markdown",
   "metadata": {},
   "source": [
    "![Confusion%20Matrix.PNG](attachment:Confusion%20Matrix.PNG)"
   ]
  },
  {
   "cell_type": "code",
   "execution_count": 94,
   "metadata": {},
   "outputs": [
    {
     "data": {
      "text/plain": [
       "215"
      ]
     },
     "execution_count": 94,
     "metadata": {},
     "output_type": "execute_result"
    }
   ],
   "source": [
    "Total = 99+98+6+12\n",
    "Total"
   ]
  },
  {
   "cell_type": "markdown",
   "metadata": {},
   "source": [
    "# classification_report"
   ]
  },
  {
   "cell_type": "code",
   "execution_count": 38,
   "metadata": {},
   "outputs": [
    {
     "name": "stdout",
     "output_type": "stream",
     "text": [
      "              precision    recall  f1-score   support\n",
      "\n",
      "           0       0.89      0.94      0.92       104\n",
      "           1       0.94      0.89      0.92       111\n",
      "\n",
      "    accuracy                           0.92       215\n",
      "   macro avg       0.92      0.92      0.92       215\n",
      "weighted avg       0.92      0.92      0.92       215\n",
      "\n"
     ]
    }
   ],
   "source": [
    "\n",
    "#positive --- cancer\n",
    "#negative  ---- non-cancer\n",
    "\n",
    "\n",
    "from sklearn import metrics\n",
    "\n",
    "print(metrics.classification_report(Y_test, y_pred))\n"
   ]
  },
  {
   "cell_type": "markdown",
   "metadata": {},
   "source": []
  },
  {
   "cell_type": "markdown",
   "metadata": {},
   "source": [
    "# ROC Curve - [receiver operating characteristic] \n",
    "\n",
    "\n",
    "#### AUC value - Area under the curve\n"
   ]
  },
  {
   "cell_type": "code",
   "execution_count": 86,
   "metadata": {},
   "outputs": [
    {
     "name": "stdout",
     "output_type": "stream",
     "text": [
      "(array([0.        , 0.05769231, 1.        ]), array([0.        , 0.89189189, 1.        ]), array([2, 1, 0]))\n"
     ]
    }
   ],
   "source": [
    "from sklearn import metrics\n",
    "\n",
    "print(metrics.roc_curve(Y_test, y_pred))\n",
    "\n",
    "\n",
    "#this will return 3 arrays:\n",
    "# 1 FPR\n",
    "# 2 TPR\n",
    "# 3 Thresholds\n"
   ]
  },
  {
   "cell_type": "markdown",
   "metadata": {},
   "source": [
    "# PLOT OF ROC"
   ]
  },
  {
   "cell_type": "code",
   "execution_count": 74,
   "metadata": {},
   "outputs": [],
   "source": [
    "\n",
    "fpr = [0.        , 0.05769231, 1.        ]\n",
    "\n",
    "tpr = [0.        , 0.89189189, 1.        ]\n",
    "\n",
    "# 1-fpr = specificity = tnr\n",
    "\n",
    "# tpr = sensitivity = recall\n",
    "\n",
    "\n",
    "\n",
    "\n"
   ]
  },
  {
   "cell_type": "code",
   "execution_count": 79,
   "metadata": {},
   "outputs": [
    {
     "data": {
      "image/png": "[encoded data removed]",
      "text/plain": [
       "<Figure size 432x288 with 1 Axes>"
      ]
     },
     "metadata": {
      "needs_background": "light"
     },
     "output_type": "display_data"
    }
   ],
   "source": [
    "#ROC CURVE\n",
    "\n",
    "import matplotlib.pyplot as plt\n",
    "\n",
    "plt.scatter(fpr,tpr)\n",
    "\n",
    "plt.plot(fpr,tpr)\n",
    "\n",
    "#guess line\n",
    "plt.plot([0,1],[0,1])\n",
    "\n",
    "\n",
    "\n",
    "plt.show()\n",
    "\n",
    "\n",
    "\n",
    "#sns.lmplot(fpr,tpr)"
   ]
  },
  {
   "cell_type": "code",
   "execution_count": 90,
   "metadata": {},
   "outputs": [
    {
     "name": "stdout",
     "output_type": "stream",
     "text": [
      "0.9182103599999999\n"
     ]
    }
   ],
   "source": [
    "print(metrics.auc(fpr, tpr))\n",
    "\n"
   ]
  },
  {
   "cell_type": "code",
   "execution_count": 91,
   "metadata": {},
   "outputs": [
    {
     "name": "stdout",
     "output_type": "stream",
     "text": [
      "0.9170997920997921\n"
     ]
    }
   ],
   "source": [
    "#Test Accuracy\n",
    "\n",
    "print(metrics.roc_auc_score(Y_test, y_pred))\n"
   ]
  },
  {
   "cell_type": "markdown",
   "metadata": {},
   "source": [
    "# CONCLUSION: \n",
    "\n",
    "\n"
   ]
  },
  {
   "cell_type": "markdown",
   "metadata": {},
   "source": [
    "Train Accuracy - 0.9118236472945892\n",
    "\n",
    "Test Accuracy  - 0.9162790697674419\n",
    "\n",
    "Test Accuracy using ROC and AUC - 0.9182103599999999 and 0.9170997920997921\n",
    "\n",
    "\n",
    "This Seems to be a Good Model for given dataset\n"
   ]
  },
  {
   "cell_type": "markdown",
   "metadata": {},
   "source": [
    "# ----------------------------------------------------------------------------"
   ]
  },
  {
   "cell_type": "markdown",
   "metadata": {},
   "source": [
    "# ASSIGNMENT "
   ]
  },
  {
   "cell_type": "code",
   "execution_count": null,
   "metadata": {},
   "outputs": [],
   "source": [
    "# https://github.com/rktrojan/DataSciencePython/blob/main/DataFiles/diabetes.csv"
   ]
  },
  {
   "cell_type": "markdown",
   "metadata": {},
   "source": [
    "# Kaggle"
   ]
  },
  {
   "cell_type": "code",
   "execution_count": null,
   "metadata": {},
   "outputs": [],
   "source": [
    "# https://www.kaggle.com/competitions/amex-default-prediction/data"
   ]
  }
 ],
 "metadata": {
  "kernelspec": {
   "display_name": "Python 3 (ipykernel)",
   "language": "python",
   "name": "python3"
  },
  "language_info": {
   "codemirror_mode": {
    "name": "ipython",
    "version": 3
   },
   "file_extension": ".py",
   "mimetype": "text/x-python",
   "name": "python",
   "nbconvert_exporter": "python",
   "pygments_lexer": "ipython3",
   "version": "3.9.7"
  }
 },
 "nbformat": 4,
 "nbformat_minor": 4
}
