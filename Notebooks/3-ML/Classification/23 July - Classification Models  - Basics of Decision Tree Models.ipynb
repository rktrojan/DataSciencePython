{
 "cells": [
  {
   "cell_type": "markdown",
   "metadata": {},
   "source": [
    "# DTree basics\n"
   ]
  },
  {
   "cell_type": "code",
   "execution_count": 2,
   "metadata": {},
   "outputs": [],
   "source": [
    "from sklearn.tree import DecisionTreeClassifier  \n",
    "  \n",
    "# create a classifier object \n",
    "classifier = DecisionTreeClassifier()  \n",
    "  \n",
    "??classifier\n",
    "\n",
    "# Split criterion : {\"gini\", \"entropy\", \"log_loss\"}, default=\"gini\""
   ]
  },
  {
   "cell_type": "code",
   "execution_count": 3,
   "metadata": {},
   "outputs": [],
   "source": [
    "# import the regressor \n",
    "\n",
    "from sklearn.tree import DecisionTreeRegressor  \n",
    "\n",
    "# create a regressor object \n",
    "regressor = DecisionTreeRegressor()  \n",
    "  \n",
    "??regressor\n",
    "\n",
    "# Split criterion : {\"squared_error\", \"friedman_mse\", \"absolute_error\", \\\n",
    " #           \"poisson\"}, default=\"squared_error\"\n",
    "\n",
    "    \n",
    "    \n",
    "# Split criterion='mse'= LSD = Decrease in variance"
   ]
  }
 ],
 "metadata": {
  "kernelspec": {
   "display_name": "Python 3 (ipykernel)",
   "language": "python",
   "name": "python3"
  },
  "language_info": {
   "codemirror_mode": {
    "name": "ipython",
    "version": 3
   },
   "file_extension": ".py",
   "mimetype": "text/x-python",
   "name": "python",
   "nbconvert_exporter": "python",
   "pygments_lexer": "ipython3",
   "version": "3.9.7"
  }
 },
 "nbformat": 4,
 "nbformat_minor": 4
}
