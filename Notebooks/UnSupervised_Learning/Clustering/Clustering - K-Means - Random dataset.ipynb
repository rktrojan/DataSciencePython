{
 "cells": [
  {
   "cell_type": "markdown",
   "metadata": {},
   "source": [
    "# Clustering Applications\n",
    "\n",
    "\n",
    "# Customer Segmentation\n",
    "# Document Clustering\n",
    "# Image Segmentation\n",
    "# Recommendation Engines\n"
   ]
  },
  {
   "cell_type": "markdown",
   "metadata": {},
   "source": [
    "####  Let’s take the customer segmentation example again – we will have features like customer’s income, occupation, gender, age, and many more. \n",
    "\n",
    "###### Visualizing all these features together and deciding better and meaningful clusters would not be possible for us.\n",
    "\n",
    "\n",
    "##### INERTIA\n",
    " It tells us how far the points within a cluster are. So, inertia actually calculates the sum of distances of all the points within a cluster from the centroid of that cluster.\n",
    "\n",
    "##### We calculate this for all the clusters and the final inertial value is the sum of all these distances. This distance within the clusters is known as intracluster distance. So, inertia gives us the sum of intracluster distances:\n",
    "\n",
    "\n",
    "#### Dunn Index\n",
    "\n",
    "jqmcvi package\n",
    "\n",
    "\n",
    "Dunn index is the ratio of the minimum of inter-cluster distances and maximum of intracluster distances.\n",
    "\n",
    "![](dunn.png)\n",
    "\n",
    "\n",
    "\n",
    "### Davies-Bouldin score.\n",
    "\n",
    "The score is defined as the average similarity measure of each cluster with its most similar cluster, where similarity is the ratio of within-cluster distances to between-cluster distances. Thus, clusters which are farther apart and less dispersed will result in a better score.\n",
    "\n",
    "The minimum score is zero, with lower values indicating better clustering."
   ]
  },
  {
   "cell_type": "code",
   "execution_count": 75,
   "metadata": {},
   "outputs": [],
   "source": [
    "#Import libraries\n",
    "\n",
    "import numpy as np\n",
    "import pandas as pd\n",
    "import matplotlib.pyplot as plt\n",
    "\n",
    "#from sklearn.decomposition import PCA\n",
    "\n",
    "\n",
    "\n",
    "\n",
    "\n",
    "\n"
   ]
  },
  {
   "cell_type": "code",
   "execution_count": 76,
   "metadata": {},
   "outputs": [],
   "source": [
    "from sklearn.cluster import KMeans, MiniBatchKMeans\n"
   ]
  },
  {
   "cell_type": "code",
   "execution_count": null,
   "metadata": {},
   "outputs": [],
   "source": []
  },
  {
   "cell_type": "markdown",
   "metadata": {},
   "source": [
    "(![image.png](MiniBatchKmeans.png))"
   ]
  },
  {
   "cell_type": "markdown",
   "metadata": {},
   "source": [
    "# RANDOM DATASET"
   ]
  },
  {
   "cell_type": "code",
   "execution_count": 77,
   "metadata": {},
   "outputs": [
    {
     "data": {
      "text/plain": [
       "array([[-1.45519934, -0.44698791],\n",
       "       [-0.55553707, -0.53824511],\n",
       "       [-1.84728524, -1.37055289],\n",
       "       [-1.63895014, -0.15117379],\n",
       "       [-0.75923303, -0.86276366],\n",
       "       [-0.38606043, -0.14182063],\n",
       "       [-0.98098052, -1.76200267],\n",
       "       [-1.48122986, -1.04146551],\n",
       "       [-1.89654347, -1.58313121],\n",
       "       [-0.94566801, -0.0936535 ],\n",
       "       [-0.56698046, -1.59943849],\n",
       "       [-1.5910764 , -0.58754943],\n",
       "       [-0.68920053, -0.94409366],\n",
       "       [-0.24738414, -1.41701489],\n",
       "       [-1.78069619, -1.51022462],\n",
       "       [-1.27985806, -0.64349182],\n",
       "       [-0.01312646, -1.91348406],\n",
       "       [-1.32497447, -1.27385715],\n",
       "       [-1.36353877, -0.34213128],\n",
       "       [-1.66601056, -1.65590395],\n",
       "       [-1.43827188, -1.58797098],\n",
       "       [-1.16988716, -0.36158395],\n",
       "       [-1.64958336, -0.61629364],\n",
       "       [-1.04776891, -0.04607067],\n",
       "       [-1.588658  , -1.14357828],\n",
       "       [-1.52965374, -0.19323034],\n",
       "       [-1.50676541, -0.5630952 ],\n",
       "       [-0.55872812, -0.56635298],\n",
       "       [-1.12208611, -0.53811279],\n",
       "       [-1.1468158 , -1.69666032],\n",
       "       [-0.18174566, -1.93750297],\n",
       "       [-0.12581177, -0.50540538],\n",
       "       [-1.46900337, -1.65120743],\n",
       "       [-0.44169038, -0.78062352],\n",
       "       [-0.15580832, -1.75423812],\n",
       "       [-0.53423969, -0.15661787],\n",
       "       [-1.98087581, -0.55386143],\n",
       "       [-1.57582901, -1.8625166 ],\n",
       "       [-0.6492183 , -0.38155765],\n",
       "       [-1.64875268, -1.20420175],\n",
       "       [-0.92777727, -0.14510897],\n",
       "       [-0.06713489, -1.77177349],\n",
       "       [-1.81283944, -1.98567572],\n",
       "       [-0.37677475, -0.2433258 ],\n",
       "       [-0.53052896, -0.29684163],\n",
       "       [-1.74642116, -0.61547861],\n",
       "       [-0.11876764, -0.19958541],\n",
       "       [-1.33055718, -0.31385332],\n",
       "       [-0.71347231, -1.0679066 ],\n",
       "       [-0.55194753, -0.8673128 ],\n",
       "       [-0.56418614, -0.77412674],\n",
       "       [-1.07382041, -0.57515202],\n",
       "       [-0.17197881, -0.35372765],\n",
       "       [-0.59345278, -0.94149919],\n",
       "       [-1.03935113, -0.23773649],\n",
       "       [-0.71471182, -1.99818752],\n",
       "       [-1.34159999, -1.79235251],\n",
       "       [-0.14229865, -0.25359476],\n",
       "       [-1.5007593 , -1.56502769],\n",
       "       [-0.79733944, -0.19017938],\n",
       "       [-0.72122566, -0.15043557],\n",
       "       [-1.49092631, -0.20019246],\n",
       "       [-0.09338396, -0.99151143],\n",
       "       [-0.90816419, -1.88719842],\n",
       "       [-1.81951877, -1.68485651],\n",
       "       [-0.14269681, -1.19936222],\n",
       "       [-1.01403256, -0.79113445],\n",
       "       [-0.2930305 , -1.9348652 ],\n",
       "       [-1.03004148, -0.88867667],\n",
       "       [-0.25600679, -1.92975188],\n",
       "       [-0.80965765, -0.74342362],\n",
       "       [-1.01363888, -1.15631316],\n",
       "       [-1.71713389, -1.58006548],\n",
       "       [-0.09505835, -1.49689877],\n",
       "       [-0.04459502, -1.55831111],\n",
       "       [-0.61532848, -1.43512914],\n",
       "       [-1.99991109, -1.70640772],\n",
       "       [-0.39631077, -0.74849314],\n",
       "       [-0.45494809, -0.42984948],\n",
       "       [-1.13073922, -0.07326615],\n",
       "       [-1.46365239, -1.06665634],\n",
       "       [-0.18931543, -1.47335985],\n",
       "       [-1.60936421, -0.37869637],\n",
       "       [-1.99209912, -0.13487294],\n",
       "       [-0.53144478, -1.46928311],\n",
       "       [-0.43409894, -0.34188622],\n",
       "       [-1.15704014, -0.9469265 ],\n",
       "       [-1.74174781, -0.89540659],\n",
       "       [-0.08755669, -1.21031478],\n",
       "       [-1.2242262 , -1.81816625],\n",
       "       [-0.69982607, -1.93042488],\n",
       "       [-1.87827713, -1.41302363],\n",
       "       [-1.08112554, -1.36560758],\n",
       "       [-1.52157304, -0.82948906],\n",
       "       [-0.30271302, -1.01699279],\n",
       "       [-0.26476631, -0.21956724],\n",
       "       [-0.81389364, -0.64773144],\n",
       "       [-1.32025851, -1.58201813],\n",
       "       [-1.28546714, -0.29831157],\n",
       "       [-0.53675066, -0.9534388 ]])"
      ]
     },
     "execution_count": 77,
     "metadata": {},
     "output_type": "execute_result"
    }
   ],
   "source": [
    "X= -2 * np.random.rand(100,2)\n",
    "X"
   ]
  },
  {
   "cell_type": "code",
   "execution_count": 78,
   "metadata": {},
   "outputs": [
    {
     "data": {
      "text/plain": [
       "array([[-1.45519934, -0.44698791],\n",
       "       [-0.55553707, -0.53824511],\n",
       "       [-1.84728524, -1.37055289],\n",
       "       [-1.63895014, -0.15117379],\n",
       "       [-0.75923303, -0.86276366],\n",
       "       [-0.38606043, -0.14182063],\n",
       "       [-0.98098052, -1.76200267],\n",
       "       [-1.48122986, -1.04146551],\n",
       "       [-1.89654347, -1.58313121],\n",
       "       [-0.94566801, -0.0936535 ],\n",
       "       [-0.56698046, -1.59943849],\n",
       "       [-1.5910764 , -0.58754943],\n",
       "       [-0.68920053, -0.94409366],\n",
       "       [-0.24738414, -1.41701489],\n",
       "       [-1.78069619, -1.51022462],\n",
       "       [-1.27985806, -0.64349182],\n",
       "       [-0.01312646, -1.91348406],\n",
       "       [-1.32497447, -1.27385715],\n",
       "       [-1.36353877, -0.34213128],\n",
       "       [-1.66601056, -1.65590395],\n",
       "       [-1.43827188, -1.58797098],\n",
       "       [-1.16988716, -0.36158395],\n",
       "       [-1.64958336, -0.61629364],\n",
       "       [-1.04776891, -0.04607067],\n",
       "       [-1.588658  , -1.14357828],\n",
       "       [-1.52965374, -0.19323034],\n",
       "       [-1.50676541, -0.5630952 ],\n",
       "       [-0.55872812, -0.56635298],\n",
       "       [-1.12208611, -0.53811279],\n",
       "       [-1.1468158 , -1.69666032],\n",
       "       [-0.18174566, -1.93750297],\n",
       "       [-0.12581177, -0.50540538],\n",
       "       [-1.46900337, -1.65120743],\n",
       "       [-0.44169038, -0.78062352],\n",
       "       [-0.15580832, -1.75423812],\n",
       "       [-0.53423969, -0.15661787],\n",
       "       [-1.98087581, -0.55386143],\n",
       "       [-1.57582901, -1.8625166 ],\n",
       "       [-0.6492183 , -0.38155765],\n",
       "       [-1.64875268, -1.20420175],\n",
       "       [-0.92777727, -0.14510897],\n",
       "       [-0.06713489, -1.77177349],\n",
       "       [-1.81283944, -1.98567572],\n",
       "       [-0.37677475, -0.2433258 ],\n",
       "       [-0.53052896, -0.29684163],\n",
       "       [-1.74642116, -0.61547861],\n",
       "       [-0.11876764, -0.19958541],\n",
       "       [-1.33055718, -0.31385332],\n",
       "       [-0.71347231, -1.0679066 ],\n",
       "       [-0.55194753, -0.8673128 ],\n",
       "       [ 2.51521458,  2.11358564],\n",
       "       [ 2.80240909,  1.08061239],\n",
       "       [ 2.3345579 ,  2.52301917],\n",
       "       [ 2.90819138,  1.13821844],\n",
       "       [ 1.842249  ,  1.6208001 ],\n",
       "       [ 2.44694989,  2.7933262 ],\n",
       "       [ 2.02500787,  1.51618214],\n",
       "       [ 1.88191204,  1.29508166],\n",
       "       [ 2.06596826,  2.08292237],\n",
       "       [ 1.95119145,  1.12867863],\n",
       "       [ 2.47553994,  2.87008719],\n",
       "       [ 2.6364644 ,  1.30108837],\n",
       "       [ 1.80819446,  1.43741228],\n",
       "       [ 1.3008314 ,  2.21707726],\n",
       "       [ 2.16487434,  1.20129573],\n",
       "       [ 2.37721447,  2.24673316],\n",
       "       [ 2.99219455,  2.75494087],\n",
       "       [ 1.52641864,  2.73874961],\n",
       "       [ 1.20242537,  2.38635868],\n",
       "       [ 1.73600884,  2.7424527 ],\n",
       "       [ 2.90956488,  1.27159491],\n",
       "       [ 2.05865913,  2.57223278],\n",
       "       [ 1.15070977,  1.5664658 ],\n",
       "       [ 1.59249737,  2.48806427],\n",
       "       [ 2.52707138,  2.20641627],\n",
       "       [ 1.29949441,  1.23010891],\n",
       "       [ 1.47408659,  1.50882073],\n",
       "       [ 2.63568244,  1.05762899],\n",
       "       [ 1.71667576,  2.8212821 ],\n",
       "       [ 2.21307268,  1.44726346],\n",
       "       [ 2.2375863 ,  2.78261299],\n",
       "       [ 2.29757919,  1.58947891],\n",
       "       [ 2.7520109 ,  2.65483928],\n",
       "       [ 1.42354138,  2.28398225],\n",
       "       [ 1.19675987,  2.25791663],\n",
       "       [ 1.58799883,  2.52114322],\n",
       "       [ 2.49011554,  1.20661277],\n",
       "       [ 1.95778099,  2.93927847],\n",
       "       [ 2.74735623,  2.62291294],\n",
       "       [ 2.40982436,  1.45916556],\n",
       "       [ 1.48847258,  2.35252177],\n",
       "       [ 1.75308715,  1.96499061],\n",
       "       [ 1.14238995,  2.57512366],\n",
       "       [ 2.01703529,  1.45891334],\n",
       "       [ 1.7915614 ,  1.48832052],\n",
       "       [ 1.01812119,  2.05246894],\n",
       "       [ 1.61212001,  2.53813692],\n",
       "       [ 2.76786215,  1.73999218],\n",
       "       [ 2.22829872,  2.41561939],\n",
       "       [ 1.93135738,  2.12130605]])"
      ]
     },
     "execution_count": 78,
     "metadata": {},
     "output_type": "execute_result"
    }
   ],
   "source": [
    "\n",
    "X1 = 1 + 2 * np.random.rand(50,2)\n",
    "\n",
    "X[50:100, :] = X1\n",
    "\n",
    "X"
   ]
  },
  {
   "cell_type": "code",
   "execution_count": 79,
   "metadata": {},
   "outputs": [
    {
     "data": {
      "image/png": "[encoded data removed]",
      "text/plain": [
       "<Figure size 432x288 with 1 Axes>"
      ]
     },
     "metadata": {
      "needs_background": "light"
     },
     "output_type": "display_data"
    }
   ],
   "source": [
    "\n",
    "\n",
    "plt.scatter(X[ : , 0], X[ :, 1], s = 50, c = 'b', marker='o')\n",
    "plt.show()"
   ]
  },
  {
   "cell_type": "code",
   "execution_count": 118,
   "metadata": {},
   "outputs": [
    {
     "name": "stdout",
     "output_type": "stream",
     "text": [
      "Initialization complete\n",
      "Iteration 0, inertia 41.08289200048637\n",
      "Iteration 1, inertia 31.14959974991748\n",
      "Iteration 2, inertia 30.040916534318193\n",
      "Iteration 3, inertia 29.761576462864383\n",
      "Converged at iteration 3: strict convergence.\n",
      "Initialization complete\n",
      "Iteration 0, inertia 41.72468864559526\n",
      "Iteration 1, inertia 32.95084560573864\n",
      "Iteration 2, inertia 31.587345423771197\n",
      "Iteration 3, inertia 31.535427928547392\n",
      "Converged at iteration 3: strict convergence.\n",
      "Initialization complete\n",
      "Iteration 0, inertia 53.551892944243654\n",
      "Iteration 1, inertia 33.36660383454454\n",
      "Iteration 2, inertia 32.54981979055025\n",
      "Iteration 3, inertia 32.24032515902296\n",
      "Iteration 4, inertia 32.205468339770235\n",
      "Iteration 5, inertia 31.883038681445566\n",
      "Iteration 6, inertia 31.253701460066193\n",
      "Iteration 7, inertia 30.924562677058603\n",
      "Iteration 8, inertia 29.672904692876667\n",
      "Iteration 9, inertia 29.098684412993453\n",
      "Iteration 10, inertia 28.79978671997728\n",
      "Iteration 11, inertia 28.75299815215298\n",
      "Converged at iteration 11: strict convergence.\n",
      "Initialization complete\n",
      "Iteration 0, inertia 40.877618365868386\n",
      "Iteration 1, inertia 33.78890056895678\n",
      "Iteration 2, inertia 32.53996962344516\n",
      "Iteration 3, inertia 31.791908583453214\n",
      "Iteration 4, inertia 31.49178201682193\n",
      "Converged at iteration 4: strict convergence.\n",
      "Initialization complete\n",
      "Iteration 0, inertia 39.46483615339901\n",
      "Iteration 1, inertia 32.35346324819854\n",
      "Iteration 2, inertia 29.87884646891083\n",
      "Iteration 3, inertia 29.062143781763627\n",
      "Iteration 4, inertia 29.02874344755987\n",
      "Converged at iteration 4: strict convergence.\n",
      "Initialization complete\n",
      "Iteration 0, inertia 36.39288233472326\n",
      "Iteration 1, inertia 34.03596844008208\n",
      "Converged at iteration 1: strict convergence.\n",
      "Initialization complete\n",
      "Iteration 0, inertia 48.92916980550496\n",
      "Iteration 1, inertia 33.86588683458326\n",
      "Iteration 2, inertia 33.26217732038141\n",
      "Iteration 3, inertia 32.95873437579006\n",
      "Iteration 4, inertia 32.390750792759334\n",
      "Iteration 5, inertia 32.06832113443467\n",
      "Iteration 6, inertia 31.438983913055292\n",
      "Iteration 7, inertia 31.109845130047706\n",
      "Iteration 8, inertia 29.858187145865767\n",
      "Iteration 9, inertia 29.283966865982553\n",
      "Iteration 10, inertia 28.98506917296638\n",
      "Iteration 11, inertia 28.93828060514208\n",
      "Converged at iteration 11: strict convergence.\n",
      "Initialization complete\n",
      "Iteration 0, inertia 55.788112603672126\n",
      "Iteration 1, inertia 33.40480297798254\n",
      "Iteration 2, inertia 31.456449946434486\n",
      "Iteration 3, inertia 29.737564042330423\n",
      "Iteration 4, inertia 29.450357929207968\n",
      "Iteration 5, inertia 29.330812271246064\n",
      "Iteration 6, inertia 29.096895280380284\n",
      "Iteration 7, inertia 28.926330380335312\n",
      "Iteration 8, inertia 28.81719390146768\n",
      "Iteration 9, inertia 28.685330939147917\n",
      "Converged at iteration 9: strict convergence.\n",
      "Initialization complete\n",
      "Iteration 0, inertia 49.975194343839874\n",
      "Iteration 1, inertia 30.459488309388096\n",
      "Iteration 2, inertia 29.730804754900948\n",
      "Iteration 3, inertia 29.56003703382906\n",
      "Iteration 4, inertia 29.469076408325602\n",
      "Iteration 5, inertia 29.401277499487367\n",
      "Iteration 6, inertia 29.301688603647154\n",
      "Iteration 7, inertia 29.04880819021325\n",
      "Iteration 8, inertia 28.732005863711557\n",
      "Iteration 9, inertia 28.685330939147917\n",
      "Converged at iteration 9: strict convergence.\n",
      "Initialization complete\n",
      "Iteration 0, inertia 40.33929442622958\n",
      "Iteration 1, inertia 30.427443991984134\n",
      "Iteration 2, inertia 29.58407639190361\n",
      "Iteration 3, inertia 29.461196457521424\n",
      "Iteration 4, inertia 29.345238371593915\n",
      "Iteration 5, inertia 29.178898822335526\n",
      "Iteration 6, inertia 28.795093471323582\n",
      "Iteration 7, inertia 28.732005863711557\n",
      "Iteration 8, inertia 28.685330939147917\n",
      "Converged at iteration 8: strict convergence.\n"
     ]
    },
    {
     "data": {
      "text/plain": [
       "KMeans(n_clusters=5, verbose=11)"
      ]
     },
     "execution_count": 118,
     "metadata": {},
     "output_type": "execute_result"
    }
   ],
   "source": [
    "from sklearn.cluster import KMeans\n",
    "\n",
    "Kmean = KMeans(n_clusters=5, max_iter=300, verbose=11, n_init=10,init=\"k-means++\")\n",
    "\n",
    "Kmean.fit(X)\n",
    "\n",
    "\n",
    "#silhoutte method"
   ]
  },
  {
   "cell_type": "code",
   "execution_count": 81,
   "metadata": {},
   "outputs": [],
   "source": [
    "#MiniBatchKMeans converges faster than KMeans, but the quality of the results is reduced. \n",
    "#In practice this difference in quality can be quite small, as shown in the example and cited reference.\n",
    "\n",
    "\n",
    "from sklearn.cluster import MiniBatchKMeans"
   ]
  },
  {
   "cell_type": "code",
   "execution_count": 82,
   "metadata": {},
   "outputs": [
    {
     "data": {
      "text/plain": [
       "array([[ 1.92914169,  2.47034832],\n",
       "       [-1.62836189, -1.33453626],\n",
       "       [-0.88518507, -0.44364799],\n",
       "       [ 2.16557537,  1.36874933],\n",
       "       [-0.31616578, -1.73649353]])"
      ]
     },
     "execution_count": 82,
     "metadata": {},
     "output_type": "execute_result"
    }
   ],
   "source": [
    "Kmean.cluster_centers_\n"
   ]
  },
  {
   "cell_type": "code",
   "execution_count": 83,
   "metadata": {},
   "outputs": [
    {
     "data": {
      "image/png": "[encoded data removed]",
      "text/plain": [
       "<Figure size 432x288 with 1 Axes>"
      ]
     },
     "metadata": {
      "needs_background": "light"
     },
     "output_type": "display_data"
    }
   ],
   "source": [
    "plt.scatter(X[ : , 0], X[ : , 1], s =50, c='b')\n",
    "\n",
    "plt.scatter(-0.94665068, -0.97138368, s=200, c='g', marker='s')\n",
    "\n",
    "plt.scatter(2.01559419, 2.02597093, s=200, c='r', marker='s')\n",
    "\n",
    "plt.show()"
   ]
  },
  {
   "cell_type": "markdown",
   "metadata": {},
   "source": [
    "# IRIS DATASET"
   ]
  },
  {
   "cell_type": "code",
   "execution_count": 84,
   "metadata": {},
   "outputs": [
    {
     "data": {
      "text/html": [
       "<div>\n",
       "<style scoped>\n",
       "    .dataframe tbody tr th:only-of-type {\n",
       "        vertical-align: middle;\n",
       "    }\n",
       "\n",
       "    .dataframe tbody tr th {\n",
       "        vertical-align: top;\n",
       "    }\n",
       "\n",
       "    .dataframe thead th {\n",
       "        text-align: right;\n",
       "    }\n",
       "</style>\n",
       "<table border=\"1\" class=\"dataframe\">\n",
       "  <thead>\n",
       "    <tr style=\"text-align: right;\">\n",
       "      <th></th>\n",
       "      <th>sepal length (cm)</th>\n",
       "      <th>sepal width (cm)</th>\n",
       "      <th>petal length (cm)</th>\n",
       "      <th>petal width (cm)</th>\n",
       "    </tr>\n",
       "  </thead>\n",
       "  <tbody>\n",
       "    <tr>\n",
       "      <th>0</th>\n",
       "      <td>5.1</td>\n",
       "      <td>3.5</td>\n",
       "      <td>1.4</td>\n",
       "      <td>0.2</td>\n",
       "    </tr>\n",
       "    <tr>\n",
       "      <th>1</th>\n",
       "      <td>4.9</td>\n",
       "      <td>3.0</td>\n",
       "      <td>1.4</td>\n",
       "      <td>0.2</td>\n",
       "    </tr>\n",
       "    <tr>\n",
       "      <th>2</th>\n",
       "      <td>4.7</td>\n",
       "      <td>3.2</td>\n",
       "      <td>1.3</td>\n",
       "      <td>0.2</td>\n",
       "    </tr>\n",
       "    <tr>\n",
       "      <th>3</th>\n",
       "      <td>4.6</td>\n",
       "      <td>3.1</td>\n",
       "      <td>1.5</td>\n",
       "      <td>0.2</td>\n",
       "    </tr>\n",
       "    <tr>\n",
       "      <th>4</th>\n",
       "      <td>5.0</td>\n",
       "      <td>3.6</td>\n",
       "      <td>1.4</td>\n",
       "      <td>0.2</td>\n",
       "    </tr>\n",
       "    <tr>\n",
       "      <th>...</th>\n",
       "      <td>...</td>\n",
       "      <td>...</td>\n",
       "      <td>...</td>\n",
       "      <td>...</td>\n",
       "    </tr>\n",
       "    <tr>\n",
       "      <th>145</th>\n",
       "      <td>6.7</td>\n",
       "      <td>3.0</td>\n",
       "      <td>5.2</td>\n",
       "      <td>2.3</td>\n",
       "    </tr>\n",
       "    <tr>\n",
       "      <th>146</th>\n",
       "      <td>6.3</td>\n",
       "      <td>2.5</td>\n",
       "      <td>5.0</td>\n",
       "      <td>1.9</td>\n",
       "    </tr>\n",
       "    <tr>\n",
       "      <th>147</th>\n",
       "      <td>6.5</td>\n",
       "      <td>3.0</td>\n",
       "      <td>5.2</td>\n",
       "      <td>2.0</td>\n",
       "    </tr>\n",
       "    <tr>\n",
       "      <th>148</th>\n",
       "      <td>6.2</td>\n",
       "      <td>3.4</td>\n",
       "      <td>5.4</td>\n",
       "      <td>2.3</td>\n",
       "    </tr>\n",
       "    <tr>\n",
       "      <th>149</th>\n",
       "      <td>5.9</td>\n",
       "      <td>3.0</td>\n",
       "      <td>5.1</td>\n",
       "      <td>1.8</td>\n",
       "    </tr>\n",
       "  </tbody>\n",
       "</table>\n",
       "<p>150 rows × 4 columns</p>\n",
       "</div>"
      ],
      "text/plain": [
       "     sepal length (cm)  sepal width (cm)  petal length (cm)  petal width (cm)\n",
       "0                  5.1               3.5                1.4               0.2\n",
       "1                  4.9               3.0                1.4               0.2\n",
       "2                  4.7               3.2                1.3               0.2\n",
       "3                  4.6               3.1                1.5               0.2\n",
       "4                  5.0               3.6                1.4               0.2\n",
       "..                 ...               ...                ...               ...\n",
       "145                6.7               3.0                5.2               2.3\n",
       "146                6.3               2.5                5.0               1.9\n",
       "147                6.5               3.0                5.2               2.0\n",
       "148                6.2               3.4                5.4               2.3\n",
       "149                5.9               3.0                5.1               1.8\n",
       "\n",
       "[150 rows x 4 columns]"
      ]
     },
     "execution_count": 84,
     "metadata": {},
     "output_type": "execute_result"
    }
   ],
   "source": [
    "#import the dataset\n",
    "\n",
    "\n",
    "from sklearn import datasets\n",
    "\n",
    "\n",
    "df1 = datasets.load_iris()\n",
    "\n",
    "\n",
    "df=pd.DataFrame(df1.data)\n",
    "\n",
    "\n",
    "df.columns=df1.feature_names\n",
    "\n",
    "df"
   ]
  },
  {
   "cell_type": "code",
   "execution_count": 85,
   "metadata": {},
   "outputs": [],
   "source": [
    "#x = df.iloc[:, [0,1,2,3]].values\n",
    "#x"
   ]
  },
  {
   "cell_type": "code",
   "execution_count": 86,
   "metadata": {},
   "outputs": [],
   "source": [
    "\n",
    "\n",
    "from sklearn.cluster import KMeans\n",
    "\n",
    "#valkue of K\n",
    "    \n",
    "kmeans5 = KMeans(n_clusters=5,n_init=10,\n",
    "    max_iter=300,\n",
    "    tol=0.0001,\n",
    "    precompute_distances='deprecated',\n",
    "    verbose=0\n",
    ")\n",
    "\n",
    "\n",
    "#1,n\n",
    "\n",
    "#2 to n-1\n"
   ]
  },
  {
   "cell_type": "code",
   "execution_count": 90,
   "metadata": {},
   "outputs": [
    {
     "name": "stdout",
     "output_type": "stream",
     "text": [
      "[1 1 1 1 1 1 1 1 1 1 1 1 1 1 1 1 1 1 1 1 1 1 1 1 1 1 1 1 1 1 1 1 1 1 1 1 1\n",
      " 1 1 1 1 1 1 1 1 1 1 1 1 1 4 4 4 0 4 4 4 0 4 0 0 4 0 4 0 4 4 0 4 0 4 0 4 4\n",
      " 4 4 4 4 4 0 0 0 0 4 0 4 4 4 0 0 0 4 0 0 0 0 0 4 0 0 2 4 3 2 2 3 0 3 2 3 2\n",
      " 2 2 4 2 2 2 3 3 4 2 4 3 4 2 3 4 4 2 3 3 3 2 4 4 3 2 2 4 2 2 2 4 2 2 2 4 2\n",
      " 2 4]\n"
     ]
    },
    {
     "ename": "AttributeError",
     "evalue": "'numpy.ndarray' object has no attribute 'cluster_centres_'",
     "output_type": "error",
     "traceback": [
      "\u001b[1;31m---------------------------------------------------------------------------\u001b[0m",
      "\u001b[1;31mAttributeError\u001b[0m                            Traceback (most recent call last)",
      "\u001b[1;32m<ipython-input-90-f8d74a4ff8f2>\u001b[0m in \u001b[0;36m<module>\u001b[1;34m\u001b[0m\n\u001b[0;32m      5\u001b[0m \u001b[0mprint\u001b[0m\u001b[1;33m(\u001b[0m\u001b[0my_kmeans5\u001b[0m\u001b[1;33m)\u001b[0m\u001b[1;33m\u001b[0m\u001b[1;33m\u001b[0m\u001b[0m\n\u001b[0;32m      6\u001b[0m \u001b[1;33m\u001b[0m\u001b[0m\n\u001b[1;32m----> 7\u001b[1;33m \u001b[0my_kmeans5\u001b[0m\u001b[1;33m.\u001b[0m\u001b[0mcluster_centres_\u001b[0m\u001b[1;33m\u001b[0m\u001b[1;33m\u001b[0m\u001b[0m\n\u001b[0m",
      "\u001b[1;31mAttributeError\u001b[0m: 'numpy.ndarray' object has no attribute 'cluster_centres_'"
     ]
    }
   ],
   "source": [
    "\n",
    "#K =5\n",
    "\n",
    "y_kmeans5 = kmeans5.fit_predict(df)\n",
    "\n",
    "print(y_kmeans5)\n",
    "\n",
    "y_kmeans5.cluster_centres_"
   ]
  },
  {
   "cell_type": "code",
   "execution_count": null,
   "metadata": {},
   "outputs": [],
   "source": [
    "data1=pd.concat([df,pd.Series(y_kmeans5)],axis=1)\n",
    "\n",
    "\n",
    "data1\n",
    "\n",
    "#xyz\n",
    "\n",
    "data1.columns = ['sepal length (cm)',  'sepal width (cm)', 'petal length (cm)',       'petal width (cm)',                   \"cluster\"]\n",
    "\n",
    "#filter\n",
    "cluster0=data1[data1.cluster==0]\n",
    "\n",
    "cluster0.describe()\n",
    "\n",
    "\n",
    "\n",
    "cluster1=data1[data1.cluster==1]\n",
    "data1\n"
   ]
  },
  {
   "cell_type": "code",
   "execution_count": 91,
   "metadata": {},
   "outputs": [
    {
     "data": {
      "text/plain": [
       "array([[5.508     , 2.6       , 3.908     , 1.204     ],\n",
       "       [5.006     , 3.428     , 1.462     , 0.246     ],\n",
       "       [6.52916667, 3.05833333, 5.50833333, 2.1625    ],\n",
       "       [7.475     , 3.125     , 6.3       , 2.05      ],\n",
       "       [6.20769231, 2.85384615, 4.74615385, 1.56410256]])"
      ]
     },
     "execution_count": 91,
     "metadata": {},
     "output_type": "execute_result"
    }
   ],
   "source": [
    "\n",
    "\n",
    "\n",
    "kmeans5.cluster_centers_\n",
    "\n"
   ]
  },
  {
   "cell_type": "code",
   "execution_count": 102,
   "metadata": {},
   "outputs": [
    {
     "data": {
      "text/plain": [
       "46.44618205128204"
      ]
     },
     "execution_count": 102,
     "metadata": {},
     "output_type": "execute_result"
    }
   ],
   "source": [
    "kmeans5.cluster_centers_[2][2]\n",
    "\n",
    "\n",
    "#SSE=WSS\n",
    "\n",
    "kmeans5.inertia_"
   ]
  },
  {
   "cell_type": "code",
   "execution_count": 98,
   "metadata": {},
   "outputs": [
    {
     "data": {
      "text/plain": [
       "<matplotlib.collections.PathCollection at 0x25e1df2c908>"
      ]
     },
     "execution_count": 98,
     "metadata": {},
     "output_type": "execute_result"
    },
    {
     "data": {
      "image/png": "[encoded data removed]",
      "text/plain": [
       "<Figure size 432x288 with 1 Axes>"
      ]
     },
     "metadata": {
      "needs_background": "light"
     },
     "output_type": "display_data"
    }
   ],
   "source": [
    "import matplotlib.pyplot as plt \n",
    "\n",
    "plt.scatter(x[:,0],x[:,1],   c=y_kmeans5,   cmap=\"rainbow\")\n",
    "\n",
    "plt.scatter(kmeans5.cluster_centers_[0][0],kmeans5.cluster_centers_[0][1],   s=200, marker='s')\n",
    "plt.scatter(kmeans5.cluster_centers_[1][0],kmeans5.cluster_centers_[1][1],   s=200, marker='s')\n",
    "plt.scatter(kmeans5.cluster_centers_[2][0],kmeans5.cluster_centers_[2][1],   s=200, marker='s')\n",
    "plt.scatter(kmeans5.cluster_centers_[3][0],kmeans5.cluster_centers_[3][1],   s=200, marker='s')\n",
    "plt.scatter(kmeans5.cluster_centers_[4][0],kmeans5.cluster_centers_[4][1],   s=200, marker='s')\n"
   ]
  },
  {
   "cell_type": "code",
   "execution_count": null,
   "metadata": {},
   "outputs": [],
   "source": [
    "\n",
    "plt.scatter(x[:,2],x[:,3],   c=y_kmeans5,   cmap=\"rainbow\")\n",
    "\n",
    "#sepal width (cm)\tpetal length (cm)"
   ]
  },
  {
   "cell_type": "code",
   "execution_count": null,
   "metadata": {},
   "outputs": [],
   "source": []
  },
  {
   "cell_type": "markdown",
   "metadata": {},
   "source": [
    "# ELBOW METHOD\n",
    "\n",
    "## To find optimal number of K"
   ]
  },
  {
   "cell_type": "code",
   "execution_count": 109,
   "metadata": {},
   "outputs": [
    {
     "data": {
      "text/plain": [
       "[681.3705999999996,\n",
       " 152.34795176035797,\n",
       " 78.851441426146,\n",
       " 57.22847321428572,\n",
       " 46.44618205128204,\n",
       " 39.03998724608725,\n",
       " 34.43854057492214,\n",
       " 30.110906071998176,\n",
       " 27.81984552289816]"
      ]
     },
     "execution_count": 109,
     "metadata": {},
     "output_type": "execute_result"
    }
   ],
   "source": [
    "Error =[]\n",
    "######  looping\n",
    "\n",
    "\n",
    "#####\n",
    "\n",
    "for i in range(0,20):\n",
    "    kmeans = KMeans(n_clusters = i).fit(df)\n",
    "    Error.append(kmeans.intertia_)\n"
   ]
  },
  {
   "cell_type": "code",
   "execution_count": 124,
   "metadata": {},
   "outputs": [
    {
     "data": {
      "text/plain": [
       "[12, 23, 34, 45]"
      ]
     },
     "execution_count": 124,
     "metadata": {},
     "output_type": "execute_result"
    }
   ],
   "source": [
    "new_sal = []\n",
    "\n",
    "sal = [11,22,33,44]\n",
    "#collection\n",
    "#iteration\n",
    "\n",
    "for h in sal:\n",
    "    x=h+1\n",
    "    new_sal.append(x)\n",
    "    \n",
    "\n",
    "\n",
    "new_sal"
   ]
  },
  {
   "cell_type": "code",
   "execution_count": 110,
   "metadata": {},
   "outputs": [
    {
     "data": {
      "image/png": "[encoded data removed]",
      "text/plain": [
       "<Figure size 432x288 with 1 Axes>"
      ]
     },
     "metadata": {
      "needs_background": "light"
     },
     "output_type": "display_data"
    }
   ],
   "source": [
    "\n",
    "\n",
    "    \n",
    "import matplotlib.pyplot as plt\n",
    "\n",
    "plt.plot(range(1, 10), Error)\n",
    "\n",
    "plt.title('Elbow method')\n",
    "plt.xlabel('No of clusters')\n",
    "plt.ylabel('Error')\n",
    "plt.show()\n"
   ]
  },
  {
   "cell_type": "code",
   "execution_count": 117,
   "metadata": {},
   "outputs": [
    {
     "data": {
      "text/plain": [
       "28.27454118250173"
      ]
     },
     "execution_count": 117,
     "metadata": {},
     "output_type": "execute_result"
    }
   ],
   "source": [
    "\n",
    "#K =5\n",
    "kmeans=KMeans(n_clusters=5)\n",
    "\n",
    "y_kmeans = kmeans.fit(df)\n",
    "\n",
    "\n",
    "y_kmeans.inertia_\n",
    "\n",
    "#28.174278138528148\n",
    "#28.146938933873162\n",
    "#28.27320418470419\n",
    "#28.27454118250173\n",
    "\n",
    "\n",
    "#WSS"
   ]
  },
  {
   "cell_type": "markdown",
   "metadata": {},
   "source": [
    "# The Silhouette Method\n",
    "\n",
    "The silhouette value measures how similar a point is to its own cluster (cohesion) compared to other clusters (separation).\n"
   ]
  },
  {
   "cell_type": "code",
   "execution_count": null,
   "metadata": {},
   "outputs": [],
   "source": [
    "from sklearn.metrics import silhouette_score\n"
   ]
  },
  {
   "cell_type": "code",
   "execution_count": null,
   "metadata": {},
   "outputs": [],
   "source": [
    "sil = []\n",
    "kmax = 10\n",
    "\n",
    "# dissimilarity would not be defined for a single cluster, thus, minimum number of clusters should be 2\n",
    "for k in range(2, kmax+1):\n",
    "  kmeans = KMeans(n_clusters = k).fit(x)\n",
    "  labels = kmeans.labels_\n",
    "  sil.append(silhouette_score(x, labels, metric = 'euclidean'))"
   ]
  },
  {
   "cell_type": "code",
   "execution_count": null,
   "metadata": {},
   "outputs": [],
   "source": [
    "import matplotlib.pyplot as plt\n",
    "\n",
    "plt.plot(range(1, 10), sil)\n",
    "\n",
    "plt.title('Elbow method')\n",
    "plt.xlabel('No of clusters')\n",
    "plt.ylabel('Error')\n",
    "plt.show()"
   ]
  },
  {
   "cell_type": "markdown",
   "metadata": {},
   "source": []
  },
  {
   "cell_type": "code",
   "execution_count": null,
   "metadata": {},
   "outputs": [],
   "source": [
    "\n",
    "kmeans3 = KMeans(n_clusters=3)\n",
    "\n",
    "y_kmeans3 = kmeans3.fit_predict(x)\n",
    "\n",
    "print(y_kmeans3)\n"
   ]
  },
  {
   "cell_type": "code",
   "execution_count": null,
   "metadata": {},
   "outputs": [],
   "source": [
    "\n",
    "kmeans3.cluster_centers_"
   ]
  },
  {
   "cell_type": "code",
   "execution_count": null,
   "metadata": {},
   "outputs": [],
   "source": [
    "\n",
    "\n",
    "plt.scatter(x[:,0],x[:,1],c=y_kmeans3,cmap=\"rainbow\")\n",
    "\n",
    "\n",
    "plt.scatter(kmeans3.cluster_centers_[0][0],kmeans3.cluster_centers_[0][1], s=100, c='g', marker='s')\n",
    "plt.scatter(kmeans3.cluster_centers_[1][0],kmeans3.cluster_centers_[1][1], s=100, c='g', marker='s')\n",
    "plt.scatter(kmeans3.cluster_centers_[2][0],kmeans3.cluster_centers_[2][1], s=100, c='g', marker='s')\n"
   ]
  }
 ],
 "metadata": {
  "kernelspec": {
   "display_name": "Python 3",
   "language": "python",
   "name": "python3"
  },
  "language_info": {
   "codemirror_mode": {
    "name": "ipython",
    "version": 3
   },
   "file_extension": ".py",
   "mimetype": "text/x-python",
   "name": "python",
   "nbconvert_exporter": "python",
   "pygments_lexer": "ipython3",
   "version": "3.7.6"
  }
 },
 "nbformat": 4,
 "nbformat_minor": 4
}
