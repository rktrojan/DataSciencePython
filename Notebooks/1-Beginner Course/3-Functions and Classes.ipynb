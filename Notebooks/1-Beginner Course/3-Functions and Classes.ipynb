{
 "cells": [
  {
   "cell_type": "code",
   "execution_count": null,
   "metadata": {},
   "outputs": [],
   "source": []
  },
  {
   "cell_type": "code",
   "execution_count": null,
   "metadata": {},
   "outputs": [],
   "source": []
  },
  {
   "cell_type": "code",
   "execution_count": 3,
   "metadata": {},
   "outputs": [
    {
     "name": "stdout",
     "output_type": "stream",
     "text": [
      "outside function\n"
     ]
    }
   ],
   "source": [
    "#function in python\n",
    "\n",
    "def calc( a,b,ops):\n",
    "    if ops==\"add\":\n",
    "        print(\"add\",a+b)\n",
    "        #return (a+b)\n",
    "    elif ops==\"sub\":\n",
    "        return a-b\n",
    "\n",
    "print(\"outside function\")\n",
    "\n",
    "\n"
   ]
  },
  {
   "cell_type": "code",
   "execution_count": 4,
   "metadata": {},
   "outputs": [
    {
     "name": "stdout",
     "output_type": "stream",
     "text": [
      "add 3\n"
     ]
    }
   ],
   "source": [
    "\n",
    "\n",
    "aaa=calc(1,2,\"add\")  \n"
   ]
  },
  {
   "cell_type": "code",
   "execution_count": 5,
   "metadata": {},
   "outputs": [
    {
     "name": "stdout",
     "output_type": "stream",
     "text": [
      "add 3\n",
      "None \n",
      " -1\n"
     ]
    }
   ],
   "source": [
    "print(calc(1,2,\"add\")              ,\"\\n\",    calc(1,2,\"sub\"))"
   ]
  },
  {
   "cell_type": "code",
   "execution_count": 40,
   "metadata": {},
   "outputs": [],
   "source": [
    "#even odd\n",
    "\n",
    "\n",
    "\n",
    "\n",
    "def even_odd():\n",
    "    num = int(input(\"Enter a number: \"))\n",
    "    if (num % 2) == 0:\n",
    "       print(num,\" is Even\")\n",
    "    else:\n",
    "       print(num,\" is Odd\")\n",
    "    "
   ]
  },
  {
   "cell_type": "code",
   "execution_count": 41,
   "metadata": {},
   "outputs": [
    {
     "name": "stdout",
     "output_type": "stream",
     "text": [
      "Enter a number: 99\n",
      "99  is Odd\n"
     ]
    }
   ],
   "source": [
    "#call or executing\n",
    "\n",
    "even_odd()"
   ]
  },
  {
   "cell_type": "code",
   "execution_count": null,
   "metadata": {},
   "outputs": [],
   "source": []
  },
  {
   "cell_type": "code",
   "execution_count": 46,
   "metadata": {},
   "outputs": [],
   "source": [
    "\n",
    "\n",
    "\n",
    "def fullname(fname, lname):\n",
    "    return fname.upper()    +\" \"+   lname.upper()"
   ]
  },
  {
   "cell_type": "code",
   "execution_count": 47,
   "metadata": {},
   "outputs": [
    {
     "data": {
      "text/plain": [
       "'RAHUL AGGARWAL'"
      ]
     },
     "execution_count": 47,
     "metadata": {},
     "output_type": "execute_result"
    }
   ],
   "source": [
    "fullname(\"rahul\",\"aggarwal\")"
   ]
  },
  {
   "cell_type": "code",
   "execution_count": null,
   "metadata": {},
   "outputs": [],
   "source": [
    "#string palindrome\n",
    "\n",
    "def isPalindrome(s): \n",
    "    return s == s[::-1] \n",
    "\n"
   ]
  },
  {
   "cell_type": "code",
   "execution_count": 22,
   "metadata": {},
   "outputs": [
    {
     "name": "stdout",
     "output_type": "stream",
     "text": [
      "enter num0\n",
      "enter number other than 0. u entered: 0\n"
     ]
    }
   ],
   "source": [
    "\n",
    "\n",
    "x=2\n",
    "y=int(input(\"enter num\"))\n",
    "try:\n",
    "    c=x/y\n",
    "    print(c)\n",
    "except:\n",
    "    print(\"enter number other than 0. you entered:\",y)\n",
    "\n",
    "\n",
    "    \n",
    " "
   ]
  },
  {
   "cell_type": "code",
   "execution_count": 60,
   "metadata": {},
   "outputs": [
    {
     "data": {
      "text/plain": [
       "2"
      ]
     },
     "execution_count": 60,
     "metadata": {},
     "output_type": "execute_result"
    }
   ],
   "source": [
    "len(arr1)"
   ]
  },
  {
   "cell_type": "code",
   "execution_count": 61,
   "metadata": {},
   "outputs": [],
   "source": [
    "arr=[12,22,333,334,533]\n",
    "arr1=[]\n",
    "arr2=[]\n",
    "j=0\n",
    "\n",
    "for i in arr:\n",
    "    \n",
    "    if i%2==0:\n",
    "        arr1.append(i)\n",
    "    else:\n",
    "        arr2.append(i)\n",
    "    \n",
    "    j=j+1\n"
   ]
  },
  {
   "cell_type": "code",
   "execution_count": 62,
   "metadata": {},
   "outputs": [
    {
     "name": "stdout",
     "output_type": "stream",
     "text": [
      "[2, 4] [1, 3, 5]\n"
     ]
    }
   ],
   "source": [
    "print(arr1, arr2)"
   ]
  },
  {
   "cell_type": "code",
   "execution_count": 63,
   "metadata": {},
   "outputs": [
    {
     "name": "stdout",
     "output_type": "stream",
     "text": [
      "[2, 4, 1, 3, 5]\n"
     ]
    }
   ],
   "source": [
    "print(arr1 + arr2)\n",
    "\n",
    "[3 7 5]\n",
    "[2, 4, 1, 3, 5]\n",
    "[1,2,3,4,5]\n",
    "error"
   ]
  },
  {
   "cell_type": "code",
   "execution_count": null,
   "metadata": {},
   "outputs": [],
   "source": []
  },
  {
   "cell_type": "code",
   "execution_count": null,
   "metadata": {},
   "outputs": [],
   "source": [
    "str1=['hello','WORLD','Hello World!']"
   ]
  },
  {
   "cell_type": "code",
   "execution_count": null,
   "metadata": {},
   "outputs": [],
   "source": []
  },
  {
   "cell_type": "code",
   "execution_count": 1,
   "metadata": {},
   "outputs": [
    {
     "data": {
      "text/plain": [
       "['C:\\\\Users\\\\admin\\\\anaconda3',\n",
       " 'C:\\\\Users\\\\admin\\\\anaconda3\\\\lib\\\\site-packages']"
      ]
     },
     "execution_count": 1,
     "metadata": {},
     "output_type": "execute_result"
    }
   ],
   "source": [
    "#labmda functions\n",
    "\n",
    "sum=lambda x,y:x+y+2-66\n",
    "\n",
    "\n",
    "sum(1,2)\n",
    "\n",
    "\n",
    "import site\n",
    "site.getsitepackages()\n",
    "\n"
   ]
  },
  {
   "cell_type": "code",
   "execution_count": null,
   "metadata": {},
   "outputs": [],
   "source": []
  },
  {
   "cell_type": "code",
   "execution_count": null,
   "metadata": {},
   "outputs": [],
   "source": []
  }
 ],
 "metadata": {
  "kernelspec": {
   "display_name": "Python 3 (ipykernel)",
   "language": "python",
   "name": "python3"
  },
  "language_info": {
   "codemirror_mode": {
    "name": "ipython",
    "version": 3
   },
   "file_extension": ".py",
   "mimetype": "text/x-python",
   "name": "python",
   "nbconvert_exporter": "python",
   "pygments_lexer": "ipython3",
   "version": "3.9.7"
  }
 },
 "nbformat": 4,
 "nbformat_minor": 4
}
