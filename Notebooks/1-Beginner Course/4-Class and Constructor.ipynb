{
 "cells": [
  {
   "cell_type": "code",
   "execution_count": 7,
   "metadata": {},
   "outputs": [],
   "source": [
    "class Student:\n",
    "    \n",
    "    def __init__(self, nm, ae):\n",
    "        self.name=nm\n",
    "        self.age=ae\n",
    "    #object instance regular\n",
    "    def displayStudent(self):\n",
    "      print( \"Name : \", self.age )\n"
   ]
  },
  {
   "cell_type": "code",
   "execution_count": 8,
   "metadata": {},
   "outputs": [
    {
     "name": "stdout",
     "output_type": "stream",
     "text": [
      "Name :  6666\n"
     ]
    }
   ],
   "source": [
    "\n",
    "#rahul=Teacher()\n",
    "rohit=Student(888,6666)\n",
    "rohit.age\n",
    "rohit.name\n",
    "rohit.displayStudent()\n"
   ]
  }
 ],
 "metadata": {
  "kernelspec": {
   "display_name": "Python 3 (ipykernel)",
   "language": "python",
   "name": "python3"
  },
  "language_info": {
   "codemirror_mode": {
    "name": "ipython",
    "version": 3
   },
   "file_extension": ".py",
   "mimetype": "text/x-python",
   "name": "python",
   "nbconvert_exporter": "python",
   "pygments_lexer": "ipython3",
   "version": "3.9.7"
  }
 },
 "nbformat": 4,
 "nbformat_minor": 4
}
