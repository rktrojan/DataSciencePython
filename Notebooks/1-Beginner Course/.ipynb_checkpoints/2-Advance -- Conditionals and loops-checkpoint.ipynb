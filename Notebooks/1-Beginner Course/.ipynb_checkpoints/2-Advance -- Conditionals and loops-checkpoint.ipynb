{
 "cells": [
  {
   "cell_type": "code",
   "execution_count": 5,
   "metadata": {},
   "outputs": [
    {
     "name": "stdout",
     "output_type": "stream",
     "text": [
      "\n",
      "\n",
      "Press the enter your name  Rahul\n",
      "Hello  Rahul\n"
     ]
    }
   ],
   "source": [
    "#ask for user inputs\n",
    "\n",
    "\n",
    "name=input(\"\\n\\nPress the enter your name  \")\n",
    "\n",
    "\n",
    "print(\"Hello \",name)"
   ]
  },
  {
   "cell_type": "code",
   "execution_count": 8,
   "metadata": {},
   "outputs": [
    {
     "name": "stdout",
     "output_type": "stream",
     "text": [
      "True\n"
     ]
    }
   ],
   "source": [
    "##Maths\n",
    "\n",
    "\n",
    "#assignment operator\n",
    "\n",
    "sal=3000  #integer datatype\n",
    "\n",
    "\n",
    "\n",
    "#check / validation operator\n",
    "print(sal==3000)\n",
    "\n",
    "\n"
   ]
  },
  {
   "cell_type": "code",
   "execution_count": 10,
   "metadata": {},
   "outputs": [
    {
     "name": "stdout",
     "output_type": "stream",
     "text": [
      "3300.0\n"
     ]
    }
   ],
   "source": [
    "#increase by 10 percent\n",
    "\n",
    "print(sal+(sal*.1))\n"
   ]
  },
  {
   "cell_type": "code",
   "execution_count": 7,
   "metadata": {},
   "outputs": [
    {
     "name": "stdout",
     "output_type": "stream",
     "text": [
      "187\n"
     ]
    }
   ],
   "source": [
    "\n",
    "#boolean\n",
    "\n",
    "num1=88\n",
    "num2=99\n",
    "\n",
    "result=num1+num2\n",
    "\n",
    "\n",
    "print(result)\n"
   ]
  },
  {
   "cell_type": "code",
   "execution_count": 21,
   "metadata": {},
   "outputs": [
    {
     "name": "stdout",
     "output_type": "stream",
     "text": [
      "300\n",
      "90000\n"
     ]
    }
   ],
   "source": [
    "a=300\n",
    "print(a)\n",
    "\n",
    "if (a>500):\n",
    "    print(10000)\n",
    "else:\n",
    "    print(90000)\n",
    "\n",
    "    \n"
   ]
  },
  {
   "cell_type": "code",
   "execution_count": 18,
   "metadata": {},
   "outputs": [
    {
     "name": "stdout",
     "output_type": "stream",
     "text": [
      "section 2\n",
      "False\n"
     ]
    }
   ],
   "source": [
    "x=False\n",
    "\n",
    "if True:\n",
    "    print(\"section 1\")#;x=3;\n",
    "else:\n",
    "    print(\"section 2\")\n",
    "    print(\"False\")"
   ]
  },
  {
   "cell_type": "code",
   "execution_count": 19,
   "metadata": {},
   "outputs": [
    {
     "name": "stdout",
     "output_type": "stream",
     "text": [
      "Answer\n",
      "False\n",
      "88\n"
     ]
    }
   ],
   "source": [
    "if False:\n",
    "    print(\"Answer\")#;x=3;\n",
    "    print(\"True\")\n",
    "else:\n",
    "    print(\"Answer\")\n",
    "    \n",
    "    print(\"False\")\n",
    "\n"
   ]
  },
  {
   "cell_type": "code",
   "execution_count": 39,
   "metadata": {},
   "outputs": [
    {
     "name": "stdout",
     "output_type": "stream",
     "text": [
      "11000.0\n",
      "220000.0\n",
      "1\n",
      "1\n",
      "1\n",
      "1\n",
      "33000.0\n",
      "99\n"
     ]
    }
   ],
   "source": [
    "#lst\n",
    "\n",
    "lst_sals = [10000,200000,355555,478899,4900000,53333333,30000]\n",
    "lst_sals\n",
    "\n",
    "for t in lst_sals:\n",
    "    if t<300000:\n",
    "        print(t+(t*.1))\n",
    "    else:\n",
    "        print(1)\n",
    "        continue\n",
    "        print(t)\n",
    "        \n",
    "        \n",
    "print(99)        \n",
    "        "
   ]
  },
  {
   "cell_type": "code",
   "execution_count": 27,
   "metadata": {},
   "outputs": [
    {
     "name": "stdout",
     "output_type": "stream",
     "text": [
      "10000\n",
      "200000\n",
      "355555\n",
      "478899\n",
      "4900000\n",
      "53333333\n"
     ]
    }
   ],
   "source": [
    "for t in lst_sals:\n",
    "  print(t)"
   ]
  },
  {
   "cell_type": "code",
   "execution_count": 94,
   "metadata": {},
   "outputs": [
    {
     "name": "stdout",
     "output_type": "stream",
     "text": [
      "apple\n",
      "100\n",
      "banana\n",
      "100\n",
      "cherry\n",
      "apple\n",
      "100\n",
      "banana\n",
      "100\n",
      "cherry\n"
     ]
    }
   ],
   "source": [
    "#break vs continue\n",
    "\n",
    "fruits = [\"apple\", \"banana\", \"cherry\",\"apple\", \"banana\", \"cherry\"]\n",
    "for x in fruits:\n",
    "        print(x)\n",
    "        if x == \"cherry\":\n",
    "            continue\n",
    "        \n",
    "        \n",
    "        print(100)\n",
    "    \n",
    "    \n"
   ]
  },
  {
   "cell_type": "code",
   "execution_count": 67,
   "metadata": {},
   "outputs": [
    {
     "data": {
      "text/plain": [
       "'mango'"
      ]
     },
     "execution_count": 67,
     "metadata": {},
     "output_type": "execute_result"
    }
   ],
   "source": [
    "fruits = [\"apple\", \"banana\", \"cherry\"]\n",
    "\n",
    "fruits[0]=\"mango\"\n",
    "fruits[0]"
   ]
  },
  {
   "cell_type": "code",
   "execution_count": 69,
   "metadata": {},
   "outputs": [
    {
     "name": "stdout",
     "output_type": "stream",
     "text": [
      "apple\n",
      "banana\n",
      "cherry\n"
     ]
    }
   ],
   "source": [
    "#tuple\n",
    "\n",
    "fruits_t = (\"apple\", \"banana\", \"cherry\")\n",
    "\n",
    "#fruits_t[0]=\"mango\"\n",
    "#fruits_t[0]\n",
    "\n",
    "for x in fruits_t:\n",
    "    print(x)\n",
    "    "
   ]
  },
  {
   "cell_type": "code",
   "execution_count": 81,
   "metadata": {},
   "outputs": [
    {
     "data": {
      "text/plain": [
       "99"
      ]
     },
     "execution_count": 81,
     "metadata": {},
     "output_type": "execute_result"
    }
   ],
   "source": [
    "#complex datatypes\n",
    "#dictionary\n",
    "\n",
    "#key and value\n",
    "\n",
    "\n",
    "\n",
    "student = {'Name': 'Zara', 'Age': 7, 'Class': 'DS'} --- DICT -- DOCUMENT-- MongoDB-NoSQL\n",
    "--DOCUMENT ORIENTED DATABASE\n",
    "--MONGODB--     pymongo\n",
    "--package---\n",
    "DF<---table\n",
    "column\n",
    "{}\n",
    "----JSONLITE\n",
    "\n",
    "\n",
    "\n",
    "--pyhive\n",
    "--pymongo\n",
    "\n",
    "\n",
    "student2 = {'Name': 'ajay', 'Age': 27, 'Class': 'DS1'}\n",
    "\n",
    "#print( \"student['Name']:\", student['Name'])\n",
    "#print (\"student['Age']: \", student['Age'])\n",
    "\n",
    "student.keys()\n",
    "student.values()\n",
    "\n",
    "student['Age']=99\n",
    "student['Age']\n",
    "\n"
   ]
  },
  {
   "cell_type": "code",
   "execution_count": 86,
   "metadata": {},
   "outputs": [
    {
     "name": "stdout",
     "output_type": "stream",
     "text": [
      "Name Zara\n",
      "Age 99\n",
      "Class DS\n"
     ]
    }
   ],
   "source": [
    "for i in student:\n",
    "    print(i,student[i])"
   ]
  },
  {
   "cell_type": "code",
   "execution_count": null,
   "metadata": {},
   "outputs": [],
   "source": [
    "int\n",
    "float\n",
    "#string\n",
    "list =[]\n",
    "set\n",
    "tuple\n",
    "\n",
    "dict---HASHMAP\n",
    "K,V\n"
   ]
  },
  {
   "cell_type": "code",
   "execution_count": null,
   "metadata": {},
   "outputs": [],
   "source": []
  },
  {
   "cell_type": "code",
   "execution_count": 57,
   "metadata": {},
   "outputs": [
    {
     "name": "stdout",
     "output_type": "stream",
     "text": [
      "Zara\n",
      "7\n",
      "First\n"
     ]
    }
   ],
   "source": [
    "\n",
    "    \n",
    "    \n",
    "\n",
    "set1={1,2,3,4,4,3,8,99,8}\n",
    "\n",
    "set1[1]"
   ]
  },
  {
   "cell_type": "code",
   "execution_count": 2,
   "metadata": {},
   "outputs": [],
   "source": [
    "import pyhive as ph\n",
    "\n",
    "ph.hive()"
   ]
  },
  {
   "cell_type": "code",
   "execution_count": 17,
   "metadata": {},
   "outputs": [],
   "source": [
    "\n",
    "#add every element to its next element\n",
    "\n",
    "arr=[1,2,3,55,65,44]\n",
    "\n",
    "\n",
    "\n",
    "\n",
    "\n",
    "arr1=[3,5,58,120,109]\n",
    "\n",
    "\n"
   ]
  },
  {
   "cell_type": "code",
   "execution_count": 18,
   "metadata": {},
   "outputs": [
    {
     "name": "stdout",
     "output_type": "stream",
     "text": [
      "3\n",
      "5\n",
      "58\n",
      "120\n",
      "109\n"
     ]
    }
   ],
   "source": [
    "x=len(arr)-1\n",
    "\n",
    "for i in range(len(arr)):\n",
    "    if i!=x:\n",
    "        print(arr[i]+arr[i+1])\n",
    "        \n",
    "        \n",
    "        "
   ]
  }
 ],
 "metadata": {
  "kernelspec": {
   "display_name": "Python 3 (ipykernel)",
   "language": "python",
   "name": "python3"
  },
  "language_info": {
   "codemirror_mode": {
    "name": "ipython",
    "version": 3
   },
   "file_extension": ".py",
   "mimetype": "text/x-python",
   "name": "python",
   "nbconvert_exporter": "python",
   "pygments_lexer": "ipython3",
   "version": "3.9.7"
  }
 },
 "nbformat": 4,
 "nbformat_minor": 4
}
