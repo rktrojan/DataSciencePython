{
 "cells": [
  {
   "cell_type": "markdown",
   "metadata": {},
   "source": [
    "# STUDY\n",
    "\n",
    "## https://www.asimovinstitute.org/neural-network-zoo/\n",
    "\n",
    "\n",
    "\n",
    "# PLAYGROUND \n",
    "\n",
    "\n",
    "## https://playground.tensorflow.org/\n"
   ]
  },
  {
   "cell_type": "markdown",
   "metadata": {},
   "source": [
    "# -------------------------------------------------------------------"
   ]
  },
  {
   "cell_type": "markdown",
   "metadata": {},
   "source": [
    "# USING SKLEARN NEURAL NETWORK"
   ]
  },
  {
   "cell_type": "code",
   "execution_count": 91,
   "metadata": {},
   "outputs": [],
   "source": [
    "from sklearn.neural_network import MLPRegressor\n",
    "\n",
    "\n",
    "reg = MLPRegressor(hidden_layer_sizes=(2,3,5),\n",
    "                   verbose=22,\n",
    "                   activation=\"logistic\" ,\n",
    "                   batch_size=40,\n",
    "                   random_state=1, \n",
    "                   max_iter=1000,\n",
    "                   learning_rate =\"adaptive\",\n",
    "                   solver='sgd',\n",
    "                   learning_rate_init=0.0001)\n",
    "\n",
    "\n",
    "# 2 neurons and then 3 neurons"
   ]
  },
  {
   "cell_type": "code",
   "execution_count": 104,
   "metadata": {},
   "outputs": [],
   "source": [
    "??MLPRegressor"
   ]
  },
  {
   "cell_type": "code",
   "execution_count": 3,
   "metadata": {},
   "outputs": [],
   "source": [
    "??MLPRegressor\n"
   ]
  },
  {
   "cell_type": "markdown",
   "metadata": {},
   "source": [
    "# ON RANDOM DATASET"
   ]
  },
  {
   "cell_type": "code",
   "execution_count": 64,
   "metadata": {},
   "outputs": [],
   "source": [
    "X_train = [[22,33],\n",
    "           [44,55]]\n",
    "\n",
    "y_train = [22,34]"
   ]
  },
  {
   "cell_type": "code",
   "execution_count": 92,
   "metadata": {},
   "outputs": [
    {
     "name": "stderr",
     "output_type": "stream",
     "text": [
      "C:\\Users\\admin\\anaconda3\\lib\\site-packages\\sklearn\\neural_network\\_multilayer_perceptron.py:611: UserWarning: Got `batch_size` less than 1 or larger than sample size. It is going to be clipped\n",
      "  warnings.warn(\n"
     ]
    },
    {
     "name": "stdout",
     "output_type": "stream",
     "text": [
      "Iteration 1, loss = 390.83401686\n",
      "Iteration 2, loss = 390.48494891\n",
      "Iteration 3, loss = 389.98746843\n",
      "Iteration 4, loss = 389.35682131\n",
      "Iteration 5, loss = 388.60680103\n",
      "Iteration 6, loss = 387.74987570\n",
      "Iteration 7, loss = 386.79730551\n",
      "Iteration 8, loss = 385.75925097\n",
      "Iteration 9, loss = 384.64487260\n",
      "Iteration 10, loss = 383.46242244\n",
      "Iteration 11, loss = 382.21932806\n",
      "Iteration 12, loss = 380.92226937\n",
      "Iteration 13, loss = 379.57724895\n",
      "Iteration 14, loss = 378.18965620\n",
      "Iteration 15, loss = 376.76432583\n",
      "Iteration 16, loss = 375.30559122\n",
      "Iteration 17, loss = 373.81733290\n",
      "Iteration 18, loss = 372.30302264\n",
      "Iteration 19, loss = 370.76576350\n",
      "Iteration 20, loss = 369.20832619\n",
      "Iteration 21, loss = 367.63318203\n",
      "Iteration 22, loss = 366.04253279\n",
      "Iteration 23, loss = 364.43833774\n",
      "Iteration 24, loss = 362.82233815\n",
      "Iteration 25, loss = 361.19607939\n",
      "Iteration 26, loss = 359.56093095\n",
      "Iteration 27, loss = 357.91810451\n",
      "Iteration 28, loss = 356.26867030\n",
      "Iteration 29, loss = 354.61357177\n",
      "Iteration 30, loss = 352.95363894\n",
      "Iteration 31, loss = 351.28960035\n",
      "Iteration 32, loss = 349.62209393\n",
      "Iteration 33, loss = 347.95167667\n",
      "Iteration 34, loss = 346.27883344\n",
      "Iteration 35, loss = 344.60398490\n",
      "Iteration 36, loss = 342.92749460\n",
      "Iteration 37, loss = 341.24967541\n",
      "Iteration 38, loss = 339.57079527\n",
      "Iteration 39, loss = 337.89108238\n",
      "Iteration 40, loss = 336.21072990\n",
      "Iteration 41, loss = 334.52990010\n",
      "Iteration 42, loss = 332.84872817\n",
      "Iteration 43, loss = 331.16732559\n",
      "Iteration 44, loss = 329.48578321\n",
      "Iteration 45, loss = 327.80417396\n",
      "Iteration 46, loss = 326.12255530\n",
      "Iteration 47, loss = 324.44097148\n",
      "Iteration 48, loss = 322.75945546\n",
      "Iteration 49, loss = 321.07803074\n",
      "Iteration 50, loss = 319.39671291\n",
      "Iteration 51, loss = 317.71551112\n",
      "Iteration 52, loss = 316.03442933\n",
      "Iteration 53, loss = 314.35346747\n",
      "Iteration 54, loss = 312.67262246\n",
      "Iteration 55, loss = 310.99188912\n",
      "Iteration 56, loss = 309.31126101\n",
      "Iteration 57, loss = 307.63073112\n",
      "Iteration 58, loss = 305.95029254\n",
      "Iteration 59, loss = 304.26993905\n",
      "Iteration 60, loss = 302.58966560\n",
      "Iteration 61, loss = 300.90946877\n",
      "Iteration 62, loss = 299.22934716\n",
      "Iteration 63, loss = 297.54930176\n",
      "Iteration 64, loss = 295.86933623\n",
      "Iteration 65, loss = 294.18945718\n",
      "Iteration 66, loss = 292.50967438\n",
      "Iteration 67, loss = 290.83000095\n",
      "Iteration 68, loss = 289.15045357\n",
      "Iteration 69, loss = 287.47105254\n",
      "Iteration 70, loss = 285.79182195\n",
      "Iteration 71, loss = 284.11278976\n",
      "Iteration 72, loss = 282.43398783\n",
      "Iteration 73, loss = 280.75545201\n",
      "Iteration 74, loss = 279.07722216\n",
      "Iteration 75, loss = 277.39934213\n",
      "Iteration 76, loss = 275.72185979\n",
      "Iteration 77, loss = 274.04482704\n",
      "Iteration 78, loss = 272.36829970\n",
      "Iteration 79, loss = 270.69233757\n",
      "Iteration 80, loss = 269.01700430\n",
      "Iteration 81, loss = 267.34236738\n",
      "Iteration 82, loss = 265.66849802\n",
      "Iteration 83, loss = 263.99547115\n",
      "Iteration 84, loss = 262.32336525\n",
      "Iteration 85, loss = 260.65226232\n",
      "Iteration 86, loss = 258.98224775\n",
      "Iteration 87, loss = 257.31341021\n",
      "Iteration 88, loss = 255.64584158\n",
      "Iteration 89, loss = 253.97963678\n",
      "Iteration 90, loss = 252.31489370\n",
      "Iteration 91, loss = 250.65171304\n",
      "Iteration 92, loss = 248.99019821\n",
      "Iteration 93, loss = 247.33045517\n",
      "Iteration 94, loss = 245.67259234\n",
      "Iteration 95, loss = 244.01672040\n",
      "Iteration 96, loss = 242.36295224\n",
      "Iteration 97, loss = 240.71140274\n",
      "Iteration 98, loss = 239.06218867\n",
      "Iteration 99, loss = 237.41542854\n",
      "Iteration 100, loss = 235.77124247\n",
      "Iteration 101, loss = 234.12975202\n",
      "Iteration 102, loss = 232.49108009\n",
      "Iteration 103, loss = 230.85535072\n",
      "Iteration 104, loss = 229.22268900\n",
      "Iteration 105, loss = 227.59322093\n",
      "Iteration 106, loss = 225.96707321\n",
      "Iteration 107, loss = 224.34437321\n",
      "Iteration 108, loss = 222.72524873\n",
      "Iteration 109, loss = 221.10982794\n",
      "Iteration 110, loss = 219.49823919\n",
      "Iteration 111, loss = 217.89061094\n",
      "Iteration 112, loss = 216.28707157\n",
      "Iteration 113, loss = 214.68774929\n",
      "Iteration 114, loss = 213.09277200\n",
      "Iteration 115, loss = 211.50226719\n",
      "Iteration 116, loss = 209.91636180\n",
      "Iteration 117, loss = 208.33518211\n",
      "Iteration 118, loss = 206.75885364\n",
      "Iteration 119, loss = 205.18750103\n",
      "Iteration 120, loss = 203.62124793\n",
      "Iteration 121, loss = 202.06021694\n",
      "Iteration 122, loss = 200.50452943\n",
      "Iteration 123, loss = 198.95430554\n",
      "Iteration 124, loss = 197.40966401\n",
      "Iteration 125, loss = 195.87072217\n",
      "Iteration 126, loss = 194.33759576\n",
      "Iteration 127, loss = 192.81039896\n",
      "Iteration 128, loss = 191.28924423\n",
      "Iteration 129, loss = 189.77424227\n",
      "Iteration 130, loss = 188.26550197\n",
      "Iteration 131, loss = 186.76313030\n",
      "Iteration 132, loss = 185.26723231\n",
      "Iteration 133, loss = 183.77791100\n",
      "Iteration 134, loss = 182.29526734\n",
      "Iteration 135, loss = 180.81940017\n",
      "Iteration 136, loss = 179.35040619\n",
      "Iteration 137, loss = 177.88837987\n",
      "Iteration 138, loss = 176.43341348\n",
      "Iteration 139, loss = 174.98559698\n",
      "Iteration 140, loss = 173.54501805\n",
      "Iteration 141, loss = 172.11176202\n",
      "Iteration 142, loss = 170.68591187\n",
      "Iteration 143, loss = 169.26754820\n",
      "Iteration 144, loss = 167.85674919\n",
      "Iteration 145, loss = 166.45359063\n",
      "Iteration 146, loss = 165.05814586\n",
      "Iteration 147, loss = 163.67048578\n",
      "Iteration 148, loss = 162.29067886\n",
      "Iteration 149, loss = 160.91879109\n",
      "Iteration 150, loss = 159.55488601\n",
      "Iteration 151, loss = 158.19902473\n",
      "Iteration 152, loss = 156.85126585\n",
      "Iteration 153, loss = 155.51166558\n",
      "Iteration 154, loss = 154.18027765\n",
      "Iteration 155, loss = 152.85715336\n",
      "Iteration 156, loss = 151.54234159\n",
      "Iteration 157, loss = 150.23588879\n",
      "Iteration 158, loss = 148.93783905\n",
      "Iteration 159, loss = 147.64823404\n",
      "Iteration 160, loss = 146.36711308\n",
      "Iteration 161, loss = 145.09451314\n",
      "Iteration 162, loss = 143.83046889\n",
      "Iteration 163, loss = 142.57501265\n",
      "Iteration 164, loss = 141.32817450\n",
      "Iteration 165, loss = 140.08998224\n",
      "Iteration 166, loss = 138.86046148\n",
      "Iteration 167, loss = 137.63963557\n",
      "Iteration 168, loss = 136.42752574\n",
      "Iteration 169, loss = 135.22415103\n",
      "Iteration 170, loss = 134.02952840\n",
      "Iteration 171, loss = 132.84367271\n",
      "Iteration 172, loss = 131.66659676\n",
      "Iteration 173, loss = 130.49831133\n",
      "Iteration 174, loss = 129.33882522\n",
      "Iteration 175, loss = 128.18814526\n",
      "Iteration 176, loss = 127.04627638\n",
      "Iteration 177, loss = 125.91322159\n",
      "Iteration 178, loss = 124.78898206\n",
      "Iteration 179, loss = 123.67355715\n",
      "Iteration 180, loss = 122.56694443\n",
      "Iteration 181, loss = 121.46913971\n",
      "Iteration 182, loss = 120.38013709\n",
      "Iteration 183, loss = 119.29992901\n",
      "Iteration 184, loss = 118.22850625\n",
      "Iteration 185, loss = 117.16585799\n",
      "Iteration 186, loss = 116.11197183\n",
      "Iteration 187, loss = 115.06683385\n",
      "Iteration 188, loss = 114.03042864\n",
      "Iteration 189, loss = 113.00273930\n",
      "Iteration 190, loss = 111.98374752\n",
      "Iteration 191, loss = 110.97343361\n",
      "Iteration 192, loss = 109.97177651\n",
      "Iteration 193, loss = 108.97875383\n",
      "Iteration 194, loss = 107.99434193\n",
      "Iteration 195, loss = 107.01851588\n",
      "Iteration 196, loss = 106.05124958\n",
      "Iteration 197, loss = 105.09251570\n",
      "Iteration 198, loss = 104.14228580\n",
      "Iteration 199, loss = 103.20053031\n",
      "Iteration 200, loss = 102.26721860\n",
      "Iteration 201, loss = 101.34231896\n",
      "Iteration 202, loss = 100.42579871\n",
      "Iteration 203, loss = 99.51762414\n",
      "Iteration 204, loss = 98.61776064\n",
      "Iteration 205, loss = 97.72617264\n",
      "Iteration 206, loss = 96.84282372\n",
      "Iteration 207, loss = 95.96767657\n",
      "Iteration 208, loss = 95.10069308\n",
      "Iteration 209, loss = 94.24183433\n",
      "Iteration 210, loss = 93.39106065\n",
      "Iteration 211, loss = 92.54833162\n",
      "Iteration 212, loss = 91.71360610\n",
      "Iteration 213, loss = 90.88684229\n",
      "Iteration 214, loss = 90.06799774\n",
      "Iteration 215, loss = 89.25702934\n",
      "Iteration 216, loss = 88.45389342\n",
      "Iteration 217, loss = 87.65854571\n",
      "Iteration 218, loss = 86.87094140\n",
      "Iteration 219, loss = 86.09103517\n",
      "Iteration 220, loss = 85.31878117\n",
      "Iteration 221, loss = 84.55413311\n",
      "Iteration 222, loss = 83.79704423\n",
      "Iteration 223, loss = 83.04746735\n",
      "Iteration 224, loss = 82.30535489\n",
      "Iteration 225, loss = 81.57065887\n",
      "Iteration 226, loss = 80.84333096\n",
      "Iteration 227, loss = 80.12332251\n",
      "Iteration 228, loss = 79.41058452\n",
      "Iteration 229, loss = 78.70506770\n",
      "Iteration 230, loss = 78.00672251\n",
      "Iteration 231, loss = 77.31549913\n",
      "Iteration 232, loss = 76.63134748\n",
      "Iteration 233, loss = 75.95421731\n",
      "Iteration 234, loss = 75.28405812\n",
      "Iteration 235, loss = 74.62081926\n",
      "Iteration 236, loss = 73.96444990\n",
      "Iteration 237, loss = 73.31489905\n",
      "Iteration 238, loss = 72.67211561\n",
      "Iteration 239, loss = 72.03604834\n",
      "Iteration 240, loss = 71.40664591\n",
      "Iteration 241, loss = 70.78385691\n",
      "Iteration 242, loss = 70.16762985\n",
      "Iteration 243, loss = 69.55791317\n",
      "Iteration 244, loss = 68.95465530\n",
      "Iteration 245, loss = 68.35780462\n",
      "Iteration 246, loss = 67.76730949\n",
      "Iteration 247, loss = 67.18311829\n",
      "Iteration 248, loss = 66.60517940\n",
      "Iteration 249, loss = 66.03344120\n",
      "Iteration 250, loss = 65.46785215\n",
      "Iteration 251, loss = 64.90836072\n",
      "Iteration 252, loss = 64.35491545\n",
      "Iteration 253, loss = 63.80746496\n",
      "Iteration 254, loss = 63.26595793\n",
      "Iteration 255, loss = 62.73034315\n",
      "Iteration 256, loss = 62.20056950\n",
      "Iteration 257, loss = 61.67658596\n",
      "Iteration 258, loss = 61.15834166\n",
      "Iteration 259, loss = 60.64578582\n",
      "Iteration 260, loss = 60.13886783\n",
      "Iteration 261, loss = 59.63753721\n",
      "Iteration 262, loss = 59.14174365\n",
      "Iteration 263, loss = 58.65143697\n",
      "Iteration 264, loss = 58.16656719\n",
      "Iteration 265, loss = 57.68708451\n",
      "Iteration 266, loss = 57.21293930\n",
      "Iteration 267, loss = 56.74408212\n",
      "Iteration 268, loss = 56.28046374\n",
      "Iteration 269, loss = 55.82203514\n",
      "Iteration 270, loss = 55.36874750\n",
      "Iteration 271, loss = 54.92055222\n",
      "Iteration 272, loss = 54.47740093\n",
      "Iteration 273, loss = 54.03924548\n",
      "Iteration 274, loss = 53.60603797\n",
      "Iteration 275, loss = 53.17773071\n",
      "Iteration 276, loss = 52.75427630\n",
      "Iteration 277, loss = 52.33562755\n",
      "Iteration 278, loss = 51.92173754\n",
      "Iteration 279, loss = 51.51255961\n",
      "Iteration 280, loss = 51.10804736\n",
      "Iteration 281, loss = 50.70815466\n",
      "Iteration 282, loss = 50.31283564\n",
      "Iteration 283, loss = 49.92204471\n",
      "Iteration 284, loss = 49.53573656\n",
      "Iteration 285, loss = 49.15386617\n",
      "Iteration 286, loss = 48.77638877\n",
      "Iteration 287, loss = 48.40325993\n",
      "Iteration 288, loss = 48.03443545\n",
      "Iteration 289, loss = 47.66987146\n",
      "Iteration 290, loss = 47.30952438\n",
      "Iteration 291, loss = 46.95335092\n",
      "Iteration 292, loss = 46.60130809\n",
      "Iteration 293, loss = 46.25335319\n",
      "Iteration 294, loss = 45.90944385\n",
      "Iteration 295, loss = 45.56953797\n",
      "Iteration 296, loss = 45.23359379\n",
      "Iteration 297, loss = 44.90156984\n",
      "Iteration 298, loss = 44.57342495\n",
      "Iteration 299, loss = 44.24911827\n",
      "Iteration 300, loss = 43.92860926\n",
      "Iteration 301, loss = 43.61185770\n",
      "Iteration 302, loss = 43.29882367\n",
      "Iteration 303, loss = 42.98946756\n",
      "Iteration 304, loss = 42.68375009\n",
      "Iteration 305, loss = 42.38163229\n",
      "Iteration 306, loss = 42.08307549\n",
      "Iteration 307, loss = 41.78804136\n",
      "Iteration 308, loss = 41.49649186\n",
      "Iteration 309, loss = 41.20838929\n",
      "Iteration 310, loss = 40.92369623\n",
      "Iteration 311, loss = 40.64237562\n",
      "Iteration 312, loss = 40.36439069\n",
      "Iteration 313, loss = 40.08970498\n",
      "Iteration 314, loss = 39.81828237\n",
      "Iteration 315, loss = 39.55008702\n",
      "Iteration 316, loss = 39.28508342\n",
      "Iteration 317, loss = 39.02323640\n",
      "Iteration 318, loss = 38.76451105\n",
      "Iteration 319, loss = 38.50887282\n",
      "Iteration 320, loss = 38.25628744\n",
      "Iteration 321, loss = 38.00672098\n",
      "Iteration 322, loss = 37.76013978\n",
      "Iteration 323, loss = 37.51651051\n",
      "Iteration 324, loss = 37.27580017\n",
      "Iteration 325, loss = 37.03797603\n",
      "Iteration 326, loss = 36.80300569\n",
      "Iteration 327, loss = 36.57085703\n",
      "Iteration 328, loss = 36.34149826\n",
      "Iteration 329, loss = 36.11489788\n",
      "Iteration 330, loss = 35.89102470\n",
      "Iteration 331, loss = 35.66984780\n",
      "Iteration 332, loss = 35.45133659\n",
      "Iteration 333, loss = 35.23546076\n",
      "Iteration 334, loss = 35.02219031\n",
      "Iteration 335, loss = 34.81149552\n",
      "Iteration 336, loss = 34.60334697\n",
      "Iteration 337, loss = 34.39771552\n",
      "Iteration 338, loss = 34.19457232\n",
      "Iteration 339, loss = 33.99388883\n",
      "Iteration 340, loss = 33.79563677\n",
      "Iteration 341, loss = 33.59978815\n",
      "Iteration 342, loss = 33.40631527\n",
      "Iteration 343, loss = 33.21519071\n",
      "Iteration 344, loss = 33.02638732\n",
      "Iteration 345, loss = 32.83987822\n",
      "Iteration 346, loss = 32.65563684\n",
      "Iteration 347, loss = 32.47363684\n",
      "Iteration 348, loss = 32.29385219\n",
      "Iteration 349, loss = 32.11625710\n",
      "Iteration 350, loss = 31.94082605\n",
      "Iteration 351, loss = 31.76753382\n",
      "Iteration 352, loss = 31.59635541\n",
      "Iteration 353, loss = 31.42726611\n",
      "Iteration 354, loss = 31.26024147\n",
      "Iteration 355, loss = 31.09525727\n",
      "Iteration 356, loss = 30.93228958\n",
      "Iteration 357, loss = 30.77131471\n",
      "Iteration 358, loss = 30.61230923\n",
      "Iteration 359, loss = 30.45524994\n",
      "Iteration 360, loss = 30.30011391\n",
      "Iteration 361, loss = 30.14687845\n",
      "Iteration 362, loss = 29.99552111\n",
      "Iteration 363, loss = 29.84601969\n",
      "Iteration 364, loss = 29.69835223\n",
      "Iteration 365, loss = 29.55249700\n",
      "Iteration 366, loss = 29.40843251\n",
      "Iteration 367, loss = 29.26613751\n",
      "Iteration 368, loss = 29.12559097\n",
      "Iteration 369, loss = 28.98677212\n",
      "Iteration 370, loss = 28.84966038\n",
      "Iteration 371, loss = 28.71423543\n",
      "Iteration 372, loss = 28.58047714\n",
      "Iteration 373, loss = 28.44836564\n",
      "Iteration 374, loss = 28.31788126\n",
      "Iteration 375, loss = 28.18900454\n",
      "Iteration 376, loss = 28.06171626\n",
      "Iteration 377, loss = 27.93599739\n",
      "Iteration 378, loss = 27.81182914\n",
      "Iteration 379, loss = 27.68919291\n",
      "Iteration 380, loss = 27.56807031\n",
      "Iteration 381, loss = 27.44844317\n",
      "Iteration 382, loss = 27.33029351\n",
      "Iteration 383, loss = 27.21360357\n",
      "Iteration 384, loss = 27.09835577\n",
      "Iteration 385, loss = 26.98453274\n",
      "Iteration 386, loss = 26.87211731\n",
      "Iteration 387, loss = 26.76109251\n",
      "Iteration 388, loss = 26.65144154\n",
      "Iteration 389, loss = 26.54314782\n",
      "Iteration 390, loss = 26.43619494\n",
      "Iteration 391, loss = 26.33056669\n",
      "Iteration 392, loss = 26.22624703\n",
      "Iteration 393, loss = 26.12322013\n",
      "Iteration 394, loss = 26.02147032\n",
      "Iteration 395, loss = 25.92098211\n",
      "Iteration 396, loss = 25.82174020\n",
      "Iteration 397, loss = 25.72372947\n",
      "Iteration 398, loss = 25.62693495\n",
      "Iteration 399, loss = 25.53134188\n"
     ]
    },
    {
     "name": "stdout",
     "output_type": "stream",
     "text": [
      "Iteration 400, loss = 25.43693564\n",
      "Iteration 401, loss = 25.34370179\n",
      "Iteration 402, loss = 25.25162607\n",
      "Iteration 403, loss = 25.16069437\n",
      "Iteration 404, loss = 25.07089275\n",
      "Iteration 405, loss = 24.98220742\n",
      "Iteration 406, loss = 24.89462479\n",
      "Iteration 407, loss = 24.80813138\n",
      "Iteration 408, loss = 24.72271390\n",
      "Iteration 409, loss = 24.63835921\n",
      "Iteration 410, loss = 24.55505431\n",
      "Iteration 411, loss = 24.47278637\n",
      "Iteration 412, loss = 24.39154270\n",
      "Iteration 413, loss = 24.31131077\n",
      "Iteration 414, loss = 24.23207819\n",
      "Iteration 415, loss = 24.15383272\n",
      "Iteration 416, loss = 24.07656225\n",
      "Iteration 417, loss = 24.00025484\n",
      "Iteration 418, loss = 23.92489868\n",
      "Iteration 419, loss = 23.85048208\n",
      "Iteration 420, loss = 23.77699351\n",
      "Iteration 421, loss = 23.70442159\n",
      "Iteration 422, loss = 23.63275504\n",
      "Iteration 423, loss = 23.56198273\n",
      "Iteration 424, loss = 23.49209368\n",
      "Iteration 425, loss = 23.42307701\n",
      "Iteration 426, loss = 23.35492200\n",
      "Iteration 427, loss = 23.28761803\n",
      "Iteration 428, loss = 23.22115462\n",
      "Iteration 429, loss = 23.15552143\n",
      "Iteration 430, loss = 23.09070821\n",
      "Iteration 431, loss = 23.02670486\n",
      "Iteration 432, loss = 22.96350140\n",
      "Iteration 433, loss = 22.90108795\n",
      "Iteration 434, loss = 22.83945477\n",
      "Iteration 435, loss = 22.77859222\n",
      "Iteration 436, loss = 22.71849079\n",
      "Iteration 437, loss = 22.65914108\n",
      "Iteration 438, loss = 22.60053379\n",
      "Iteration 439, loss = 22.54265976\n",
      "Iteration 440, loss = 22.48550991\n",
      "Iteration 441, loss = 22.42907529\n",
      "Iteration 442, loss = 22.37334705\n",
      "Iteration 443, loss = 22.31831645\n",
      "Iteration 444, loss = 22.26397484\n",
      "Iteration 445, loss = 22.21031371\n",
      "Iteration 446, loss = 22.15732463\n",
      "Iteration 447, loss = 22.10499925\n",
      "Iteration 448, loss = 22.05332937\n",
      "Iteration 449, loss = 22.00230686\n",
      "Iteration 450, loss = 21.95192368\n",
      "Iteration 451, loss = 21.90217191\n",
      "Iteration 452, loss = 21.85304371\n",
      "Iteration 453, loss = 21.80453135\n",
      "Iteration 454, loss = 21.75662719\n",
      "Iteration 455, loss = 21.70932366\n",
      "Iteration 456, loss = 21.66261332\n",
      "Iteration 457, loss = 21.61648880\n",
      "Iteration 458, loss = 21.57094280\n",
      "Iteration 459, loss = 21.52596816\n",
      "Iteration 460, loss = 21.48155776\n",
      "Iteration 461, loss = 21.43770458\n",
      "Iteration 462, loss = 21.39440171\n",
      "Iteration 463, loss = 21.35164228\n",
      "Iteration 464, loss = 21.30941955\n",
      "Iteration 465, loss = 21.26772684\n",
      "Iteration 466, loss = 21.22655754\n",
      "Iteration 467, loss = 21.18590513\n",
      "Iteration 468, loss = 21.14576319\n",
      "Iteration 469, loss = 21.10612536\n",
      "Iteration 470, loss = 21.06698535\n",
      "Iteration 471, loss = 21.02833697\n",
      "Iteration 472, loss = 20.99017408\n",
      "Iteration 473, loss = 20.95249063\n",
      "Iteration 474, loss = 20.91528065\n",
      "Iteration 475, loss = 20.87853823\n",
      "Iteration 476, loss = 20.84225754\n",
      "Iteration 477, loss = 20.80643283\n",
      "Iteration 478, loss = 20.77105840\n",
      "Iteration 479, loss = 20.73612863\n",
      "Iteration 480, loss = 20.70163797\n",
      "Iteration 481, loss = 20.66758094\n",
      "Iteration 482, loss = 20.63395214\n",
      "Iteration 483, loss = 20.60074620\n",
      "Iteration 484, loss = 20.56795785\n",
      "Iteration 485, loss = 20.53558188\n",
      "Iteration 486, loss = 20.50361312\n",
      "Iteration 487, loss = 20.47204650\n",
      "Iteration 488, loss = 20.44087698\n",
      "Iteration 489, loss = 20.41009961\n",
      "Iteration 490, loss = 20.37970947\n",
      "Iteration 491, loss = 20.34970173\n",
      "Iteration 492, loss = 20.32007161\n",
      "Iteration 493, loss = 20.29081438\n",
      "Iteration 494, loss = 20.26192537\n",
      "Iteration 495, loss = 20.23339999\n",
      "Iteration 496, loss = 20.20523368\n",
      "Iteration 497, loss = 20.17742194\n",
      "Iteration 498, loss = 20.14996035\n",
      "Iteration 499, loss = 20.12284451\n",
      "Iteration 500, loss = 20.09607009\n",
      "Iteration 501, loss = 20.06963283\n",
      "Iteration 502, loss = 20.04352850\n",
      "Iteration 503, loss = 20.01775292\n",
      "Iteration 504, loss = 19.99230199\n",
      "Iteration 505, loss = 19.96717163\n",
      "Iteration 506, loss = 19.94235783\n",
      "Iteration 507, loss = 19.91785661\n",
      "Iteration 508, loss = 19.89366407\n",
      "Iteration 509, loss = 19.86977634\n",
      "Iteration 510, loss = 19.84618958\n",
      "Iteration 511, loss = 19.82290003\n",
      "Iteration 512, loss = 19.79990396\n",
      "Iteration 513, loss = 19.77719770\n",
      "Iteration 514, loss = 19.75477760\n",
      "Iteration 515, loss = 19.73264008\n",
      "Iteration 516, loss = 19.71078158\n",
      "Iteration 517, loss = 19.68919862\n",
      "Iteration 518, loss = 19.66788774\n",
      "Iteration 519, loss = 19.64684551\n",
      "Iteration 520, loss = 19.62606857\n",
      "Iteration 521, loss = 19.60555359\n",
      "Iteration 522, loss = 19.58529727\n",
      "Iteration 523, loss = 19.56529638\n",
      "Iteration 524, loss = 19.54554770\n",
      "Iteration 525, loss = 19.52604808\n",
      "Iteration 526, loss = 19.50679437\n",
      "Iteration 527, loss = 19.48778349\n",
      "Iteration 528, loss = 19.46901239\n",
      "Iteration 529, loss = 19.45047806\n",
      "Iteration 530, loss = 19.43217753\n",
      "Iteration 531, loss = 19.41410785\n",
      "Iteration 532, loss = 19.39626613\n",
      "Iteration 533, loss = 19.37864950\n",
      "Iteration 534, loss = 19.36125513\n",
      "Iteration 535, loss = 19.34408024\n",
      "Iteration 536, loss = 19.32712205\n",
      "Iteration 537, loss = 19.31037785\n",
      "Iteration 538, loss = 19.29384494\n",
      "Iteration 539, loss = 19.27752067\n",
      "Iteration 540, loss = 19.26140242\n",
      "Iteration 541, loss = 19.24548759\n",
      "Iteration 542, loss = 19.22977363\n",
      "Iteration 543, loss = 19.21425800\n",
      "Iteration 544, loss = 19.19893823\n",
      "Iteration 545, loss = 19.18381183\n",
      "Iteration 546, loss = 19.16887638\n",
      "Iteration 547, loss = 19.15412948\n",
      "Iteration 548, loss = 19.13956875\n",
      "Iteration 549, loss = 19.12519185\n",
      "Iteration 550, loss = 19.11099647\n",
      "Iteration 551, loss = 19.09698032\n",
      "Iteration 552, loss = 19.08314115\n",
      "Iteration 553, loss = 19.06947673\n",
      "Iteration 554, loss = 19.05598485\n",
      "Iteration 555, loss = 19.04266336\n",
      "Iteration 556, loss = 19.02951009\n",
      "Iteration 557, loss = 19.01652294\n",
      "Iteration 558, loss = 19.00369981\n",
      "Iteration 559, loss = 18.99103864\n",
      "Iteration 560, loss = 18.97853739\n",
      "Iteration 561, loss = 18.96619404\n",
      "Iteration 562, loss = 18.95400660\n",
      "Iteration 563, loss = 18.94197311\n",
      "Iteration 564, loss = 18.93009164\n",
      "Iteration 565, loss = 18.91836026\n",
      "Iteration 566, loss = 18.90677708\n",
      "Iteration 567, loss = 18.89534024\n",
      "Iteration 568, loss = 18.88404790\n",
      "Iteration 569, loss = 18.87289823\n",
      "Iteration 570, loss = 18.86188943\n",
      "Iteration 571, loss = 18.85101974\n",
      "Iteration 572, loss = 18.84028739\n",
      "Iteration 573, loss = 18.82969065\n",
      "Iteration 574, loss = 18.81922783\n",
      "Iteration 575, loss = 18.80889722\n",
      "Iteration 576, loss = 18.79869716\n",
      "Iteration 577, loss = 18.78862601\n",
      "Iteration 578, loss = 18.77868214\n",
      "Iteration 579, loss = 18.76886394\n",
      "Iteration 580, loss = 18.75916984\n",
      "Iteration 581, loss = 18.74959826\n",
      "Iteration 582, loss = 18.74014766\n",
      "Iteration 583, loss = 18.73081652\n",
      "Iteration 584, loss = 18.72160333\n",
      "Iteration 585, loss = 18.71250660\n",
      "Iteration 586, loss = 18.70352486\n",
      "Iteration 587, loss = 18.69465666\n",
      "Iteration 588, loss = 18.68590058\n",
      "Iteration 589, loss = 18.67725518\n",
      "Iteration 590, loss = 18.66871909\n",
      "Iteration 591, loss = 18.66029092\n",
      "Iteration 592, loss = 18.65196931\n",
      "Iteration 593, loss = 18.64375291\n",
      "Iteration 594, loss = 18.63564039\n",
      "Iteration 595, loss = 18.62763046\n",
      "Iteration 596, loss = 18.61972180\n",
      "Iteration 597, loss = 18.61191315\n",
      "Iteration 598, loss = 18.60420324\n",
      "Iteration 599, loss = 18.59659082\n",
      "Iteration 600, loss = 18.58907467\n",
      "Iteration 601, loss = 18.58165356\n",
      "Iteration 602, loss = 18.57432631\n",
      "Iteration 603, loss = 18.56709172\n",
      "Iteration 604, loss = 18.55994863\n",
      "Iteration 605, loss = 18.55289587\n",
      "Iteration 606, loss = 18.54593232\n",
      "Iteration 607, loss = 18.53905684\n",
      "Iteration 608, loss = 18.53226832\n",
      "Iteration 609, loss = 18.52556566\n",
      "Iteration 610, loss = 18.51894778\n",
      "Iteration 611, loss = 18.51241362\n",
      "Iteration 612, loss = 18.50596210\n",
      "Iteration 613, loss = 18.49959219\n",
      "Iteration 614, loss = 18.49330286\n",
      "Iteration 615, loss = 18.48709309\n",
      "Iteration 616, loss = 18.48096187\n",
      "Iteration 617, loss = 18.47490822\n",
      "Iteration 618, loss = 18.46893115\n",
      "Iteration 619, loss = 18.46302969\n",
      "Iteration 620, loss = 18.45720290\n",
      "Iteration 621, loss = 18.45144982\n",
      "Iteration 622, loss = 18.44576953\n",
      "Iteration 623, loss = 18.44016111\n",
      "Iteration 624, loss = 18.43462364\n",
      "Iteration 625, loss = 18.42915624\n",
      "Iteration 626, loss = 18.42375801\n",
      "Iteration 627, loss = 18.41842809\n",
      "Iteration 628, loss = 18.41316561\n",
      "Iteration 629, loss = 18.40796971\n",
      "Iteration 630, loss = 18.40283956\n",
      "Iteration 631, loss = 18.39777433\n",
      "Iteration 632, loss = 18.39277320\n",
      "Iteration 633, loss = 18.38783534\n",
      "Iteration 634, loss = 18.38295998\n",
      "Iteration 635, loss = 18.37814631\n",
      "Iteration 636, loss = 18.37339356\n",
      "Iteration 637, loss = 18.36870095\n",
      "Iteration 638, loss = 18.36406773\n",
      "Iteration 639, loss = 18.35949314\n",
      "Iteration 640, loss = 18.35497645\n",
      "Iteration 641, loss = 18.35051692\n",
      "Iteration 642, loss = 18.34611383\n",
      "Iteration 643, loss = 18.34176647\n",
      "Iteration 644, loss = 18.33747413\n",
      "Iteration 645, loss = 18.33323612\n",
      "Iteration 646, loss = 18.32905175\n",
      "Iteration 647, loss = 18.32492033\n",
      "Iteration 648, loss = 18.32084121\n",
      "Iteration 649, loss = 18.31681372\n",
      "Iteration 650, loss = 18.31283721\n",
      "Iteration 651, loss = 18.30891103\n",
      "Iteration 652, loss = 18.30503455\n",
      "Iteration 653, loss = 18.30120714\n",
      "Iteration 654, loss = 18.29742817\n",
      "Iteration 655, loss = 18.29369704\n",
      "Iteration 656, loss = 18.29001315\n",
      "Iteration 657, loss = 18.28637588\n",
      "Iteration 658, loss = 18.28278466\n",
      "Iteration 659, loss = 18.27923890\n",
      "Iteration 660, loss = 18.27573802\n",
      "Iteration 661, loss = 18.27228147\n",
      "Iteration 662, loss = 18.26886867\n",
      "Iteration 663, loss = 18.26549907\n",
      "Iteration 664, loss = 18.26217214\n",
      "Iteration 665, loss = 18.25888732\n",
      "Iteration 666, loss = 18.25564409\n",
      "Iteration 667, loss = 18.25244192\n",
      "Iteration 668, loss = 18.24928029\n",
      "Iteration 669, loss = 18.24615868\n",
      "Iteration 670, loss = 18.24307660\n",
      "Iteration 671, loss = 18.24003354\n",
      "Iteration 672, loss = 18.23702901\n",
      "Iteration 673, loss = 18.23406251\n",
      "Iteration 674, loss = 18.23113358\n",
      "Iteration 675, loss = 18.22824173\n",
      "Iteration 676, loss = 18.22538649\n",
      "Iteration 677, loss = 18.22256740\n",
      "Iteration 678, loss = 18.21978401\n",
      "Iteration 679, loss = 18.21703586\n",
      "Iteration 680, loss = 18.21432251\n",
      "Iteration 681, loss = 18.21164351\n",
      "Iteration 682, loss = 18.20899843\n",
      "Iteration 683, loss = 18.20638685\n"
     ]
    },
    {
     "name": "stdout",
     "output_type": "stream",
     "text": [
      "Iteration 684, loss = 18.20380833\n",
      "Iteration 685, loss = 18.20126247\n",
      "Iteration 686, loss = 18.19874884\n",
      "Iteration 687, loss = 18.19626704\n",
      "Iteration 688, loss = 18.19381666\n",
      "Iteration 689, loss = 18.19139731\n",
      "Iteration 690, loss = 18.18900860\n",
      "Iteration 691, loss = 18.18665014\n",
      "Iteration 692, loss = 18.18432154\n",
      "Iteration 693, loss = 18.18202242\n",
      "Iteration 694, loss = 18.17975242\n",
      "Iteration 695, loss = 18.17751117\n",
      "Iteration 696, loss = 18.17529830\n",
      "Iteration 697, loss = 18.17311344\n",
      "Iteration 698, loss = 18.17095626\n",
      "Iteration 699, loss = 18.16882639\n",
      "Iteration 700, loss = 18.16672350\n",
      "Iteration 701, loss = 18.16464723\n",
      "Iteration 702, loss = 18.16259726\n",
      "Iteration 703, loss = 18.16057325\n",
      "Iteration 704, loss = 18.15857487\n",
      "Iteration 705, loss = 18.15660179\n",
      "Iteration 706, loss = 18.15465370\n",
      "Iteration 707, loss = 18.15273028\n",
      "Iteration 708, loss = 18.15083122\n",
      "Iteration 709, loss = 18.14895621\n",
      "Iteration 710, loss = 18.14710495\n",
      "Iteration 711, loss = 18.14527712\n",
      "Iteration 712, loss = 18.14347245\n",
      "Iteration 713, loss = 18.14169063\n",
      "Iteration 714, loss = 18.13993137\n",
      "Iteration 715, loss = 18.13819440\n",
      "Iteration 716, loss = 18.13647942\n",
      "Iteration 717, loss = 18.13478616\n",
      "Iteration 718, loss = 18.13311434\n",
      "Iteration 719, loss = 18.13146369\n",
      "Iteration 720, loss = 18.12983395\n",
      "Iteration 721, loss = 18.12822485\n",
      "Iteration 722, loss = 18.12663612\n",
      "Iteration 723, loss = 18.12506752\n",
      "Iteration 724, loss = 18.12351878\n",
      "Iteration 725, loss = 18.12198965\n",
      "Iteration 726, loss = 18.12047989\n",
      "Iteration 727, loss = 18.11898925\n",
      "Iteration 728, loss = 18.11751748\n",
      "Iteration 729, loss = 18.11606436\n",
      "Iteration 730, loss = 18.11462963\n",
      "Iteration 731, loss = 18.11321308\n",
      "Iteration 732, loss = 18.11181446\n",
      "Iteration 733, loss = 18.11043356\n",
      "Iteration 734, loss = 18.10907014\n",
      "Iteration 735, loss = 18.10772399\n",
      "Iteration 736, loss = 18.10639489\n",
      "Iteration 737, loss = 18.10508262\n",
      "Iteration 738, loss = 18.10378697\n",
      "Iteration 739, loss = 18.10250772\n",
      "Iteration 740, loss = 18.10124467\n",
      "Iteration 741, loss = 18.09999762\n",
      "Iteration 742, loss = 18.09876636\n",
      "Iteration 743, loss = 18.09755070\n",
      "Iteration 744, loss = 18.09635042\n",
      "Iteration 745, loss = 18.09516535\n",
      "Iteration 746, loss = 18.09399528\n",
      "Iteration 747, loss = 18.09284003\n",
      "Iteration 748, loss = 18.09169941\n",
      "Iteration 749, loss = 18.09057323\n",
      "Iteration 750, loss = 18.08946131\n",
      "Iteration 751, loss = 18.08836348\n",
      "Iteration 752, loss = 18.08727954\n",
      "Iteration 753, loss = 18.08620933\n",
      "Iteration 754, loss = 18.08515267\n",
      "Iteration 755, loss = 18.08410939\n",
      "Iteration 756, loss = 18.08307932\n",
      "Iteration 757, loss = 18.08206229\n",
      "Iteration 758, loss = 18.08105814\n",
      "Iteration 759, loss = 18.08006671\n",
      "Iteration 760, loss = 18.07908782\n",
      "Iteration 761, loss = 18.07812134\n",
      "Iteration 762, loss = 18.07716708\n",
      "Iteration 763, loss = 18.07622491\n",
      "Iteration 764, loss = 18.07529467\n",
      "Iteration 765, loss = 18.07437621\n",
      "Iteration 766, loss = 18.07346937\n",
      "Iteration 767, loss = 18.07257402\n",
      "Iteration 768, loss = 18.07169000\n",
      "Iteration 769, loss = 18.07081717\n",
      "Iteration 770, loss = 18.06995540\n",
      "Iteration 771, loss = 18.06910453\n",
      "Iteration 772, loss = 18.06826443\n",
      "Iteration 773, loss = 18.06743497\n",
      "Iteration 774, loss = 18.06661601\n",
      "Iteration 775, loss = 18.06580741\n",
      "Iteration 776, loss = 18.06500906\n",
      "Iteration 777, loss = 18.06422080\n",
      "Iteration 778, loss = 18.06344253\n",
      "Iteration 779, loss = 18.06267410\n",
      "Iteration 780, loss = 18.06191541\n",
      "Iteration 781, loss = 18.06116631\n",
      "Iteration 782, loss = 18.06042670\n",
      "Iteration 783, loss = 18.05969644\n",
      "Iteration 784, loss = 18.05897543\n",
      "Iteration 785, loss = 18.05826355\n",
      "Iteration 786, loss = 18.05756067\n",
      "Iteration 787, loss = 18.05686669\n",
      "Iteration 788, loss = 18.05618149\n",
      "Iteration 789, loss = 18.05550496\n",
      "Iteration 790, loss = 18.05483700\n",
      "Iteration 791, loss = 18.05417748\n",
      "Iteration 792, loss = 18.05352632\n",
      "Iteration 793, loss = 18.05288339\n",
      "Iteration 794, loss = 18.05224859\n",
      "Iteration 795, loss = 18.05162183\n",
      "Iteration 796, loss = 18.05100300\n",
      "Iteration 797, loss = 18.05039199\n",
      "Iteration 798, loss = 18.04978872\n",
      "Iteration 799, loss = 18.04919308\n",
      "Iteration 800, loss = 18.04860497\n",
      "Iteration 801, loss = 18.04802430\n",
      "Iteration 802, loss = 18.04745098\n",
      "Iteration 803, loss = 18.04688491\n",
      "Iteration 804, loss = 18.04632600\n",
      "Iteration 805, loss = 18.04577416\n",
      "Iteration 806, loss = 18.04522930\n",
      "Iteration 807, loss = 18.04469133\n",
      "Iteration 808, loss = 18.04416016\n",
      "Iteration 809, loss = 18.04363571\n",
      "Iteration 810, loss = 18.04311789\n",
      "Iteration 811, loss = 18.04260662\n",
      "Iteration 812, loss = 18.04210181\n",
      "Iteration 813, loss = 18.04160339\n",
      "Iteration 814, loss = 18.04111127\n",
      "Iteration 815, loss = 18.04062537\n",
      "Iteration 816, loss = 18.04014561\n",
      "Iteration 817, loss = 18.03967192\n",
      "Iteration 818, loss = 18.03920421\n",
      "Iteration 819, loss = 18.03874242\n",
      "Iteration 820, loss = 18.03828646\n",
      "Iteration 821, loss = 18.03783627\n",
      "Iteration 822, loss = 18.03739176\n",
      "Iteration 823, loss = 18.03695287\n",
      "Iteration 824, loss = 18.03651953\n",
      "Iteration 825, loss = 18.03609166\n",
      "Iteration 826, loss = 18.03566920\n",
      "Iteration 827, loss = 18.03525208\n",
      "Iteration 828, loss = 18.03484022\n",
      "Iteration 829, loss = 18.03443357\n",
      "Iteration 830, loss = 18.03403206\n",
      "Iteration 831, loss = 18.03363561\n",
      "Iteration 832, loss = 18.03324417\n",
      "Iteration 833, loss = 18.03285768\n",
      "Iteration 834, loss = 18.03247606\n",
      "Iteration 835, loss = 18.03209927\n",
      "Iteration 836, loss = 18.03172723\n",
      "Iteration 837, loss = 18.03135989\n",
      "Iteration 838, loss = 18.03099718\n",
      "Iteration 839, loss = 18.03063906\n",
      "Iteration 840, loss = 18.03028545\n",
      "Iteration 841, loss = 18.02993631\n",
      "Iteration 842, loss = 18.02959157\n",
      "Iteration 843, loss = 18.02925118\n",
      "Iteration 844, loss = 18.02891508\n",
      "Iteration 845, loss = 18.02858323\n",
      "Iteration 846, loss = 18.02825556\n",
      "Iteration 847, loss = 18.02793203\n",
      "Iteration 848, loss = 18.02761257\n",
      "Iteration 849, loss = 18.02729714\n",
      "Iteration 850, loss = 18.02698569\n",
      "Iteration 851, loss = 18.02667817\n",
      "Iteration 852, loss = 18.02637452\n",
      "Iteration 853, loss = 18.02607470\n",
      "Iteration 854, loss = 18.02577866\n",
      "Iteration 855, loss = 18.02548635\n",
      "Iteration 856, loss = 18.02519773\n",
      "Iteration 857, loss = 18.02491273\n",
      "Iteration 858, loss = 18.02463133\n",
      "Iteration 859, loss = 18.02435348\n",
      "Iteration 860, loss = 18.02407912\n",
      "Iteration 861, loss = 18.02380822\n",
      "Iteration 862, loss = 18.02354072\n",
      "Iteration 863, loss = 18.02327660\n",
      "Iteration 864, loss = 18.02301580\n",
      "Iteration 865, loss = 18.02275828\n",
      "Iteration 866, loss = 18.02250400\n",
      "Iteration 867, loss = 18.02225292\n",
      "Iteration 868, loss = 18.02200499\n",
      "Iteration 869, loss = 18.02176019\n",
      "Iteration 870, loss = 18.02151846\n",
      "Iteration 871, loss = 18.02127978\n",
      "Iteration 872, loss = 18.02104409\n",
      "Iteration 873, loss = 18.02081136\n",
      "Iteration 874, loss = 18.02058156\n",
      "Iteration 875, loss = 18.02035465\n",
      "Iteration 876, loss = 18.02013058\n",
      "Iteration 877, loss = 18.01990933\n",
      "Iteration 878, loss = 18.01969086\n",
      "Iteration 879, loss = 18.01947513\n",
      "Iteration 880, loss = 18.01926211\n",
      "Iteration 881, loss = 18.01905176\n",
      "Iteration 882, loss = 18.01884405\n",
      "Iteration 883, loss = 18.01863894\n",
      "Iteration 884, loss = 18.01843640\n",
      "Iteration 885, loss = 18.01823641\n",
      "Iteration 886, loss = 18.01803892\n",
      "Iteration 887, loss = 18.01784390\n",
      "Iteration 888, loss = 18.01765133\n",
      "Iteration 889, loss = 18.01746117\n",
      "Iteration 890, loss = 18.01727339\n",
      "Iteration 891, loss = 18.01708796\n",
      "Iteration 892, loss = 18.01690485\n",
      "Iteration 893, loss = 18.01672403\n",
      "Iteration 894, loss = 18.01654548\n",
      "Iteration 895, loss = 18.01636915\n",
      "Iteration 896, loss = 18.01619503\n",
      "Iteration 897, loss = 18.01602309\n",
      "Iteration 898, loss = 18.01585329\n",
      "Iteration 899, loss = 18.01568561\n",
      "Iteration 900, loss = 18.01552002\n",
      "Iteration 901, loss = 18.01535651\n",
      "Iteration 902, loss = 18.01519503\n",
      "Iteration 903, loss = 18.01503556\n",
      "Iteration 904, loss = 18.01487808\n",
      "Iteration 905, loss = 18.01472257\n",
      "Iteration 906, loss = 18.01456899\n",
      "Iteration 907, loss = 18.01441732\n",
      "Iteration 908, loss = 18.01426754\n",
      "Iteration 909, loss = 18.01411963\n",
      "Iteration 910, loss = 18.01397355\n",
      "Iteration 911, loss = 18.01382929\n",
      "Iteration 912, loss = 18.01368682\n",
      "Iteration 913, loss = 18.01354612\n",
      "Iteration 914, loss = 18.01340717\n",
      "Iteration 915, loss = 18.01326994\n",
      "Iteration 916, loss = 18.01313441\n",
      "Iteration 917, loss = 18.01300056\n",
      "Iteration 918, loss = 18.01286837\n",
      "Iteration 919, loss = 18.01273782\n",
      "Iteration 920, loss = 18.01260888\n",
      "Iteration 921, loss = 18.01248154\n",
      "Iteration 922, loss = 18.01235577\n",
      "Iteration 923, loss = 18.01223156\n",
      "Iteration 924, loss = 18.01210888\n",
      "Iteration 925, loss = 18.01198771\n",
      "Iteration 926, loss = 18.01186804\n",
      "Iteration 927, loss = 18.01174985\n",
      "Iteration 928, loss = 18.01163311\n",
      "Iteration 929, loss = 18.01151780\n",
      "Iteration 930, loss = 18.01140392\n",
      "Iteration 931, loss = 18.01129143\n",
      "Iteration 932, loss = 18.01118033\n",
      "Iteration 933, loss = 18.01107059\n",
      "Iteration 934, loss = 18.01096219\n",
      "Iteration 935, loss = 18.01085513\n",
      "Iteration 936, loss = 18.01074937\n",
      "Iteration 937, loss = 18.01064491\n",
      "Iteration 938, loss = 18.01054173\n",
      "Iteration 939, loss = 18.01043981\n",
      "Iteration 940, loss = 18.01033913\n",
      "Iteration 941, loss = 18.01023968\n",
      "Iteration 942, loss = 18.01014144\n",
      "Iteration 943, loss = 18.01004440\n",
      "Iteration 944, loss = 18.00994854\n",
      "Iteration 945, loss = 18.00985384\n",
      "Iteration 946, loss = 18.00976029\n",
      "Iteration 947, loss = 18.00966788\n",
      "Iteration 948, loss = 18.00957659\n",
      "Iteration 949, loss = 18.00948640\n",
      "Iteration 950, loss = 18.00939730\n",
      "Iteration 951, loss = 18.00930928\n",
      "Training loss did not improve more than tol=0.000100 for 10 consecutive epochs. Setting learning rate to 0.000020\n",
      "Iteration 952, loss = 18.00922232\n",
      "Iteration 953, loss = 18.00914878\n",
      "Iteration 954, loss = 18.00908132\n",
      "Iteration 955, loss = 18.00901929\n",
      "Iteration 956, loss = 18.00896212\n",
      "Iteration 957, loss = 18.00890931\n",
      "Iteration 958, loss = 18.00886039\n",
      "Iteration 959, loss = 18.00881497\n",
      "Iteration 960, loss = 18.00877269\n",
      "Iteration 961, loss = 18.00873322\n",
      "Iteration 962, loss = 18.00869628\n",
      "Training loss did not improve more than tol=0.000100 for 10 consecutive epochs. Setting learning rate to 0.000004\n",
      "Iteration 963, loss = 18.00866161\n",
      "Iteration 964, loss = 18.00863127\n",
      "Iteration 965, loss = 18.00860373\n",
      "Iteration 966, loss = 18.00857869\n",
      "Iteration 967, loss = 18.00855590\n",
      "Iteration 968, loss = 18.00853513\n",
      "Iteration 969, loss = 18.00851616\n",
      "Iteration 970, loss = 18.00849882\n",
      "Iteration 971, loss = 18.00848295\n",
      "Iteration 972, loss = 18.00846838\n",
      "Iteration 973, loss = 18.00845499\n",
      "Training loss did not improve more than tol=0.000100 for 10 consecutive epochs. Setting learning rate to 0.000001\n",
      "Iteration 974, loss = 18.00844266\n",
      "Iteration 975, loss = 18.00843172\n",
      "Iteration 976, loss = 18.00842183\n",
      "Iteration 977, loss = 18.00841288\n",
      "Iteration 978, loss = 18.00840477\n",
      "Iteration 979, loss = 18.00839741\n",
      "Iteration 980, loss = 18.00839074\n",
      "Iteration 981, loss = 18.00838468\n",
      "Iteration 982, loss = 18.00837917\n",
      "Iteration 983, loss = 18.00837415\n",
      "Iteration 984, loss = 18.00836959\n",
      "Training loss did not improve more than tol=0.000100 for 10 consecutive epochs. Learning rate too small. Stopping.\n"
     ]
    },
    {
     "data": {
      "text/plain": [
       "MLPRegressor(activation='logistic', batch_size=40, hidden_layer_sizes=(2, 3, 5),\n",
       "             learning_rate='adaptive', learning_rate_init=0.0001, max_iter=1000,\n",
       "             random_state=1, solver='sgd', verbose=22)"
      ]
     },
     "execution_count": 92,
     "metadata": {},
     "output_type": "execute_result"
    }
   ],
   "source": [
    "\n",
    "reg.fit(X_train, y_train, )\n",
    "\n",
    "      "
   ]
  },
  {
   "cell_type": "code",
   "execution_count": 67,
   "metadata": {},
   "outputs": [
    {
     "data": {
      "text/plain": [
       "sklearn.neural_network._multilayer_perceptron.MLPRegressor"
      ]
     },
     "execution_count": 67,
     "metadata": {},
     "output_type": "execute_result"
    }
   ],
   "source": []
  },
  {
   "cell_type": "code",
   "execution_count": 69,
   "metadata": {},
   "outputs": [],
   "source": [
    "X_test =[[22,33],\n",
    "           [44,55]]\n",
    "\n",
    "y_test= [22,33]"
   ]
  },
  {
   "cell_type": "code",
   "execution_count": 70,
   "metadata": {},
   "outputs": [
    {
     "data": {
      "text/plain": [
       "array([27.89271939, 27.89280956])"
      ]
     },
     "execution_count": 70,
     "metadata": {},
     "output_type": "execute_result"
    }
   ],
   "source": [
    "\n",
    "\n",
    "\n",
    "y_pred=reg.predict(X_test)\n",
    "y_pred\n",
    "      \n",
    "      "
   ]
  },
  {
   "cell_type": "code",
   "execution_count": null,
   "metadata": {},
   "outputs": [],
   "source": [
    "\n",
    "      "
   ]
  },
  {
   "cell_type": "code",
   "execution_count": 86,
   "metadata": {},
   "outputs": [
    {
     "data": {
      "text/plain": [
       "-14958099526.163626"
      ]
     },
     "execution_count": 86,
     "metadata": {},
     "output_type": "execute_result"
    }
   ],
   "source": [
    "\n",
    "from sklearn.metrics import r2_score\n",
    "\n",
    "r2_score(y_pred, y_test)"
   ]
  },
  {
   "cell_type": "code",
   "execution_count": 88,
   "metadata": {},
   "outputs": [],
   "source": []
  },
  {
   "cell_type": "markdown",
   "metadata": {},
   "source": [
    "# ON DIABETES DATASET"
   ]
  },
  {
   "cell_type": "code",
   "execution_count": 93,
   "metadata": {},
   "outputs": [],
   "source": [
    "\n",
    "from sklearn.datasets import load_diabetes\n",
    "\n",
    "dataset = load_diabetes()\n"
   ]
  },
  {
   "cell_type": "code",
   "execution_count": 95,
   "metadata": {},
   "outputs": [
    {
     "data": {
      "text/plain": [
       "{'data': array([[ 0.03807591,  0.05068012,  0.06169621, ..., -0.00259226,\n",
       "          0.01990842, -0.01764613],\n",
       "        [-0.00188202, -0.04464164, -0.05147406, ..., -0.03949338,\n",
       "         -0.06832974, -0.09220405],\n",
       "        [ 0.08529891,  0.05068012,  0.04445121, ..., -0.00259226,\n",
       "          0.00286377, -0.02593034],\n",
       "        ...,\n",
       "        [ 0.04170844,  0.05068012, -0.01590626, ..., -0.01107952,\n",
       "         -0.04687948,  0.01549073],\n",
       "        [-0.04547248, -0.04464164,  0.03906215, ...,  0.02655962,\n",
       "          0.04452837, -0.02593034],\n",
       "        [-0.04547248, -0.04464164, -0.0730303 , ..., -0.03949338,\n",
       "         -0.00421986,  0.00306441]]),\n",
       " 'target': array([151.,  75., 141., 206., 135.,  97., 138.,  63., 110., 310., 101.,\n",
       "         69., 179., 185., 118., 171., 166., 144.,  97., 168.,  68.,  49.,\n",
       "         68., 245., 184., 202., 137.,  85., 131., 283., 129.,  59., 341.,\n",
       "         87.,  65., 102., 265., 276., 252.,  90., 100.,  55.,  61.,  92.,\n",
       "        259.,  53., 190., 142.,  75., 142., 155., 225.,  59., 104., 182.,\n",
       "        128.,  52.,  37., 170., 170.,  61., 144.,  52., 128.,  71., 163.,\n",
       "        150.,  97., 160., 178.,  48., 270., 202., 111.,  85.,  42., 170.,\n",
       "        200., 252., 113., 143.,  51.,  52., 210.,  65., 141.,  55., 134.,\n",
       "         42., 111.,  98., 164.,  48.,  96.,  90., 162., 150., 279.,  92.,\n",
       "         83., 128., 102., 302., 198.,  95.,  53., 134., 144., 232.,  81.,\n",
       "        104.,  59., 246., 297., 258., 229., 275., 281., 179., 200., 200.,\n",
       "        173., 180.,  84., 121., 161.,  99., 109., 115., 268., 274., 158.,\n",
       "        107.,  83., 103., 272.,  85., 280., 336., 281., 118., 317., 235.,\n",
       "         60., 174., 259., 178., 128.,  96., 126., 288.,  88., 292.,  71.,\n",
       "        197., 186.,  25.,  84.,  96., 195.,  53., 217., 172., 131., 214.,\n",
       "         59.,  70., 220., 268., 152.,  47.,  74., 295., 101., 151., 127.,\n",
       "        237., 225.,  81., 151., 107.,  64., 138., 185., 265., 101., 137.,\n",
       "        143., 141.,  79., 292., 178.,  91., 116.,  86., 122.,  72., 129.,\n",
       "        142.,  90., 158.,  39., 196., 222., 277.,  99., 196., 202., 155.,\n",
       "         77., 191.,  70.,  73.,  49.,  65., 263., 248., 296., 214., 185.,\n",
       "         78.,  93., 252., 150.,  77., 208.,  77., 108., 160.,  53., 220.,\n",
       "        154., 259.,  90., 246., 124.,  67.,  72., 257., 262., 275., 177.,\n",
       "         71.,  47., 187., 125.,  78.,  51., 258., 215., 303., 243.,  91.,\n",
       "        150., 310., 153., 346.,  63.,  89.,  50.,  39., 103., 308., 116.,\n",
       "        145.,  74.,  45., 115., 264.,  87., 202., 127., 182., 241.,  66.,\n",
       "         94., 283.,  64., 102., 200., 265.,  94., 230., 181., 156., 233.,\n",
       "         60., 219.,  80.,  68., 332., 248.,  84., 200.,  55.,  85.,  89.,\n",
       "         31., 129.,  83., 275.,  65., 198., 236., 253., 124.,  44., 172.,\n",
       "        114., 142., 109., 180., 144., 163., 147.,  97., 220., 190., 109.,\n",
       "        191., 122., 230., 242., 248., 249., 192., 131., 237.,  78., 135.,\n",
       "        244., 199., 270., 164.,  72.,  96., 306.,  91., 214.,  95., 216.,\n",
       "        263., 178., 113., 200., 139., 139.,  88., 148.,  88., 243.,  71.,\n",
       "         77., 109., 272.,  60.,  54., 221.,  90., 311., 281., 182., 321.,\n",
       "         58., 262., 206., 233., 242., 123., 167.,  63., 197.,  71., 168.,\n",
       "        140., 217., 121., 235., 245.,  40.,  52., 104., 132.,  88.,  69.,\n",
       "        219.,  72., 201., 110.,  51., 277.,  63., 118.,  69., 273., 258.,\n",
       "         43., 198., 242., 232., 175.,  93., 168., 275., 293., 281.,  72.,\n",
       "        140., 189., 181., 209., 136., 261., 113., 131., 174., 257.,  55.,\n",
       "         84.,  42., 146., 212., 233.,  91., 111., 152., 120.,  67., 310.,\n",
       "         94., 183.,  66., 173.,  72.,  49.,  64.,  48., 178., 104., 132.,\n",
       "        220.,  57.]),\n",
       " 'frame': None,\n",
       " 'DESCR': '.. _diabetes_dataset:\\n\\nDiabetes dataset\\n----------------\\n\\nTen baseline variables, age, sex, body mass index, average blood\\npressure, and six blood serum measurements were obtained for each of n =\\n442 diabetes patients, as well as the response of interest, a\\nquantitative measure of disease progression one year after baseline.\\n\\n**Data Set Characteristics:**\\n\\n  :Number of Instances: 442\\n\\n  :Number of Attributes: First 10 columns are numeric predictive values\\n\\n  :Target: Column 11 is a quantitative measure of disease progression one year after baseline\\n\\n  :Attribute Information:\\n      - age     age in years\\n      - sex\\n      - bmi     body mass index\\n      - bp      average blood pressure\\n      - s1      tc, total serum cholesterol\\n      - s2      ldl, low-density lipoproteins\\n      - s3      hdl, high-density lipoproteins\\n      - s4      tch, total cholesterol / HDL\\n      - s5      ltg, possibly log of serum triglycerides level\\n      - s6      glu, blood sugar level\\n\\nNote: Each of these 10 feature variables have been mean centered and scaled by the standard deviation times `n_samples` (i.e. the sum of squares of each column totals 1).\\n\\nSource URL:\\nhttps://www4.stat.ncsu.edu/~boos/var.select/diabetes.html\\n\\nFor more information see:\\nBradley Efron, Trevor Hastie, Iain Johnstone and Robert Tibshirani (2004) \"Least Angle Regression,\" Annals of Statistics (with discussion), 407-499.\\n(https://web.stanford.edu/~hastie/Papers/LARS/LeastAngle_2002.pdf)',\n",
       " 'feature_names': ['age',\n",
       "  'sex',\n",
       "  'bmi',\n",
       "  'bp',\n",
       "  's1',\n",
       "  's2',\n",
       "  's3',\n",
       "  's4',\n",
       "  's5',\n",
       "  's6'],\n",
       " 'data_filename': 'diabetes_data.csv.gz',\n",
       " 'target_filename': 'diabetes_target.csv.gz',\n",
       " 'data_module': 'sklearn.datasets.data'}"
      ]
     },
     "execution_count": 95,
     "metadata": {},
     "output_type": "execute_result"
    }
   ],
   "source": [
    "dataset\n"
   ]
  },
  {
   "cell_type": "code",
   "execution_count": 98,
   "metadata": {},
   "outputs": [
    {
     "data": {
      "text/plain": [
       "array([151.,  75., 141., 206., 135.,  97., 138.,  63., 110., 310., 101.,\n",
       "        69., 179., 185., 118., 171., 166., 144.,  97., 168.,  68.,  49.,\n",
       "        68., 245., 184., 202., 137.,  85., 131., 283., 129.,  59., 341.,\n",
       "        87.,  65., 102., 265., 276., 252.,  90., 100.,  55.,  61.,  92.,\n",
       "       259.,  53., 190., 142.,  75., 142., 155., 225.,  59., 104., 182.,\n",
       "       128.,  52.,  37., 170., 170.,  61., 144.,  52., 128.,  71., 163.,\n",
       "       150.,  97., 160., 178.,  48., 270., 202., 111.,  85.,  42., 170.,\n",
       "       200., 252., 113., 143.,  51.,  52., 210.,  65., 141.,  55., 134.,\n",
       "        42., 111.,  98., 164.,  48.,  96.,  90., 162., 150., 279.,  92.,\n",
       "        83., 128., 102., 302., 198.,  95.,  53., 134., 144., 232.,  81.,\n",
       "       104.,  59., 246., 297., 258., 229., 275., 281., 179., 200., 200.,\n",
       "       173., 180.,  84., 121., 161.,  99., 109., 115., 268., 274., 158.,\n",
       "       107.,  83., 103., 272.,  85., 280., 336., 281., 118., 317., 235.,\n",
       "        60., 174., 259., 178., 128.,  96., 126., 288.,  88., 292.,  71.,\n",
       "       197., 186.,  25.,  84.,  96., 195.,  53., 217., 172., 131., 214.,\n",
       "        59.,  70., 220., 268., 152.,  47.,  74., 295., 101., 151., 127.,\n",
       "       237., 225.,  81., 151., 107.,  64., 138., 185., 265., 101., 137.,\n",
       "       143., 141.,  79., 292., 178.,  91., 116.,  86., 122.,  72., 129.,\n",
       "       142.,  90., 158.,  39., 196., 222., 277.,  99., 196., 202., 155.,\n",
       "        77., 191.,  70.,  73.,  49.,  65., 263., 248., 296., 214., 185.,\n",
       "        78.,  93., 252., 150.,  77., 208.,  77., 108., 160.,  53., 220.,\n",
       "       154., 259.,  90., 246., 124.,  67.,  72., 257., 262., 275., 177.,\n",
       "        71.,  47., 187., 125.,  78.,  51., 258., 215., 303., 243.,  91.,\n",
       "       150., 310., 153., 346.,  63.,  89.,  50.,  39., 103., 308., 116.,\n",
       "       145.,  74.,  45., 115., 264.,  87., 202., 127., 182., 241.,  66.,\n",
       "        94., 283.,  64., 102., 200., 265.,  94., 230., 181., 156., 233.,\n",
       "        60., 219.,  80.,  68., 332., 248.,  84., 200.,  55.,  85.,  89.,\n",
       "        31., 129.,  83., 275.,  65., 198., 236., 253., 124.,  44., 172.,\n",
       "       114., 142., 109., 180., 144., 163., 147.,  97., 220., 190., 109.,\n",
       "       191., 122., 230., 242., 248., 249., 192., 131., 237.,  78., 135.,\n",
       "       244., 199., 270., 164.,  72.,  96., 306.,  91., 214.,  95., 216.,\n",
       "       263., 178., 113., 200., 139., 139.,  88., 148.,  88., 243.,  71.,\n",
       "        77., 109., 272.,  60.,  54., 221.,  90., 311., 281., 182., 321.,\n",
       "        58., 262., 206., 233., 242., 123., 167.,  63., 197.,  71., 168.,\n",
       "       140., 217., 121., 235., 245.,  40.,  52., 104., 132.,  88.,  69.,\n",
       "       219.,  72., 201., 110.,  51., 277.,  63., 118.,  69., 273., 258.,\n",
       "        43., 198., 242., 232., 175.,  93., 168., 275., 293., 281.,  72.,\n",
       "       140., 189., 181., 209., 136., 261., 113., 131., 174., 257.,  55.,\n",
       "        84.,  42., 146., 212., 233.,  91., 111., 152., 120.,  67., 310.,\n",
       "        94., 183.,  66., 173.,  72.,  49.,  64.,  48., 178., 104., 132.,\n",
       "       220.,  57.])"
      ]
     },
     "execution_count": 98,
     "metadata": {},
     "output_type": "execute_result"
    }
   ],
   "source": [
    "\n",
    "dataset.target"
   ]
  },
  {
   "cell_type": "code",
   "execution_count": 12,
   "metadata": {},
   "outputs": [
    {
     "data": {
      "text/plain": [
       "{'data': array([[ 0.03807591,  0.05068012,  0.06169621, ..., -0.00259226,\n",
       "          0.01990842, -0.01764613],\n",
       "        [-0.00188202, -0.04464164, -0.05147406, ..., -0.03949338,\n",
       "         -0.06832974, -0.09220405],\n",
       "        [ 0.08529891,  0.05068012,  0.04445121, ..., -0.00259226,\n",
       "          0.00286377, -0.02593034],\n",
       "        ...,\n",
       "        [ 0.04170844,  0.05068012, -0.01590626, ..., -0.01107952,\n",
       "         -0.04687948,  0.01549073],\n",
       "        [-0.04547248, -0.04464164,  0.03906215, ...,  0.02655962,\n",
       "          0.04452837, -0.02593034],\n",
       "        [-0.04547248, -0.04464164, -0.0730303 , ..., -0.03949338,\n",
       "         -0.00421986,  0.00306441]]),\n",
       " 'target': array([151.,  75., 141., 206., 135.,  97., 138.,  63., 110., 310., 101.,\n",
       "         69., 179., 185., 118., 171., 166., 144.,  97., 168.,  68.,  49.,\n",
       "         68., 245., 184., 202., 137.,  85., 131., 283., 129.,  59., 341.,\n",
       "         87.,  65., 102., 265., 276., 252.,  90., 100.,  55.,  61.,  92.,\n",
       "        259.,  53., 190., 142.,  75., 142., 155., 225.,  59., 104., 182.,\n",
       "        128.,  52.,  37., 170., 170.,  61., 144.,  52., 128.,  71., 163.,\n",
       "        150.,  97., 160., 178.,  48., 270., 202., 111.,  85.,  42., 170.,\n",
       "        200., 252., 113., 143.,  51.,  52., 210.,  65., 141.,  55., 134.,\n",
       "         42., 111.,  98., 164.,  48.,  96.,  90., 162., 150., 279.,  92.,\n",
       "         83., 128., 102., 302., 198.,  95.,  53., 134., 144., 232.,  81.,\n",
       "        104.,  59., 246., 297., 258., 229., 275., 281., 179., 200., 200.,\n",
       "        173., 180.,  84., 121., 161.,  99., 109., 115., 268., 274., 158.,\n",
       "        107.,  83., 103., 272.,  85., 280., 336., 281., 118., 317., 235.,\n",
       "         60., 174., 259., 178., 128.,  96., 126., 288.,  88., 292.,  71.,\n",
       "        197., 186.,  25.,  84.,  96., 195.,  53., 217., 172., 131., 214.,\n",
       "         59.,  70., 220., 268., 152.,  47.,  74., 295., 101., 151., 127.,\n",
       "        237., 225.,  81., 151., 107.,  64., 138., 185., 265., 101., 137.,\n",
       "        143., 141.,  79., 292., 178.,  91., 116.,  86., 122.,  72., 129.,\n",
       "        142.,  90., 158.,  39., 196., 222., 277.,  99., 196., 202., 155.,\n",
       "         77., 191.,  70.,  73.,  49.,  65., 263., 248., 296., 214., 185.,\n",
       "         78.,  93., 252., 150.,  77., 208.,  77., 108., 160.,  53., 220.,\n",
       "        154., 259.,  90., 246., 124.,  67.,  72., 257., 262., 275., 177.,\n",
       "         71.,  47., 187., 125.,  78.,  51., 258., 215., 303., 243.,  91.,\n",
       "        150., 310., 153., 346.,  63.,  89.,  50.,  39., 103., 308., 116.,\n",
       "        145.,  74.,  45., 115., 264.,  87., 202., 127., 182., 241.,  66.,\n",
       "         94., 283.,  64., 102., 200., 265.,  94., 230., 181., 156., 233.,\n",
       "         60., 219.,  80.,  68., 332., 248.,  84., 200.,  55.,  85.,  89.,\n",
       "         31., 129.,  83., 275.,  65., 198., 236., 253., 124.,  44., 172.,\n",
       "        114., 142., 109., 180., 144., 163., 147.,  97., 220., 190., 109.,\n",
       "        191., 122., 230., 242., 248., 249., 192., 131., 237.,  78., 135.,\n",
       "        244., 199., 270., 164.,  72.,  96., 306.,  91., 214.,  95., 216.,\n",
       "        263., 178., 113., 200., 139., 139.,  88., 148.,  88., 243.,  71.,\n",
       "         77., 109., 272.,  60.,  54., 221.,  90., 311., 281., 182., 321.,\n",
       "         58., 262., 206., 233., 242., 123., 167.,  63., 197.,  71., 168.,\n",
       "        140., 217., 121., 235., 245.,  40.,  52., 104., 132.,  88.,  69.,\n",
       "        219.,  72., 201., 110.,  51., 277.,  63., 118.,  69., 273., 258.,\n",
       "         43., 198., 242., 232., 175.,  93., 168., 275., 293., 281.,  72.,\n",
       "        140., 189., 181., 209., 136., 261., 113., 131., 174., 257.,  55.,\n",
       "         84.,  42., 146., 212., 233.,  91., 111., 152., 120.,  67., 310.,\n",
       "         94., 183.,  66., 173.,  72.,  49.,  64.,  48., 178., 104., 132.,\n",
       "        220.,  57.]),\n",
       " 'frame': None,\n",
       " 'DESCR': '.. _diabetes_dataset:\\n\\nDiabetes dataset\\n----------------\\n\\nTen baseline variables, age, sex, body mass index, average blood\\npressure, and six blood serum measurements were obtained for each of n =\\n442 diabetes patients, as well as the response of interest, a\\nquantitative measure of disease progression one year after baseline.\\n\\n**Data Set Characteristics:**\\n\\n  :Number of Instances: 442\\n\\n  :Number of Attributes: First 10 columns are numeric predictive values\\n\\n  :Target: Column 11 is a quantitative measure of disease progression one year after baseline\\n\\n  :Attribute Information:\\n      - age     age in years\\n      - sex\\n      - bmi     body mass index\\n      - bp      average blood pressure\\n      - s1      tc, total serum cholesterol\\n      - s2      ldl, low-density lipoproteins\\n      - s3      hdl, high-density lipoproteins\\n      - s4      tch, total cholesterol / HDL\\n      - s5      ltg, possibly log of serum triglycerides level\\n      - s6      glu, blood sugar level\\n\\nNote: Each of these 10 feature variables have been mean centered and scaled by the standard deviation times `n_samples` (i.e. the sum of squares of each column totals 1).\\n\\nSource URL:\\nhttps://www4.stat.ncsu.edu/~boos/var.select/diabetes.html\\n\\nFor more information see:\\nBradley Efron, Trevor Hastie, Iain Johnstone and Robert Tibshirani (2004) \"Least Angle Regression,\" Annals of Statistics (with discussion), 407-499.\\n(https://web.stanford.edu/~hastie/Papers/LARS/LeastAngle_2002.pdf)',\n",
       " 'feature_names': ['age',\n",
       "  'sex',\n",
       "  'bmi',\n",
       "  'bp',\n",
       "  's1',\n",
       "  's2',\n",
       "  's3',\n",
       "  's4',\n",
       "  's5',\n",
       "  's6'],\n",
       " 'data_filename': 'diabetes_data.csv.gz',\n",
       " 'target_filename': 'diabetes_target.csv.gz',\n",
       " 'data_module': 'sklearn.datasets.data'}"
      ]
     },
     "execution_count": 12,
     "metadata": {},
     "output_type": "execute_result"
    }
   ],
   "source": [
    "dataset"
   ]
  },
  {
   "cell_type": "code",
   "execution_count": 100,
   "metadata": {},
   "outputs": [
    {
     "data": {
      "text/plain": [
       "array([[ 0.03807591,  0.05068012,  0.06169621, ..., -0.00259226,\n",
       "         0.01990842, -0.01764613],\n",
       "       [-0.00188202, -0.04464164, -0.05147406, ..., -0.03949338,\n",
       "        -0.06832974, -0.09220405],\n",
       "       [ 0.08529891,  0.05068012,  0.04445121, ..., -0.00259226,\n",
       "         0.00286377, -0.02593034],\n",
       "       ...,\n",
       "       [ 0.04170844,  0.05068012, -0.01590626, ..., -0.01107952,\n",
       "        -0.04687948,  0.01549073],\n",
       "       [-0.04547248, -0.04464164,  0.03906215, ...,  0.02655962,\n",
       "         0.04452837, -0.02593034],\n",
       "       [-0.04547248, -0.04464164, -0.0730303 , ..., -0.03949338,\n",
       "        -0.00421986,  0.00306441]])"
      ]
     },
     "execution_count": 100,
     "metadata": {},
     "output_type": "execute_result"
    }
   ],
   "source": [
    "dataset.data"
   ]
  },
  {
   "cell_type": "code",
   "execution_count": 101,
   "metadata": {},
   "outputs": [],
   "source": [
    "from sklearn.model_selection import train_test_split\n",
    "\n",
    "X_train, X_test, y_train, y_test = train_test_split(dataset.data, dataset.target, random_state=100,test_size=0.2)\n"
   ]
  },
  {
   "cell_type": "code",
   "execution_count": 102,
   "metadata": {},
   "outputs": [
    {
     "data": {
      "text/plain": [
       "array([[-0.00914709,  0.05068012, -0.03099563, ..., -0.00259226,\n",
       "         0.00620932,  0.02791705],\n",
       "       [-0.04910502, -0.04464164,  0.00457217, ..., -0.00259226,\n",
       "        -0.03980959, -0.02178823],\n",
       "       [ 0.03081083, -0.04464164, -0.02021751, ..., -0.03949338,\n",
       "        -0.01090444, -0.0010777 ],\n",
       "       ...,\n",
       "       [ 0.07076875,  0.05068012, -0.00728377, ...,  0.1081111 ,\n",
       "         0.12901941,  0.0569118 ],\n",
       "       [ 0.0090156 ,  0.05068012,  0.01858372, ..., -0.00259226,\n",
       "         0.01630495, -0.01764613],\n",
       "       [ 0.04170844,  0.05068012,  0.06169621, ..., -0.00259226,\n",
       "        -0.01495648,  0.01134862]])"
      ]
     },
     "execution_count": 102,
     "metadata": {},
     "output_type": "execute_result"
    }
   ],
   "source": [
    "X_train"
   ]
  },
  {
   "cell_type": "code",
   "execution_count": 129,
   "metadata": {},
   "outputs": [],
   "source": [
    "\n",
    "\n",
    "\n",
    "reg = MLPRegressor(hidden_layer_sizes=(3,3),\n",
    "                   verbose=2,\n",
    "                   activation=\"relu\" ,\n",
    "                   batch_size=100,\n",
    "                   random_state=1, \n",
    "                   max_iter=1000,\n",
    "                   learning_rate =\"adaptive\",\n",
    "                   solver='sgd', #sgd   --- rmsprop  ---- adam--- nadam\n",
    "                   learning_rate_init=0.0001)\n",
    "\n",
    "\n",
    "# 2 neurons and then 3 neurons"
   ]
  },
  {
   "cell_type": "code",
   "execution_count": 128,
   "metadata": {},
   "outputs": [],
   "source": [
    "??MLPRegressor"
   ]
  },
  {
   "cell_type": "code",
   "execution_count": 130,
   "metadata": {},
   "outputs": [
    {
     "name": "stdout",
     "output_type": "stream",
     "text": [
      "Iteration 1, loss = 14813.74476479\n",
      "Iteration 2, loss = 14549.83895619\n",
      "Iteration 3, loss = 13631.24100532\n",
      "Iteration 4, loss = 9722.05010415\n",
      "Iteration 5, loss = 3809.09901404\n",
      "Iteration 6, loss = 3466.06329930\n",
      "Iteration 7, loss = 3110.92511914\n",
      "Iteration 8, loss = 2970.01096434\n",
      "Iteration 9, loss = 2884.18663965\n",
      "Iteration 10, loss = 2860.83886379\n",
      "Iteration 11, loss = 2798.10354335\n",
      "Iteration 12, loss = 2737.26619546\n",
      "Iteration 13, loss = 2710.68263488\n",
      "Iteration 14, loss = 2651.23861248\n",
      "Iteration 15, loss = 2562.57866784\n",
      "Iteration 16, loss = 2524.56924429\n",
      "Iteration 17, loss = 2454.03318623\n",
      "Iteration 18, loss = 2353.00861243\n",
      "Iteration 19, loss = 2263.50894117\n",
      "Iteration 20, loss = 2205.36594406\n",
      "Iteration 21, loss = 2092.97945983\n",
      "Iteration 22, loss = 2030.48719344\n",
      "Iteration 23, loss = 1941.61384074\n",
      "Iteration 24, loss = 1862.03462142\n",
      "Iteration 25, loss = 1809.84312316\n",
      "Iteration 26, loss = 1799.31414591\n",
      "Iteration 27, loss = 1725.10074649\n",
      "Iteration 28, loss = 1693.74363309\n",
      "Iteration 29, loss = 1677.78330309\n",
      "Iteration 30, loss = 1712.45576792\n",
      "Iteration 31, loss = 1684.56781354\n",
      "Iteration 32, loss = 1629.65288597\n",
      "Iteration 33, loss = 1632.27599876\n",
      "Iteration 34, loss = 1628.18491033\n",
      "Iteration 35, loss = 1586.07985425\n",
      "Iteration 36, loss = 1567.51038301\n",
      "Iteration 37, loss = 1601.56934736\n",
      "Iteration 38, loss = 1562.86690709\n",
      "Iteration 39, loss = 1576.74311066\n",
      "Iteration 40, loss = 1537.17977315\n",
      "Iteration 41, loss = 1535.90609514\n",
      "Iteration 42, loss = 1539.22177066\n",
      "Iteration 43, loss = 1536.40782639\n",
      "Iteration 44, loss = 1508.59844867\n",
      "Iteration 45, loss = 1511.78432834\n",
      "Iteration 46, loss = 1548.44266322\n",
      "Iteration 47, loss = 1543.41269584\n",
      "Iteration 48, loss = 1522.45432307\n",
      "Iteration 49, loss = 1679.64472073\n",
      "Iteration 50, loss = 1554.69027998\n",
      "Iteration 51, loss = 1496.85143278\n",
      "Iteration 52, loss = 1582.71319684\n",
      "Iteration 53, loss = 1505.39992480\n",
      "Iteration 54, loss = 1527.94094968\n",
      "Iteration 55, loss = 1527.95671098\n",
      "Iteration 56, loss = 1503.39082052\n",
      "Iteration 57, loss = 1500.62858020\n",
      "Iteration 58, loss = 1526.43684159\n",
      "Iteration 59, loss = 1503.83262409\n",
      "Iteration 60, loss = 1567.03846987\n",
      "Iteration 61, loss = 1517.73992523\n",
      "Iteration 62, loss = 1540.94551700\n",
      "Training loss did not improve more than tol=0.000100 for 10 consecutive epochs. Setting learning rate to 0.000020\n",
      "Iteration 63, loss = 1647.07713911\n",
      "Iteration 64, loss = 1537.65355964\n",
      "Iteration 65, loss = 1498.91356454\n",
      "Iteration 66, loss = 1485.66044467\n",
      "Iteration 67, loss = 1490.32449118\n",
      "Iteration 68, loss = 1491.89972483\n",
      "Iteration 69, loss = 1486.90205161\n",
      "Iteration 70, loss = 1487.39355492\n",
      "Iteration 71, loss = 1480.85759394\n",
      "Iteration 72, loss = 1482.11717593\n",
      "Iteration 73, loss = 1481.44999236\n",
      "Iteration 74, loss = 1486.30378977\n",
      "Iteration 75, loss = 1480.14321808\n",
      "Iteration 76, loss = 1483.38331756\n",
      "Iteration 77, loss = 1481.28343568\n",
      "Iteration 78, loss = 1481.02510202\n",
      "Iteration 79, loss = 1483.82910491\n",
      "Iteration 80, loss = 1485.85386404\n",
      "Iteration 81, loss = 1480.46435942\n",
      "Iteration 82, loss = 1483.32958564\n",
      "Iteration 83, loss = 1485.86458915\n",
      "Iteration 84, loss = 1480.62265568\n",
      "Iteration 85, loss = 1481.10645431\n",
      "Iteration 86, loss = 1480.48977622\n",
      "Training loss did not improve more than tol=0.000100 for 10 consecutive epochs. Setting learning rate to 0.000004\n",
      "Iteration 87, loss = 1479.38507666\n",
      "Iteration 88, loss = 1480.32792405\n",
      "Iteration 89, loss = 1480.67175228\n",
      "Iteration 90, loss = 1480.27878700\n",
      "Iteration 91, loss = 1480.50641485\n",
      "Iteration 92, loss = 1479.07351460\n",
      "Iteration 93, loss = 1479.89278694\n",
      "Iteration 94, loss = 1481.09007803\n",
      "Iteration 95, loss = 1480.02881693\n",
      "Iteration 96, loss = 1479.88242868\n",
      "Iteration 97, loss = 1480.05034356\n",
      "Iteration 98, loss = 1480.74079073\n",
      "Iteration 99, loss = 1478.09724414\n",
      "Iteration 100, loss = 1479.82782462\n",
      "Iteration 101, loss = 1479.80185295\n",
      "Iteration 102, loss = 1480.17682921\n",
      "Iteration 103, loss = 1480.36128663\n",
      "Iteration 104, loss = 1479.43143420\n",
      "Iteration 105, loss = 1479.06920283\n",
      "Iteration 106, loss = 1480.32637250\n",
      "Iteration 107, loss = 1479.40596196\n",
      "Iteration 108, loss = 1478.86859846\n",
      "Iteration 109, loss = 1479.09046961\n",
      "Iteration 110, loss = 1478.73550946\n",
      "Training loss did not improve more than tol=0.000100 for 10 consecutive epochs. Setting learning rate to 0.000001\n",
      "Iteration 111, loss = 1479.03243609\n",
      "Iteration 112, loss = 1478.89745881\n",
      "Iteration 113, loss = 1478.70097760\n",
      "Iteration 114, loss = 1478.48615589\n",
      "Iteration 115, loss = 1479.00826971\n",
      "Iteration 116, loss = 1478.58410775\n",
      "Iteration 117, loss = 1478.79208642\n",
      "Iteration 118, loss = 1478.51916649\n",
      "Iteration 119, loss = 1478.53619777\n",
      "Iteration 120, loss = 1478.47794999\n",
      "Iteration 121, loss = 1478.47456055\n",
      "Training loss did not improve more than tol=0.000100 for 10 consecutive epochs. Learning rate too small. Stopping.\n"
     ]
    },
    {
     "data": {
      "text/plain": [
       "MLPRegressor(batch_size=100, hidden_layer_sizes=(3, 3),\n",
       "             learning_rate='adaptive', learning_rate_init=0.0001, max_iter=1000,\n",
       "             random_state=1, solver='sgd', verbose=2)"
      ]
     },
     "execution_count": 130,
     "metadata": {},
     "output_type": "execute_result"
    }
   ],
   "source": [
    "\n",
    "reg.fit(X_train,y_train)\n",
    "\n"
   ]
  },
  {
   "cell_type": "code",
   "execution_count": 131,
   "metadata": {},
   "outputs": [
    {
     "data": {
      "text/plain": [
       "[array([[-0.11274486,  0.22530822, -0.6647727 ],\n",
       "        [-0.26857706, -0.83520862, -2.75281987],\n",
       "        [-0.42628829,  0.83840971,  6.72780722],\n",
       "        [ 0.05274154,  0.45535171,  4.16157518],\n",
       "        [-0.40157018,  0.41239065, -0.83850742],\n",
       "        [ 0.23161966, -0.40286896, -1.17392343],\n",
       "        [-0.48861777, -0.67815795, -1.96477602],\n",
       "        [ 0.63624198, -0.15804896,  1.5929925 ],\n",
       "        [ 0.51141198,  1.42197183,  5.43398459],\n",
       "        [-0.62630101, -0.40671077,  1.34185534]]),\n",
       " array([[ 0.06633055,  0.3837541 , -0.36896862],\n",
       "        [ 0.41338342,  1.65770272, -0.96368842],\n",
       "        [ 0.47502687,  8.59009404, -0.38299637]]),\n",
       " array([[ 0.48998996],\n",
       "        [ 9.30194842],\n",
       "        [-0.41839341]])]"
      ]
     },
     "execution_count": 131,
     "metadata": {},
     "output_type": "execute_result"
    }
   ],
   "source": [
    "reg.coefs_\n",
    "\n",
    "\n",
    "#weigth matrix\n",
    "\n"
   ]
  },
  {
   "cell_type": "code",
   "execution_count": 132,
   "metadata": {},
   "outputs": [
    {
     "data": {
      "text/plain": [
       "[array([-0.54573919,  0.14443936,  1.42692424]),\n",
       " array([-0.5822138 ,  3.72611241, -1.15455753]),\n",
       " array([1.56665839])]"
      ]
     },
     "execution_count": 132,
     "metadata": {},
     "output_type": "execute_result"
    }
   ],
   "source": [
    "reg.intercepts_"
   ]
  },
  {
   "cell_type": "code",
   "execution_count": 18,
   "metadata": {},
   "outputs": [
    {
     "data": {
      "text/plain": [
       "{'activation': 'logistic',\n",
       " 'alpha': 0.0001,\n",
       " 'batch_size': 40,\n",
       " 'beta_1': 0.9,\n",
       " 'beta_2': 0.999,\n",
       " 'early_stopping': False,\n",
       " 'epsilon': 1e-08,\n",
       " 'hidden_layer_sizes': (2, 3, 5),\n",
       " 'learning_rate': 'adaptive',\n",
       " 'learning_rate_init': 0.0001,\n",
       " 'max_fun': 15000,\n",
       " 'max_iter': 2000,\n",
       " 'momentum': 0.9,\n",
       " 'n_iter_no_change': 10,\n",
       " 'nesterovs_momentum': True,\n",
       " 'power_t': 0.5,\n",
       " 'random_state': 1,\n",
       " 'shuffle': True,\n",
       " 'solver': 'sgd',\n",
       " 'tol': 0.0001,\n",
       " 'validation_fraction': 0.1,\n",
       " 'verbose': 2,\n",
       " 'warm_start': False}"
      ]
     },
     "execution_count": 18,
     "metadata": {},
     "output_type": "execute_result"
    }
   ],
   "source": [
    "reg.get_params()"
   ]
  },
  {
   "cell_type": "code",
   "execution_count": 105,
   "metadata": {},
   "outputs": [
    {
     "data": {
      "text/plain": [
       "MLPRegressor(activation='logistic', batch_size=40, hidden_layer_sizes=(2, 3, 5),\n",
       "             learning_rate='adaptive', learning_rate_init=0.0001, max_iter=1000,\n",
       "             random_state=1, solver='sgd', verbose=22)"
      ]
     },
     "execution_count": 105,
     "metadata": {},
     "output_type": "execute_result"
    }
   ],
   "source": [
    "reg"
   ]
  },
  {
   "cell_type": "code",
   "execution_count": 112,
   "metadata": {},
   "outputs": [
    {
     "data": {
      "text/plain": [
       "array([ 42.,  72., 139.,  74., 109.,  68., 252., 245., 199., 279., 268.,\n",
       "       244., 288., 296., 129., 200.,  85.,  87., 178., 136., 277., 163.,\n",
       "        49., 118., 246.,  68., 281., 200., 122., 277.,  92., 103., 146.,\n",
       "       124., 126.,  67., 258., 156., 232., 131., 140., 198.,  96., 168.,\n",
       "        89., 161., 182., 101., 217.,  49., 310., 128.,  52.,  97.,  92.,\n",
       "        94.,  94., 270.,  98., 178.,  31., 185.,  63.,  99., 121.,  60.,\n",
       "        84.,  97.,  59., 230., 131.,  83., 138., 191.,  87., 174.,  69.,\n",
       "        75.,  88.,  53.,  49.,  89., 168.,  63., 214., 179., 196., 114.,\n",
       "       104.])"
      ]
     },
     "execution_count": 112,
     "metadata": {},
     "output_type": "execute_result"
    }
   ],
   "source": [
    "y_test"
   ]
  },
  {
   "cell_type": "markdown",
   "metadata": {},
   "source": [
    "\n",
    "\n",
    "X_test= [[ 0.03807591,.03807591,  0.05068012,  0.06169621,0.3807591 , -0.00259226,\n",
    "          0.01990842, -0.01764613, 0.3807591, 0.3807591],\n",
    "         \n",
    "         [ 0.03807591,.03807591,  0.05068012,  0.06169621,0.3807591 , -0.00259226,\n",
    "          0.01990842, -0.01764613, 0.3807591, 0.4444]\n",
    "        ]\n"
   ]
  },
  {
   "cell_type": "markdown",
   "metadata": {},
   "source": [
    "y_test = [200,200]"
   ]
  },
  {
   "cell_type": "code",
   "execution_count": 133,
   "metadata": {},
   "outputs": [
    {
     "data": {
      "text/plain": [
       "array([ 84.01227541,  48.32847005, 183.22841351,  85.45863654,\n",
       "       104.30094234, 123.15720952, 153.85038122, 278.44316472,\n",
       "       105.9992102 , 218.01527996, 210.54642793, 178.69630874,\n",
       "       208.19594039, 221.54568255, 101.09557858, 145.59793179,\n",
       "        63.91787587,  88.80906536, 189.94212387, 152.93770551,\n",
       "       267.01899334, 212.25052735,  97.26913094, 156.30081908,\n",
       "       232.23334656, 117.38328333, 276.34759719, 113.65136801,\n",
       "       192.10931105, 172.10063904, 119.94498719, 145.8327889 ,\n",
       "       140.73075059, 125.74985491, 172.31402806, 187.00119467,\n",
       "       242.19076582, 150.44318431, 224.98586113, 202.22439759,\n",
       "       122.6553017 , 157.14641202,  82.40261307, 144.64814314,\n",
       "        74.09912369, 187.35179981, 147.13255563,  92.11681025,\n",
       "       244.37136552, 136.68145637, 273.743842  ,  79.63932375,\n",
       "       203.88733723, 145.22567253,  83.38894246, 156.71534966,\n",
       "        92.73177866, 291.21827801,  86.52057097, 119.83780335,\n",
       "       100.44835304, 140.36585584, 125.06481297, 227.06014773,\n",
       "       167.78057806, 136.70031135, 122.41541814, 109.63728978,\n",
       "        67.29911875, 140.0606526 , 119.77053466,  72.40973418,\n",
       "        79.27213393, 190.447086  , 107.16203536, 167.96820108,\n",
       "       110.80660194,  70.24591759, 112.42032497,  79.77254879,\n",
       "        96.31512916, 113.68809693, 121.12484884, 101.53096222,\n",
       "       121.65061046, 167.06118684, 159.09701673,  86.56585199,\n",
       "        68.67042246])"
      ]
     },
     "execution_count": 133,
     "metadata": {},
     "output_type": "execute_result"
    }
   ],
   "source": [
    "\n",
    "y_pred=reg.predict(X_test)\n",
    "y_pred\n",
    "      "
   ]
  },
  {
   "cell_type": "code",
   "execution_count": null,
   "metadata": {},
   "outputs": [],
   "source": [
    "\n",
    "    "
   ]
  },
  {
   "cell_type": "code",
   "execution_count": 134,
   "metadata": {},
   "outputs": [
    {
     "data": {
      "text/plain": [
       "0.19398725467508282"
      ]
     },
     "execution_count": 134,
     "metadata": {},
     "output_type": "execute_result"
    }
   ],
   "source": [
    "  \n",
    "from sklearn.metrics import r2_score\n",
    "\n",
    "r2_score(y_pred, y_test)\n",
    "\n",
    "#negative R2 is not a good model -- its worse than mean model\n",
    "\n",
    "#-2114367.1530654714\n"
   ]
  },
  {
   "cell_type": "markdown",
   "metadata": {},
   "source": [
    "# ----------------------------------------------------------------"
   ]
  },
  {
   "cell_type": "markdown",
   "metadata": {},
   "source": [
    "# USING KERAS MODELS"
   ]
  },
  {
   "cell_type": "code",
   "execution_count": 136,
   "metadata": {},
   "outputs": [],
   "source": [
    "# Load dependencies\n",
    "\n",
    "from keras.models import Sequential\n",
    "\n",
    "from keras.layers import Dense\n",
    "\n",
    "\n",
    "\n",
    "\n",
    "import numpy as np\n",
    "\n"
   ]
  },
  {
   "attachments": {
    "image.png": {
     "image/png": "[encoded data removed]"
    }
   },
   "cell_type": "markdown",
   "metadata": {},
   "source": [
    "![image.png](attachment:image.png)"
   ]
  },
  {
   "cell_type": "markdown",
   "metadata": {},
   "source": [
    "## ON DIABETES DATASET"
   ]
  },
  {
   "cell_type": "code",
   "execution_count": 140,
   "metadata": {},
   "outputs": [
    {
     "data": {
      "text/plain": [
       "{'data': array([[ 0.03807591,  0.05068012,  0.06169621, ..., -0.00259226,\n",
       "          0.01990842, -0.01764613],\n",
       "        [-0.00188202, -0.04464164, -0.05147406, ..., -0.03949338,\n",
       "         -0.06832974, -0.09220405],\n",
       "        [ 0.08529891,  0.05068012,  0.04445121, ..., -0.00259226,\n",
       "          0.00286377, -0.02593034],\n",
       "        ...,\n",
       "        [ 0.04170844,  0.05068012, -0.01590626, ..., -0.01107952,\n",
       "         -0.04687948,  0.01549073],\n",
       "        [-0.04547248, -0.04464164,  0.03906215, ...,  0.02655962,\n",
       "          0.04452837, -0.02593034],\n",
       "        [-0.04547248, -0.04464164, -0.0730303 , ..., -0.03949338,\n",
       "         -0.00421986,  0.00306441]]),\n",
       " 'target': array([151.,  75., 141., 206., 135.,  97., 138.,  63., 110., 310., 101.,\n",
       "         69., 179., 185., 118., 171., 166., 144.,  97., 168.,  68.,  49.,\n",
       "         68., 245., 184., 202., 137.,  85., 131., 283., 129.,  59., 341.,\n",
       "         87.,  65., 102., 265., 276., 252.,  90., 100.,  55.,  61.,  92.,\n",
       "        259.,  53., 190., 142.,  75., 142., 155., 225.,  59., 104., 182.,\n",
       "        128.,  52.,  37., 170., 170.,  61., 144.,  52., 128.,  71., 163.,\n",
       "        150.,  97., 160., 178.,  48., 270., 202., 111.,  85.,  42., 170.,\n",
       "        200., 252., 113., 143.,  51.,  52., 210.,  65., 141.,  55., 134.,\n",
       "         42., 111.,  98., 164.,  48.,  96.,  90., 162., 150., 279.,  92.,\n",
       "         83., 128., 102., 302., 198.,  95.,  53., 134., 144., 232.,  81.,\n",
       "        104.,  59., 246., 297., 258., 229., 275., 281., 179., 200., 200.,\n",
       "        173., 180.,  84., 121., 161.,  99., 109., 115., 268., 274., 158.,\n",
       "        107.,  83., 103., 272.,  85., 280., 336., 281., 118., 317., 235.,\n",
       "         60., 174., 259., 178., 128.,  96., 126., 288.,  88., 292.,  71.,\n",
       "        197., 186.,  25.,  84.,  96., 195.,  53., 217., 172., 131., 214.,\n",
       "         59.,  70., 220., 268., 152.,  47.,  74., 295., 101., 151., 127.,\n",
       "        237., 225.,  81., 151., 107.,  64., 138., 185., 265., 101., 137.,\n",
       "        143., 141.,  79., 292., 178.,  91., 116.,  86., 122.,  72., 129.,\n",
       "        142.,  90., 158.,  39., 196., 222., 277.,  99., 196., 202., 155.,\n",
       "         77., 191.,  70.,  73.,  49.,  65., 263., 248., 296., 214., 185.,\n",
       "         78.,  93., 252., 150.,  77., 208.,  77., 108., 160.,  53., 220.,\n",
       "        154., 259.,  90., 246., 124.,  67.,  72., 257., 262., 275., 177.,\n",
       "         71.,  47., 187., 125.,  78.,  51., 258., 215., 303., 243.,  91.,\n",
       "        150., 310., 153., 346.,  63.,  89.,  50.,  39., 103., 308., 116.,\n",
       "        145.,  74.,  45., 115., 264.,  87., 202., 127., 182., 241.,  66.,\n",
       "         94., 283.,  64., 102., 200., 265.,  94., 230., 181., 156., 233.,\n",
       "         60., 219.,  80.,  68., 332., 248.,  84., 200.,  55.,  85.,  89.,\n",
       "         31., 129.,  83., 275.,  65., 198., 236., 253., 124.,  44., 172.,\n",
       "        114., 142., 109., 180., 144., 163., 147.,  97., 220., 190., 109.,\n",
       "        191., 122., 230., 242., 248., 249., 192., 131., 237.,  78., 135.,\n",
       "        244., 199., 270., 164.,  72.,  96., 306.,  91., 214.,  95., 216.,\n",
       "        263., 178., 113., 200., 139., 139.,  88., 148.,  88., 243.,  71.,\n",
       "         77., 109., 272.,  60.,  54., 221.,  90., 311., 281., 182., 321.,\n",
       "         58., 262., 206., 233., 242., 123., 167.,  63., 197.,  71., 168.,\n",
       "        140., 217., 121., 235., 245.,  40.,  52., 104., 132.,  88.,  69.,\n",
       "        219.,  72., 201., 110.,  51., 277.,  63., 118.,  69., 273., 258.,\n",
       "         43., 198., 242., 232., 175.,  93., 168., 275., 293., 281.,  72.,\n",
       "        140., 189., 181., 209., 136., 261., 113., 131., 174., 257.,  55.,\n",
       "         84.,  42., 146., 212., 233.,  91., 111., 152., 120.,  67., 310.,\n",
       "         94., 183.,  66., 173.,  72.,  49.,  64.,  48., 178., 104., 132.,\n",
       "        220.,  57.]),\n",
       " 'frame': None,\n",
       " 'DESCR': '.. _diabetes_dataset:\\n\\nDiabetes dataset\\n----------------\\n\\nTen baseline variables, age, sex, body mass index, average blood\\npressure, and six blood serum measurements were obtained for each of n =\\n442 diabetes patients, as well as the response of interest, a\\nquantitative measure of disease progression one year after baseline.\\n\\n**Data Set Characteristics:**\\n\\n  :Number of Instances: 442\\n\\n  :Number of Attributes: First 10 columns are numeric predictive values\\n\\n  :Target: Column 11 is a quantitative measure of disease progression one year after baseline\\n\\n  :Attribute Information:\\n      - age     age in years\\n      - sex\\n      - bmi     body mass index\\n      - bp      average blood pressure\\n      - s1      tc, total serum cholesterol\\n      - s2      ldl, low-density lipoproteins\\n      - s3      hdl, high-density lipoproteins\\n      - s4      tch, total cholesterol / HDL\\n      - s5      ltg, possibly log of serum triglycerides level\\n      - s6      glu, blood sugar level\\n\\nNote: Each of these 10 feature variables have been mean centered and scaled by the standard deviation times `n_samples` (i.e. the sum of squares of each column totals 1).\\n\\nSource URL:\\nhttps://www4.stat.ncsu.edu/~boos/var.select/diabetes.html\\n\\nFor more information see:\\nBradley Efron, Trevor Hastie, Iain Johnstone and Robert Tibshirani (2004) \"Least Angle Regression,\" Annals of Statistics (with discussion), 407-499.\\n(https://web.stanford.edu/~hastie/Papers/LARS/LeastAngle_2002.pdf)',\n",
       " 'feature_names': ['age',\n",
       "  'sex',\n",
       "  'bmi',\n",
       "  'bp',\n",
       "  's1',\n",
       "  's2',\n",
       "  's3',\n",
       "  's4',\n",
       "  's5',\n",
       "  's6'],\n",
       " 'data_filename': 'diabetes_data.csv.gz',\n",
       " 'target_filename': 'diabetes_target.csv.gz',\n",
       " 'data_module': 'sklearn.datasets.data'}"
      ]
     },
     "execution_count": 140,
     "metadata": {},
     "output_type": "execute_result"
    }
   ],
   "source": [
    "\n",
    "from sklearn.datasets import load_diabetes\n",
    "\n",
    "dataset = load_diabetes()\n",
    "dataset\n"
   ]
  },
  {
   "cell_type": "code",
   "execution_count": 59,
   "metadata": {},
   "outputs": [
    {
     "data": {
      "text/plain": [
       "array([151.,  75., 141., 206., 135.,  97., 138.,  63., 110., 310., 101.,\n",
       "        69., 179., 185., 118., 171., 166., 144.,  97., 168.,  68.,  49.,\n",
       "        68., 245., 184., 202., 137.,  85., 131., 283., 129.,  59., 341.,\n",
       "        87.,  65., 102., 265., 276., 252.,  90., 100.,  55.,  61.,  92.,\n",
       "       259.,  53., 190., 142.,  75., 142., 155., 225.,  59., 104., 182.,\n",
       "       128.,  52.,  37., 170., 170.,  61., 144.,  52., 128.,  71., 163.,\n",
       "       150.,  97., 160., 178.,  48., 270., 202., 111.,  85.,  42., 170.,\n",
       "       200., 252., 113., 143.,  51.,  52., 210.,  65., 141.,  55., 134.,\n",
       "        42., 111.,  98., 164.,  48.,  96.,  90., 162., 150., 279.,  92.,\n",
       "        83., 128., 102., 302., 198.,  95.,  53., 134., 144., 232.,  81.,\n",
       "       104.,  59., 246., 297., 258., 229., 275., 281., 179., 200., 200.,\n",
       "       173., 180.,  84., 121., 161.,  99., 109., 115., 268., 274., 158.,\n",
       "       107.,  83., 103., 272.,  85., 280., 336., 281., 118., 317., 235.,\n",
       "        60., 174., 259., 178., 128.,  96., 126., 288.,  88., 292.,  71.,\n",
       "       197., 186.,  25.,  84.,  96., 195.,  53., 217., 172., 131., 214.,\n",
       "        59.,  70., 220., 268., 152.,  47.,  74., 295., 101., 151., 127.,\n",
       "       237., 225.,  81., 151., 107.,  64., 138., 185., 265., 101., 137.,\n",
       "       143., 141.,  79., 292., 178.,  91., 116.,  86., 122.,  72., 129.,\n",
       "       142.,  90., 158.,  39., 196., 222., 277.,  99., 196., 202., 155.,\n",
       "        77., 191.,  70.,  73.,  49.,  65., 263., 248., 296., 214., 185.,\n",
       "        78.,  93., 252., 150.,  77., 208.,  77., 108., 160.,  53., 220.,\n",
       "       154., 259.,  90., 246., 124.,  67.,  72., 257., 262., 275., 177.,\n",
       "        71.,  47., 187., 125.,  78.,  51., 258., 215., 303., 243.,  91.,\n",
       "       150., 310., 153., 346.,  63.,  89.,  50.,  39., 103., 308., 116.,\n",
       "       145.,  74.,  45., 115., 264.,  87., 202., 127., 182., 241.,  66.,\n",
       "        94., 283.,  64., 102., 200., 265.,  94., 230., 181., 156., 233.,\n",
       "        60., 219.,  80.,  68., 332., 248.,  84., 200.,  55.,  85.,  89.,\n",
       "        31., 129.,  83., 275.,  65., 198., 236., 253., 124.,  44., 172.,\n",
       "       114., 142., 109., 180., 144., 163., 147.,  97., 220., 190., 109.,\n",
       "       191., 122., 230., 242., 248., 249., 192., 131., 237.,  78., 135.,\n",
       "       244., 199., 270., 164.,  72.,  96., 306.,  91., 214.,  95., 216.,\n",
       "       263., 178., 113., 200., 139., 139.,  88., 148.,  88., 243.,  71.,\n",
       "        77., 109., 272.,  60.,  54., 221.,  90., 311., 281., 182., 321.,\n",
       "        58., 262., 206., 233., 242., 123., 167.,  63., 197.,  71., 168.,\n",
       "       140., 217., 121., 235., 245.,  40.,  52., 104., 132.,  88.,  69.,\n",
       "       219.,  72., 201., 110.,  51., 277.,  63., 118.,  69., 273., 258.,\n",
       "        43., 198., 242., 232., 175.,  93., 168., 275., 293., 281.,  72.,\n",
       "       140., 189., 181., 209., 136., 261., 113., 131., 174., 257.,  55.,\n",
       "        84.,  42., 146., 212., 233.,  91., 111., 152., 120.,  67., 310.,\n",
       "        94., 183.,  66., 173.,  72.,  49.,  64.,  48., 178., 104., 132.,\n",
       "       220.,  57.])"
      ]
     },
     "execution_count": 59,
     "metadata": {},
     "output_type": "execute_result"
    }
   ],
   "source": [
    "dataset.target"
   ]
  },
  {
   "cell_type": "code",
   "execution_count": 146,
   "metadata": {},
   "outputs": [],
   "source": [
    "\n",
    "dataset\n",
    "\n",
    "x_train, y_train = dataset.data, dataset.target\n",
    "#x_test, y_test"
   ]
  },
  {
   "cell_type": "code",
   "execution_count": 147,
   "metadata": {},
   "outputs": [
    {
     "data": {
      "text/plain": [
       "(442, 10)"
      ]
     },
     "execution_count": 147,
     "metadata": {},
     "output_type": "execute_result"
    }
   ],
   "source": [
    "dataset.data.shape"
   ]
  },
  {
   "cell_type": "code",
   "execution_count": 148,
   "metadata": {},
   "outputs": [
    {
     "name": "stdout",
     "output_type": "stream",
     "text": [
      "Feature shape: (10,)\n"
     ]
    }
   ],
   "source": [
    "# Set the input shape\n",
    "input_shape = (10,)\n",
    "\n",
    "print(f'Feature shape: {input_shape}')"
   ]
  },
  {
   "cell_type": "code",
   "execution_count": 149,
   "metadata": {},
   "outputs": [],
   "source": [
    "# Create the model\n",
    "model = Sequential()\n",
    "\n",
    "\n",
    "\n",
    "model.add(Dense(16, input_shape=input_shape, activation='relu'))\n",
    "\n",
    "model.add(Dense(8, activation='relu'))\n",
    "\n",
    "model.add(Dense(1, activation='softmax'))"
   ]
  },
  {
   "cell_type": "markdown",
   "metadata": {},
   "source": [
    "* sigmoid  -- Main advantage is simple and good for classifier. But Big disadvantage of the function is that it It gives rise to a problem of “vanishing gradients” because Its output isn’t zero centered. It makes the gradient updates go too far in different directions. 0 < output < 1, and it makes optimization harder. That takes very high computational time in hidden layer of neural network\n",
    "\n",
    "\n",
    "\n",
    "* tanh -- Tanh help to solve non zero centered problem of sigmoid function. \n",
    "\n",
    "* relu   -- avoids and rectifies vanishing gradient problem and less computationally expensive --- dead neurons -- faster\n",
    "* leaky relu   --- solves dead nerons\n",
    "* parametrised relu   - better\n",
    "\n",
    "\n",
    "\n",
    "\n",
    "*  softmax-- output layer --- The main advantage of the function is able to handle multiple classes.   --- sum of 1\n"
   ]
  },
  {
   "cell_type": "code",
   "execution_count": 141,
   "metadata": {},
   "outputs": [
    {
     "data": {
      "text/plain": [
       "<keras.engine.sequential.Sequential at 0x23462393730>"
      ]
     },
     "execution_count": 141,
     "metadata": {},
     "output_type": "execute_result"
    }
   ],
   "source": [
    "model"
   ]
  },
  {
   "cell_type": "code",
   "execution_count": 150,
   "metadata": {},
   "outputs": [],
   "source": [
    "# Configure the model \n",
    "\n",
    "\n",
    "model.compile(loss='mean_absolute_error', \n",
    "              optimizer='sgd', \n",
    "              metrics=['mean_squared_error'])"
   ]
  },
  {
   "cell_type": "code",
   "execution_count": 154,
   "metadata": {},
   "outputs": [],
   "source": [
    "??model.compile"
   ]
  },
  {
   "cell_type": "code",
   "execution_count": 31,
   "metadata": {},
   "outputs": [
    {
     "data": {
      "text/plain": [
       "'2.9.1'"
      ]
     },
     "execution_count": 31,
     "metadata": {},
     "output_type": "execute_result"
    }
   ],
   "source": [
    "import tensorboard\n",
    "tensorboard.__version__"
   ]
  },
  {
   "cell_type": "code",
   "execution_count": 32,
   "metadata": {},
   "outputs": [
    {
     "data": {
      "text/plain": [
       "'C:\\\\Users\\\\admin\\\\Desktop\\\\Rahul\\\\git\\\\DataSciencePython\\\\DeepLearning\\\\MLP'"
      ]
     },
     "execution_count": 32,
     "metadata": {},
     "output_type": "execute_result"
    }
   ],
   "source": [
    "import os\n",
    "os.getcwd()"
   ]
  },
  {
   "cell_type": "code",
   "execution_count": 33,
   "metadata": {},
   "outputs": [
    {
     "name": "stdout",
     "output_type": "stream",
     "text": [
      "C:\\Users\\admin\\Desktop\\Rahul\\git\\DataSciencePython\\DeepLearning\\MLP\\logs\\fit\\\n"
     ]
    }
   ],
   "source": [
    "# Define the Keras TensorBoard callback.\n",
    "\n",
    "from keras.callbacks import TensorBoard\n",
    "logdir=\"C:\\\\Users\\\\admin\\\\Desktop\\\\Rahul\\\\git\\\\DataSciencePython\\\\DeepLearning\\\\MLP\\\\logs\\\\fit\\\\\"\n",
    "print(logdir)\n",
    "\n",
    "tensorboard_callback = TensorBoard(log_dir=logdir)\n"
   ]
  },
  {
   "cell_type": "code",
   "execution_count": 151,
   "metadata": {},
   "outputs": [
    {
     "name": "stdout",
     "output_type": "stream",
     "text": [
      "Epoch 1/100\n",
      "1/1 [==============================] - 1s 528ms/step - loss: 150.4788 - mean_squared_error: 28447.5957 - val_loss: 153.7303 - val_mean_squared_error: 30054.7871\n",
      "Epoch 2/100\n",
      "1/1 [==============================] - 0s 62ms/step - loss: 150.4788 - mean_squared_error: 28447.5957 - val_loss: 153.7303 - val_mean_squared_error: 30054.7871\n",
      "Epoch 3/100\n",
      "1/1 [==============================] - 0s 64ms/step - loss: 150.4788 - mean_squared_error: 28447.5957 - val_loss: 153.7303 - val_mean_squared_error: 30054.7871\n",
      "Epoch 4/100\n",
      "1/1 [==============================] - 0s 71ms/step - loss: 150.4788 - mean_squared_error: 28447.5957 - val_loss: 153.7303 - val_mean_squared_error: 30054.7871\n",
      "Epoch 5/100\n",
      "1/1 [==============================] - 0s 53ms/step - loss: 150.4788 - mean_squared_error: 28447.5957 - val_loss: 153.7303 - val_mean_squared_error: 30054.7871\n",
      "Epoch 6/100\n",
      "1/1 [==============================] - 0s 63ms/step - loss: 150.4788 - mean_squared_error: 28447.5957 - val_loss: 153.7303 - val_mean_squared_error: 30054.7871\n",
      "Epoch 7/100\n",
      "1/1 [==============================] - 0s 51ms/step - loss: 150.4788 - mean_squared_error: 28447.5957 - val_loss: 153.7303 - val_mean_squared_error: 30054.7871\n",
      "Epoch 8/100\n",
      "1/1 [==============================] - 0s 50ms/step - loss: 150.4788 - mean_squared_error: 28447.5957 - val_loss: 153.7303 - val_mean_squared_error: 30054.7871\n",
      "Epoch 9/100\n",
      "1/1 [==============================] - 0s 117ms/step - loss: 150.4788 - mean_squared_error: 28447.5957 - val_loss: 153.7303 - val_mean_squared_error: 30054.7871\n",
      "Epoch 10/100\n",
      "1/1 [==============================] - 0s 112ms/step - loss: 150.4788 - mean_squared_error: 28447.5957 - val_loss: 153.7303 - val_mean_squared_error: 30054.7871\n",
      "Epoch 11/100\n",
      "1/1 [==============================] - 0s 77ms/step - loss: 150.4788 - mean_squared_error: 28447.5957 - val_loss: 153.7303 - val_mean_squared_error: 30054.7871\n",
      "Epoch 12/100\n",
      "1/1 [==============================] - 0s 72ms/step - loss: 150.4788 - mean_squared_error: 28447.5957 - val_loss: 153.7303 - val_mean_squared_error: 30054.7871\n",
      "Epoch 13/100\n",
      "1/1 [==============================] - 0s 86ms/step - loss: 150.4788 - mean_squared_error: 28447.5957 - val_loss: 153.7303 - val_mean_squared_error: 30054.7871\n",
      "Epoch 14/100\n",
      "1/1 [==============================] - 0s 93ms/step - loss: 150.4788 - mean_squared_error: 28447.5957 - val_loss: 153.7303 - val_mean_squared_error: 30054.7871\n",
      "Epoch 15/100\n",
      "1/1 [==============================] - 0s 79ms/step - loss: 150.4788 - mean_squared_error: 28447.5957 - val_loss: 153.7303 - val_mean_squared_error: 30054.7871\n",
      "Epoch 16/100\n",
      "1/1 [==============================] - 0s 92ms/step - loss: 150.4788 - mean_squared_error: 28447.5957 - val_loss: 153.7303 - val_mean_squared_error: 30054.7871\n",
      "Epoch 17/100\n",
      "1/1 [==============================] - 0s 132ms/step - loss: 150.4788 - mean_squared_error: 28447.5957 - val_loss: 153.7303 - val_mean_squared_error: 30054.7871\n",
      "Epoch 18/100\n",
      "1/1 [==============================] - 0s 70ms/step - loss: 150.4788 - mean_squared_error: 28447.5957 - val_loss: 153.7303 - val_mean_squared_error: 30054.7871\n",
      "Epoch 19/100\n",
      "1/1 [==============================] - 0s 77ms/step - loss: 150.4788 - mean_squared_error: 28447.5957 - val_loss: 153.7303 - val_mean_squared_error: 30054.7871\n",
      "Epoch 20/100\n",
      "1/1 [==============================] - 0s 69ms/step - loss: 150.4788 - mean_squared_error: 28447.5957 - val_loss: 153.7303 - val_mean_squared_error: 30054.7871\n",
      "Epoch 21/100\n",
      "1/1 [==============================] - 0s 178ms/step - loss: 150.4788 - mean_squared_error: 28447.5957 - val_loss: 153.7303 - val_mean_squared_error: 30054.7871\n",
      "Epoch 22/100\n",
      "1/1 [==============================] - 0s 105ms/step - loss: 150.4788 - mean_squared_error: 28447.5957 - val_loss: 153.7303 - val_mean_squared_error: 30054.7871\n",
      "Epoch 23/100\n",
      "1/1 [==============================] - 0s 78ms/step - loss: 150.4788 - mean_squared_error: 28447.5957 - val_loss: 153.7303 - val_mean_squared_error: 30054.7871\n",
      "Epoch 24/100\n",
      "1/1 [==============================] - 0s 137ms/step - loss: 150.4788 - mean_squared_error: 28447.5957 - val_loss: 153.7303 - val_mean_squared_error: 30054.7871\n",
      "Epoch 25/100\n",
      "1/1 [==============================] - 0s 110ms/step - loss: 150.4788 - mean_squared_error: 28447.5957 - val_loss: 153.7303 - val_mean_squared_error: 30054.7871\n",
      "Epoch 26/100\n",
      "1/1 [==============================] - 0s 89ms/step - loss: 150.4788 - mean_squared_error: 28447.5957 - val_loss: 153.7303 - val_mean_squared_error: 30054.7871\n",
      "Epoch 27/100\n",
      "1/1 [==============================] - 0s 146ms/step - loss: 150.4788 - mean_squared_error: 28447.5957 - val_loss: 153.7303 - val_mean_squared_error: 30054.7871\n",
      "Epoch 28/100\n",
      "1/1 [==============================] - 0s 85ms/step - loss: 150.4788 - mean_squared_error: 28447.5957 - val_loss: 153.7303 - val_mean_squared_error: 30054.7871\n",
      "Epoch 29/100\n",
      "1/1 [==============================] - 0s 114ms/step - loss: 150.4788 - mean_squared_error: 28447.5957 - val_loss: 153.7303 - val_mean_squared_error: 30054.7871\n",
      "Epoch 30/100\n",
      "1/1 [==============================] - 0s 91ms/step - loss: 150.4788 - mean_squared_error: 28447.5957 - val_loss: 153.7303 - val_mean_squared_error: 30054.7871\n",
      "Epoch 31/100\n",
      "1/1 [==============================] - 0s 73ms/step - loss: 150.4788 - mean_squared_error: 28447.5957 - val_loss: 153.7303 - val_mean_squared_error: 30054.7871\n",
      "Epoch 32/100\n",
      "1/1 [==============================] - 0s 124ms/step - loss: 150.4788 - mean_squared_error: 28447.5957 - val_loss: 153.7303 - val_mean_squared_error: 30054.7871\n",
      "Epoch 33/100\n",
      "1/1 [==============================] - 0s 136ms/step - loss: 150.4788 - mean_squared_error: 28447.5957 - val_loss: 153.7303 - val_mean_squared_error: 30054.7871\n",
      "Epoch 34/100\n",
      "1/1 [==============================] - 0s 142ms/step - loss: 150.4788 - mean_squared_error: 28447.5957 - val_loss: 153.7303 - val_mean_squared_error: 30054.7871\n",
      "Epoch 35/100\n",
      "1/1 [==============================] - 0s 118ms/step - loss: 150.4788 - mean_squared_error: 28447.5957 - val_loss: 153.7303 - val_mean_squared_error: 30054.7871\n",
      "Epoch 36/100\n",
      "1/1 [==============================] - 0s 351ms/step - loss: 150.4788 - mean_squared_error: 28447.5957 - val_loss: 153.7303 - val_mean_squared_error: 30054.7871\n",
      "Epoch 37/100\n",
      "1/1 [==============================] - 0s 120ms/step - loss: 150.4788 - mean_squared_error: 28447.5957 - val_loss: 153.7303 - val_mean_squared_error: 30054.7871\n",
      "Epoch 38/100\n",
      "1/1 [==============================] - 0s 64ms/step - loss: 150.4788 - mean_squared_error: 28447.5957 - val_loss: 153.7303 - val_mean_squared_error: 30054.7871\n",
      "Epoch 39/100\n",
      "1/1 [==============================] - 0s 60ms/step - loss: 150.4788 - mean_squared_error: 28447.5957 - val_loss: 153.7303 - val_mean_squared_error: 30054.7871\n",
      "Epoch 40/100\n",
      "1/1 [==============================] - 0s 77ms/step - loss: 150.4788 - mean_squared_error: 28447.5957 - val_loss: 153.7303 - val_mean_squared_error: 30054.7871\n",
      "Epoch 41/100\n",
      "1/1 [==============================] - 0s 69ms/step - loss: 150.4788 - mean_squared_error: 28447.5957 - val_loss: 153.7303 - val_mean_squared_error: 30054.7871\n",
      "Epoch 42/100\n",
      "1/1 [==============================] - 0s 72ms/step - loss: 150.4788 - mean_squared_error: 28447.5957 - val_loss: 153.7303 - val_mean_squared_error: 30054.7871\n",
      "Epoch 43/100\n",
      "1/1 [==============================] - 0s 79ms/step - loss: 150.4788 - mean_squared_error: 28447.5957 - val_loss: 153.7303 - val_mean_squared_error: 30054.7871\n",
      "Epoch 44/100\n",
      "1/1 [==============================] - 0s 86ms/step - loss: 150.4788 - mean_squared_error: 28447.5957 - val_loss: 153.7303 - val_mean_squared_error: 30054.7871\n",
      "Epoch 45/100\n",
      "1/1 [==============================] - 0s 86ms/step - loss: 150.4788 - mean_squared_error: 28447.5957 - val_loss: 153.7303 - val_mean_squared_error: 30054.7871\n",
      "Epoch 46/100\n",
      "1/1 [==============================] - 0s 88ms/step - loss: 150.4788 - mean_squared_error: 28447.5957 - val_loss: 153.7303 - val_mean_squared_error: 30054.7871\n",
      "Epoch 47/100\n",
      "1/1 [==============================] - 0s 87ms/step - loss: 150.4788 - mean_squared_error: 28447.5957 - val_loss: 153.7303 - val_mean_squared_error: 30054.7871\n",
      "Epoch 48/100\n"
     ]
    },
    {
     "name": "stdout",
     "output_type": "stream",
     "text": [
      "1/1 [==============================] - 0s 77ms/step - loss: 150.4788 - mean_squared_error: 28447.5957 - val_loss: 153.7303 - val_mean_squared_error: 30054.7871\n",
      "Epoch 49/100\n",
      "1/1 [==============================] - 0s 61ms/step - loss: 150.4788 - mean_squared_error: 28447.5957 - val_loss: 153.7303 - val_mean_squared_error: 30054.7871\n",
      "Epoch 50/100\n",
      "1/1 [==============================] - 0s 63ms/step - loss: 150.4788 - mean_squared_error: 28447.5957 - val_loss: 153.7303 - val_mean_squared_error: 30054.7871\n",
      "Epoch 51/100\n",
      "1/1 [==============================] - 0s 61ms/step - loss: 150.4788 - mean_squared_error: 28447.5957 - val_loss: 153.7303 - val_mean_squared_error: 30054.7871\n",
      "Epoch 52/100\n",
      "1/1 [==============================] - 0s 60ms/step - loss: 150.4788 - mean_squared_error: 28447.5957 - val_loss: 153.7303 - val_mean_squared_error: 30054.7871\n",
      "Epoch 53/100\n",
      "1/1 [==============================] - 0s 61ms/step - loss: 150.4788 - mean_squared_error: 28447.5957 - val_loss: 153.7303 - val_mean_squared_error: 30054.7871\n",
      "Epoch 54/100\n",
      "1/1 [==============================] - 0s 60ms/step - loss: 150.4788 - mean_squared_error: 28447.5957 - val_loss: 153.7303 - val_mean_squared_error: 30054.7871\n",
      "Epoch 55/100\n",
      "1/1 [==============================] - 0s 67ms/step - loss: 150.4788 - mean_squared_error: 28447.5957 - val_loss: 153.7303 - val_mean_squared_error: 30054.7871\n",
      "Epoch 56/100\n",
      "1/1 [==============================] - 0s 72ms/step - loss: 150.4788 - mean_squared_error: 28447.5957 - val_loss: 153.7303 - val_mean_squared_error: 30054.7871\n",
      "Epoch 57/100\n",
      "1/1 [==============================] - 0s 95ms/step - loss: 150.4788 - mean_squared_error: 28447.5957 - val_loss: 153.7303 - val_mean_squared_error: 30054.7871\n",
      "Epoch 58/100\n",
      "1/1 [==============================] - 0s 54ms/step - loss: 150.4788 - mean_squared_error: 28447.5957 - val_loss: 153.7303 - val_mean_squared_error: 30054.7871\n",
      "Epoch 59/100\n",
      "1/1 [==============================] - 0s 76ms/step - loss: 150.4788 - mean_squared_error: 28447.5957 - val_loss: 153.7303 - val_mean_squared_error: 30054.7871\n",
      "Epoch 60/100\n",
      "1/1 [==============================] - 0s 56ms/step - loss: 150.4788 - mean_squared_error: 28447.5957 - val_loss: 153.7303 - val_mean_squared_error: 30054.7871\n",
      "Epoch 61/100\n",
      "1/1 [==============================] - 0s 63ms/step - loss: 150.4788 - mean_squared_error: 28447.5957 - val_loss: 153.7303 - val_mean_squared_error: 30054.7871\n",
      "Epoch 62/100\n",
      "1/1 [==============================] - 0s 69ms/step - loss: 150.4788 - mean_squared_error: 28447.5957 - val_loss: 153.7303 - val_mean_squared_error: 30054.7871\n",
      "Epoch 63/100\n",
      "1/1 [==============================] - 0s 96ms/step - loss: 150.4788 - mean_squared_error: 28447.5957 - val_loss: 153.7303 - val_mean_squared_error: 30054.7871\n",
      "Epoch 64/100\n",
      "1/1 [==============================] - 0s 84ms/step - loss: 150.4788 - mean_squared_error: 28447.5957 - val_loss: 153.7303 - val_mean_squared_error: 30054.7871\n",
      "Epoch 65/100\n",
      "1/1 [==============================] - 0s 152ms/step - loss: 150.4788 - mean_squared_error: 28447.5957 - val_loss: 153.7303 - val_mean_squared_error: 30054.7871\n",
      "Epoch 66/100\n",
      "1/1 [==============================] - 0s 70ms/step - loss: 150.4788 - mean_squared_error: 28447.5957 - val_loss: 153.7303 - val_mean_squared_error: 30054.7871\n",
      "Epoch 67/100\n",
      "1/1 [==============================] - 0s 60ms/step - loss: 150.4788 - mean_squared_error: 28447.5957 - val_loss: 153.7303 - val_mean_squared_error: 30054.7871\n",
      "Epoch 68/100\n",
      "1/1 [==============================] - 0s 66ms/step - loss: 150.4788 - mean_squared_error: 28447.5957 - val_loss: 153.7303 - val_mean_squared_error: 30054.7871\n",
      "Epoch 69/100\n",
      "1/1 [==============================] - 0s 85ms/step - loss: 150.4788 - mean_squared_error: 28447.5957 - val_loss: 153.7303 - val_mean_squared_error: 30054.7871\n",
      "Epoch 70/100\n",
      "1/1 [==============================] - 0s 105ms/step - loss: 150.4788 - mean_squared_error: 28447.5957 - val_loss: 153.7303 - val_mean_squared_error: 30054.7871\n",
      "Epoch 71/100\n",
      "1/1 [==============================] - 0s 49ms/step - loss: 150.4788 - mean_squared_error: 28447.5957 - val_loss: 153.7303 - val_mean_squared_error: 30054.7871\n",
      "Epoch 72/100\n",
      "1/1 [==============================] - 0s 100ms/step - loss: 150.4788 - mean_squared_error: 28447.5957 - val_loss: 153.7303 - val_mean_squared_error: 30054.7871\n",
      "Epoch 73/100\n",
      "1/1 [==============================] - 0s 85ms/step - loss: 150.4788 - mean_squared_error: 28447.5957 - val_loss: 153.7303 - val_mean_squared_error: 30054.7871\n",
      "Epoch 74/100\n",
      "1/1 [==============================] - 0s 67ms/step - loss: 150.4788 - mean_squared_error: 28447.5957 - val_loss: 153.7303 - val_mean_squared_error: 30054.7871\n",
      "Epoch 75/100\n",
      "1/1 [==============================] - 0s 53ms/step - loss: 150.4788 - mean_squared_error: 28447.5957 - val_loss: 153.7303 - val_mean_squared_error: 30054.7871\n",
      "Epoch 76/100\n",
      "1/1 [==============================] - 0s 80ms/step - loss: 150.4788 - mean_squared_error: 28447.5957 - val_loss: 153.7303 - val_mean_squared_error: 30054.7871\n",
      "Epoch 77/100\n",
      "1/1 [==============================] - 0s 86ms/step - loss: 150.4788 - mean_squared_error: 28447.5957 - val_loss: 153.7303 - val_mean_squared_error: 30054.7871\n",
      "Epoch 78/100\n",
      "1/1 [==============================] - 0s 63ms/step - loss: 150.4788 - mean_squared_error: 28447.5957 - val_loss: 153.7303 - val_mean_squared_error: 30054.7871\n",
      "Epoch 79/100\n",
      "1/1 [==============================] - 0s 64ms/step - loss: 150.4788 - mean_squared_error: 28447.5957 - val_loss: 153.7303 - val_mean_squared_error: 30054.7871\n",
      "Epoch 80/100\n",
      "1/1 [==============================] - 0s 76ms/step - loss: 150.4788 - mean_squared_error: 28447.5957 - val_loss: 153.7303 - val_mean_squared_error: 30054.7871\n",
      "Epoch 81/100\n",
      "1/1 [==============================] - 0s 68ms/step - loss: 150.4788 - mean_squared_error: 28447.5957 - val_loss: 153.7303 - val_mean_squared_error: 30054.7871\n",
      "Epoch 82/100\n",
      "1/1 [==============================] - 0s 85ms/step - loss: 150.4788 - mean_squared_error: 28447.5957 - val_loss: 153.7303 - val_mean_squared_error: 30054.7871\n",
      "Epoch 83/100\n",
      "1/1 [==============================] - 0s 78ms/step - loss: 150.4788 - mean_squared_error: 28447.5957 - val_loss: 153.7303 - val_mean_squared_error: 30054.7871\n",
      "Epoch 84/100\n",
      "1/1 [==============================] - 0s 108ms/step - loss: 150.4788 - mean_squared_error: 28447.5957 - val_loss: 153.7303 - val_mean_squared_error: 30054.7871\n",
      "Epoch 85/100\n",
      "1/1 [==============================] - 0s 70ms/step - loss: 150.4788 - mean_squared_error: 28447.5957 - val_loss: 153.7303 - val_mean_squared_error: 30054.7871\n",
      "Epoch 86/100\n",
      "1/1 [==============================] - 0s 71ms/step - loss: 150.4788 - mean_squared_error: 28447.5957 - val_loss: 153.7303 - val_mean_squared_error: 30054.7871\n",
      "Epoch 87/100\n",
      "1/1 [==============================] - 0s 61ms/step - loss: 150.4788 - mean_squared_error: 28447.5957 - val_loss: 153.7303 - val_mean_squared_error: 30054.7871\n",
      "Epoch 88/100\n",
      "1/1 [==============================] - 0s 65ms/step - loss: 150.4788 - mean_squared_error: 28447.5957 - val_loss: 153.7303 - val_mean_squared_error: 30054.7871\n",
      "Epoch 89/100\n",
      "1/1 [==============================] - 0s 63ms/step - loss: 150.4788 - mean_squared_error: 28447.5957 - val_loss: 153.7303 - val_mean_squared_error: 30054.7871\n",
      "Epoch 90/100\n",
      "1/1 [==============================] - 0s 86ms/step - loss: 150.4788 - mean_squared_error: 28447.5957 - val_loss: 153.7303 - val_mean_squared_error: 30054.7871\n",
      "Epoch 91/100\n",
      "1/1 [==============================] - 0s 81ms/step - loss: 150.4788 - mean_squared_error: 28447.5957 - val_loss: 153.7303 - val_mean_squared_error: 30054.7871\n",
      "Epoch 92/100\n",
      "1/1 [==============================] - 0s 69ms/step - loss: 150.4788 - mean_squared_error: 28447.5957 - val_loss: 153.7303 - val_mean_squared_error: 30054.7871\n",
      "Epoch 93/100\n",
      "1/1 [==============================] - 0s 78ms/step - loss: 150.4788 - mean_squared_error: 28447.5957 - val_loss: 153.7303 - val_mean_squared_error: 30054.7871\n",
      "Epoch 94/100\n",
      "1/1 [==============================] - 0s 151ms/step - loss: 150.4788 - mean_squared_error: 28447.5957 - val_loss: 153.7303 - val_mean_squared_error: 30054.7871\n",
      "Epoch 95/100\n"
     ]
    },
    {
     "name": "stdout",
     "output_type": "stream",
     "text": [
      "1/1 [==============================] - 0s 75ms/step - loss: 150.4788 - mean_squared_error: 28447.5957 - val_loss: 153.7303 - val_mean_squared_error: 30054.7871\n",
      "Epoch 96/100\n",
      "1/1 [==============================] - 0s 123ms/step - loss: 150.4788 - mean_squared_error: 28447.5957 - val_loss: 153.7303 - val_mean_squared_error: 30054.7871\n",
      "Epoch 97/100\n",
      "1/1 [==============================] - 0s 109ms/step - loss: 150.4788 - mean_squared_error: 28447.5957 - val_loss: 153.7303 - val_mean_squared_error: 30054.7871\n",
      "Epoch 98/100\n",
      "1/1 [==============================] - 0s 99ms/step - loss: 150.4788 - mean_squared_error: 28447.5957 - val_loss: 153.7303 - val_mean_squared_error: 30054.7871\n",
      "Epoch 99/100\n",
      "1/1 [==============================] - 0s 69ms/step - loss: 150.4788 - mean_squared_error: 28447.5957 - val_loss: 153.7303 - val_mean_squared_error: 30054.7871\n",
      "Epoch 100/100\n",
      "1/1 [==============================] - 0s 52ms/step - loss: 150.4788 - mean_squared_error: 28447.5957 - val_loss: 153.7303 - val_mean_squared_error: 30054.7871\n"
     ]
    },
    {
     "data": {
      "text/plain": [
       "<keras.callbacks.History at 0x23463494a60>"
      ]
     },
     "execution_count": 151,
     "metadata": {},
     "output_type": "execute_result"
    }
   ],
   "source": [
    "\n",
    "\n",
    "#and start training\n",
    "model.fit(x_train, y_train, \n",
    "          epochs=100, \n",
    "          batch_size=442, \n",
    "          verbose=1, \n",
    "          validation_split=0.2,\n",
    "          callbacks=[tensorboard_callback])\n",
    "\n",
    "\n"
   ]
  },
  {
   "cell_type": "code",
   "execution_count": 152,
   "metadata": {},
   "outputs": [
    {
     "name": "stdout",
     "output_type": "stream",
     "text": [
      "Model: \"sequential_2\"\n",
      "_________________________________________________________________\n",
      " Layer (type)                Output Shape              Param #   \n",
      "=================================================================\n",
      " dense_6 (Dense)             (None, 16)                176       \n",
      "                                                                 \n",
      " dense_7 (Dense)             (None, 8)                 136       \n",
      "                                                                 \n",
      " dense_8 (Dense)             (None, 1)                 9         \n",
      "                                                                 \n",
      "=================================================================\n",
      "Total params: 321\n",
      "Trainable params: 321\n",
      "Non-trainable params: 0\n",
      "_________________________________________________________________\n"
     ]
    }
   ],
   "source": [
    "model.summary()"
   ]
  },
  {
   "cell_type": "code",
   "execution_count": 153,
   "metadata": {},
   "outputs": [
    {
     "data": {
      "text/plain": [
       "[<tf.Variable 'dense_6/kernel:0' shape=(10, 16) dtype=float32, numpy=\n",
       " array([[ 0.4100216 ,  0.3171019 , -0.263442  , -0.02229092, -0.13075453,\n",
       "          0.09087461,  0.3137706 ,  0.33249635,  0.01006284, -0.02673808,\n",
       "          0.29331052, -0.3350458 ,  0.24026608,  0.09254235, -0.2784404 ,\n",
       "         -0.398059  ],\n",
       "        [-0.40266585,  0.37535214, -0.30472243,  0.2655446 ,  0.29158062,\n",
       "         -0.18548894, -0.02932858,  0.03158605, -0.3627964 ,  0.17912704,\n",
       "          0.3927614 ,  0.14427567,  0.25573593, -0.10355842, -0.16074306,\n",
       "         -0.31284702],\n",
       "        [-0.3947323 , -0.08846587, -0.27659732,  0.39913714,  0.2596928 ,\n",
       "         -0.37497944,  0.09994924,  0.04355562, -0.10676932, -0.30777058,\n",
       "          0.43008953, -0.30852592,  0.4789425 ,  0.2952879 , -0.25313234,\n",
       "         -0.33153653],\n",
       "        [ 0.22778356,  0.27652895,  0.41798908,  0.23081124,  0.0934974 ,\n",
       "         -0.24975823, -0.04006842, -0.02322274, -0.05432668,  0.2592383 ,\n",
       "          0.10849202, -0.05744302, -0.25047737, -0.01489919,  0.44030046,\n",
       "          0.3614087 ],\n",
       "        [-0.02009943, -0.27998155,  0.21324968, -0.11042202, -0.15158936,\n",
       "          0.22517943,  0.47821867,  0.06674349, -0.12889612, -0.04453725,\n",
       "          0.44438744, -0.07609051, -0.19749117, -0.2493356 ,  0.3841517 ,\n",
       "          0.21055084],\n",
       "        [ 0.4597087 , -0.4414167 , -0.20495972,  0.36176854, -0.12041107,\n",
       "         -0.32599056, -0.366853  ,  0.34218073,  0.28492993, -0.13676691,\n",
       "         -0.41989478,  0.1301238 , -0.44026336,  0.33341795, -0.05891076,\n",
       "         -0.03125274],\n",
       "        [ 0.1953587 , -0.22881377, -0.22317612,  0.320315  ,  0.08727694,\n",
       "          0.37082475,  0.40343952, -0.24021205,  0.42662495, -0.0361647 ,\n",
       "         -0.43664068,  0.39730656, -0.46680903, -0.16490802,  0.36833334,\n",
       "         -0.3885778 ],\n",
       "        [-0.19832498,  0.10576934, -0.15551281,  0.29516912,  0.08185172,\n",
       "         -0.17974067, -0.41064626, -0.18966436, -0.17570937,  0.25131166,\n",
       "         -0.21802011,  0.3236432 , -0.11040345,  0.40127212, -0.47101113,\n",
       "          0.15330255],\n",
       "        [-0.37546656,  0.1338948 ,  0.36234057,  0.22683305, -0.16978815,\n",
       "         -0.00905871,  0.15097088,  0.05066717,  0.16354519,  0.22586113,\n",
       "          0.40726388, -0.35914797, -0.11014462,  0.21677959,  0.07774824,\n",
       "          0.47857392],\n",
       "        [ 0.1672225 ,  0.09660411, -0.17818269, -0.40201715,  0.14894778,\n",
       "          0.43080914,  0.0966664 , -0.10965842, -0.19020575, -0.3065365 ,\n",
       "         -0.3956284 ,  0.00053132,  0.21096641, -0.20304427, -0.1374611 ,\n",
       "         -0.24229734]], dtype=float32)>,\n",
       " <tf.Variable 'dense_6/bias:0' shape=(16,) dtype=float32, numpy=\n",
       " array([0., 0., 0., 0., 0., 0., 0., 0., 0., 0., 0., 0., 0., 0., 0., 0.],\n",
       "       dtype=float32)>,\n",
       " <tf.Variable 'dense_7/kernel:0' shape=(16, 8) dtype=float32, numpy=\n",
       " array([[ 0.12807715, -0.20333326, -0.3329562 ,  0.3458984 , -0.47888207,\n",
       "         -0.25543642,  0.12174428,  0.32053232],\n",
       "        [ 0.02710688,  0.00965488,  0.39916646,  0.4858662 , -0.38576388,\n",
       "          0.4873525 ,  0.46990347,  0.02084863],\n",
       "        [ 0.35638165, -0.31912923, -0.06823778,  0.41081703, -0.49934053,\n",
       "         -0.02611244,  0.41320252, -0.34440994],\n",
       "        [-0.14017224,  0.4947245 , -0.2125113 ,  0.37428892, -0.3067311 ,\n",
       "          0.01992822, -0.38017774,  0.14169943],\n",
       "        [-0.2738124 , -0.2127335 , -0.24498785,  0.3582493 ,  0.14894176,\n",
       "          0.4389    ,  0.14659822,  0.13359833],\n",
       "        [-0.4148866 ,  0.49921632, -0.45489657, -0.10640824, -0.01501405,\n",
       "          0.03527141,  0.02366436, -0.46323204],\n",
       "        [-0.10401607,  0.09062946, -0.3595252 , -0.11662054,  0.48713517,\n",
       "         -0.1424886 ,  0.446849  , -0.46850324],\n",
       "        [-0.3886242 ,  0.4015088 ,  0.47748435,  0.33792305,  0.18090677,\n",
       "          0.37352633, -0.47720444,  0.18578732],\n",
       "        [-0.07515705, -0.00632691, -0.31534505,  0.0844841 ,  0.11972582,\n",
       "         -0.19084072,  0.04126132, -0.2637496 ],\n",
       "        [ 0.41914308,  0.28637743, -0.3879975 ,  0.4147508 ,  0.18757331,\n",
       "          0.3982184 , -0.095801  ,  0.22043836],\n",
       "        [ 0.46668077, -0.24849045,  0.10695887, -0.4715792 , -0.47635102,\n",
       "          0.2651583 ,  0.3373915 , -0.25305974],\n",
       "        [ 0.06651938, -0.04461396,  0.20859182,  0.10366213,  0.26832914,\n",
       "          0.13334966,  0.05185592,  0.33767068],\n",
       "        [-0.23654878,  0.14952016,  0.36107612,  0.30038226,  0.38248503,\n",
       "          0.08392406, -0.22074413, -0.37208545],\n",
       "        [-0.16196895,  0.25843918,  0.45542347,  0.09685588,  0.3185538 ,\n",
       "         -0.43356752,  0.28702343, -0.37961924],\n",
       "        [-0.4197427 ,  0.00746822,  0.07394063,  0.10041082,  0.32024503,\n",
       "          0.24579751, -0.46089613, -0.21636844],\n",
       "        [ 0.28164375,  0.06451845, -0.1680423 ,  0.07671964,  0.38249218,\n",
       "         -0.10065281,  0.15803003,  0.27995956]], dtype=float32)>,\n",
       " <tf.Variable 'dense_7/bias:0' shape=(8,) dtype=float32, numpy=array([0., 0., 0., 0., 0., 0., 0., 0.], dtype=float32)>,\n",
       " <tf.Variable 'dense_8/kernel:0' shape=(8, 1) dtype=float32, numpy=\n",
       " array([[-0.4439948 ],\n",
       "        [ 0.17864794],\n",
       "        [ 0.7199664 ],\n",
       "        [ 0.14137954],\n",
       "        [-0.41716078],\n",
       "        [-0.07551831],\n",
       "        [ 0.30527246],\n",
       "        [-0.26349205]], dtype=float32)>,\n",
       " <tf.Variable 'dense_8/bias:0' shape=(1,) dtype=float32, numpy=array([0.], dtype=float32)>]"
      ]
     },
     "execution_count": 153,
     "metadata": {},
     "output_type": "execute_result"
    }
   ],
   "source": [
    "model.weights"
   ]
  },
  {
   "cell_type": "code",
   "execution_count": 52,
   "metadata": {},
   "outputs": [
    {
     "data": {
      "text/plain": [
       "(None, 10)"
      ]
     },
     "execution_count": 52,
     "metadata": {},
     "output_type": "execute_result"
    }
   ],
   "source": [
    "model.input_shape"
   ]
  },
  {
   "cell_type": "code",
   "execution_count": 53,
   "metadata": {},
   "outputs": [
    {
     "data": {
      "text/plain": [
       "(None, 1)"
      ]
     },
     "execution_count": 53,
     "metadata": {},
     "output_type": "execute_result"
    }
   ],
   "source": [
    "model.output_shape"
   ]
  },
  {
   "cell_type": "code",
   "execution_count": 57,
   "metadata": {},
   "outputs": [
    {
     "data": {
      "text/plain": [
       "[<keras.layers.core.dense.Dense at 0x234531af970>,\n",
       " <keras.layers.core.dense.Dense at 0x234531af760>,\n",
       " <keras.layers.core.dense.Dense at 0x2345e2104c0>]"
      ]
     },
     "execution_count": 57,
     "metadata": {},
     "output_type": "execute_result"
    }
   ],
   "source": [
    "model.layers"
   ]
  },
  {
   "cell_type": "markdown",
   "metadata": {},
   "source": [
    "# VISUALIZATION OF LAYERS"
   ]
  },
  {
   "cell_type": "markdown",
   "metadata": {},
   "source": [
    "You must install pydot (`pip install pydot`) and install graphviz (see instructions at https://graphviz.gitlab.io/download/) for plot_model/model_to_dot to work.\n"
   ]
  },
  {
   "cell_type": "markdown",
   "metadata": {},
   "source": [
    "pip install pydot"
   ]
  },
  {
   "cell_type": "code",
   "execution_count": 36,
   "metadata": {},
   "outputs": [
    {
     "data": {
      "image/png": "[encoded data removed]",
      "text/plain": [
       "<IPython.core.display.Image object>"
      ]
     },
     "execution_count": 36,
     "metadata": {},
     "output_type": "execute_result"
    }
   ],
   "source": [
    "from keras.utils import plot_model\n",
    "\n",
    "plot_model(model, to_file='model.png', show_shapes=True, show_layer_names=True)\n"
   ]
  },
  {
   "cell_type": "markdown",
   "metadata": {},
   "source": [
    "https://www.tensorflow.org/tensorboard/graphs"
   ]
  },
  {
   "cell_type": "code",
   "execution_count": 37,
   "metadata": {},
   "outputs": [],
   "source": [
    "%load_ext tensorboard\n"
   ]
  },
  {
   "cell_type": "markdown",
   "metadata": {},
   "source": [
    "import os, signal\n",
    "\n",
    "os.kill(21740,  signal.SIGTERM)\n",
    "#!kill 21740"
   ]
  },
  {
   "cell_type": "code",
   "execution_count": 44,
   "metadata": {},
   "outputs": [
    {
     "data": {
      "text/plain": [
       "'C:\\\\Users\\\\admin\\\\AppData\\\\Local\\\\Temp'"
      ]
     },
     "execution_count": 44,
     "metadata": {},
     "output_type": "execute_result"
    }
   ],
   "source": [
    "#remove the .tensorboard-info directory located under tempfile.gettempdir()”\n",
    "import tempfile\n",
    "tempfile.gettempdir()"
   ]
  },
  {
   "cell_type": "code",
   "execution_count": 45,
   "metadata": {},
   "outputs": [
    {
     "data": {
      "text/html": [
       "\n",
       "      <iframe id=\"tensorboard-frame-3cf5dff1e2a5a209\" width=\"100%\" height=\"800\" frameborder=\"0\">\n",
       "      </iframe>\n",
       "      <script>\n",
       "        (function() {\n",
       "          const frame = document.getElementById(\"tensorboard-frame-3cf5dff1e2a5a209\");\n",
       "          const url = new URL(\"/\", window.location);\n",
       "          const port = 6006;\n",
       "          if (port) {\n",
       "            url.port = port;\n",
       "          }\n",
       "          frame.src = url;\n",
       "        })();\n",
       "      </script>\n",
       "    "
      ],
      "text/plain": [
       "<IPython.core.display.HTML object>"
      ]
     },
     "metadata": {},
     "output_type": "display_data"
    }
   ],
   "source": [
    "%tensorboard --logdir logs\n"
   ]
  },
  {
   "cell_type": "markdown",
   "metadata": {},
   "source": [
    "!tensorboard dev upload \\\n",
    "  --logdir logs \\\n",
    "  --name \"Sample op-level graph\" \\\n",
    "  --one_shot"
   ]
  },
  {
   "cell_type": "markdown",
   "metadata": {},
   "source": [
    "# ---------------------------------------------------------------"
   ]
  },
  {
   "cell_type": "markdown",
   "metadata": {},
   "source": [
    "## ON CHENNAI WATER PROBLEM DATASET"
   ]
  },
  {
   "cell_type": "code",
   "execution_count": 39,
   "metadata": {},
   "outputs": [],
   "source": [
    "import numpy as np"
   ]
  },
  {
   "cell_type": "code",
   "execution_count": 40,
   "metadata": {},
   "outputs": [
    {
     "ename": "FileNotFoundError",
     "evalue": "chennai_reservoir_levels.csv not found.",
     "output_type": "error",
     "traceback": [
      "\u001b[1;31m---------------------------------------------------------------------------\u001b[0m",
      "\u001b[1;31mFileNotFoundError\u001b[0m                         Traceback (most recent call last)",
      "\u001b[1;32m~\\AppData\\Local\\Temp\\ipykernel_5880\\1434701512.py\u001b[0m in \u001b[0;36m<module>\u001b[1;34m\u001b[0m\n\u001b[0;32m      1\u001b[0m \u001b[1;31m# Load data\u001b[0m\u001b[1;33m\u001b[0m\u001b[1;33m\u001b[0m\u001b[0m\n\u001b[1;32m----> 2\u001b[1;33m \u001b[0mdataset\u001b[0m \u001b[1;33m=\u001b[0m \u001b[0mnp\u001b[0m\u001b[1;33m.\u001b[0m\u001b[0mloadtxt\u001b[0m\u001b[1;33m(\u001b[0m\u001b[1;34m'chennai_reservoir_levels.csv'\u001b[0m\u001b[1;33m,\u001b[0m \u001b[0mdelimiter\u001b[0m\u001b[1;33m=\u001b[0m\u001b[1;34m'|'\u001b[0m\u001b[1;33m,\u001b[0m \u001b[0mskiprows\u001b[0m\u001b[1;33m=\u001b[0m\u001b[1;36m1\u001b[0m\u001b[1;33m,\u001b[0m \u001b[0musecols\u001b[0m\u001b[1;33m=\u001b[0m\u001b[1;33m(\u001b[0m\u001b[1;36m1\u001b[0m\u001b[1;33m,\u001b[0m\u001b[1;36m2\u001b[0m\u001b[1;33m,\u001b[0m\u001b[1;36m3\u001b[0m\u001b[1;33m,\u001b[0m\u001b[1;36m4\u001b[0m\u001b[1;33m)\u001b[0m\u001b[1;33m)\u001b[0m\u001b[1;33m\u001b[0m\u001b[1;33m\u001b[0m\u001b[0m\n\u001b[0m\u001b[0;32m      3\u001b[0m \u001b[0mdataset\u001b[0m\u001b[1;33m\u001b[0m\u001b[1;33m\u001b[0m\u001b[0m\n\u001b[0;32m      4\u001b[0m \u001b[1;33m\u001b[0m\u001b[0m\n",
      "\u001b[1;32m~\\anaconda3\\lib\\site-packages\\numpy\\lib\\npyio.py\u001b[0m in \u001b[0;36mloadtxt\u001b[1;34m(fname, dtype, comments, delimiter, converters, skiprows, usecols, unpack, ndmin, encoding, max_rows, quotechar, like)\u001b[0m\n\u001b[0;32m   1336\u001b[0m         \u001b[0mdelimiter\u001b[0m \u001b[1;33m=\u001b[0m \u001b[0mdelimiter\u001b[0m\u001b[1;33m.\u001b[0m\u001b[0mdecode\u001b[0m\u001b[1;33m(\u001b[0m\u001b[1;34m'latin1'\u001b[0m\u001b[1;33m)\u001b[0m\u001b[1;33m\u001b[0m\u001b[1;33m\u001b[0m\u001b[0m\n\u001b[0;32m   1337\u001b[0m \u001b[1;33m\u001b[0m\u001b[0m\n\u001b[1;32m-> 1338\u001b[1;33m     arr = _read(fname, dtype=dtype, comment=comment, delimiter=delimiter,\n\u001b[0m\u001b[0;32m   1339\u001b[0m                 \u001b[0mconverters\u001b[0m\u001b[1;33m=\u001b[0m\u001b[0mconverters\u001b[0m\u001b[1;33m,\u001b[0m \u001b[0mskiplines\u001b[0m\u001b[1;33m=\u001b[0m\u001b[0mskiprows\u001b[0m\u001b[1;33m,\u001b[0m \u001b[0musecols\u001b[0m\u001b[1;33m=\u001b[0m\u001b[0musecols\u001b[0m\u001b[1;33m,\u001b[0m\u001b[1;33m\u001b[0m\u001b[1;33m\u001b[0m\u001b[0m\n\u001b[0;32m   1340\u001b[0m                 \u001b[0munpack\u001b[0m\u001b[1;33m=\u001b[0m\u001b[0munpack\u001b[0m\u001b[1;33m,\u001b[0m \u001b[0mndmin\u001b[0m\u001b[1;33m=\u001b[0m\u001b[0mndmin\u001b[0m\u001b[1;33m,\u001b[0m \u001b[0mencoding\u001b[0m\u001b[1;33m=\u001b[0m\u001b[0mencoding\u001b[0m\u001b[1;33m,\u001b[0m\u001b[1;33m\u001b[0m\u001b[1;33m\u001b[0m\u001b[0m\n",
      "\u001b[1;32m~\\anaconda3\\lib\\site-packages\\numpy\\lib\\npyio.py\u001b[0m in \u001b[0;36m_read\u001b[1;34m(fname, delimiter, comment, quote, imaginary_unit, usecols, skiplines, max_rows, converters, ndmin, unpack, dtype, encoding)\u001b[0m\n\u001b[0;32m    973\u001b[0m             \u001b[0mfname\u001b[0m \u001b[1;33m=\u001b[0m \u001b[0mos\u001b[0m\u001b[1;33m.\u001b[0m\u001b[0mfspath\u001b[0m\u001b[1;33m(\u001b[0m\u001b[0mfname\u001b[0m\u001b[1;33m)\u001b[0m\u001b[1;33m\u001b[0m\u001b[1;33m\u001b[0m\u001b[0m\n\u001b[0;32m    974\u001b[0m         \u001b[1;32mif\u001b[0m \u001b[0misinstance\u001b[0m\u001b[1;33m(\u001b[0m\u001b[0mfname\u001b[0m\u001b[1;33m,\u001b[0m \u001b[0mstr\u001b[0m\u001b[1;33m)\u001b[0m\u001b[1;33m:\u001b[0m\u001b[1;33m\u001b[0m\u001b[1;33m\u001b[0m\u001b[0m\n\u001b[1;32m--> 975\u001b[1;33m             \u001b[0mfh\u001b[0m \u001b[1;33m=\u001b[0m \u001b[0mnp\u001b[0m\u001b[1;33m.\u001b[0m\u001b[0mlib\u001b[0m\u001b[1;33m.\u001b[0m\u001b[0m_datasource\u001b[0m\u001b[1;33m.\u001b[0m\u001b[0mopen\u001b[0m\u001b[1;33m(\u001b[0m\u001b[0mfname\u001b[0m\u001b[1;33m,\u001b[0m \u001b[1;34m'rt'\u001b[0m\u001b[1;33m,\u001b[0m \u001b[0mencoding\u001b[0m\u001b[1;33m=\u001b[0m\u001b[0mencoding\u001b[0m\u001b[1;33m)\u001b[0m\u001b[1;33m\u001b[0m\u001b[1;33m\u001b[0m\u001b[0m\n\u001b[0m\u001b[0;32m    976\u001b[0m             \u001b[1;32mif\u001b[0m \u001b[0mencoding\u001b[0m \u001b[1;32mis\u001b[0m \u001b[1;32mNone\u001b[0m\u001b[1;33m:\u001b[0m\u001b[1;33m\u001b[0m\u001b[1;33m\u001b[0m\u001b[0m\n\u001b[0;32m    977\u001b[0m                 \u001b[0mencoding\u001b[0m \u001b[1;33m=\u001b[0m \u001b[0mgetattr\u001b[0m\u001b[1;33m(\u001b[0m\u001b[0mfh\u001b[0m\u001b[1;33m,\u001b[0m \u001b[1;34m'encoding'\u001b[0m\u001b[1;33m,\u001b[0m \u001b[1;34m'latin1'\u001b[0m\u001b[1;33m)\u001b[0m\u001b[1;33m\u001b[0m\u001b[1;33m\u001b[0m\u001b[0m\n",
      "\u001b[1;32m~\\anaconda3\\lib\\site-packages\\numpy\\lib\\_datasource.py\u001b[0m in \u001b[0;36mopen\u001b[1;34m(path, mode, destpath, encoding, newline)\u001b[0m\n\u001b[0;32m    191\u001b[0m \u001b[1;33m\u001b[0m\u001b[0m\n\u001b[0;32m    192\u001b[0m     \u001b[0mds\u001b[0m \u001b[1;33m=\u001b[0m \u001b[0mDataSource\u001b[0m\u001b[1;33m(\u001b[0m\u001b[0mdestpath\u001b[0m\u001b[1;33m)\u001b[0m\u001b[1;33m\u001b[0m\u001b[1;33m\u001b[0m\u001b[0m\n\u001b[1;32m--> 193\u001b[1;33m     \u001b[1;32mreturn\u001b[0m \u001b[0mds\u001b[0m\u001b[1;33m.\u001b[0m\u001b[0mopen\u001b[0m\u001b[1;33m(\u001b[0m\u001b[0mpath\u001b[0m\u001b[1;33m,\u001b[0m \u001b[0mmode\u001b[0m\u001b[1;33m,\u001b[0m \u001b[0mencoding\u001b[0m\u001b[1;33m=\u001b[0m\u001b[0mencoding\u001b[0m\u001b[1;33m,\u001b[0m \u001b[0mnewline\u001b[0m\u001b[1;33m=\u001b[0m\u001b[0mnewline\u001b[0m\u001b[1;33m)\u001b[0m\u001b[1;33m\u001b[0m\u001b[1;33m\u001b[0m\u001b[0m\n\u001b[0m\u001b[0;32m    194\u001b[0m \u001b[1;33m\u001b[0m\u001b[0m\n\u001b[0;32m    195\u001b[0m \u001b[1;33m\u001b[0m\u001b[0m\n",
      "\u001b[1;32m~\\anaconda3\\lib\\site-packages\\numpy\\lib\\_datasource.py\u001b[0m in \u001b[0;36mopen\u001b[1;34m(self, path, mode, encoding, newline)\u001b[0m\n\u001b[0;32m    531\u001b[0m                                       encoding=encoding, newline=newline)\n\u001b[0;32m    532\u001b[0m         \u001b[1;32melse\u001b[0m\u001b[1;33m:\u001b[0m\u001b[1;33m\u001b[0m\u001b[1;33m\u001b[0m\u001b[0m\n\u001b[1;32m--> 533\u001b[1;33m             \u001b[1;32mraise\u001b[0m \u001b[0mFileNotFoundError\u001b[0m\u001b[1;33m(\u001b[0m\u001b[1;34mf\"{path} not found.\"\u001b[0m\u001b[1;33m)\u001b[0m\u001b[1;33m\u001b[0m\u001b[1;33m\u001b[0m\u001b[0m\n\u001b[0m\u001b[0;32m    534\u001b[0m \u001b[1;33m\u001b[0m\u001b[0m\n\u001b[0;32m    535\u001b[0m \u001b[1;33m\u001b[0m\u001b[0m\n",
      "\u001b[1;31mFileNotFoundError\u001b[0m: chennai_reservoir_levels.csv not found."
     ]
    }
   ],
   "source": [
    "# Load data\n",
    "dataset = np.loadtxt('chennai_reservoir_levels.csv', delimiter='|', skiprows=1, usecols=(1,2,3,4))\n",
    "dataset\n",
    "\n"
   ]
  },
  {
   "cell_type": "code",
   "execution_count": null,
   "metadata": {},
   "outputs": [],
   "source": [
    "\n",
    "\n",
    "\n",
    "# Shuffle dataset\n",
    "np.random.shuffle(dataset)\n",
    "\n",
    "# Separate features and targets\n",
    "X = dataset[:, 0:3]\n",
    "Y = dataset[:, 3]\n",
    "\n"
   ]
  },
  {
   "cell_type": "code",
   "execution_count": null,
   "metadata": {},
   "outputs": [],
   "source": [
    "#follow the keras process as done for diabetes dataset"
   ]
  }
 ],
 "metadata": {
  "kernelspec": {
   "display_name": "Python 3 (ipykernel)",
   "language": "python",
   "name": "python3"
  },
  "language_info": {
   "codemirror_mode": {
    "name": "ipython",
    "version": 3
   },
   "file_extension": ".py",
   "mimetype": "text/x-python",
   "name": "python",
   "nbconvert_exporter": "python",
   "pygments_lexer": "ipython3",
   "version": "3.9.7"
  }
 },
 "nbformat": 4,
 "nbformat_minor": 4
}
