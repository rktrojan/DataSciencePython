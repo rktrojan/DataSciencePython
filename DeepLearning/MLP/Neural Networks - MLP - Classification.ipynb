{
 "cells": [
  {
   "cell_type": "markdown",
   "metadata": {},
   "source": [
    "# USING SKLEARN NEURAL NETWORK"
   ]
  },
  {
   "cell_type": "code",
   "execution_count": 1,
   "metadata": {},
   "outputs": [],
   "source": [
    "from sklearn.neural_network import MLPClassifier\n",
    "\n",
    "\n",
    "reg = MLPClassifier(hidden_layer_sizes=(2,3),verbose=2,activation=\"relu\" ,batch_size=40,random_state=1, max_iter=2000, learning_rate_init=0.03)\n",
    "\n"
   ]
  },
  {
   "cell_type": "code",
   "execution_count": 56,
   "metadata": {},
   "outputs": [],
   "source": [
    "??MLPClassifier\n"
   ]
  },
  {
   "cell_type": "markdown",
   "metadata": {},
   "source": [
    "# ON RANDOM DATASET"
   ]
  },
  {
   "cell_type": "code",
   "execution_count": 2,
   "metadata": {},
   "outputs": [],
   "source": [
    "X_train = [[22,33],\n",
    "           [44,55]]\n",
    "\n",
    "y_train = [0,1]"
   ]
  },
  {
   "cell_type": "code",
   "execution_count": 3,
   "metadata": {},
   "outputs": [
    {
     "name": "stderr",
     "output_type": "stream",
     "text": [
      "C:\\Users\\Admin\\AppData\\Roaming\\Python\\Python37\\site-packages\\sklearn\\neural_network\\_multilayer_perceptron.py:353: UserWarning: Got `batch_size` less than 1 or larger than sample size. It is going to be clipped\n",
      "  warnings.warn(\"Got `batch_size` less than 1 or larger than \"\n"
     ]
    },
    {
     "name": "stdout",
     "output_type": "stream",
     "text": [
      "Iteration 1, loss = 0.82481770\n",
      "Iteration 2, loss = 0.81072171\n",
      "Iteration 3, loss = 0.79776556\n",
      "Iteration 4, loss = 0.78591496\n",
      "Iteration 5, loss = 0.77512384\n",
      "Iteration 6, loss = 0.76533503\n",
      "Iteration 7, loss = 0.75648167\n",
      "Iteration 8, loss = 0.74848957\n",
      "Iteration 9, loss = 0.74128057\n",
      "Iteration 10, loss = 0.73477665\n",
      "Iteration 11, loss = 0.72890442\n",
      "Iteration 12, loss = 0.72359893\n",
      "Iteration 13, loss = 0.71880638\n",
      "Iteration 14, loss = 0.71448509\n",
      "Iteration 15, loss = 0.71005126\n",
      "Iteration 16, loss = 0.69956078\n",
      "Iteration 17, loss = 0.68669849\n",
      "Iteration 18, loss = 0.66973401\n",
      "Iteration 19, loss = 0.64899605\n",
      "Iteration 20, loss = 0.62857226\n",
      "Iteration 21, loss = 0.61767667\n",
      "Iteration 22, loss = 0.62753616\n",
      "Iteration 23, loss = 0.64651495\n",
      "Iteration 24, loss = 0.64697809\n",
      "Iteration 25, loss = 0.63232672\n",
      "Iteration 26, loss = 0.61643039\n",
      "Iteration 27, loss = 0.60760683\n",
      "Iteration 28, loss = 0.60614063\n",
      "Iteration 29, loss = 0.60802059\n",
      "Iteration 30, loss = 0.60942583\n",
      "Iteration 31, loss = 0.60823544\n",
      "Iteration 32, loss = 0.60367383\n",
      "Iteration 33, loss = 0.59588074\n",
      "Iteration 34, loss = 0.58585924\n",
      "Iteration 35, loss = 0.57553890\n",
      "Iteration 36, loss = 0.56736003\n",
      "Iteration 37, loss = 0.56274436\n",
      "Iteration 38, loss = 0.56006909\n",
      "Iteration 39, loss = 0.55523115\n",
      "Iteration 40, loss = 0.54586124\n",
      "Iteration 41, loss = 0.53378189\n",
      "Iteration 42, loss = 0.52266527\n",
      "Iteration 43, loss = 0.51436458\n",
      "Iteration 44, loss = 0.50742877\n",
      "Iteration 45, loss = 0.49850499\n",
      "Iteration 46, loss = 0.48532673\n",
      "Iteration 47, loss = 0.46895676\n",
      "Iteration 48, loss = 0.45290727\n",
      "Iteration 49, loss = 0.43848650\n",
      "Iteration 50, loss = 0.42182060\n",
      "Iteration 51, loss = 0.40009189\n",
      "Iteration 52, loss = 0.37756797\n",
      "Iteration 53, loss = 0.35810815\n",
      "Iteration 54, loss = 0.33412530\n",
      "Iteration 55, loss = 0.30517067\n",
      "Iteration 56, loss = 0.28073992\n",
      "Iteration 57, loss = 0.25327360\n",
      "Iteration 58, loss = 0.24557065\n",
      "Iteration 59, loss = 0.21365956\n",
      "Iteration 60, loss = 0.19366877\n",
      "Iteration 61, loss = 0.20179384\n",
      "Iteration 62, loss = 0.18935388\n",
      "Iteration 63, loss = 0.16738017\n",
      "Iteration 64, loss = 0.18009649\n",
      "Iteration 65, loss = 0.15271117\n",
      "Iteration 66, loss = 0.15127405\n",
      "Iteration 67, loss = 0.14849656\n",
      "Iteration 68, loss = 0.14417533\n",
      "Iteration 69, loss = 0.13872283\n",
      "Iteration 70, loss = 0.13340166\n",
      "Iteration 71, loss = 0.13287417\n",
      "Iteration 72, loss = 0.12923599\n",
      "Iteration 73, loss = 0.13536980\n",
      "Iteration 74, loss = 0.14521452\n",
      "Iteration 75, loss = 0.14026298\n",
      "Iteration 76, loss = 0.12573179\n",
      "Iteration 77, loss = 0.11639298\n",
      "Iteration 78, loss = 0.11154653\n",
      "Iteration 79, loss = 0.10844978\n",
      "Iteration 80, loss = 0.10594372\n",
      "Iteration 81, loss = 0.15442436\n",
      "Iteration 82, loss = 0.10159136\n",
      "Iteration 83, loss = 0.10004861\n",
      "Iteration 84, loss = 0.09997831\n",
      "Iteration 85, loss = 0.10316968\n",
      "Iteration 86, loss = 0.10909066\n",
      "Iteration 87, loss = 0.10869712\n",
      "Iteration 88, loss = 0.09992467\n",
      "Iteration 89, loss = 0.09218552\n",
      "Iteration 90, loss = 0.08770965\n",
      "Iteration 91, loss = 0.08498666\n",
      "Iteration 92, loss = 0.08297631\n",
      "Iteration 93, loss = 0.08125452\n",
      "Iteration 94, loss = 0.07966605\n",
      "Iteration 95, loss = 0.07815378\n",
      "Iteration 96, loss = 0.09238166\n",
      "Iteration 97, loss = 0.07530337\n",
      "Iteration 98, loss = 0.07402772\n",
      "Iteration 99, loss = 0.07298796\n",
      "Iteration 100, loss = 0.07242553\n",
      "Iteration 101, loss = 0.07268556\n",
      "Iteration 102, loss = 0.07383869\n",
      "Iteration 103, loss = 0.07480491\n",
      "Iteration 104, loss = 0.07372283\n",
      "Iteration 105, loss = 0.07066118\n",
      "Iteration 106, loss = 0.06740084\n",
      "Iteration 107, loss = 0.06487873\n",
      "Iteration 108, loss = 0.06304644\n",
      "Iteration 109, loss = 0.06163726\n",
      "Iteration 110, loss = 0.06045917\n",
      "Iteration 111, loss = 0.05940779\n",
      "Iteration 112, loss = 0.05843090\n",
      "Iteration 113, loss = 0.05750265\n",
      "Iteration 114, loss = 0.05660994\n",
      "Iteration 115, loss = 0.05574584\n",
      "Iteration 116, loss = 0.05490648\n",
      "Iteration 117, loss = 0.05408949\n",
      "Iteration 118, loss = 0.05329336\n",
      "Iteration 119, loss = 0.05251696\n",
      "Iteration 120, loss = 0.05711276\n",
      "Iteration 121, loss = 0.05102957\n",
      "Iteration 122, loss = 0.05034862\n",
      "Iteration 123, loss = 0.04976481\n",
      "Iteration 124, loss = 0.04937821\n",
      "Iteration 125, loss = 0.04935468\n",
      "Iteration 126, loss = 0.04985616\n",
      "Iteration 127, loss = 0.05074996\n",
      "Iteration 128, loss = 0.05125863\n",
      "Iteration 129, loss = 0.05050582\n",
      "Iteration 130, loss = 0.04871972\n",
      "Iteration 131, loss = 0.04682248\n",
      "Iteration 132, loss = 0.04530922\n",
      "Iteration 133, loss = 0.04419062\n",
      "Iteration 134, loss = 0.04333669\n",
      "Iteration 135, loss = 0.04263770\n",
      "Iteration 136, loss = 0.04202699\n",
      "Iteration 137, loss = 0.04146808\n",
      "Iteration 138, loss = 0.04094161\n",
      "Iteration 139, loss = 0.04043722\n",
      "Iteration 140, loss = 0.03994923\n",
      "Iteration 141, loss = 0.03947446\n",
      "Iteration 142, loss = 0.03901100\n",
      "Iteration 143, loss = 0.03855769\n",
      "Iteration 144, loss = 0.03811375\n",
      "Iteration 145, loss = 0.03767864\n",
      "Iteration 146, loss = 0.03725197\n",
      "Iteration 147, loss = 0.03683343\n",
      "Iteration 148, loss = 0.03642274\n",
      "Iteration 149, loss = 0.03601967\n",
      "Iteration 150, loss = 0.03601774\n",
      "Iteration 151, loss = 0.03524241\n",
      "Iteration 152, loss = 0.03487833\n",
      "Iteration 153, loss = 0.03454334\n",
      "Iteration 154, loss = 0.03425746\n",
      "Iteration 155, loss = 0.03405053\n",
      "Iteration 156, loss = 0.03395765\n",
      "Iteration 157, loss = 0.03400028\n",
      "Iteration 158, loss = 0.03414749\n",
      "Iteration 159, loss = 0.03427829\n",
      "Iteration 160, loss = 0.03421139\n",
      "Iteration 161, loss = 0.03383427\n",
      "Iteration 162, loss = 0.03320250\n",
      "Iteration 163, loss = 0.03247521\n",
      "Iteration 164, loss = 0.03178482\n",
      "Iteration 165, loss = 0.03118657\n",
      "Iteration 166, loss = 0.03068152\n",
      "Iteration 167, loss = 0.03025031\n",
      "Iteration 168, loss = 0.02987197\n",
      "Iteration 169, loss = 0.02953006\n",
      "Iteration 170, loss = 0.02921322\n",
      "Iteration 171, loss = 0.02891397\n",
      "Iteration 172, loss = 0.02862752\n",
      "Iteration 173, loss = 0.02835077\n",
      "Iteration 174, loss = 0.02808172\n",
      "Iteration 175, loss = 0.02781907\n",
      "Iteration 176, loss = 0.02756194\n",
      "Iteration 177, loss = 0.02730971\n",
      "Iteration 178, loss = 0.02706196\n",
      "Iteration 179, loss = 0.02681839\n",
      "Iteration 180, loss = 0.02657876\n",
      "Iteration 181, loss = 0.02634288\n",
      "Iteration 182, loss = 0.02611063\n",
      "Iteration 183, loss = 0.02588187\n",
      "Iteration 184, loss = 0.02565651\n",
      "Iteration 185, loss = 0.02543446\n",
      "Iteration 186, loss = 0.02521563\n",
      "Iteration 187, loss = 0.02499995\n",
      "Iteration 188, loss = 0.02478736\n",
      "Iteration 189, loss = 0.02457779\n",
      "Iteration 190, loss = 0.02437118\n",
      "Iteration 191, loss = 0.02416747\n",
      "Iteration 192, loss = 0.02396660\n",
      "Iteration 193, loss = 0.02376853\n",
      "Iteration 194, loss = 0.02357318\n",
      "Iteration 195, loss = 0.02338053\n",
      "Iteration 196, loss = 0.02319051\n",
      "Iteration 197, loss = 0.02300307\n",
      "Iteration 198, loss = 0.02281817\n",
      "Iteration 199, loss = 0.02263576\n",
      "Iteration 200, loss = 0.02245580\n",
      "Iteration 201, loss = 0.02227824\n",
      "Iteration 202, loss = 0.02210303\n",
      "Iteration 203, loss = 0.02193014\n",
      "Iteration 204, loss = 0.02175952\n",
      "Iteration 205, loss = 0.02159112\n",
      "Iteration 206, loss = 0.02142492\n",
      "Iteration 207, loss = 0.02126087\n",
      "Iteration 208, loss = 0.02109893\n",
      "Iteration 209, loss = 0.02093906\n",
      "Iteration 210, loss = 0.02078123\n",
      "Iteration 211, loss = 0.02062541\n",
      "Iteration 212, loss = 0.02047154\n",
      "Iteration 213, loss = 0.02031961\n",
      "Iteration 214, loss = 0.02016958\n",
      "Iteration 215, loss = 0.02002141\n",
      "Iteration 216, loss = 0.01987507\n",
      "Iteration 217, loss = 0.01973053\n",
      "Iteration 218, loss = 0.01958775\n",
      "Iteration 219, loss = 0.01944672\n",
      "Iteration 220, loss = 0.01930740\n",
      "Iteration 221, loss = 0.01916975\n",
      "Iteration 222, loss = 0.01903375\n",
      "Iteration 223, loss = 0.01889938\n",
      "Iteration 224, loss = 0.01876660\n",
      "Iteration 225, loss = 0.01863539\n",
      "Iteration 226, loss = 0.01850573\n",
      "Iteration 227, loss = 0.01837758\n",
      "Iteration 228, loss = 0.01825092\n",
      "Iteration 229, loss = 0.01812573\n",
      "Iteration 230, loss = 0.01800198\n",
      "Iteration 231, loss = 0.01787965\n",
      "Iteration 232, loss = 0.01775872\n",
      "Iteration 233, loss = 0.01763916\n",
      "Iteration 234, loss = 0.01752095\n",
      "Iteration 235, loss = 0.01740407\n",
      "Iteration 236, loss = 0.01728851\n",
      "Iteration 237, loss = 0.01717423\n",
      "Iteration 238, loss = 0.01706122\n",
      "Iteration 239, loss = 0.01694945\n",
      "Iteration 240, loss = 0.01683892\n",
      "Iteration 241, loss = 0.01672959\n",
      "Iteration 242, loss = 0.01662146\n",
      "Iteration 243, loss = 0.01651449\n",
      "Iteration 244, loss = 0.01640868\n",
      "Iteration 245, loss = 0.01630401\n",
      "Iteration 246, loss = 0.01620046\n",
      "Iteration 247, loss = 0.01609801\n",
      "Iteration 248, loss = 0.01599664\n",
      "Iteration 249, loss = 0.01589635\n",
      "Iteration 250, loss = 0.01579710\n",
      "Iteration 251, loss = 0.01569890\n",
      "Iteration 252, loss = 0.01560172\n",
      "Iteration 253, loss = 0.01550554\n",
      "Iteration 254, loss = 0.01541036\n",
      "Iteration 255, loss = 0.01531615\n",
      "Iteration 256, loss = 0.01522291\n",
      "Iteration 257, loss = 0.01513062\n",
      "Iteration 258, loss = 0.01503926\n",
      "Iteration 259, loss = 0.01494883\n",
      "Iteration 260, loss = 0.01485931\n",
      "Training loss did not improve more than tol=0.000100 for 10 consecutive epochs. Stopping.\n"
     ]
    },
    {
     "data": {
      "text/plain": [
       "MLPClassifier(batch_size=40, hidden_layer_sizes=(2, 3), learning_rate_init=0.03,\n",
       "              max_iter=2000, random_state=1, verbose=2)"
      ]
     },
     "execution_count": 3,
     "metadata": {},
     "output_type": "execute_result"
    }
   ],
   "source": [
    "\n",
    "reg.fit(X_train, y_train)\n",
    "\n",
    "      "
   ]
  },
  {
   "cell_type": "code",
   "execution_count": 4,
   "metadata": {},
   "outputs": [],
   "source": [
    "X_test =[[22,33],\n",
    "           [44,55]]\n",
    "\n",
    "y_test= [0,0]"
   ]
  },
  {
   "cell_type": "code",
   "execution_count": 8,
   "metadata": {},
   "outputs": [
    {
     "data": {
      "text/plain": [
       "array([0, 1])"
      ]
     },
     "execution_count": 8,
     "metadata": {},
     "output_type": "execute_result"
    }
   ],
   "source": [
    "\n",
    "\n",
    "\n",
    "y_pred=reg.predict(X_test)\n",
    "y_pred\n",
    "      \n",
    "      "
   ]
  },
  {
   "cell_type": "code",
   "execution_count": 7,
   "metadata": {},
   "outputs": [
    {
     "data": {
      "text/plain": [
       "array([[9.71121293e-01, 2.88787074e-02],\n",
       "       [9.97382736e-06, 9.99990026e-01]])"
      ]
     },
     "execution_count": 7,
     "metadata": {},
     "output_type": "execute_result"
    }
   ],
   "source": [
    "\n",
    "y_pred_prob=reg.predict_proba(X_test)\n",
    "y_pred_prob"
   ]
  },
  {
   "cell_type": "code",
   "execution_count": null,
   "metadata": {},
   "outputs": [],
   "source": [
    "\n",
    "      "
   ]
  },
  {
   "cell_type": "code",
   "execution_count": 10,
   "metadata": {},
   "outputs": [
    {
     "data": {
      "text/plain": [
       "0.5"
      ]
     },
     "execution_count": 10,
     "metadata": {},
     "output_type": "execute_result"
    }
   ],
   "source": [
    "\n",
    "from sklearn.metrics import accuracy_score\n",
    "\n",
    "accuracy_score(y_pred, y_test)"
   ]
  },
  {
   "cell_type": "markdown",
   "metadata": {},
   "source": [
    "# USING KERAS MODELS"
   ]
  },
  {
   "cell_type": "code",
   "execution_count": 13,
   "metadata": {},
   "outputs": [],
   "source": [
    "# Load dependencies\n",
    "\n",
    "from keras.models import Sequential\n",
    "\n",
    "from keras.layers import Dense\n",
    "\n",
    "import numpy as np\n",
    "\n"
   ]
  },
  {
   "cell_type": "markdown",
   "metadata": {},
   "source": [
    "## ON RANDOM DATASET"
   ]
  },
  {
   "cell_type": "code",
   "execution_count": 25,
   "metadata": {},
   "outputs": [],
   "source": [
    "X_test =[[22.,33.],\n",
    "           [44.,55.]]\n",
    "\n",
    "X_train =[[22.,33.],\n",
    "           [44.,55.]]"
   ]
  },
  {
   "cell_type": "code",
   "execution_count": 21,
   "metadata": {},
   "outputs": [],
   "source": [
    "# Our vectorized labels\n",
    "\n",
    "y_train = np.asarray(y_train).astype('float32').reshape((-1,1))\n",
    "y_test = np.asarray(y_test).astype('float32').reshape((-1,1))"
   ]
  },
  {
   "cell_type": "code",
   "execution_count": 22,
   "metadata": {},
   "outputs": [
    {
     "data": {
      "text/plain": [
       "array([[0.],\n",
       "       [1.]], dtype=float32)"
      ]
     },
     "execution_count": 22,
     "metadata": {},
     "output_type": "execute_result"
    }
   ],
   "source": [
    "y_train"
   ]
  },
  {
   "cell_type": "code",
   "execution_count": 11,
   "metadata": {},
   "outputs": [
    {
     "name": "stdout",
     "output_type": "stream",
     "text": [
      "Feature shape: (2,)\n"
     ]
    }
   ],
   "source": [
    "# Set the input shape\n",
    "\n",
    "input_shape = (2,)\n",
    "\n",
    "print(f'Feature shape: {input_shape}')"
   ]
  },
  {
   "cell_type": "code",
   "execution_count": 14,
   "metadata": {},
   "outputs": [],
   "source": [
    "# Create the model\n",
    "model = Sequential()\n",
    "\n",
    "\n",
    "\n",
    "model.add(Dense(3, input_shape=input_shape, activation='relu'))\n",
    "\n",
    "model.add(Dense(3, activation='relu'))\n",
    "\n",
    "model.add(Dense(2, activation='sigmoid'))"
   ]
  },
  {
   "cell_type": "code",
   "execution_count": null,
   "metadata": {},
   "outputs": [],
   "source": [
    "# Configure the model \n",
    "\n",
    "model.compile(optimizer='rmsprop',\n",
    "              loss='binary_crossentropy',\n",
    "              metrics=['accuracy'])\n",
    "\n",
    "#and start training\n",
    "model.fit(X_train, y_train, epochs=100, batch_size=442, verbose=1\n",
    "         )"
   ]
  },
  {
   "cell_type": "code",
   "execution_count": null,
   "metadata": {},
   "outputs": [],
   "source": [
    "#this program needs to be corrected further"
   ]
  }
 ],
 "metadata": {
  "kernelspec": {
   "display_name": "Python 3",
   "language": "python",
   "name": "python3"
  },
  "language_info": {
   "codemirror_mode": {
    "name": "ipython",
    "version": 3
   },
   "file_extension": ".py",
   "mimetype": "text/x-python",
   "name": "python",
   "nbconvert_exporter": "python",
   "pygments_lexer": "ipython3",
   "version": "3.7.6"
  }
 },
 "nbformat": 4,
 "nbformat_minor": 4
}
